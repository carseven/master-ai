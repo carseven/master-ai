{
 "cells": [
  {
   "cell_type": "markdown",
   "metadata": {},
   "source": [
    "En la siguiente celda, completa los siguientes ejercicios:\n",
    "\n",
    "## Ejercicio 1\n",
    "\n",
    "Escribe una clase llamada Numero. Esta clase debe tener una constructora que reciba un número y almacene ese número en 2 atributos: romano que almacenará el número en el formato de número romanos como una cadena de caracteres y normal que guardará el número que nos han dado en la constructora.\n",
    "\n",
    "## Ejercicio 2\n",
    "Crea dos nuevos métodos en la clase Numero. El primer método, llamado imprime() imprime un mensaje mostrando el valor de ambos atributos; el segundo atributo, suma_romano() tendrá como parámetros una cadena de caracteres que representará otro número romano y que sumaremos a los atributos que ya teníamos.\n",
    "\n",
    "## Ejercicio 3\n",
    "\n",
    "Define una función dentro de la clase Numero que a partir de una cadena de caracteres, devuelve True si esa cadena de caracteres corresponde con un número romano y falso en caso contrario. Después, modifica el método para que lance un error en el caso de que el valor que nos pasan por parámetro no se corresponde con el patrón de un número romano"
   ]
  },
  {
   "cell_type": "code",
   "execution_count": 107,
   "metadata": {},
   "outputs": [],
   "source": [
    "class Numero:\n",
    "    enteros = (1000, 900, 500, 400, 100, \n",
    "               90, 50, 40, 10, 9, 5, 4, 1)\n",
    "    romanos = ('M', 'CM', 'D', 'CD','C','XC',\n",
    "               'L','XL','X','IX','V','IV','I')\n",
    "    romanos_dic = {'M':1000, 'D':500, 'C':100, 'L':50, 'X':10, 'V':5, 'I':1}\n",
    "\n",
    "    def __init__(self, normal):\n",
    "        self.normal = normal\n",
    "        self.romano = self.int2rom(normal)\n",
    "\n",
    "    def int2rom(self, normal):\n",
    "        \"\"\"\n",
    "        @param: Numero entero\n",
    "        \n",
    "        Devuelve el número entero en formato romano como un cadena de caracteres. \n",
    "        \"\"\"    \n",
    "        romano = []\n",
    "        # Recorremos las listas de enteros y romanos\n",
    "        for i in range(len(self.romanos)):\n",
    "            \n",
    "            # Repeticiones de una letra romana\n",
    "            x = int(normal / self.enteros[i])\n",
    "\n",
    "            # Añadimos x veces la letra romana\n",
    "            romano.append(self.romanos[i] * x)\n",
    "\n",
    "            #  Restamos al número entero inicial el valor del número romano añadido\n",
    "            normal -= self.enteros[i] * x\n",
    "\n",
    "        # Devolvemos la lista como cadena de caracteres\n",
    "        return ''.join(romano)\n",
    "\n",
    "    def imprime(self):\n",
    "        print(str(self.normal), self.romano)\n",
    "\n",
    "    def suma_romano(self, romano):\n",
    "        self.romano = self.int2rom(self.rom2int(romano) + self.rom2int(self.romano))\n",
    "\n",
    "    def rom2int(self, romano):\n",
    "        romano = romano.upper()\n",
    "        suma = 0\n",
    "        # Recorremos la cadena de caracteres\n",
    "        for i in range(len(romano)):\n",
    "            # Obtenemos el valor de las letras de la cadena de caracteres.\n",
    "            valor_letra = self.romanos_dic[romano[i]]\n",
    "\n",
    "            # Si el proximo valor es mayor que el actual tenemos que restarlo a la suma total (Ejem: IV)\n",
    "            if i + 1 < len(romano) and self.romanos_dic[romano[i + 1]] > valor_letra:\n",
    "                suma -= valor_letra\n",
    "            # Sumamos valor actual al total\n",
    "            else: suma += valor_letra\n",
    "        return suma\n",
    "\n",
    "    def is_romano(self, romano):\n",
    "        romano = romano.upper()\n",
    "        valid_romanos= [\"M\", \"D\", \"C\", \"L\", \"X\", \"V\", \"I\"]\n",
    "\n",
    "        valid = True\n",
    "        for letra in romano:\n",
    "            if letra not in valid_romanos:\n",
    "                valid = False\n",
    "                break\n",
    "        return valid"
   ]
  },
  {
   "cell_type": "code",
   "execution_count": 19,
   "metadata": {},
   "outputs": [
    {
     "output_type": "stream",
     "name": "stdout",
     "text": [
      "1972 MCMLXXII\n"
     ]
    },
    {
     "output_type": "execute_result",
     "data": {
      "text/plain": [
       "False"
      ]
     },
     "metadata": {},
     "execution_count": 19
    }
   ],
   "source": [
    "num = Numero(1972)\n",
    "num.imprime()\n",
    "num.suma_romano('XX')\n",
    "num.is_romano('MCMLXXII')\n",
    "num.is_romano('Hola')"
   ]
  },
  {
   "cell_type": "markdown",
   "metadata": {},
   "source": [
    "En la siguiente celda, completa los siguientes ejercicios:\n",
    "\n",
    "## Ejercicio 4\n",
    "\n",
    "Implementa una clase MejorNumero. Esta clase heredará las propiedades de Numero e incluirá dos métodos nuevos para restar y multiplicar los atributos recibiendo por parámetro otro número romano.\n",
    "\n",
    "## Ejercicio 5\n",
    "\n",
    "En la clase MejorNumero, crea un nuevo método que reciba una lista con 3 números romanos. A continuación, iterando sobre los elementos de la lista llamará a la función suma_romano(). Los posibles errores se tendrán que gestionar con excepciones para mostrar un mensaje y seguir ejecutando el siguiente número."
   ]
  },
  {
   "cell_type": "code",
   "execution_count": 114,
   "metadata": {},
   "outputs": [],
   "source": [
    "class MejorNumero(Numero):\n",
    "\n",
    "      def __init__(self, normal):\n",
    "            Numero.__init__(self, normal)    \n",
    "\n",
    "      def resta(self, romano):\n",
    "            self.romano = self.int2rom(abs(self.rom2int(romano) - self.rom2int(self.romano)))\n",
    "            return self.romano\n",
    "      \n",
    "      def multiplica(self, romano):\n",
    "            self.romano = self.int2rom(abs(self.rom2int(romano) * self.rom2int(self.romano)))\n",
    "            return self.romano\n",
    "\n",
    "      def iterar(self, lista_romanos):\n",
    "            for romano in lista_romanos:\n",
    "                  try:\n",
    "                        self.is_romano(romano)\n",
    "                        self.suma_romano(romano)   \n",
    "                  except:\n",
    "                        print('Ha fallado el número ' + str(romano))\n",
    "                        continue\n",
    "            return self.romano\n"
   ]
  },
  {
   "cell_type": "code",
   "execution_count": 115,
   "metadata": {},
   "outputs": [
    {
     "output_type": "stream",
     "name": "stdout",
     "text": [
      "Ha fallado el número 675\n"
     ]
    },
    {
     "output_type": "execute_result",
     "data": {
      "text/plain": [
       "'LV'"
      ]
     },
     "metadata": {},
     "execution_count": 115
    }
   ],
   "source": [
    "num = MejorNumero(29)\n",
    "num.iterar(['XX', 675, 'VI'])"
   ]
  }
 ],
 "metadata": {
  "language_info": {
   "codemirror_mode": {
    "name": "ipython",
    "version": 3
   },
   "file_extension": ".py",
   "mimetype": "text/x-python",
   "name": "python",
   "nbconvert_exporter": "python",
   "pygments_lexer": "ipython3",
   "version": "3.8.6-final"
  },
  "orig_nbformat": 2,
  "kernelspec": {
   "name": "python3",
   "display_name": "Python 3.8.6 64-bit",
   "metadata": {
    "interpreter": {
     "hash": "38740d3277777e2cd7c6c2cc9d8addf5118fdf3f82b1b39231fd12aeac8aee8b"
    }
   }
  }
 },
 "nbformat": 4,
 "nbformat_minor": 2
}