{
 "cells": [
  {
   "cell_type": "markdown",
   "metadata": {},
   "source": [
    "## Ejercicio 1\n",
    "\n",
    "Completa la siguiente función para que dado un número de documento nacional de identidad (DNI), se devuelva una letra. Esta letra se obtiene calculando el resto del DNI entre 23 y a partir de ese valor asignarle una letra de la siguiente tabla:\n",
    "\n",
    "![Tabla letras de control DNI](img/letras.jpg)\n",
    "\n",
    "El valor DNI será un número entero y la letra debe ser una cadena de carateres que contendrá una única letra en mayúsculas."
   ]
  },
  {
   "cell_type": "code",
   "execution_count": 3,
   "metadata": {},
   "outputs": [],
   "source": [
    "def ejercicio_1(dni):\n",
    "    calculo_dni = dni % 23\n",
    "\n",
    "    if(calculo_dni == 0):\n",
    "        letra = 'T'\n",
    "\n",
    "    elif(calculo_dni == 1):\n",
    "        letra = 'R'\n",
    "\n",
    "    elif(calculo_dni == 2):\n",
    "        letra = 'W'\n",
    "        \n",
    "    elif(calculo_dni == 3):\n",
    "        letra = 'A'\n",
    "    \n",
    "    elif(calculo_dni == 4):\n",
    "        letra = 'G'\n",
    "\n",
    "    elif(calculo_dni == 5):\n",
    "        letra = 'M'\n",
    "\n",
    "    elif(calculo_dni == 6):\n",
    "        letra = 'Y'\n",
    "        \n",
    "    if(calculo_dni == 7):\n",
    "        letra = 'F'\n",
    "\n",
    "    elif(calculo_dni == 8):\n",
    "        letra = 'P'\n",
    "\n",
    "    elif(calculo_dni == 9):\n",
    "        letra = 'D'\n",
    "\n",
    "    elif(calculo_dni == 10):\n",
    "        letra = 'X'\n",
    "        \n",
    "    elif(calculo_dni == 11):\n",
    "        letra = 'B'\n",
    "    \n",
    "    elif(calculo_dni == 12):\n",
    "        letra = 'N'\n",
    "\n",
    "    elif(calculo_dni == 13):\n",
    "        letra = 'J'\n",
    "\n",
    "    elif(calculo_dni == 14):\n",
    "        letra = 'Z'\n",
    "        \n",
    "    elif(calculo_dni == 15):\n",
    "        letra = 'S'\n",
    "    \n",
    "    elif(calculo_dni == 16):\n",
    "        letra = 'Q'\n",
    "\n",
    "    elif(calculo_dni == 17):\n",
    "        letra = 'V'\n",
    "\n",
    "    if(calculo_dni == 18):\n",
    "        letra = 'H'\n",
    "        \n",
    "    if(calculo_dni == 19):\n",
    "        letra = 'L'\n",
    "    \n",
    "    if(calculo_dni == 20):\n",
    "        letra = 'C'\n",
    "\n",
    "    if(calculo_dni == 21):\n",
    "        letra = 'K'\n",
    "\n",
    "    if(calculo_dni == 22):\n",
    "        letra = 'E'\n",
    "\n",
    "    return letra"
   ]
  },
  {
   "cell_type": "markdown",
   "metadata": {},
   "source": [
    "## Ejercicio 2\n",
    "\n",
    "Completa la siguiente función para que dado el precio de un producto, se calcule y se devuelva el precio total que debe pagar el cliente, es decir, incluyenfo el IVA (21% sobre el precio del producto). El precio total deberá ser únicamente el valor del precio, es decir, no debe contener el símbolo de la moneda.\n"
   ]
  },
  {
   "cell_type": "code",
   "execution_count": 4,
   "metadata": {},
   "outputs": [],
   "source": [
    "def ejercicio_2(precio):\n",
    "    precio_total = precio + (precio * 0.21)\n",
    "    return precio_total"
   ]
  },
  {
   "cell_type": "markdown",
   "metadata": {},
   "source": [
    "## Ejercicio 3\n",
    "\n",
    "Completa la siguiente función para que dado el diámetro de una circunferencia, se calcule el área del círculo que contiene dicha circunferencia. Como valor de PI se usará $3.1415$."
   ]
  },
  {
   "cell_type": "code",
   "execution_count": 10,
   "metadata": {},
   "outputs": [],
   "source": [
    "def ejercicio_3(diametro):\n",
    "    area = ((diametro/2) ** 2) * 3.1415\n",
    "    return area"
   ]
  },
  {
   "cell_type": "markdown",
   "metadata": {},
   "source": [
    "## Ejercicio 4\n",
    "\n",
    "Completar la función para que dado dos números entéros <n> y <m> dos números enteros, se calcula el cociente y el resto de hacer la división entera entre n y m."
   ]
  },
  {
   "cell_type": "code",
   "execution_count": 4,
   "metadata": {},
   "outputs": [],
   "source": [
    "def ejercicio_4(n, m):\n",
    "    cociente =  n // m\n",
    "    resto = n % m  \n",
    "    return cociente, resto"
   ]
  },
  {
   "cell_type": "code",
   "execution_count": 9,
   "metadata": {},
   "outputs": [
    {
     "output_type": "stream",
     "name": "stdout",
     "text": [
      "(0, 1)\n(3, 0)\n(46, 4)\n"
     ]
    }
   ],
   "source": [
    "print(ejercicio_4(1,3))\n",
    "print(ejercicio_4(27,9))\n",
    "print(ejercicio_4(234,5))"
   ]
  },
  {
   "cell_type": "markdown",
   "metadata": {},
   "source": [
    "## Ejercicio 5\n",
    "\n",
    "Completar la función para que dado el número de unidades que ha comprado un usuario de 2 productos diferentes, devolver el peso total del paquete para enviar su compra por mensajería. El peso de cada unidad del producto1 es de 147 unidades y el peso de cada unidad del producto2 es de 2400 unidades. La función debe devolver únicamente el peso total."
   ]
  },
  {
   "cell_type": "code",
   "execution_count": 27,
   "metadata": {},
   "outputs": [],
   "source": [
    "def ejercicio_5(producto1, producto2):\n",
    "    peso_total = producto1 * 147 + producto2 * 2400\n",
    "    return peso_total"
   ]
  }
 ],
 "metadata": {
  "kernelspec": {
   "name": "python3",
   "display_name": "Python 3.8.6 64-bit",
   "metadata": {
    "interpreter": {
     "hash": "38740d3277777e2cd7c6c2cc9d8addf5118fdf3f82b1b39231fd12aeac8aee8b"
    }
   }
  },
  "language_info": {
   "codemirror_mode": {
    "name": "ipython",
    "version": 3
   },
   "file_extension": ".py",
   "mimetype": "text/x-python",
   "name": "python",
   "nbconvert_exporter": "python",
   "pygments_lexer": "ipython3",
   "version": "3.8.6-final"
  }
 },
 "nbformat": 4,
 "nbformat_minor": 4
}