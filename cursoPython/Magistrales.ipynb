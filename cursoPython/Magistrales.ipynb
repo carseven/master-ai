{
 "metadata": {
  "language_info": {
   "codemirror_mode": {
    "name": "ipython",
    "version": 3
   },
   "file_extension": ".py",
   "mimetype": "text/x-python",
   "name": "python",
   "nbconvert_exporter": "python",
   "pygments_lexer": "ipython3",
   "version": "3.8.6-final"
  },
  "orig_nbformat": 2,
  "kernelspec": {
   "name": "python3",
   "display_name": "Python 3.8.6 64-bit ('curso_python')",
   "metadata": {
    "interpreter": {
     "hash": "cc742f0713805451e9e74a0c2d40dc9eff0ef668202df50321697782652c41ac"
    }
   }
  }
 },
 "nbformat": 4,
 "nbformat_minor": 2,
 "cells": [
  {
   "cell_type": "code",
   "execution_count": null,
   "metadata": {},
   "outputs": [],
   "source": [
    "for i in range(1,10):\n",
    "\n",
    "    if    (i % 3 != 0):\n",
    "\n",
    "        print(i)\n",
    "\n",
    "    else:\n",
    "\n",
    "        continue"
   ]
  },
  {
   "cell_type": "code",
   "execution_count": null,
   "metadata": {},
   "outputs": [],
   "source": [
    "frase = 'Hola, python!'\n",
    "frase_buenos_dias = \"Buenos días\"\n",
    "frase_buenos_dias = frase_buenos_dias.upper()\n",
    "print(frase)\n",
    "print(frase.replace(\"python\", frase_buenos_dias))\n",
    "\n",
    "print(len(\"Hola\") <= frase.find(','))\n",
    "print(bool(0) or not(bool()))"
   ]
  },
  {
   "cell_type": "code",
   "execution_count": null,
   "metadata": {},
   "outputs": [],
   "source": [
    "lista = [1,2,3,4]\n",
    "print(len(lista))\n",
    "print(lista.index(3))\n",
    "lista[-3:-1]"
   ]
  },
  {
   "cell_type": "code",
   "execution_count": null,
   "metadata": {
    "tags": [
     "outputPrepend"
    ]
   },
   "outputs": [],
   "source": [
    "a = []\n",
    "num_inicio = 2\n",
    "num_final = 32\n",
    "veces_repetido = 9\n",
    "for d in range(9):\n",
    "    for b in range(num_inicio, num_final+1):\n",
    "        a.append(b)\n",
    "        print(a)\n",
    "\n",
    "    for c in range(num_final, num_inicio, -1):\n",
    "        a.remove(c)\n",
    "        print(a)"
   ]
  },
  {
   "cell_type": "code",
   "execution_count": null,
   "metadata": {},
   "outputs": [],
   "source": [
    "lista = ['a', 'b', 7]\n",
    "\n",
    "iterador = iter([])\n"
   ]
  },
  {
   "cell_type": "code",
   "execution_count": null,
   "metadata": {},
   "outputs": [],
   "source": [
    "next(iterador)\n"
   ]
  },
  {
   "cell_type": "code",
   "execution_count": null,
   "metadata": {},
   "outputs": [],
   "source": [
    "def funcion0 (primero, segundo, tercero=3, cuarto=4):\n",
    "    print(primero, segundo, tercero, cuarto)\n",
    "\n",
    "funcion0(1, 2, 3, cuarto=4)\n",
    "\n",
    "\n",
    "# Lista por posición de argumentos\n",
    "def funcion1(*args):\n",
    "    for argument in args:\n",
    "        print(argument)\n",
    "funcion1(1,2.2, False, \"Hello\")\n",
    "\n",
    "# Diccionario de parametros\n",
    "def funcion2(**args):\n",
    "    for argument in args:\n",
    "        print(argument, ' -> ', args[argument])\n",
    "\n",
    "funcion2(a=\"Hola\", b=1, d=2.3, c=False)\n",
    "\n",
    "def cuadrado():\n",
    "    \"\"\"\n",
    "    Esta función nos permite elevar al cuadrado\n",
    "\n",
    "    Param:\n",
    "\n",
    "    \"\"\"\n",
    "help(cuadrado) # Documentación de una función"
   ]
  },
  {
   "cell_type": "code",
   "execution_count": null,
   "metadata": {},
   "outputs": [],
   "source": [
    "import os.path as path\n",
    "import random\n",
    "\n",
    "max_number = 20\n",
    "folder_numbers = random.randint(1, max_number)\n",
    "name = ''\n",
    "\n",
    "# Eliminamos todas las carpetas\n",
    "for folder_number in range(max_number):\n",
    "    folder_name = name + str(folder_number)\n",
    "    folder_path = os.getcwd() + '\\\\' + folder_name\n",
    "    # Comporbamos que no existe la ruta que vamos a crear\n",
    "    if(not path.isdir(folder_path)):\n",
    "        continue\n",
    "    # Creamos la carpeta\n",
    "    print(\"Borrando la carpeta : \" + folder_path)\n",
    "    os.rmdir(folder_path)\n",
    "\n",
    "# Generamos las carpetas\n",
    "for folder_number in range(folder_numbers):\n",
    "    folder_name = name + str(folder_number)\n",
    "    folder_path = os.getcwd() + '\\\\' + folder_name\n",
    "    # Comporbamos que no existe la ruta que vamos a crear\n",
    "    if(path.isdir(folder_path)):\n",
    "        continue\n",
    "    # Creamos la carpeta\n",
    "    print(\"Generando la carpeta : \" + folder_path)\n",
    "    os.mkdir(folder_path)\n",
    "\n",
    "# TODO:\n",
    "# A partir de un diccionario de listas generar las estructuras de carpetas\n",
    "# A partir de los archivos de las clases magistrales descargar todos los videos en carpetas independientes.\n",
    "# A partir de una tabla de notion generar la estructa de carpetas.\n",
    "\n"
   ]
  },
  {
   "cell_type": "code",
   "execution_count": 287,
   "metadata": {},
   "outputs": [
    {
     "output_type": "execute_result",
     "data": {
      "text/plain": [
       "['1', '2', '3', '4', '5', '6', '7', '8', '9', '10']"
      ]
     },
     "metadata": {},
     "execution_count": 287
    }
   ],
   "source": [
    "funcion = lambda x: str(x)\n",
    "list(map(funcion, [1, 2, 3, 4, 5, 6, 7, 8, 9, 10]))"
   ]
  },
  {
   "cell_type": "code",
   "execution_count": 293,
   "metadata": {},
   "outputs": [
    {
     "output_type": "stream",
     "name": "stdout",
     "text": [
      "Hola, soy la clase hija\n"
     ]
    }
   ],
   "source": [
    "class ClasePadre:\n",
    "\n",
    "    def imprimir(self):\n",
    "\n",
    "        print('Hola, soy la clase padre')\n",
    "\n",
    "       \n",
    "\n",
    "class ClaseHija(ClasePadre):\n",
    "\n",
    "    def imprimir(self):\n",
    "\n",
    "        print('Hola, soy la clase hija')\n",
    "\n",
    "objeto = ClaseHija()\n",
    "\n",
    "objeto.imprimir()"
   ]
  }
 ]
}