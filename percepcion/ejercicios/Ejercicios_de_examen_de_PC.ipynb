{
  "nbformat": 4,
  "nbformat_minor": 0,
  "metadata": {
    "kernelspec": {
      "display_name": "Python 3",
      "language": "python",
      "name": "python3"
    },
    "language_info": {
      "codemirror_mode": {
        "name": "ipython",
        "version": 3
      },
      "file_extension": ".py",
      "mimetype": "text/x-python",
      "name": "python",
      "nbconvert_exporter": "python",
      "pygments_lexer": "ipython3",
      "version": "3.8.3"
    },
    "colab": {
      "name": "Ejercicios de examen de PC.ipynb",
      "provenance": []
    }
  },
  "cells": [
    {
      "cell_type": "code",
      "metadata": {
        "id": "yaRgDZ92gAAu"
      },
      "source": [
        "import numpy as np\n",
        "import pandas as pd\n",
        "from sklearn.metrics import confusion_matrix\n",
        "from skimage.feature import greycomatrix, greycoprops"
      ],
      "execution_count": null,
      "outputs": []
    },
    {
      "cell_type": "markdown",
      "metadata": {
        "id": "JzGHR9jVgAA4"
      },
      "source": [
        "# Entropia"
      ]
    },
    {
      "cell_type": "code",
      "metadata": {
        "id": "2eldi8jZgAA5"
      },
      "source": [
        "imagen_referencia = np.asarray([[123,123,125], [145,154,165], [145,155,165]])\n",
        "imagen_capturada = np.asarray([[123,124,125], [146,156,164], [145,154,162]])"
      ],
      "execution_count": null,
      "outputs": []
    },
    {
      "cell_type": "code",
      "metadata": {
        "id": "1-rvpSdYgAA5"
      },
      "source": [
        "def entropia(image):\n",
        "    label, count  = np.unique(image, return_counts= True)\n",
        "    probList = []\n",
        "    for i in count:\n",
        "        probList.append(-np.log2(i/image.size) * (i/image.size)) \n",
        "    return sum(probList)"
      ],
      "execution_count": null,
      "outputs": []
    },
    {
      "cell_type": "code",
      "metadata": {
        "id": "20YtCYgdgAA6"
      },
      "source": [
        "def d_cuadrado(imagen_referencia, imagen_capturada):\n",
        "    return np.sum(pow(imagen_referencia - imagen_capturada, 2)/imagen_capturada.size)"
      ],
      "execution_count": null,
      "outputs": []
    },
    {
      "cell_type": "code",
      "metadata": {
        "id": "KYPNPXTQgAA6"
      },
      "source": [
        "def signalNoiseRatio(imagen_referencia, imagen_capturada):\n",
        "    return 20*np.log10( imagen_referencia.mean() / np.sqrt(d_cuadrado(imagen_referencia, imagen_capturada)))"
      ],
      "execution_count": null,
      "outputs": []
    },
    {
      "cell_type": "code",
      "metadata": {
        "id": "3dbOJPeygAA6"
      },
      "source": [
        "def PsignalNoiseRatio(imagen_referencia, imagen_capturada, maxrange = 255):\n",
        "    return 20*np.log10( maxrange / np.sqrt(d_cuadrado(imagen_referencia, imagen_capturada)))"
      ],
      "execution_count": null,
      "outputs": []
    },
    {
      "cell_type": "code",
      "metadata": {
        "colab": {
          "base_uri": "https://localhost:8080/"
        },
        "id": "fwjoUV8egAA7",
        "outputId": "91d3d0da-5d02-4af8-bd51-968b1a130c85"
      },
      "source": [
        "entropia_referencia =  entropia(imagen_referencia)\n",
        "entropia_capturada =  entropia(imagen_capturada)\n",
        "print('entropia imagen de referencia ', entropia_referencia)\n",
        "print('entropia imagen capturada ', entropia_capturada)\n",
        "print('aumento de entropia ', entropia_capturada - entropia_referencia)"
      ],
      "execution_count": null,
      "outputs": [
        {
          "output_type": "stream",
          "text": [
            "entropia imagen de referencia  2.503258334775646\n",
            "entropia imagen capturada  3.169925001442312\n",
            "aumento de entropia  0.6666666666666661\n"
          ],
          "name": "stdout"
        }
      ]
    },
    {
      "cell_type": "code",
      "metadata": {
        "colab": {
          "base_uri": "https://localhost:8080/"
        },
        "id": "3WXRJT8JgAA8",
        "outputId": "c68f577e-44a4-4894-9640-f98f684f315b"
      },
      "source": [
        "print('d_cuadrado :', d_cuadrado(imagen_referencia, imagen_capturada))\n",
        "print('R_media: ', imagen_referencia.mean())\n",
        "print('SNR :', signalNoiseRatio(imagen_referencia, imagen_capturada))\n",
        "print('PSNR :', PsignalNoiseRatio(imagen_referencia, imagen_capturada))"
      ],
      "execution_count": null,
      "outputs": [
        {
          "output_type": "stream",
          "text": [
            "d_cuadrado : 1.8888888888888888\n",
            "R_media:  144.44444444444446\n",
            "SNR : 40.43195273796074\n",
            "PSNR : 45.36873948928961\n"
          ],
          "name": "stdout"
        }
      ]
    },
    {
      "cell_type": "markdown",
      "metadata": {
        "id": "QkVgiwKpgAA8"
      },
      "source": [
        "# Imagen ecualizada"
      ]
    },
    {
      "cell_type": "code",
      "metadata": {
        "id": "bHYi-qurgAA8"
      },
      "source": [
        "imagen = np.asarray([[5,3,2,7,2], [1,5,7,0,2], [5,6,4,2,0], [1,3,2,7,3], [3,0,7,3,4]])"
      ],
      "execution_count": null,
      "outputs": []
    },
    {
      "cell_type": "code",
      "metadata": {
        "id": "BZ3WwqK-gAA9"
      },
      "source": [
        "def imagen_ecualizada(imagen):\n",
        "    i, h_i  = np.unique(imagen, return_counts= True)\n",
        "    H_i = np.cumsum(h_i)\n",
        "    base = (len(i) - 1)/imagen.size\n",
        "    s_i = np.round(H_i*base)\n",
        "    \n",
        "    df =  pd.DataFrame([i, h_i, H_i, s_i], dtype=int).T\n",
        "    df.columns=['i', 'h_i', 'H_i', 's_i']\n",
        "    \n",
        "    imagen_ecualizada = s_i[imagen]\n",
        "    \n",
        "    return i, h_i, H_i, s_i, df, imagen_ecualizada"
      ],
      "execution_count": null,
      "outputs": []
    },
    {
      "cell_type": "code",
      "metadata": {
        "id": "f1RLv0ougAA9"
      },
      "source": [
        "i, h_i, H_i, s_i, df, imagen_ecualizada = imagen_ecualizada(imagen)"
      ],
      "execution_count": null,
      "outputs": []
    },
    {
      "cell_type": "code",
      "metadata": {
        "colab": {
          "base_uri": "https://localhost:8080/"
        },
        "id": "_VTNWCWSgAA9",
        "outputId": "2b88fff9-1f0e-44ae-a822-0e1ea6de4394"
      },
      "source": [
        "print('tablas ')\n",
        "print(df)\n",
        "print('imagen_ecualizada: ')\n",
        "print(imagen_ecualizada)"
      ],
      "execution_count": null,
      "outputs": [
        {
          "output_type": "stream",
          "text": [
            "tablas \n",
            "   i  h_i  H_i  s_i\n",
            "0  0    3    3    1\n",
            "1  1    2    5    1\n",
            "2  2    5   10    3\n",
            "3  3    5   15    4\n",
            "4  4    2   17    5\n",
            "5  5    3   20    6\n",
            "6  6    1   21    6\n",
            "7  7    4   25    7\n",
            "imagen_ecualizada: \n",
            "[[6. 4. 3. 7. 3.]\n",
            " [1. 6. 7. 1. 3.]\n",
            " [6. 6. 5. 3. 1.]\n",
            " [1. 4. 3. 7. 4.]\n",
            " [4. 1. 7. 4. 5.]]\n"
          ],
          "name": "stdout"
        }
      ]
    },
    {
      "cell_type": "markdown",
      "metadata": {
        "id": "3Ks1oj4KgAA9"
      },
      "source": [
        "# Matriz de confusion y IoU"
      ]
    },
    {
      "cell_type": "code",
      "metadata": {
        "id": "Xgp-RJUtgAA-"
      },
      "source": [
        "verdad = np.asarray(    [['R', 'R', 'G', 'G',], ['R', 'R', 'G', 'G',], ['B', 'B', 'B', 'G',], ['B', 'B', 'B', 'G',]])\n",
        "prediccion = np.asarray([['R', 'R', 'G', 'G',], ['B', 'R', 'G', 'G',], ['B', 'B', 'G', 'G',], ['B', 'B', 'B', 'G',]])"
      ],
      "execution_count": null,
      "outputs": []
    },
    {
      "cell_type": "code",
      "metadata": {
        "colab": {
          "base_uri": "https://localhost:8080/"
        },
        "id": "NKL6MUcMgAA-",
        "outputId": "dc5b6f81-0b43-4222-d977-fcc9caa46c56"
      },
      "source": [
        "elementos = np.unique(verdad)\n",
        "elementos"
      ],
      "execution_count": null,
      "outputs": [
        {
          "output_type": "execute_result",
          "data": {
            "text/plain": [
              "array(['B', 'G', 'R'], dtype='<U1')"
            ]
          },
          "metadata": {
            "tags": []
          },
          "execution_count": 14
        }
      ]
    },
    {
      "cell_type": "code",
      "metadata": {
        "colab": {
          "base_uri": "https://localhost:8080/"
        },
        "id": "AqcbD0Y5gAA_",
        "outputId": "66066c3e-258c-49b9-dcfa-0142e956521d"
      },
      "source": [
        "matrix = confusion_matrix(verdad.flatten(), prediccion.flatten(), labels=['B', 'G', 'R'])\n",
        "matrix"
      ],
      "execution_count": null,
      "outputs": [
        {
          "output_type": "execute_result",
          "data": {
            "text/plain": [
              "array([[5, 1, 0],\n",
              "       [0, 6, 0],\n",
              "       [1, 0, 3]])"
            ]
          },
          "metadata": {
            "tags": []
          },
          "execution_count": 15
        }
      ]
    },
    {
      "cell_type": "code",
      "metadata": {
        "colab": {
          "base_uri": "https://localhost:8080/"
        },
        "id": "7sjp-mONgABA",
        "outputId": "77265a6d-a0f4-4b6e-aeaa-3e71503b163e"
      },
      "source": [
        "valores = []\n",
        "for elemento in elementos:\n",
        "    a = verdad.flatten() == elemento\n",
        "    b = prediccion.flatten() == elemento\n",
        "    union = 0\n",
        "    interseccion = 0\n",
        "    for i in range(len(a)):\n",
        "        if a[i] == b[i]:\n",
        "            if a[i] == True:\n",
        "                interseccion += 1\n",
        "                union += 1\n",
        "        else:\n",
        "            union += 1\n",
        "    print('Elemento ', elemento, ':', interseccion, '/', union)\n",
        "    valores.append(interseccion/union)\n",
        "valores    "
      ],
      "execution_count": null,
      "outputs": [
        {
          "output_type": "stream",
          "text": [
            "Elemento  B : 5 / 7\n",
            "Elemento  G : 6 / 7\n",
            "Elemento  R : 3 / 4\n"
          ],
          "name": "stdout"
        },
        {
          "output_type": "execute_result",
          "data": {
            "text/plain": [
              "[0.7142857142857143, 0.8571428571428571, 0.75]"
            ]
          },
          "metadata": {
            "tags": []
          },
          "execution_count": 16
        }
      ]
    },
    {
      "cell_type": "code",
      "metadata": {
        "colab": {
          "base_uri": "https://localhost:8080/"
        },
        "id": "EfgA752NgABA",
        "outputId": "e849c02c-c7a3-4b17-a437-06de0f3b5410"
      },
      "source": [
        "iou = (1/len(matrix))*sum(valores)\n",
        "iou"
      ],
      "execution_count": null,
      "outputs": [
        {
          "output_type": "execute_result",
          "data": {
            "text/plain": [
              "0.7738095238095237"
            ]
          },
          "metadata": {
            "tags": []
          },
          "execution_count": 17
        }
      ]
    },
    {
      "cell_type": "markdown",
      "metadata": {
        "id": "3R6E_iS_gABB"
      },
      "source": [
        "# Magnitud y modulo"
      ]
    },
    {
      "cell_type": "code",
      "metadata": {
        "id": "Sr18qWkngABB"
      },
      "source": [
        "imagen = np.asarray([[1,2,6,4], [3,7,5,3], [9,5,8,6]])"
      ],
      "execution_count": null,
      "outputs": []
    },
    {
      "cell_type": "code",
      "metadata": {
        "colab": {
          "base_uri": "https://localhost:8080/"
        },
        "id": "23Ytb4GYgABB",
        "outputId": "50ef19a7-3257-46b1-e35b-f5437bd96a11"
      },
      "source": [
        "dy, dx = np.gradient(imagen)\n",
        "dx, dy"
      ],
      "execution_count": null,
      "outputs": [
        {
          "output_type": "execute_result",
          "data": {
            "text/plain": [
              "(array([[ 1. ,  2.5,  1. , -2. ],\n",
              "        [ 4. ,  1. , -2. , -2. ],\n",
              "        [-4. , -0.5,  0.5, -2. ]]), array([[ 2. ,  5. , -1. , -1. ],\n",
              "        [ 4. ,  1.5,  1. ,  1. ],\n",
              "        [ 6. , -2. ,  3. ,  3. ]]))"
            ]
          },
          "metadata": {
            "tags": []
          },
          "execution_count": 19
        }
      ]
    },
    {
      "cell_type": "code",
      "metadata": {
        "colab": {
          "base_uri": "https://localhost:8080/"
        },
        "id": "eTdUCGwfgABB",
        "outputId": "8ed09cb8-94e7-40b0-ca5f-5ad7a2765b2e"
      },
      "source": [
        "G = np.sqrt(pow(dx, 2) + pow(dy, 2))\n",
        "G"
      ],
      "execution_count": null,
      "outputs": [
        {
          "output_type": "execute_result",
          "data": {
            "text/plain": [
              "array([[2.23606798, 5.59016994, 1.41421356, 2.23606798],\n",
              "       [5.65685425, 1.80277564, 2.23606798, 2.23606798],\n",
              "       [7.21110255, 2.06155281, 3.04138127, 3.60555128]])"
            ]
          },
          "metadata": {
            "tags": []
          },
          "execution_count": 20
        }
      ]
    },
    {
      "cell_type": "code",
      "metadata": {
        "colab": {
          "base_uri": "https://localhost:8080/"
        },
        "id": "m0eR0euXgABC",
        "outputId": "c3f19e77-5bca-4aa4-b67b-bb2beba7ca4f"
      },
      "source": [
        "np.degrees(np.arctan(dy/dx))"
      ],
      "execution_count": null,
      "outputs": [
        {
          "output_type": "execute_result",
          "data": {
            "text/plain": [
              "array([[ 63.43494882,  63.43494882, -45.        ,  26.56505118],\n",
              "       [ 45.        ,  56.30993247, -26.56505118, -26.56505118],\n",
              "       [-56.30993247,  75.96375653,  80.53767779, -56.30993247]])"
            ]
          },
          "metadata": {
            "tags": []
          },
          "execution_count": 21
        }
      ]
    },
    {
      "cell_type": "markdown",
      "metadata": {
        "id": "H-g9v17JgABC"
      },
      "source": [
        "# Matrices de Haralick"
      ]
    },
    {
      "cell_type": "code",
      "metadata": {
        "id": "pgGlcV4hgABC"
      },
      "source": [
        "imagen = np.asarray([[1,2,1,3], [0,1,1,2], [1,2,3,3], [2,2,3,3]])"
      ],
      "execution_count": null,
      "outputs": []
    },
    {
      "cell_type": "code",
      "metadata": {
        "id": "QIXLrEnBgABC"
      },
      "source": [
        "# en clase se ha visto 90 grados hacia arriba, pero python lo interpreta hacia abajo, por eso -pi/2\n",
        "matriz_co_ocurrencia = greycomatrix(imagen, distances=[1], angles=[0, np.pi/4, -np.pi/2, 3*np.pi/4], levels=4)"
      ],
      "execution_count": null,
      "outputs": []
    },
    {
      "cell_type": "code",
      "metadata": {
        "colab": {
          "base_uri": "https://localhost:8080/"
        },
        "id": "NACn_dSJgABD",
        "outputId": "b26da38c-270d-43e8-acdd-5c835b9f75fd"
      },
      "source": [
        "print('Matrices de Haralick G')\n",
        "print()\n",
        "print('0 grados')\n",
        "print(matriz_co_ocurrencia[:, :, 0, 0])\n",
        "print()\n",
        "print('45 grados')\n",
        "print(matriz_co_ocurrencia[:, :, 0, 1])\n",
        "print()\n",
        "print('90 grados')\n",
        "print(matriz_co_ocurrencia[:, :, 0, 2])\n",
        "print()\n",
        "print('135 grados')\n",
        "print(matriz_co_ocurrencia[:, :, 0, 3])"
      ],
      "execution_count": null,
      "outputs": [
        {
          "output_type": "stream",
          "text": [
            "Matrices de Haralick G\n",
            "\n",
            "0 grados\n",
            "[[0 1 0 0]\n",
            " [0 1 3 1]\n",
            " [0 1 1 2]\n",
            " [0 0 0 2]]\n",
            "\n",
            "45 grados\n",
            "[[0 0 1 0]\n",
            " [0 1 2 2]\n",
            " [0 1 0 1]\n",
            " [0 0 0 1]]\n",
            "\n",
            "90 grados\n",
            "[[0 1 0 0]\n",
            " [1 1 1 0]\n",
            " [0 2 1 1]\n",
            " [0 1 1 2]]\n",
            "\n",
            "135 grados\n",
            "[[0 0 0 0]\n",
            " [0 2 1 0]\n",
            " [1 0 1 1]\n",
            " [0 1 1 1]]\n"
          ],
          "name": "stdout"
        }
      ]
    },
    {
      "cell_type": "code",
      "metadata": {
        "colab": {
          "base_uri": "https://localhost:8080/"
        },
        "id": "sM1owYa6gABD",
        "outputId": "f64f749a-31ac-43a6-ccfb-69b7fbebc276"
      },
      "source": [
        "matriz_co_ocurrencia = greycomatrix(imagen, distances=[1], angles=[0, np.pi/4, np.pi/2, 3*np.pi/4], levels=4, normed=True)\n",
        "print('Matrices de Haralick G NORMALIZADAS')\n",
        "print()\n",
        "print('0 grados')\n",
        "print(matriz_co_ocurrencia[:, :, 0, 0])\n",
        "print()\n",
        "print('45 grados')\n",
        "print(matriz_co_ocurrencia[:, :, 0, 1])\n",
        "print()\n",
        "print('90 grados')\n",
        "print(matriz_co_ocurrencia[:, :, 0, 2])\n",
        "print()\n",
        "print('135 grados')\n",
        "print(matriz_co_ocurrencia[:, :, 0, 3])"
      ],
      "execution_count": null,
      "outputs": [
        {
          "output_type": "stream",
          "text": [
            "Matrices de Haralick G NORMALIZADAS\n",
            "\n",
            "0 grados\n",
            "[[0.         0.08333333 0.         0.        ]\n",
            " [0.         0.08333333 0.25       0.08333333]\n",
            " [0.         0.08333333 0.08333333 0.16666667]\n",
            " [0.         0.         0.         0.16666667]]\n",
            "\n",
            "45 grados\n",
            "[[0.         0.         0.11111111 0.        ]\n",
            " [0.         0.11111111 0.22222222 0.22222222]\n",
            " [0.         0.11111111 0.         0.11111111]\n",
            " [0.         0.         0.         0.11111111]]\n",
            "\n",
            "90 grados\n",
            "[[0.         0.08333333 0.         0.        ]\n",
            " [0.08333333 0.08333333 0.16666667 0.08333333]\n",
            " [0.         0.08333333 0.08333333 0.08333333]\n",
            " [0.         0.         0.08333333 0.16666667]]\n",
            "\n",
            "135 grados\n",
            "[[0.         0.         0.         0.        ]\n",
            " [0.         0.22222222 0.11111111 0.        ]\n",
            " [0.11111111 0.         0.11111111 0.11111111]\n",
            " [0.         0.11111111 0.11111111 0.11111111]]\n"
          ],
          "name": "stdout"
        }
      ]
    },
    {
      "cell_type": "code",
      "metadata": {
        "colab": {
          "base_uri": "https://localhost:8080/"
        },
        "id": "wSYesDZNgABE",
        "outputId": "20ed0458-0904-4324-ecd2-e2cb92b2477a"
      },
      "source": [
        "matriz_contrast = greycoprops(matriz_co_ocurrencia, prop='contrast')\n",
        "matriz_contrast"
      ],
      "execution_count": null,
      "outputs": [
        {
          "output_type": "execute_result",
          "data": {
            "text/plain": [
              "array([[0.91666667, 1.77777778, 0.91666667, 1.22222222]])"
            ]
          },
          "metadata": {
            "tags": []
          },
          "execution_count": 26
        }
      ]
    },
    {
      "cell_type": "code",
      "metadata": {
        "colab": {
          "base_uri": "https://localhost:8080/"
        },
        "id": "Pve1FpIDgABF",
        "outputId": "6592d7f0-1f1f-45e0-aa20-e6da883981b3"
      },
      "source": [
        "matriz_homogeneity = greycoprops(matriz_co_ocurrencia, prop='homogeneity')\n",
        "matriz_homogeneity"
      ],
      "execution_count": null,
      "outputs": [
        {
          "output_type": "execute_result",
          "data": {
            "text/plain": [
              "array([[0.64166667, 0.51111111, 0.64166667, 0.65555556]])"
            ]
          },
          "metadata": {
            "tags": []
          },
          "execution_count": 27
        }
      ]
    },
    {
      "cell_type": "code",
      "metadata": {
        "colab": {
          "base_uri": "https://localhost:8080/"
        },
        "id": "s0s48aNBgABG",
        "outputId": "ee05c989-bc1b-4d2a-ac15-d390ffe5351b"
      },
      "source": [
        "matriz_energy = greycoprops(matriz_co_ocurrencia, prop='energy')\n",
        "matriz_energy"
      ],
      "execution_count": null,
      "outputs": [
        {
          "output_type": "execute_result",
          "data": {
            "text/plain": [
              "array([[0.39086798, 0.40061681, 0.33333333, 0.36851387]])"
            ]
          },
          "metadata": {
            "tags": []
          },
          "execution_count": 28
        }
      ]
    },
    {
      "cell_type": "code",
      "metadata": {
        "colab": {
          "base_uri": "https://localhost:8080/"
        },
        "id": "GrLodjEhgABH",
        "outputId": "12df08f5-37f2-45d1-b2fa-2c9305f31d84"
      },
      "source": [
        "matriz_homogeneity = greycoprops(matriz_co_ocurrencia, prop='homogeneity')\n",
        "matriz_homogeneity"
      ],
      "execution_count": null,
      "outputs": [
        {
          "output_type": "execute_result",
          "data": {
            "text/plain": [
              "array([[0.64166667, 0.51111111, 0.64166667, 0.65555556]])"
            ]
          },
          "metadata": {
            "tags": []
          },
          "execution_count": 29
        }
      ]
    }
  ]
}