{
  "nbformat": 4,
  "nbformat_minor": 0,
  "metadata": {
    "accelerator": "GPU",
    "colab": {
      "name": "Semana_9 - Embedding 2.ipynb",
      "provenance": [],
      "toc_visible": true
    },
    "kernelspec": {
      "display_name": "Python 3",
      "language": "python",
      "name": "python3"
    },
    "language_info": {
      "codemirror_mode": {
        "name": "ipython",
        "version": 3
      },
      "file_extension": ".py",
      "mimetype": "text/x-python",
      "name": "python",
      "nbconvert_exporter": "python",
      "pygments_lexer": "ipython3",
      "version": "3.7.6"
    }
  },
  "cells": [
    {
      "cell_type": "markdown",
      "metadata": {
        "id": "3W4blFfdZ1Ff"
      },
      "source": [
        "Importamos las bibliotecas necesarias y ponemos las variables globales con sus valores"
      ]
    },
    {
      "cell_type": "code",
      "metadata": {
        "id": "hmA6EzkQJ5jt"
      },
      "source": [
        "import json\n",
        "import tensorflow as tf\n",
        "import csv\n",
        "import random\n",
        "import numpy as np\n",
        "\n",
        "from tensorflow.keras.preprocessing.text import Tokenizer\n",
        "from tensorflow.keras.preprocessing.sequence import pad_sequences\n",
        "from tensorflow.keras.utils import to_categorical\n",
        "from tensorflow.keras import regularizers\n",
        "\n",
        "\n",
        "embedding_dim = 100\n",
        "max_length = 16\n",
        "trunc_type='post'\n",
        "padding_type='post'\n",
        "oov_tok = \"<OOV>\"\n",
        "training_size=160000\n",
        "test_portion=.1\n",
        "\n",
        "corpus = []\n"
      ],
      "execution_count": null,
      "outputs": []
    },
    {
      "cell_type": "markdown",
      "metadata": {
        "id": "Ft5jwLLBZ-U5"
      },
      "source": [
        "Descargamos el dataset que vamos a usar para entrenar nuestra RNN"
      ]
    },
    {
      "cell_type": "code",
      "metadata": {
        "id": "bM0l_dORKqE0",
        "outputId": "e27ceed5-c2bd-4582-894d-0ecb27456282",
        "colab": {
          "base_uri": "https://localhost:8080/"
        }
      },
      "source": [
        "# Note that I cleaned the Stanford dataset to remove LATIN1 encoding to make it easier for Python CSV reader\n",
        "# You can do that yourself with:\n",
        "# iconv -f LATIN1 -t UTF8 training.1600000.processed.noemoticon.csv -o training_cleaned.csv\n",
        "\n",
        "!wget --no-check-certificate \\\n",
        "    https://storage.googleapis.com/laurencemoroney-blog.appspot.com/training_cleaned.csv \\\n",
        "    -O /tmp/training_cleaned.csv\n",
        "\n",
        "num_sentences = 0\n",
        "\n",
        "with open(\"/tmp/training_cleaned.csv\") as csvfile:\n",
        "    reader = csv.reader(csvfile, delimiter=',')\n",
        "    for row in reader:\n",
        "        list_item=[]\n",
        "        list_item.append(row[5])\n",
        "        this_label=row[0]\n",
        "        if this_label=='0':\n",
        "            list_item.append(0)\n",
        "        else:\n",
        "            list_item.append(1)\n",
        "        num_sentences = num_sentences + 1\n",
        "        corpus.append(list_item)\n"
      ],
      "execution_count": null,
      "outputs": [
        {
          "output_type": "stream",
          "text": [
            "--2020-11-04 22:54:58--  https://storage.googleapis.com/laurencemoroney-blog.appspot.com/training_cleaned.csv\n",
            "Resolving storage.googleapis.com (storage.googleapis.com)... 74.125.195.128, 74.125.142.128, 2607:f8b0:400e:c09::80, ...\n",
            "Connecting to storage.googleapis.com (storage.googleapis.com)|74.125.195.128|:443... connected.\n",
            "HTTP request sent, awaiting response... 200 OK\n",
            "Length: 238942690 (228M) [application/octet-stream]\n",
            "Saving to: ‘/tmp/training_cleaned.csv’\n",
            "\n",
            "/tmp/training_clean 100%[===================>] 227.87M   257MB/s    in 0.9s    \n",
            "\n",
            "2020-11-04 22:54:59 (257 MB/s) - ‘/tmp/training_cleaned.csv’ saved [238942690/238942690]\n",
            "\n"
          ],
          "name": "stdout"
        }
      ]
    },
    {
      "cell_type": "markdown",
      "metadata": {
        "id": "oKuiI1a9aEea"
      },
      "source": [
        "Hacemos algunas comprobaciones para ver el tipo de datos"
      ]
    },
    {
      "cell_type": "code",
      "metadata": {
        "id": "3kxblBUjEUX-",
        "outputId": "de7c6e00-9231-4d80-f845-1d147e7a93ad",
        "colab": {
          "base_uri": "https://localhost:8080/"
        }
      },
      "source": [
        "print(num_sentences)\n",
        "print(len(corpus))\n",
        "print(corpus[1])\n",
        "\n",
        "# Expected Output:\n",
        "# 1600000\n",
        "# 1600000\n",
        "# [\"is upset that he can't update his Facebook by texting it... and might cry as a result  School today also. Blah!\", 0]"
      ],
      "execution_count": null,
      "outputs": [
        {
          "output_type": "stream",
          "text": [
            "1600000\n",
            "1600000\n",
            "[\"is upset that he can't update his Facebook by texting it... and might cry as a result  School today also. Blah!\", 0]\n"
          ],
          "name": "stdout"
        }
      ]
    },
    {
      "cell_type": "markdown",
      "metadata": {
        "id": "HMGhdpm2aH1V"
      },
      "source": [
        "Preparamos el dataset para que sea un input valido para la RNN"
      ]
    },
    {
      "cell_type": "code",
      "metadata": {
        "id": "ohOGz24lsNAD"
      },
      "source": [
        "sentences=[]\n",
        "labels=[]\n",
        "random.shuffle(corpus)\n",
        "for x in range(training_size):\n",
        "    sentences.append(corpus[x][0])\n",
        "    labels.append(corpus[x][1])\n",
        "\n",
        "\n",
        "tokenizer = Tokenizer()\n",
        "tokenizer.fit_on_texts(sentences)\n",
        "\n",
        "word_index = tokenizer.word_index\n",
        "vocab_size=len(word_index)\n",
        "\n",
        "sequences = tokenizer.texts_to_sequences(sentences)\n",
        "padded = pad_sequences(sequences, maxlen=max_length, padding=padding_type, truncating=trunc_type)\n",
        "\n",
        "split = int(test_portion * training_size)\n",
        "\n",
        "test_sequences = padded[0:split]\n",
        "training_sequences = padded[split:training_size]\n",
        "test_labels = labels[0:split]\n",
        "training_labels = labels[split:training_size]"
      ],
      "execution_count": null,
      "outputs": []
    },
    {
      "cell_type": "code",
      "metadata": {
        "id": "gIrtRem1En3N",
        "outputId": "7bc5de81-e4f7-430e-f9be-d09a280785b1",
        "colab": {
          "base_uri": "https://localhost:8080/"
        }
      },
      "source": [
        "print(vocab_size)\n",
        "print(word_index['i'])\n",
        "# Expected Output\n",
        "# 138858\n",
        "# 1"
      ],
      "execution_count": null,
      "outputs": [
        {
          "output_type": "stream",
          "text": [
            "138332\n",
            "1\n"
          ],
          "name": "stdout"
        }
      ]
    },
    {
      "cell_type": "markdown",
      "metadata": {
        "id": "vsv9SuiVaQw2"
      },
      "source": [
        "Descargamos los embeddings del dataset Glove que usaremos en nuestro modelo"
      ]
    },
    {
      "cell_type": "code",
      "metadata": {
        "id": "C1zdgJkusRh0",
        "outputId": "371efbde-b330-4a80-cfe0-6f6a6c480cbc",
        "colab": {
          "base_uri": "https://localhost:8080/"
        }
      },
      "source": [
        "# Note this is the 100 dimension version of GloVe from Stanford\n",
        "!wget --no-check-certificate \\\n",
        "    https://storage.googleapis.com/laurencemoroney-blog.appspot.com/glove.6B.100d.txt \\\n",
        "    -O /tmp/glove.6B.100d.txt\n",
        "embeddings_index = {};\n",
        "with open('/tmp/glove.6B.100d.txt') as f:\n",
        "    for line in f:\n",
        "        values = line.split();\n",
        "        word = values[0];\n",
        "        coefs = np.asarray(values[1:], dtype='float32');\n",
        "        embeddings_index[word] = coefs;\n",
        "\n",
        "embeddings_matrix = np.zeros((vocab_size+1, embedding_dim));\n",
        "for word, i in word_index.items():\n",
        "    embedding_vector = embeddings_index.get(word);\n",
        "    if embedding_vector is not None:\n",
        "        embeddings_matrix[i] = embedding_vector;"
      ],
      "execution_count": null,
      "outputs": [
        {
          "output_type": "stream",
          "text": [
            "--2020-11-04 22:55:11--  https://storage.googleapis.com/laurencemoroney-blog.appspot.com/glove.6B.100d.txt\n",
            "Resolving storage.googleapis.com (storage.googleapis.com)... 74.125.195.128, 74.125.142.128, 173.194.202.128, ...\n",
            "Connecting to storage.googleapis.com (storage.googleapis.com)|74.125.195.128|:443... connected.\n",
            "HTTP request sent, awaiting response... 200 OK\n",
            "Length: 347116733 (331M) [text/plain]\n",
            "Saving to: ‘/tmp/glove.6B.100d.txt’\n",
            "\n",
            "/tmp/glove.6B.100d. 100%[===================>] 331.04M   189MB/s    in 1.7s    \n",
            "\n",
            "2020-11-04 22:55:13 (189 MB/s) - ‘/tmp/glove.6B.100d.txt’ saved [347116733/347116733]\n",
            "\n"
          ],
          "name": "stdout"
        }
      ]
    },
    {
      "cell_type": "code",
      "metadata": {
        "id": "71NLk_lpFLNt",
        "outputId": "dd1cd1b9-9e7f-4757-af03-4972589481ef",
        "colab": {
          "base_uri": "https://localhost:8080/"
        }
      },
      "source": [
        "print(len(embeddings_matrix))\n",
        "# Expected Output\n",
        "# 138859"
      ],
      "execution_count": null,
      "outputs": [
        {
          "output_type": "stream",
          "text": [
            "138333\n"
          ],
          "name": "stdout"
        }
      ]
    },
    {
      "cell_type": "markdown",
      "metadata": {
        "id": "NcPXjpQXaV5m"
      },
      "source": [
        "Creamos la RNN avanzada usando los embeddings importados de glove"
      ]
    },
    {
      "cell_type": "code",
      "metadata": {
        "id": "iKKvbuEBOGFz",
        "outputId": "e94cde64-545c-443c-a5a1-a421e55cacb0",
        "colab": {
          "base_uri": "https://localhost:8080/"
        }
      },
      "source": [
        "model = tf.keras.Sequential([\n",
        "    tf.keras.layers.Embedding(vocab_size+1, embedding_dim, input_length=max_length, weights=[embeddings_matrix], trainable=False),\n",
        "    tf.keras.layers.Dropout(0.2),\n",
        "    tf.keras.layers.Conv1D(64, 5, activation='relu'),\n",
        "    tf.keras.layers.MaxPooling1D(pool_size=4),\n",
        "    tf.keras.layers.LSTM(64),\n",
        "    tf.keras.layers.Dense(1, activation='sigmoid')\n",
        "])\n",
        "model.compile(loss='binary_crossentropy',optimizer='adam',metrics=['accuracy'])\n",
        "model.summary()\n",
        "\n",
        "num_epochs = 50\n",
        "\n",
        "training_padded = np.array(training_sequences)\n",
        "training_labels = np.array(training_labels)\n",
        "testing_padded = np.array(test_sequences)\n",
        "testing_labels = np.array(test_labels)\n",
        "\n",
        "history = model.fit(training_padded, training_labels, epochs=num_epochs, validation_data=(testing_padded, testing_labels), verbose=2)\n",
        "\n",
        "print(\"Training Complete\")"
      ],
      "execution_count": null,
      "outputs": [
        {
          "output_type": "stream",
          "text": [
            "Model: \"sequential\"\n",
            "_________________________________________________________________\n",
            "Layer (type)                 Output Shape              Param #   \n",
            "=================================================================\n",
            "embedding (Embedding)        (None, 16, 100)           13833300  \n",
            "_________________________________________________________________\n",
            "dropout (Dropout)            (None, 16, 100)           0         \n",
            "_________________________________________________________________\n",
            "conv1d (Conv1D)              (None, 12, 64)            32064     \n",
            "_________________________________________________________________\n",
            "max_pooling1d (MaxPooling1D) (None, 3, 64)             0         \n",
            "_________________________________________________________________\n",
            "lstm (LSTM)                  (None, 64)                33024     \n",
            "_________________________________________________________________\n",
            "dense (Dense)                (None, 1)                 65        \n",
            "=================================================================\n",
            "Total params: 13,898,453\n",
            "Trainable params: 65,153\n",
            "Non-trainable params: 13,833,300\n",
            "_________________________________________________________________\n",
            "Epoch 1/50\n",
            "4500/4500 - 15s - loss: 0.5656 - accuracy: 0.7000 - val_loss: 0.5267 - val_accuracy: 0.7335\n",
            "Epoch 2/50\n",
            "4500/4500 - 15s - loss: 0.5259 - accuracy: 0.7327 - val_loss: 0.5105 - val_accuracy: 0.7443\n",
            "Epoch 3/50\n",
            "4500/4500 - 15s - loss: 0.5107 - accuracy: 0.7454 - val_loss: 0.5076 - val_accuracy: 0.7471\n",
            "Epoch 4/50\n",
            "4500/4500 - 15s - loss: 0.4986 - accuracy: 0.7516 - val_loss: 0.5052 - val_accuracy: 0.7469\n",
            "Epoch 5/50\n",
            "4500/4500 - 15s - loss: 0.4904 - accuracy: 0.7581 - val_loss: 0.4997 - val_accuracy: 0.7512\n",
            "Epoch 6/50\n",
            "4500/4500 - 15s - loss: 0.4832 - accuracy: 0.7621 - val_loss: 0.5003 - val_accuracy: 0.7532\n",
            "Epoch 7/50\n",
            "4500/4500 - 15s - loss: 0.4785 - accuracy: 0.7649 - val_loss: 0.5048 - val_accuracy: 0.7489\n",
            "Epoch 8/50\n",
            "4500/4500 - 15s - loss: 0.4705 - accuracy: 0.7713 - val_loss: 0.5085 - val_accuracy: 0.7502\n",
            "Epoch 9/50\n",
            "4500/4500 - 15s - loss: 0.4677 - accuracy: 0.7730 - val_loss: 0.5069 - val_accuracy: 0.7513\n",
            "Epoch 10/50\n",
            "4500/4500 - 15s - loss: 0.4655 - accuracy: 0.7743 - val_loss: 0.5081 - val_accuracy: 0.7521\n",
            "Epoch 11/50\n",
            "4500/4500 - 15s - loss: 0.4611 - accuracy: 0.7776 - val_loss: 0.5117 - val_accuracy: 0.7505\n",
            "Epoch 12/50\n",
            "4500/4500 - 15s - loss: 0.4587 - accuracy: 0.7780 - val_loss: 0.5031 - val_accuracy: 0.7519\n",
            "Epoch 13/50\n",
            "4500/4500 - 15s - loss: 0.4563 - accuracy: 0.7800 - val_loss: 0.5028 - val_accuracy: 0.7512\n",
            "Epoch 14/50\n",
            "4500/4500 - 15s - loss: 0.4529 - accuracy: 0.7814 - val_loss: 0.5035 - val_accuracy: 0.7503\n",
            "Epoch 15/50\n",
            "4500/4500 - 15s - loss: 0.4519 - accuracy: 0.7825 - val_loss: 0.5066 - val_accuracy: 0.7512\n",
            "Epoch 16/50\n",
            "4500/4500 - 15s - loss: 0.4478 - accuracy: 0.7850 - val_loss: 0.5077 - val_accuracy: 0.7508\n",
            "Epoch 17/50\n",
            "4500/4500 - 15s - loss: 0.4482 - accuracy: 0.7840 - val_loss: 0.5179 - val_accuracy: 0.7508\n",
            "Epoch 18/50\n",
            "4500/4500 - 15s - loss: 0.4452 - accuracy: 0.7862 - val_loss: 0.5145 - val_accuracy: 0.7504\n",
            "Epoch 19/50\n",
            "4500/4500 - 15s - loss: 0.4448 - accuracy: 0.7860 - val_loss: 0.5100 - val_accuracy: 0.7512\n",
            "Epoch 20/50\n",
            "4500/4500 - 15s - loss: 0.4434 - accuracy: 0.7886 - val_loss: 0.5120 - val_accuracy: 0.7502\n",
            "Epoch 21/50\n",
            "4500/4500 - 15s - loss: 0.4412 - accuracy: 0.7889 - val_loss: 0.5150 - val_accuracy: 0.7496\n",
            "Epoch 22/50\n",
            "4500/4500 - 15s - loss: 0.4402 - accuracy: 0.7885 - val_loss: 0.5200 - val_accuracy: 0.7477\n",
            "Epoch 23/50\n",
            "4500/4500 - 15s - loss: 0.4388 - accuracy: 0.7903 - val_loss: 0.5210 - val_accuracy: 0.7477\n",
            "Epoch 24/50\n",
            "4500/4500 - 15s - loss: 0.4374 - accuracy: 0.7915 - val_loss: 0.5229 - val_accuracy: 0.7475\n",
            "Epoch 25/50\n",
            "4500/4500 - 15s - loss: 0.4359 - accuracy: 0.7913 - val_loss: 0.5151 - val_accuracy: 0.7488\n",
            "Epoch 26/50\n",
            "4500/4500 - 15s - loss: 0.4372 - accuracy: 0.7911 - val_loss: 0.5199 - val_accuracy: 0.7492\n",
            "Epoch 27/50\n",
            "4500/4500 - 15s - loss: 0.4355 - accuracy: 0.7909 - val_loss: 0.5279 - val_accuracy: 0.7483\n",
            "Epoch 28/50\n",
            "4500/4500 - 15s - loss: 0.4349 - accuracy: 0.7928 - val_loss: 0.5238 - val_accuracy: 0.7497\n",
            "Epoch 29/50\n",
            "4500/4500 - 15s - loss: 0.4344 - accuracy: 0.7932 - val_loss: 0.5239 - val_accuracy: 0.7467\n",
            "Epoch 30/50\n",
            "4500/4500 - 15s - loss: 0.4353 - accuracy: 0.7928 - val_loss: 0.5218 - val_accuracy: 0.7471\n",
            "Epoch 31/50\n",
            "4500/4500 - 15s - loss: 0.4340 - accuracy: 0.7939 - val_loss: 0.5162 - val_accuracy: 0.7477\n",
            "Epoch 32/50\n",
            "4500/4500 - 15s - loss: 0.4340 - accuracy: 0.7934 - val_loss: 0.5222 - val_accuracy: 0.7473\n",
            "Epoch 33/50\n",
            "4500/4500 - 15s - loss: 0.4322 - accuracy: 0.7941 - val_loss: 0.5211 - val_accuracy: 0.7474\n",
            "Epoch 34/50\n",
            "4500/4500 - 15s - loss: 0.4306 - accuracy: 0.7940 - val_loss: 0.5246 - val_accuracy: 0.7446\n",
            "Epoch 35/50\n",
            "4500/4500 - 15s - loss: 0.4307 - accuracy: 0.7965 - val_loss: 0.5257 - val_accuracy: 0.7438\n",
            "Epoch 36/50\n",
            "4500/4500 - 15s - loss: 0.4309 - accuracy: 0.7955 - val_loss: 0.5222 - val_accuracy: 0.7475\n",
            "Epoch 37/50\n",
            "4500/4500 - 15s - loss: 0.4297 - accuracy: 0.7950 - val_loss: 0.5302 - val_accuracy: 0.7478\n",
            "Epoch 38/50\n",
            "4500/4500 - 15s - loss: 0.4292 - accuracy: 0.7960 - val_loss: 0.5208 - val_accuracy: 0.7439\n",
            "Epoch 39/50\n",
            "4500/4500 - 15s - loss: 0.4307 - accuracy: 0.7944 - val_loss: 0.5243 - val_accuracy: 0.7455\n",
            "Epoch 40/50\n",
            "4500/4500 - 15s - loss: 0.4301 - accuracy: 0.7957 - val_loss: 0.5290 - val_accuracy: 0.7439\n",
            "Epoch 41/50\n",
            "4500/4500 - 15s - loss: 0.4277 - accuracy: 0.7968 - val_loss: 0.5305 - val_accuracy: 0.7452\n",
            "Epoch 42/50\n",
            "4500/4500 - 15s - loss: 0.4288 - accuracy: 0.7968 - val_loss: 0.5200 - val_accuracy: 0.7451\n",
            "Epoch 43/50\n",
            "4500/4500 - 15s - loss: 0.4272 - accuracy: 0.7974 - val_loss: 0.5266 - val_accuracy: 0.7433\n",
            "Epoch 44/50\n",
            "4500/4500 - 15s - loss: 0.4269 - accuracy: 0.7969 - val_loss: 0.5259 - val_accuracy: 0.7449\n",
            "Epoch 45/50\n",
            "4500/4500 - 15s - loss: 0.4301 - accuracy: 0.7962 - val_loss: 0.5268 - val_accuracy: 0.7473\n",
            "Epoch 46/50\n",
            "4500/4500 - 15s - loss: 0.4274 - accuracy: 0.7982 - val_loss: 0.5231 - val_accuracy: 0.7456\n",
            "Epoch 47/50\n",
            "4500/4500 - 15s - loss: 0.4276 - accuracy: 0.7973 - val_loss: 0.5251 - val_accuracy: 0.7478\n",
            "Epoch 48/50\n",
            "4500/4500 - 15s - loss: 0.4261 - accuracy: 0.7983 - val_loss: 0.5262 - val_accuracy: 0.7470\n",
            "Epoch 49/50\n",
            "4500/4500 - 15s - loss: 0.4269 - accuracy: 0.7977 - val_loss: 0.5257 - val_accuracy: 0.7460\n",
            "Epoch 50/50\n",
            "4500/4500 - 15s - loss: 0.4254 - accuracy: 0.7982 - val_loss: 0.5321 - val_accuracy: 0.7433\n",
            "Training Complete\n"
          ],
          "name": "stdout"
        }
      ]
    },
    {
      "cell_type": "markdown",
      "metadata": {
        "id": "_rdZW80BabKz"
      },
      "source": [
        "Graficamos los resultados"
      ]
    },
    {
      "cell_type": "code",
      "metadata": {
        "id": "qxju4ItJKO8F",
        "outputId": "fc515c3e-7a59-42d6-a689-705faa5d3cbd",
        "colab": {
          "base_uri": "https://localhost:8080/",
          "height": 606
        }
      },
      "source": [
        "import matplotlib.image  as mpimg\n",
        "import matplotlib.pyplot as plt\n",
        "\n",
        "#-----------------------------------------------------------\n",
        "# Retrieve a list of list results on training and test data sets for each training epoch\n",
        "#-----------------------------------------------------------\n",
        "acc=history.history['accuracy']\n",
        "val_acc=history.history['val_accuracy']\n",
        "loss=history.history['loss']\n",
        "val_loss=history.history['val_loss']\n",
        "\n",
        "epochs=range(len(acc)) # Get number of epochs\n",
        "\n",
        "#------------------------------------------------\n",
        "# Plot training and validation accuracy per epoch\n",
        "#------------------------------------------------\n",
        "plt.plot(epochs, acc, 'r')\n",
        "plt.plot(epochs, val_acc, 'b')\n",
        "plt.title('Training and validation accuracy')\n",
        "plt.xlabel(\"Epochs\")\n",
        "plt.ylabel(\"Accuracy\")\n",
        "plt.legend([\"Accuracy\", \"Validation Accuracy\"])\n",
        "\n",
        "plt.figure()\n",
        "\n",
        "#------------------------------------------------\n",
        "# Plot training and validation loss per epoch\n",
        "#------------------------------------------------\n",
        "plt.plot(epochs, loss, 'r')\n",
        "plt.plot(epochs, val_loss, 'b')\n",
        "plt.title('Training and validation loss')\n",
        "plt.xlabel(\"Epochs\")\n",
        "plt.ylabel(\"Loss\")\n",
        "plt.legend([\"Loss\", \"Validation Loss\"])\n",
        "\n",
        "plt.figure()\n",
        "\n",
        "\n",
        "# Expected Output\n",
        "# A chart where the validation loss does not increase sharply!"
      ],
      "execution_count": null,
      "outputs": [
        {
          "output_type": "execute_result",
          "data": {
            "text/plain": [
              "<Figure size 432x288 with 0 Axes>"
            ]
          },
          "metadata": {
            "tags": []
          },
          "execution_count": 9
        },
        {
          "output_type": "display_data",
          "data": {
            "image/png": "[encoded data removed]",
            "text/plain": [
              "<Figure size 432x288 with 1 Axes>"
            ]
          },
          "metadata": {
            "tags": [],
            "needs_background": "light"
          }
        },
        {
          "output_type": "display_data",
          "data": {
            "image/png": "[encoded data removed]",
            "text/plain": [
              "<Figure size 432x288 with 1 Axes>"
            ]
          },
          "metadata": {
            "tags": [],
            "needs_background": "light"
          }
        },
        {
          "output_type": "display_data",
          "data": {
            "text/plain": [
              "<Figure size 432x288 with 0 Axes>"
            ]
          },
          "metadata": {
            "tags": []
          }
        }
      ]
    }
  ]
}