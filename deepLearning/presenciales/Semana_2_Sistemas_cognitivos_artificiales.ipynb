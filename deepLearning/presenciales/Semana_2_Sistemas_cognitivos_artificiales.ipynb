{
  "nbformat": 4,
  "nbformat_minor": 0,
  "metadata": {
    "colab": {
      "name": "Semana_2_Sistemas_cognitivos_artificiales.ipynb",
      "provenance": []
    },
    "kernelspec": {
      "name": "python3",
      "display_name": "Python 3"
    }
  },
  "cells": [
    {
      "cell_type": "markdown",
      "metadata": {
        "id": "1mZ0AkPGy-5H"
      },
      "source": [
        "En primer lugar vamos a importar tensorflow y vamos a comprobar su versión"
      ]
    },
    {
      "cell_type": "code",
      "metadata": {
        "id": "GslliYB_ozZm",
        "colab": {
          "base_uri": "https://localhost:8080/"
        },
        "outputId": "1eacf5c4-6bd5-472d-c80f-9bd69512aafd"
      },
      "source": [
        "import tensorflow as tf\n",
        "print(tf.__version__)"
      ],
      "execution_count": 1,
      "outputs": [
        {
          "output_type": "stream",
          "text": [
            "2.4.1\n"
          ],
          "name": "stdout"
        }
      ]
    },
    {
      "cell_type": "markdown",
      "metadata": {
        "id": "yGMaaCs-zEVE"
      },
      "source": [
        "Ahora, vamos a importar keras y a ver su versión"
      ]
    },
    {
      "cell_type": "code",
      "metadata": {
        "id": "9aO6vcTTrjS2",
        "colab": {
          "base_uri": "https://localhost:8080/"
        },
        "outputId": "d33396da-0c7e-4d6d-bdca-ac1021a45478"
      },
      "source": [
        "from tensorflow import keras\n",
        "print(keras.__version__)"
      ],
      "execution_count": 2,
      "outputs": [
        {
          "output_type": "stream",
          "text": [
            "2.4.0\n"
          ],
          "name": "stdout"
        }
      ]
    },
    {
      "cell_type": "markdown",
      "metadata": {
        "id": "SRUR0wg9zHxE"
      },
      "source": [
        "**Construcción de una clasificador de imagenes utilizando una API secuencial**"
      ]
    },
    {
      "cell_type": "markdown",
      "metadata": {
        "id": "UFN1hUHWzP4e"
      },
      "source": [
        "vamos a cargar ahora uno de los dataset de entrenamiento de keras, el reconocimiento de los digitos"
      ]
    },
    {
      "cell_type": "code",
      "metadata": {
        "id": "0miFgVAtruf3"
      },
      "source": [
        "fashion_mnist = keras.datasets.fashion_mnist\n",
        "(X_train_full, y_train_full), (X_test, y_test) = fashion_mnist.load_data()"
      ],
      "execution_count": 3,
      "outputs": []
    },
    {
      "cell_type": "markdown",
      "metadata": {
        "id": "VBZkKLzJzZ-3"
      },
      "source": [
        "Vamos a ver el tamaño del dataset, y el tamaño de la imagen"
      ]
    },
    {
      "cell_type": "code",
      "metadata": {
        "id": "-_4RNsYasB8Y",
        "colab": {
          "base_uri": "https://localhost:8080/"
        },
        "outputId": "6031d389-2a4a-4ed4-d7e2-75e2e3e17945"
      },
      "source": [
        "X_train_full.shape"
      ],
      "execution_count": 4,
      "outputs": [
        {
          "output_type": "execute_result",
          "data": {
            "text/plain": [
              "(60000, 28, 28)"
            ]
          },
          "metadata": {
            "tags": []
          },
          "execution_count": 4
        }
      ]
    },
    {
      "cell_type": "markdown",
      "metadata": {
        "id": "53w90QKLzfYw"
      },
      "source": [
        "Aqui comprobamos el tipo de dato "
      ]
    },
    {
      "cell_type": "code",
      "metadata": {
        "id": "CkuxMLUesG2y",
        "colab": {
          "base_uri": "https://localhost:8080/"
        },
        "outputId": "2b4db213-42be-4394-e5d3-b83c7398e825"
      },
      "source": [
        "X_train_full.dtype"
      ],
      "execution_count": 5,
      "outputs": [
        {
          "output_type": "execute_result",
          "data": {
            "text/plain": [
              "dtype('uint8')"
            ]
          },
          "metadata": {
            "tags": []
          },
          "execution_count": 5
        }
      ]
    },
    {
      "cell_type": "markdown",
      "metadata": {
        "id": "d0jeX5SpzjXD"
      },
      "source": [
        "Un poco de pretratamiento de los datos, en este caso como vamos a usar el gradient descent, necesitamos reescalar los datos a 0-1"
      ]
    },
    {
      "cell_type": "code",
      "metadata": {
        "id": "xpEDt1-vtHPt"
      },
      "source": [
        "X_valid, X_train = X_train_full[:5000]/255.0, X_train_full[5000:]/255.0\n",
        "y_valid, y_train = y_train_full[:5000], y_train_full[5000:]"
      ],
      "execution_count": 6,
      "outputs": []
    },
    {
      "cell_type": "markdown",
      "metadata": {
        "id": "1G3bxTKSztOV"
      },
      "source": [
        "Le damos un nombre a cada una de las clases"
      ]
    },
    {
      "cell_type": "code",
      "metadata": {
        "id": "n9f4tHyYteBV",
        "colab": {
          "base_uri": "https://localhost:8080/",
          "height": 35
        },
        "outputId": "ecb7d6ea-7981-491c-8d5a-0127f6f2acba"
      },
      "source": [
        "class_names = [\"T-shirt/top\", \"Trouser\", \"Pullover\", \"Dress\", \"Coat\", \"Sandal\", \"Shirt\", \"Sneaker\", \"Bag\", \"Ankle boot\"]\n",
        "class_names[y_train[0]]"
      ],
      "execution_count": 7,
      "outputs": [
        {
          "output_type": "execute_result",
          "data": {
            "application/vnd.google.colaboratory.intrinsic+json": {
              "type": "string"
            },
            "text/plain": [
              "'Coat'"
            ]
          },
          "metadata": {
            "tags": []
          },
          "execution_count": 7
        }
      ]
    },
    {
      "cell_type": "markdown",
      "metadata": {
        "id": "Jziy9c1ct298"
      },
      "source": [
        "**Creación del modelo usando una API secuencial**"
      ]
    },
    {
      "cell_type": "code",
      "metadata": {
        "id": "L_0JeVVtt7TS"
      },
      "source": [
        "model= keras.models.Sequential()\n",
        "model.add(keras.layers.Flatten(input_shape=[28,28]))\n",
        "model.add(keras.layers.Dense(300, activation=\"relu\"))\n",
        "model.add(keras.layers.Dense(300, activation=\"relu\"))\n",
        "model.add(keras.layers.Dense(10, activation=\"softmax\"))"
      ],
      "execution_count": 8,
      "outputs": []
    },
    {
      "cell_type": "markdown",
      "metadata": {
        "id": "u99nsTc2ulek"
      },
      "source": [
        "otra forma de hacer esta misma operación de añadir capas:\n"
      ]
    },
    {
      "cell_type": "code",
      "metadata": {
        "id": "HTD2UE8Du04I"
      },
      "source": [
        "# model= keras.models.Sequential([]\n",
        "#    keras.layers.Flatten(input_shape=[28,28])\n",
        "#    keras.layers.Dense(300, activation=\"relu\")\n",
        "#    keras.layers.Dense(300, activation=\"relu\")\n",
        "#    keras.layers.Dense(10, activation=\"softmax\")\n",
        "#])"
      ],
      "execution_count": 9,
      "outputs": []
    },
    {
      "cell_type": "code",
      "metadata": {
        "id": "mwtKqraEu9OD",
        "colab": {
          "base_uri": "https://localhost:8080/"
        },
        "outputId": "81fcb29f-4480-4920-bb1c-699e04e02c70"
      },
      "source": [
        "model.summary()"
      ],
      "execution_count": 10,
      "outputs": [
        {
          "output_type": "stream",
          "text": [
            "Model: \"sequential\"\n",
            "_________________________________________________________________\n",
            "Layer (type)                 Output Shape              Param #   \n",
            "=================================================================\n",
            "flatten (Flatten)            (None, 784)               0         \n",
            "_________________________________________________________________\n",
            "dense (Dense)                (None, 300)               235500    \n",
            "_________________________________________________________________\n",
            "dense_1 (Dense)              (None, 300)               90300     \n",
            "_________________________________________________________________\n",
            "dense_2 (Dense)              (None, 10)                3010      \n",
            "=================================================================\n",
            "Total params: 328,810\n",
            "Trainable params: 328,810\n",
            "Non-trainable params: 0\n",
            "_________________________________________________________________\n"
          ],
          "name": "stdout"
        }
      ]
    },
    {
      "cell_type": "markdown",
      "metadata": {
        "id": "JRvQRkBevFxJ"
      },
      "source": [
        "Vamos ahora a ver las capas"
      ]
    },
    {
      "cell_type": "code",
      "metadata": {
        "id": "OBaU3d6ovHTo",
        "colab": {
          "base_uri": "https://localhost:8080/"
        },
        "outputId": "e0110286-7780-40ef-fce2-5e896379ffbd"
      },
      "source": [
        "model.layers"
      ],
      "execution_count": 11,
      "outputs": [
        {
          "output_type": "execute_result",
          "data": {
            "text/plain": [
              "[<tensorflow.python.keras.layers.core.Flatten at 0x7fb4e67cdd10>,\n",
              " <tensorflow.python.keras.layers.core.Dense at 0x7fb4e67c9d10>,\n",
              " <tensorflow.python.keras.layers.core.Dense at 0x7fb4a7432950>,\n",
              " <tensorflow.python.keras.layers.core.Dense at 0x7fb4a73f0050>]"
            ]
          },
          "metadata": {
            "tags": []
          },
          "execution_count": 11
        }
      ]
    },
    {
      "cell_type": "markdown",
      "metadata": {
        "id": "WhrL7chivNMR"
      },
      "source": [
        "algunas operaciones y comando interesantes"
      ]
    },
    {
      "cell_type": "code",
      "metadata": {
        "id": "acDaiQxVvPc9",
        "colab": {
          "base_uri": "https://localhost:8080/",
          "height": 35
        },
        "outputId": "58cee9e1-f6d9-4c39-9185-b1ac381dc398"
      },
      "source": [
        "hidden1=model.layers[1]\n",
        "hidden1.name"
      ],
      "execution_count": 12,
      "outputs": [
        {
          "output_type": "execute_result",
          "data": {
            "application/vnd.google.colaboratory.intrinsic+json": {
              "type": "string"
            },
            "text/plain": [
              "'dense'"
            ]
          },
          "metadata": {
            "tags": []
          },
          "execution_count": 12
        }
      ]
    },
    {
      "cell_type": "code",
      "metadata": {
        "id": "TgrR3a0DvaAy",
        "colab": {
          "base_uri": "https://localhost:8080/"
        },
        "outputId": "e04ba5e6-6d63-4fc3-af2f-3c220bb536cb"
      },
      "source": [
        "model.get_layer('dense_2') is hidden1"
      ],
      "execution_count": 13,
      "outputs": [
        {
          "output_type": "execute_result",
          "data": {
            "text/plain": [
              "False"
            ]
          },
          "metadata": {
            "tags": []
          },
          "execution_count": 13
        }
      ]
    },
    {
      "cell_type": "markdown",
      "metadata": {
        "id": "8q0gezVyvl1y"
      },
      "source": [
        "Todos los parametros de una capa estan accesibles utilizando \"get_weights()\" y \"set_weights()\""
      ]
    },
    {
      "cell_type": "code",
      "metadata": {
        "id": "7BM6R0DSvtl_",
        "colab": {
          "base_uri": "https://localhost:8080/"
        },
        "outputId": "b1dbd2c9-52a0-4413-dc24-c3dbce60bc9e"
      },
      "source": [
        "weights, biases = hidden1.get_weights()\n",
        "weights"
      ],
      "execution_count": 14,
      "outputs": [
        {
          "output_type": "execute_result",
          "data": {
            "text/plain": [
              "array([[ 0.0689991 ,  0.05501328,  0.00012292, ..., -0.04058291,\n",
              "         0.0711264 ,  0.03787729],\n",
              "       [ 0.00432165, -0.028391  , -0.00049402, ...,  0.06930728,\n",
              "         0.00352959,  0.02645512],\n",
              "       [ 0.07163736, -0.04609925,  0.02805723, ..., -0.00995123,\n",
              "         0.07303764, -0.02733178],\n",
              "       ...,\n",
              "       [ 0.04266412,  0.01117394,  0.05706964, ..., -0.05974182,\n",
              "        -0.0722113 , -0.04868867],\n",
              "       [-0.06981216, -0.07041334, -0.07375884, ..., -0.04082254,\n",
              "         0.07117391,  0.00120211],\n",
              "       [-0.00359699, -0.05792072,  0.05182554, ..., -0.02189864,\n",
              "         0.00626783, -0.07181527]], dtype=float32)"
            ]
          },
          "metadata": {
            "tags": []
          },
          "execution_count": 14
        }
      ]
    },
    {
      "cell_type": "code",
      "metadata": {
        "id": "z1Cl_v-Wv1uU",
        "colab": {
          "base_uri": "https://localhost:8080/"
        },
        "outputId": "4cd0af0f-0b26-417c-cbca-0490f96e73dc"
      },
      "source": [
        "weights.shape"
      ],
      "execution_count": 15,
      "outputs": [
        {
          "output_type": "execute_result",
          "data": {
            "text/plain": [
              "(784, 300)"
            ]
          },
          "metadata": {
            "tags": []
          },
          "execution_count": 15
        }
      ]
    },
    {
      "cell_type": "code",
      "metadata": {
        "id": "FLAfB6ELv4i2",
        "colab": {
          "base_uri": "https://localhost:8080/"
        },
        "outputId": "966a795d-3563-46f3-c03a-ef7aa70ed278"
      },
      "source": [
        "biases"
      ],
      "execution_count": 16,
      "outputs": [
        {
          "output_type": "execute_result",
          "data": {
            "text/plain": [
              "array([0., 0., 0., 0., 0., 0., 0., 0., 0., 0., 0., 0., 0., 0., 0., 0., 0.,\n",
              "       0., 0., 0., 0., 0., 0., 0., 0., 0., 0., 0., 0., 0., 0., 0., 0., 0.,\n",
              "       0., 0., 0., 0., 0., 0., 0., 0., 0., 0., 0., 0., 0., 0., 0., 0., 0.,\n",
              "       0., 0., 0., 0., 0., 0., 0., 0., 0., 0., 0., 0., 0., 0., 0., 0., 0.,\n",
              "       0., 0., 0., 0., 0., 0., 0., 0., 0., 0., 0., 0., 0., 0., 0., 0., 0.,\n",
              "       0., 0., 0., 0., 0., 0., 0., 0., 0., 0., 0., 0., 0., 0., 0., 0., 0.,\n",
              "       0., 0., 0., 0., 0., 0., 0., 0., 0., 0., 0., 0., 0., 0., 0., 0., 0.,\n",
              "       0., 0., 0., 0., 0., 0., 0., 0., 0., 0., 0., 0., 0., 0., 0., 0., 0.,\n",
              "       0., 0., 0., 0., 0., 0., 0., 0., 0., 0., 0., 0., 0., 0., 0., 0., 0.,\n",
              "       0., 0., 0., 0., 0., 0., 0., 0., 0., 0., 0., 0., 0., 0., 0., 0., 0.,\n",
              "       0., 0., 0., 0., 0., 0., 0., 0., 0., 0., 0., 0., 0., 0., 0., 0., 0.,\n",
              "       0., 0., 0., 0., 0., 0., 0., 0., 0., 0., 0., 0., 0., 0., 0., 0., 0.,\n",
              "       0., 0., 0., 0., 0., 0., 0., 0., 0., 0., 0., 0., 0., 0., 0., 0., 0.,\n",
              "       0., 0., 0., 0., 0., 0., 0., 0., 0., 0., 0., 0., 0., 0., 0., 0., 0.,\n",
              "       0., 0., 0., 0., 0., 0., 0., 0., 0., 0., 0., 0., 0., 0., 0., 0., 0.,\n",
              "       0., 0., 0., 0., 0., 0., 0., 0., 0., 0., 0., 0., 0., 0., 0., 0., 0.,\n",
              "       0., 0., 0., 0., 0., 0., 0., 0., 0., 0., 0., 0., 0., 0., 0., 0., 0.,\n",
              "       0., 0., 0., 0., 0., 0., 0., 0., 0., 0., 0.], dtype=float32)"
            ]
          },
          "metadata": {
            "tags": []
          },
          "execution_count": 16
        }
      ]
    },
    {
      "cell_type": "code",
      "metadata": {
        "id": "dv4-Cd3Cv6vk",
        "colab": {
          "base_uri": "https://localhost:8080/"
        },
        "outputId": "dd614745-1a2a-40e5-aa63-3f70f3ee9b9c"
      },
      "source": [
        "biases.shape"
      ],
      "execution_count": 17,
      "outputs": [
        {
          "output_type": "execute_result",
          "data": {
            "text/plain": [
              "(300,)"
            ]
          },
          "metadata": {
            "tags": []
          },
          "execution_count": 17
        }
      ]
    },
    {
      "cell_type": "markdown",
      "metadata": {
        "id": "hKDZJtkGwA_Z"
      },
      "source": [
        "**Compilando el modelo**"
      ]
    },
    {
      "cell_type": "code",
      "metadata": {
        "id": "hcDPLpPawDvW"
      },
      "source": [
        "model.compile(loss=\"sparse_categorical_crossentropy\",\n",
        "              optimizer= \"sgd\",\n",
        "              metrics =[\"accuracy\"])"
      ],
      "execution_count": 18,
      "outputs": []
    },
    {
      "cell_type": "markdown",
      "metadata": {
        "id": "9j7apDMWwc2E"
      },
      "source": [
        "**Entrenando y evaluando el modelo**"
      ]
    },
    {
      "cell_type": "code",
      "metadata": {
        "id": "4H1ZKeJAwh42",
        "colab": {
          "base_uri": "https://localhost:8080/"
        },
        "outputId": "55f9e8f3-3385-455f-a401-888345eff86a"
      },
      "source": [
        "history = model.fit(X_train,y_train, epochs=30, validation_data=(X_valid, y_valid))"
      ],
      "execution_count": 19,
      "outputs": [
        {
          "output_type": "stream",
          "text": [
            "Epoch 1/30\n",
            "1719/1719 [==============================] - 8s 4ms/step - loss: 1.0155 - accuracy: 0.6828 - val_loss: 0.5399 - val_accuracy: 0.8158\n",
            "Epoch 2/30\n",
            "1719/1719 [==============================] - 6s 4ms/step - loss: 0.5036 - accuracy: 0.8267 - val_loss: 0.4507 - val_accuracy: 0.8474\n",
            "Epoch 3/30\n",
            "1719/1719 [==============================] - 6s 4ms/step - loss: 0.4571 - accuracy: 0.8397 - val_loss: 0.4332 - val_accuracy: 0.8536\n",
            "Epoch 4/30\n",
            "1719/1719 [==============================] - 6s 4ms/step - loss: 0.4168 - accuracy: 0.8537 - val_loss: 0.4342 - val_accuracy: 0.8476\n",
            "Epoch 5/30\n",
            "1719/1719 [==============================] - 6s 4ms/step - loss: 0.4024 - accuracy: 0.8570 - val_loss: 0.3872 - val_accuracy: 0.8644\n",
            "Epoch 6/30\n",
            "1719/1719 [==============================] - 6s 4ms/step - loss: 0.3818 - accuracy: 0.8659 - val_loss: 0.3819 - val_accuracy: 0.8680\n",
            "Epoch 7/30\n",
            "1719/1719 [==============================] - 6s 4ms/step - loss: 0.3724 - accuracy: 0.8688 - val_loss: 0.3850 - val_accuracy: 0.8658\n",
            "Epoch 8/30\n",
            "1719/1719 [==============================] - 6s 4ms/step - loss: 0.3619 - accuracy: 0.8718 - val_loss: 0.3603 - val_accuracy: 0.8734\n",
            "Epoch 9/30\n",
            "1719/1719 [==============================] - 6s 4ms/step - loss: 0.3442 - accuracy: 0.8785 - val_loss: 0.3535 - val_accuracy: 0.8750\n",
            "Epoch 10/30\n",
            "1719/1719 [==============================] - 6s 4ms/step - loss: 0.3403 - accuracy: 0.8801 - val_loss: 0.3412 - val_accuracy: 0.8784\n",
            "Epoch 11/30\n",
            "1719/1719 [==============================] - 6s 4ms/step - loss: 0.3282 - accuracy: 0.8816 - val_loss: 0.3476 - val_accuracy: 0.8748\n",
            "Epoch 12/30\n",
            "1719/1719 [==============================] - 6s 4ms/step - loss: 0.3231 - accuracy: 0.8837 - val_loss: 0.3485 - val_accuracy: 0.8752\n",
            "Epoch 13/30\n",
            "1719/1719 [==============================] - 6s 4ms/step - loss: 0.3162 - accuracy: 0.8867 - val_loss: 0.3457 - val_accuracy: 0.8758\n",
            "Epoch 14/30\n",
            "1719/1719 [==============================] - 6s 4ms/step - loss: 0.3085 - accuracy: 0.8886 - val_loss: 0.3344 - val_accuracy: 0.8832\n",
            "Epoch 15/30\n",
            "1719/1719 [==============================] - 6s 4ms/step - loss: 0.2960 - accuracy: 0.8935 - val_loss: 0.3313 - val_accuracy: 0.8828\n",
            "Epoch 16/30\n",
            "1719/1719 [==============================] - 7s 4ms/step - loss: 0.3064 - accuracy: 0.8888 - val_loss: 0.3268 - val_accuracy: 0.8842\n",
            "Epoch 17/30\n",
            "1719/1719 [==============================] - 6s 4ms/step - loss: 0.2891 - accuracy: 0.8965 - val_loss: 0.3322 - val_accuracy: 0.8830\n",
            "Epoch 18/30\n",
            "1719/1719 [==============================] - 6s 4ms/step - loss: 0.2903 - accuracy: 0.8951 - val_loss: 0.3177 - val_accuracy: 0.8836\n",
            "Epoch 19/30\n",
            "1719/1719 [==============================] - 6s 4ms/step - loss: 0.2775 - accuracy: 0.9006 - val_loss: 0.3097 - val_accuracy: 0.8896\n",
            "Epoch 20/30\n",
            "1719/1719 [==============================] - 6s 4ms/step - loss: 0.2717 - accuracy: 0.9031 - val_loss: 0.3197 - val_accuracy: 0.8838\n",
            "Epoch 21/30\n",
            "1719/1719 [==============================] - 6s 4ms/step - loss: 0.2650 - accuracy: 0.9042 - val_loss: 0.3080 - val_accuracy: 0.8874\n",
            "Epoch 22/30\n",
            "1719/1719 [==============================] - 6s 4ms/step - loss: 0.2587 - accuracy: 0.9071 - val_loss: 0.3241 - val_accuracy: 0.8848\n",
            "Epoch 23/30\n",
            "1719/1719 [==============================] - 6s 4ms/step - loss: 0.2581 - accuracy: 0.9067 - val_loss: 0.3114 - val_accuracy: 0.8886\n",
            "Epoch 24/30\n",
            "1719/1719 [==============================] - 6s 4ms/step - loss: 0.2503 - accuracy: 0.9102 - val_loss: 0.3032 - val_accuracy: 0.8924\n",
            "Epoch 25/30\n",
            "1719/1719 [==============================] - 6s 4ms/step - loss: 0.2493 - accuracy: 0.9071 - val_loss: 0.3088 - val_accuracy: 0.8854\n",
            "Epoch 26/30\n",
            "1719/1719 [==============================] - 6s 4ms/step - loss: 0.2467 - accuracy: 0.9128 - val_loss: 0.2991 - val_accuracy: 0.8930\n",
            "Epoch 27/30\n",
            "1719/1719 [==============================] - 6s 4ms/step - loss: 0.2398 - accuracy: 0.9128 - val_loss: 0.3328 - val_accuracy: 0.8852\n",
            "Epoch 28/30\n",
            "1719/1719 [==============================] - 6s 4ms/step - loss: 0.2347 - accuracy: 0.9133 - val_loss: 0.2932 - val_accuracy: 0.8938\n",
            "Epoch 29/30\n",
            "1719/1719 [==============================] - 6s 4ms/step - loss: 0.2331 - accuracy: 0.9175 - val_loss: 0.2971 - val_accuracy: 0.8914\n",
            "Epoch 30/30\n",
            "1719/1719 [==============================] - 6s 4ms/step - loss: 0.2269 - accuracy: 0.9166 - val_loss: 0.3081 - val_accuracy: 0.8932\n"
          ],
          "name": "stdout"
        }
      ]
    },
    {
      "cell_type": "markdown",
      "metadata": {
        "id": "8MhopdI2xmLd"
      },
      "source": [
        "Ahora vamos a comprobar las variables loss, accuracy, validation_loss y validation_accuracy"
      ]
    },
    {
      "cell_type": "code",
      "metadata": {
        "id": "yTh-SWQextTq",
        "colab": {
          "base_uri": "https://localhost:8080/",
          "height": 324
        },
        "outputId": "e9eeae14-d4b3-452c-b4a4-e75f9e4e3d7b"
      },
      "source": [
        "import pandas as pd\n",
        "import matplotlib.pyplot as plt\n",
        "\n",
        "pd.DataFrame(history.history).plot(figsize=(8,5))\n",
        "plt.grid(True)\n",
        "plt.gca().set_ylim(0,1)\n",
        "plt.show()"
      ],
      "execution_count": 20,
      "outputs": [
        {
          "output_type": "display_data",
          "data": {
            "image/png": "[encoded data removed]",
            "text/plain": [
              "<Figure size 576x360 with 1 Axes>"
            ]
          },
          "metadata": {
            "tags": [],
            "needs_background": "light"
          }
        }
      ]
    },
    {
      "cell_type": "markdown",
      "metadata": {
        "id": "-uhbE6HiyRBL"
      },
      "source": [
        "Fijaros que las curvas training accuracy y validation accuracy  se van incrementando durante el entrenamiento, mientras que las loss se hacen mas pequeñas"
      ]
    },
    {
      "cell_type": "code",
      "metadata": {
        "id": "3uOZOelayj5W",
        "colab": {
          "base_uri": "https://localhost:8080/"
        },
        "outputId": "e15b62af-10c4-48a4-a515-b150eb136eaf"
      },
      "source": [
        "model.evaluate(X_test,y_test)"
      ],
      "execution_count": 21,
      "outputs": [
        {
          "output_type": "stream",
          "text": [
            "313/313 [==============================] - 1s 2ms/step - loss: 71.7711 - accuracy: 0.8399\n"
          ],
          "name": "stdout"
        },
        {
          "output_type": "execute_result",
          "data": {
            "text/plain": [
              "[71.77110290527344, 0.839900016784668]"
            ]
          },
          "metadata": {
            "tags": []
          },
          "execution_count": 21
        }
      ]
    }
  ]
}