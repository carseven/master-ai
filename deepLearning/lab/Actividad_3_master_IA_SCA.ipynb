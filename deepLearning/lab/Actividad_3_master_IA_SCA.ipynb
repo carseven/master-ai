{
  "nbformat": 4,
  "nbformat_minor": 0,
  "metadata": {
    "colab": {
      "name": "Actividad_3_master_IA_SCA.ipynb",
      "provenance": [],
      "collapsed_sections": []
    },
    "kernelspec": {
      "display_name": "Python 3 (system-wide)",
      "language": "python",
      "metadata": {
        "cocalc": {
          "description": "Python 3 programming language",
          "priority": 100,
          "url": "https://www.python.org/"
        }
      },
      "name": "python3"
    },
    "language_info": {
      "codemirror_mode": {
        "name": "ipython",
        "version": 3
      },
      "file_extension": ".py",
      "mimetype": "text/x-python",
      "name": "python",
      "nbconvert_exporter": "python",
      "pygments_lexer": "ipython3",
      "version": "3.8.5"
    },
    "accelerator": "GPU"
  },
  "cells": [
    {
      "cell_type": "markdown",
      "metadata": {
        "collapsed": false,
        "id": "2yKYAEOUB70s"
      },
      "source": [
        "# Actividad 3: RNN y sus aplicaciones en las series temporales\n",
        "\n",
        "En esta actividad se va a aplicar el conocimiento adquirido sobre las RNN para entrenar modelos que sean capaces de predecir el comportamiento de las series temporales. Para ello, se usará un dataset de temperaturas para mediante la aplicación de RNN, predecir los valores futuros que tendrá la serie temporal que se tiene. Este trabajo se suele hacer mediante modelos ARIMA, pero en esta práctica se verá cómo el modelado mediante RNN es una opción muy buena en estos casos de series temporales."
      ]
    },
    {
      "cell_type": "markdown",
      "metadata": {
        "collapsed": false,
        "id": "IW24cRGrCrXZ"
      },
      "source": [
        "**1. Descargar el dataset y almacenarlo**\n",
        "\n",
        "En primer lugar hay que importar tensorflow."
      ]
    },
    {
      "cell_type": "code",
      "metadata": {
        "colab": {
          "base_uri": "https://localhost:8080/"
        },
        "id": "loO19CfCYC2V",
        "outputId": "48b70876-56f3-42b9-a2b3-ff739dcd53f9"
      },
      "source": [
        "import tensorflow as tf\n",
        "print(tf.__version__)"
      ],
      "execution_count": 1,
      "outputs": [
        {
          "output_type": "stream",
          "text": [
            "2.5.0\n"
          ],
          "name": "stdout"
        }
      ]
    },
    {
      "cell_type": "markdown",
      "metadata": {
        "collapsed": false,
        "id": "0ZTs4Cd0C49G"
      },
      "source": [
        "El siguiente paso es importar las bibliotecas numpy y matplotlib. Además, se define el método **plot_series** que se utilizará para hacer las gráficas de las series temporales."
      ]
    },
    {
      "cell_type": "code",
      "metadata": {
        "id": "gLNhTOGEYDbQ"
      },
      "source": [
        "import numpy as np\n",
        "import matplotlib.pyplot as plt\n",
        "def plot_series(time, series, format=\"-\", start=0, end=None):\n",
        "    plt.plot(time[start:end], series[start:end], format)\n",
        "    plt.xlabel(\"Time\")\n",
        "    plt.ylabel(\"Value\")\n",
        "    plt.grid(True)"
      ],
      "execution_count": 2,
      "outputs": []
    },
    {
      "cell_type": "markdown",
      "metadata": {
        "collapsed": false,
        "id": "8jbJP279DJha"
      },
      "source": [
        "A continuación se descarga el dataset de las temperaturas mínimas diarias."
      ]
    },
    {
      "cell_type": "code",
      "metadata": {
        "id": "AsXBJEeqYFbn",
        "colab": {
          "base_uri": "https://localhost:8080/"
        },
        "outputId": "6b36362b-6c53-470c-a500-6efbc41fd54b"
      },
      "source": [
        "!wget --no-check-certificate \\\n",
        "    https://raw.githubusercontent.com/jbrownlee/Datasets/master/daily-min-temperatures.csv \\\n",
        "    -O /tmp/daily-min-temperatures.csv"
      ],
      "execution_count": 3,
      "outputs": [
        {
          "output_type": "stream",
          "text": [
            "--2021-06-06 13:31:05--  https://raw.githubusercontent.com/jbrownlee/Datasets/master/daily-min-temperatures.csv\n",
            "Resolving raw.githubusercontent.com (raw.githubusercontent.com)... 185.199.110.133, 185.199.109.133, 185.199.108.133, ...\n",
            "Connecting to raw.githubusercontent.com (raw.githubusercontent.com)|185.199.110.133|:443... connected.\n",
            "HTTP request sent, awaiting response... 200 OK\n",
            "Length: 67921 (66K) [text/plain]\n",
            "Saving to: ‘/tmp/daily-min-temperatures.csv’\n",
            "\n",
            "\r          /tmp/dail   0%[                    ]       0  --.-KB/s               \r/tmp/daily-min-temp 100%[===================>]  66.33K  --.-KB/s    in 0.001s  \n",
            "\n",
            "2021-06-06 13:31:05 (48.2 MB/s) - ‘/tmp/daily-min-temperatures.csv’ saved [67921/67921]\n",
            "\n"
          ],
          "name": "stdout"
        }
      ]
    },
    {
      "cell_type": "markdown",
      "metadata": {
        "collapsed": false,
        "id": "jufo30y2DOIS"
      },
      "source": [
        "En este paso, se utilizará la biblioteca csv de Python para guardar y poder leer el dataset de temperaturas mínimas diarias que ha sido descargado en el paso anterior. Además, se construye la variable **series** que será donde se guarde la serie temporal. Por último, siempre que se trate con una serie temporal, es una buena práctica hacer un gráfico para poder verla y tener una idea de cómo es."
      ]
    },
    {
      "cell_type": "code",
      "metadata": {
        "id": "no85DGrbYHUM",
        "colab": {
          "base_uri": "https://localhost:8080/",
          "height": 388
        },
        "outputId": "f3aca970-b605-4fc6-8561-5446df438201"
      },
      "source": [
        "\n",
        "import csv\n",
        "time_step = []\n",
        "temps = []\n",
        "\n",
        "with open('/tmp/daily-min-temperatures.csv') as csvfile:\n",
        "  reader = csv.reader(csvfile, delimiter=',')\n",
        "  next(reader)\n",
        "  step=0\n",
        "  for row in reader:\n",
        "    temps.append(float(row[1]))\n",
        "    time_step.append(step)\n",
        "    step = step + 1\n",
        "\n",
        "series = np.array(temps)\n",
        "time = np.array(time_step)\n",
        "plt.figure(figsize=(10, 6))\n",
        "plot_series(time, series)"
      ],
      "execution_count": 4,
      "outputs": [
        {
          "output_type": "display_data",
          "data": {
            "image/png": "[encoded data removed]",
            "text/plain": [
              "<Figure size 720x432 with 1 Axes>"
            ]
          },
          "metadata": {
            "tags": [],
            "needs_background": "light"
          }
        }
      ]
    },
    {
      "cell_type": "markdown",
      "metadata": {
        "collapsed": false,
        "id": "kyejfTbWL5Km"
      },
      "source": [
        "# 2. Creación de las variables necesarias para el diseño de la red neuronal"
      ]
    },
    {
      "cell_type": "markdown",
      "metadata": {
        "collapsed": false,
        "id": "CtvcOIk1Dxod"
      },
      "source": [
        "Una técnica muy común cuando se trata con series temporales es utilizar una ventana temporal que se vaya desplazando sobre la serie temporal para reducir su análisis a lo que ocurre en ese ventana de forma local, para a continuación realizar el modelado global.\n",
        "\n",
        "**Ejercicio 1 (0.4 puntos)**: Crear las variables de entrenamiento y validación y hacer la partición de las mismas. Las variables que hay que crear son:\n",
        "\n",
        "*   time_train\n",
        "*   x_train\n",
        "*   time_valid\n",
        "*   x_valid\n",
        "\n",
        "\n",
        "\n"
      ]
    },
    {
      "cell_type": "code",
      "metadata": {
        "colab": {
          "base_uri": "https://localhost:8080/"
        },
        "id": "37m2NBi82qdW",
        "outputId": "88a86e5c-2c48-42f2-8ab4-a3703a297b7e"
      },
      "source": [
        "time.shape"
      ],
      "execution_count": 5,
      "outputs": [
        {
          "output_type": "execute_result",
          "data": {
            "text/plain": [
              "(3650,)"
            ]
          },
          "metadata": {
            "tags": []
          },
          "execution_count": 5
        }
      ]
    },
    {
      "cell_type": "code",
      "metadata": {
        "id": "IjiQ6hCWYI47"
      },
      "source": [
        "## variables para la técnica de la ventana temporal\n",
        "split_time = 2500\n",
        "window_size = 30\n",
        "batch_size = 32\n",
        "shuffle_buffer_size = 1000\n",
        "\n",
        "## Split del dataset en entrenamiento y validación\n",
        "time_train = time[:split_time]\n",
        "x_train = series[:split_time]\n",
        "time_valid = time[split_time:]\n",
        "x_valid = series[split_time:]\n",
        "## tu código para la creación de las 4 variables del ejercicio 1 aquí"
      ],
      "execution_count": 6,
      "outputs": []
    },
    {
      "cell_type": "code",
      "metadata": {
        "colab": {
          "base_uri": "https://localhost:8080/"
        },
        "id": "ZW5pJv6i3AdO",
        "outputId": "12d9f0d2-5284-4cd5-fdc3-ce5f5f0d55f1"
      },
      "source": [
        "time_train.shape"
      ],
      "execution_count": 7,
      "outputs": [
        {
          "output_type": "execute_result",
          "data": {
            "text/plain": [
              "(2500,)"
            ]
          },
          "metadata": {
            "tags": []
          },
          "execution_count": 7
        }
      ]
    },
    {
      "cell_type": "code",
      "metadata": {
        "colab": {
          "base_uri": "https://localhost:8080/"
        },
        "id": "kTNPYiQq3EJ-",
        "outputId": "cf142224-79e6-44fe-d6e9-03f9c7b5b812"
      },
      "source": [
        "time_valid.shape"
      ],
      "execution_count": 8,
      "outputs": [
        {
          "output_type": "execute_result",
          "data": {
            "text/plain": [
              "(1150,)"
            ]
          },
          "metadata": {
            "tags": []
          },
          "execution_count": 8
        }
      ]
    },
    {
      "cell_type": "markdown",
      "metadata": {
        "collapsed": false,
        "id": "qk5l4wEPFmDM"
      },
      "source": [
        "2. Creación del método **windowed_datset** para poder utilizarlo en el modelo. Las entradas por parámetros del método son:\n",
        "\n",
        "*   series\n",
        "*   window_size\n",
        "*   batch_size\n",
        "*   shuffle_buffer\n",
        "\n",
        "El resto de elementos que se usan para construir la función ventana temporal para explorar el dataset, son métodos de Python para tratar con series temporales.\n",
        "\n",
        "\n"
      ]
    },
    {
      "cell_type": "markdown",
      "metadata": {
        "collapsed": false,
        "id": "AxzoP0UXL_jP"
      },
      "source": [
        "# 3. Diseño de la función para predecir los siguientes valores de la serie temporal usando la técnica de la ventana temporal"
      ]
    },
    {
      "cell_type": "code",
      "metadata": {
        "id": "40vSdZ7pYK6S"
      },
      "source": [
        "def windowed_dataset(series, window_size, batch_size, shuffle_buffer):\n",
        "    series = tf.expand_dims(series, axis=-1)\n",
        "    ds = tf.data.Dataset.from_tensor_slices(series)\n",
        "    ds = ds.window(window_size + 1, shift=1, drop_remainder=True)\n",
        "    ds = ds.flat_map(lambda w: w.batch(window_size + 1))\n",
        "    ds = ds.shuffle(shuffle_buffer)\n",
        "    ds = ds.map(lambda w: (w[:-1], w[1:]))\n",
        "    return ds.batch(batch_size).prefetch(1)"
      ],
      "execution_count": 9,
      "outputs": []
    },
    {
      "cell_type": "markdown",
      "metadata": {
        "collapsed": false,
        "id": "TpTqdDfYGf_W"
      },
      "source": [
        "A continuación, y usando como modelo el método **windowed_dataset** se procederá a adaptar el método **model_forecast** que se usará para predecir los siguientes valores de la serie temporal utilizando la técnica de la ventana temporal.\n",
        "\n",
        "**Ejercicio 2 (1.6 puntos)**: completar el método model_forecast creando los elementos necesarios dentro del método:\n",
        "\n",
        "1.   Crear la variable **ds** y darle el valor resultante del método **from_tensor_slices** pasando por parametro **series** **(0.4 puntos)**\n",
        "2.   Actualizar la ventana (**window**) de la variable **ds** (nota: en este caso el tamaño es el mismo de la ventana, no es necesario que sea window_size+1) **(0.4 puntos)**\n",
        "3.   Crear el **flat_map** de la variable, teniendo en cuenta que el tamaño es **window_size** **(0.4 puntos)**\n",
        "4.   Añadir la siguiente linea de código: ds = ds.batch(32).prefetch(1)\n",
        "5.   Crear la variable **forecast** en la que se usará el método **predict** **(0.4 puntos)**\n",
        "6.   Por último, se devolverá la variable forecast.\n",
        "\n",
        "\n"
      ]
    },
    {
      "cell_type": "code",
      "metadata": {
        "id": "1eYlrylwYNqa"
      },
      "source": [
        "def model_forecast(model, series, window_size):\n",
        "## tu código para el método model_forecast del ejercicio 2 aquí\n",
        "\n",
        "    ds = tf.data.Dataset.from_tensor_slices(series)    \n",
        "    ds = ds.window(window_size, shift=1, drop_remainder=True)    \n",
        "    ds = ds.flat_map(lambda w: w.batch(window_size))    \n",
        "    ds = ds.batch(32).prefetch(1)    \n",
        "    forecast = model.predict(ds)    \n",
        "    return forecast\n",
        "\n",
        "    #plt.figure(figsize=(10, 6))\n",
        "\n",
        "    #plot_series(time_valid, x_valid)\n",
        "    #plot_series(time_valid, results)"
      ],
      "execution_count": 10,
      "outputs": []
    },
    {
      "cell_type": "markdown",
      "metadata": {
        "collapsed": false,
        "id": "SY2SZ_GsJBx4"
      },
      "source": [
        "A continuación, se limpia la sesión de keras, y se inicializan las variables necesarias para poder diseñar el modelo de series temporales a entrenar usando RNN."
      ]
    },
    {
      "cell_type": "code",
      "metadata": {
        "id": "DAUtfBB9JR2p"
      },
      "source": [
        "tf.keras.backend.clear_session()\n",
        "tf.random.set_seed(51)\n",
        "np.random.seed(51)\n",
        "window_size = 64\n",
        "batch_size = 256"
      ],
      "execution_count": 11,
      "outputs": []
    },
    {
      "cell_type": "markdown",
      "metadata": {
        "collapsed": false,
        "id": "4mOXrfFVMKRA"
      },
      "source": [
        "# 4. Diseño de la red neuronal"
      ]
    },
    {
      "cell_type": "markdown",
      "metadata": {
        "collapsed": false,
        "id": "T6YG9YclJk9n"
      },
      "source": [
        "**Ejercicio 3.1 (0.5 puntos)**: Hay que crear la variable **train_set** dandole el valor que se reciba del método **windowed_datset**, los parametros que debe recibir este método son: **x_train, window_size, batch_size, shuffle_buffer_size**"
      ]
    },
    {
      "cell_type": "code",
      "metadata": {
        "id": "iqgS7tu5JUc5"
      },
      "source": [
        "## tu código aquí para el ejercicio 3\n",
        "train_set = windowed_dataset(x_train, window_size, batch_size=batch_size, shuffle_buffer=shuffle_buffer_size)"
      ],
      "execution_count": 12,
      "outputs": []
    },
    {
      "cell_type": "markdown",
      "metadata": {
        "collapsed": false,
        "id": "SgrrsFHxKVWO"
      },
      "source": [
        "**Ejercicio 3.2 (4 puntos)**: Se debe construir la red neuronal de aprendizaje profunda basada para modelar la serie temporal de las temperaturas minimas diarias. Esta red neuronal debera contar con las siguientes capas ocultas:\n",
        "\n",
        "1.   Una capa de convolución en una dimensión que tenga 32 filtros, una tamaño del kernel de 5, un stride de 1, padding \"causal\", la función de activación debe ser relu y el input shape debe ser [None, 1] \n",
        "2.   Una capa LSTM con 64 neuronas y retorno de secuencias \n",
        "3.   Una capa LSTM con 64 neuronas y retorno de secuencias \n",
        "4.   Una capa densa con 30 neuronas\n",
        "5.   Una capa densa con 10 neuronas\n",
        "6.   Una capa densa con 1 neuronas\n",
        "7.   Por último, se añade la siguiente capa: tf.keras.layers.Lambda(lambda x: x * 400)\n",
        "\n",
        "\n"
      ]
    },
    {
      "cell_type": "code",
      "metadata": {
        "id": "yswRAtQ6JWvd"
      },
      "source": [
        "## tu código para la red neuronal del ejercicio 4 aquí\n",
        "\n",
        "model = tf.keras.models.Sequential([\n",
        "  tf.keras.layers.Conv1D(input_shape=[None,1], filters=32, kernel_size=5, strides=1, padding=\"causal\", activation=\"relu\"),\n",
        "  #tf.keras.layers.Lambda(lambda x: tf.expand_dims(x, axis=-1), input_shape=[None]),\n",
        "  tf.keras.layers.Bidirectional(tf.keras.layers.LSTM(64, return_sequences=True)),\n",
        "  tf.keras.layers.Bidirectional(tf.keras.layers.LSTM(64, return_sequences=True)),\n",
        "  #tf.keras.layers.SimpleRNN(40, return_sequences=True),\n",
        "  #tf.keras.layers.SimpleRNN(40),\n",
        "  tf.keras.layers.Dense(30),\n",
        "  tf.keras.layers.Dense(10),\n",
        "  tf.keras.layers.Dense(1),\n",
        "  tf.keras.layers.Lambda(lambda x: x * 400.0)\n",
        "])"
      ],
      "execution_count": 13,
      "outputs": []
    },
    {
      "cell_type": "markdown",
      "metadata": {
        "collapsed": false,
        "id": "W3VhCNbVLyPj"
      },
      "source": [
        "# 5. Entrenamiento de la red neuronal"
      ]
    },
    {
      "cell_type": "markdown",
      "metadata": {
        "collapsed": false,
        "id": "IvaUY4TmMUpa"
      },
      "source": [
        "**Ejercicio 4 (0.5 puntos)**: Se va a diseñar un método callbacks para el learning rate que será guardado en la variable **lr_schedule**, este método deberá usar el método **LearningRateScheduler** de Python y será una función **lambda** que le de el valor a epoch de 1e-8 * 10**(epoch / 20) **texto en negrita** "
      ]
    },
    {
      "cell_type": "code",
      "metadata": {
        "id": "s8YmUm3WJZdm"
      },
      "source": [
        "## tu código para crear la variable lr_schedule aquí\n",
        "lr_schedule = tf.keras.callbacks.LearningRateScheduler(\n",
        "    lambda epoch: 1e-8 * 10**(epoch / 20))"
      ],
      "execution_count": 14,
      "outputs": []
    },
    {
      "cell_type": "markdown",
      "metadata": {
        "collapsed": false,
        "id": "g6xI_87qNgzg"
      },
      "source": [
        "**Ejercicio 5 (1.5 puntos):** Compilar la red neuronal con los siguientes parametros:\n",
        "\n",
        "*   loss: método Huber de keras\n",
        "*   El optimizador debe ser el SGD con learning rate 1e-8 y momentum 0.9\n",
        "*   La métrica a visualizar es el error absoluto medio (medium absolute error en ingles)\n",
        "\n"
      ]
    },
    {
      "cell_type": "code",
      "metadata": {
        "id": "vYCGYDj3OI97"
      },
      "source": [
        "## tu código para compilar la red neuronal para el ejercicio 5 aquí\n",
        "optimizer = tf.keras.optimizers.SGD(learning_rate=1e-8, momentum=0.9)\n",
        "model.compile(loss=tf.keras.losses.Huber(),\n",
        "              optimizer=optimizer,\n",
        "              metrics=[\"mae\"])"
      ],
      "execution_count": 15,
      "outputs": []
    },
    {
      "cell_type": "markdown",
      "metadata": {
        "collapsed": false,
        "id": "kYcl-m5_ORq0"
      },
      "source": [
        "Para terminar se entrena el modelo previamente diseñado y compilado en los pasos anteriores."
      ]
    },
    {
      "cell_type": "code",
      "metadata": {
        "id": "P8788Rd6YXDm",
        "colab": {
          "base_uri": "https://localhost:8080/"
        },
        "outputId": "14e2a245-1930-4765-f5eb-47695d47adf6"
      },
      "source": [
        "history = model.fit(train_set, epochs=100, callbacks=[lr_schedule])"
      ],
      "execution_count": 16,
      "outputs": [
        {
          "output_type": "stream",
          "text": [
            "Epoch 1/100\n",
            "10/10 [==============================] - 36s 42ms/step - loss: 142.9875 - mae: 143.4875\n",
            "Epoch 2/100\n",
            "10/10 [==============================] - 1s 39ms/step - loss: 132.7654 - mae: 133.2654\n",
            "Epoch 3/100\n",
            "10/10 [==============================] - 0s 37ms/step - loss: 117.1162 - mae: 117.6162\n",
            "Epoch 4/100\n",
            "10/10 [==============================] - 0s 33ms/step - loss: 98.0882 - mae: 98.5882\n",
            "Epoch 5/100\n",
            "10/10 [==============================] - 0s 33ms/step - loss: 76.2207 - mae: 76.7207\n",
            "Epoch 6/100\n",
            "10/10 [==============================] - 0s 33ms/step - loss: 51.9247 - mae: 52.4242\n",
            "Epoch 7/100\n",
            "10/10 [==============================] - 0s 33ms/step - loss: 29.7162 - mae: 30.2134\n",
            "Epoch 8/100\n",
            "10/10 [==============================] - 0s 31ms/step - loss: 20.9994 - mae: 21.4952\n",
            "Epoch 9/100\n",
            "10/10 [==============================] - 0s 33ms/step - loss: 20.2529 - mae: 20.7480\n",
            "Epoch 10/100\n",
            "10/10 [==============================] - 0s 34ms/step - loss: 18.8044 - mae: 19.2992\n",
            "Epoch 11/100\n",
            "10/10 [==============================] - 0s 35ms/step - loss: 16.9061 - mae: 17.4001\n",
            "Epoch 12/100\n",
            "10/10 [==============================] - 0s 30ms/step - loss: 15.4004 - mae: 15.8932\n",
            "Epoch 13/100\n",
            "10/10 [==============================] - 0s 34ms/step - loss: 13.8455 - mae: 14.3378\n",
            "Epoch 14/100\n",
            "10/10 [==============================] - 0s 31ms/step - loss: 12.4108 - mae: 12.9017\n",
            "Epoch 15/100\n",
            "10/10 [==============================] - 0s 32ms/step - loss: 11.0918 - mae: 11.5808\n",
            "Epoch 16/100\n",
            "10/10 [==============================] - 0s 32ms/step - loss: 9.9578 - mae: 10.4456\n",
            "Epoch 17/100\n",
            "10/10 [==============================] - 0s 32ms/step - loss: 9.0387 - mae: 9.5257\n",
            "Epoch 18/100\n",
            "10/10 [==============================] - 0s 32ms/step - loss: 8.3357 - mae: 8.8221\n",
            "Epoch 19/100\n",
            "10/10 [==============================] - 0s 33ms/step - loss: 7.8121 - mae: 8.2977\n",
            "Epoch 20/100\n",
            "10/10 [==============================] - 0s 32ms/step - loss: 7.4308 - mae: 7.9153\n",
            "Epoch 21/100\n",
            "10/10 [==============================] - 0s 33ms/step - loss: 7.1479 - mae: 7.6318\n",
            "Epoch 22/100\n",
            "10/10 [==============================] - 0s 33ms/step - loss: 6.9132 - mae: 7.3967\n",
            "Epoch 23/100\n",
            "10/10 [==============================] - 0s 31ms/step - loss: 6.6990 - mae: 7.1822\n",
            "Epoch 24/100\n",
            "10/10 [==============================] - 0s 32ms/step - loss: 6.4849 - mae: 6.9677\n",
            "Epoch 25/100\n",
            "10/10 [==============================] - 0s 32ms/step - loss: 6.2747 - mae: 6.7569\n",
            "Epoch 26/100\n",
            "10/10 [==============================] - 0s 34ms/step - loss: 6.0694 - mae: 6.5516\n",
            "Epoch 27/100\n",
            "10/10 [==============================] - 0s 32ms/step - loss: 5.8704 - mae: 6.3521\n",
            "Epoch 28/100\n",
            "10/10 [==============================] - 0s 34ms/step - loss: 5.6845 - mae: 6.1656\n",
            "Epoch 29/100\n",
            "10/10 [==============================] - 0s 34ms/step - loss: 5.4981 - mae: 5.9787\n",
            "Epoch 30/100\n",
            "10/10 [==============================] - 0s 33ms/step - loss: 5.3247 - mae: 5.8046\n",
            "Epoch 31/100\n",
            "10/10 [==============================] - 0s 33ms/step - loss: 5.1719 - mae: 5.6513\n",
            "Epoch 32/100\n",
            "10/10 [==============================] - 0s 35ms/step - loss: 5.0096 - mae: 5.4886\n",
            "Epoch 33/100\n",
            "10/10 [==============================] - 0s 34ms/step - loss: 4.8464 - mae: 5.3251\n",
            "Epoch 34/100\n",
            "10/10 [==============================] - 0s 32ms/step - loss: 4.6997 - mae: 5.1774\n",
            "Epoch 35/100\n",
            "10/10 [==============================] - 0s 34ms/step - loss: 4.5455 - mae: 5.0225\n",
            "Epoch 36/100\n",
            "10/10 [==============================] - 0s 33ms/step - loss: 4.3856 - mae: 4.8616\n",
            "Epoch 37/100\n",
            "10/10 [==============================] - 0s 35ms/step - loss: 4.2378 - mae: 4.7126\n",
            "Epoch 38/100\n",
            "10/10 [==============================] - 0s 32ms/step - loss: 4.0778 - mae: 4.5514\n",
            "Epoch 39/100\n",
            "10/10 [==============================] - 0s 34ms/step - loss: 3.9464 - mae: 4.4191\n",
            "Epoch 40/100\n",
            "10/10 [==============================] - 0s 34ms/step - loss: 3.7813 - mae: 4.2527\n",
            "Epoch 41/100\n",
            "10/10 [==============================] - 0s 34ms/step - loss: 3.6479 - mae: 4.1183\n",
            "Epoch 42/100\n",
            "10/10 [==============================] - 0s 34ms/step - loss: 3.5643 - mae: 4.0347\n",
            "Epoch 43/100\n",
            "10/10 [==============================] - 0s 33ms/step - loss: 3.7820 - mae: 4.2559\n",
            "Epoch 44/100\n",
            "10/10 [==============================] - 0s 34ms/step - loss: 3.3746 - mae: 3.8441\n",
            "Epoch 45/100\n",
            "10/10 [==============================] - 0s 34ms/step - loss: 4.8398 - mae: 5.3226\n",
            "Epoch 46/100\n",
            "10/10 [==============================] - 0s 32ms/step - loss: 5.7027 - mae: 6.1918\n",
            "Epoch 47/100\n",
            "10/10 [==============================] - 0s 35ms/step - loss: 6.2092 - mae: 6.6990\n",
            "Epoch 48/100\n",
            "10/10 [==============================] - 0s 31ms/step - loss: 6.6359 - mae: 7.1250\n",
            "Epoch 49/100\n",
            "10/10 [==============================] - 0s 35ms/step - loss: 7.1959 - mae: 7.6827\n",
            "Epoch 50/100\n",
            "10/10 [==============================] - 0s 34ms/step - loss: 8.7166 - mae: 9.2071\n",
            "Epoch 51/100\n",
            "10/10 [==============================] - 0s 34ms/step - loss: 13.6323 - mae: 14.1225\n",
            "Epoch 52/100\n",
            "10/10 [==============================] - 0s 33ms/step - loss: 19.3702 - mae: 19.8692\n",
            "Epoch 53/100\n",
            "10/10 [==============================] - 0s 33ms/step - loss: 19.3775 - mae: 19.8769\n",
            "Epoch 54/100\n",
            "10/10 [==============================] - 0s 33ms/step - loss: 19.7948 - mae: 20.2942\n",
            "Epoch 55/100\n",
            "10/10 [==============================] - 0s 34ms/step - loss: 19.7891 - mae: 20.2881\n",
            "Epoch 56/100\n",
            "10/10 [==============================] - 0s 33ms/step - loss: 20.6266 - mae: 21.1258\n",
            "Epoch 57/100\n",
            "10/10 [==============================] - 0s 34ms/step - loss: 20.7748 - mae: 21.2735\n",
            "Epoch 58/100\n",
            "10/10 [==============================] - 0s 32ms/step - loss: 21.6131 - mae: 22.1126\n",
            "Epoch 59/100\n",
            "10/10 [==============================] - 0s 32ms/step - loss: 22.0577 - mae: 22.5573\n",
            "Epoch 60/100\n",
            "10/10 [==============================] - 0s 33ms/step - loss: 21.9565 - mae: 22.4562\n",
            "Epoch 61/100\n",
            "10/10 [==============================] - 0s 33ms/step - loss: 21.6374 - mae: 22.1371\n",
            "Epoch 62/100\n",
            "10/10 [==============================] - 0s 33ms/step - loss: 21.1385 - mae: 21.6379\n",
            "Epoch 63/100\n",
            "10/10 [==============================] - 0s 34ms/step - loss: 20.8346 - mae: 21.3343\n",
            "Epoch 64/100\n",
            "10/10 [==============================] - 0s 33ms/step - loss: 19.9271 - mae: 20.4268\n",
            "Epoch 65/100\n",
            "10/10 [==============================] - 0s 33ms/step - loss: 19.0596 - mae: 19.5594\n",
            "Epoch 66/100\n",
            "10/10 [==============================] - 0s 35ms/step - loss: 17.3362 - mae: 17.8360\n",
            "Epoch 67/100\n",
            "10/10 [==============================] - 0s 35ms/step - loss: 16.5894 - mae: 17.0891\n",
            "Epoch 68/100\n",
            "10/10 [==============================] - 0s 33ms/step - loss: 14.5844 - mae: 15.0837\n",
            "Epoch 69/100\n",
            "10/10 [==============================] - 0s 33ms/step - loss: 13.9106 - mae: 14.4099\n",
            "Epoch 70/100\n",
            "10/10 [==============================] - 0s 33ms/step - loss: 12.1183 - mae: 12.6172\n",
            "Epoch 71/100\n",
            "10/10 [==============================] - 0s 36ms/step - loss: 11.5007 - mae: 11.9999\n",
            "Epoch 72/100\n",
            "10/10 [==============================] - 0s 35ms/step - loss: 10.2290 - mae: 10.7279\n",
            "Epoch 73/100\n",
            "10/10 [==============================] - 0s 33ms/step - loss: 9.6645 - mae: 10.1634\n",
            "Epoch 74/100\n",
            "10/10 [==============================] - 0s 34ms/step - loss: 8.8170 - mae: 9.3158\n",
            "Epoch 75/100\n",
            "10/10 [==============================] - 0s 33ms/step - loss: 7.9480 - mae: 8.4430\n",
            "Epoch 76/100\n",
            "10/10 [==============================] - 0s 33ms/step - loss: 7.8695 - mae: 8.3646\n",
            "Epoch 77/100\n",
            "10/10 [==============================] - 0s 33ms/step - loss: 8.4775 - mae: 8.9714\n",
            "Epoch 78/100\n",
            "10/10 [==============================] - 0s 35ms/step - loss: 4.7465 - mae: 5.2245\n",
            "Epoch 79/100\n",
            "10/10 [==============================] - 0s 35ms/step - loss: 9.7885 - mae: 10.2843\n",
            "Epoch 80/100\n",
            "10/10 [==============================] - 0s 34ms/step - loss: 4.3709 - mae: 4.8494\n",
            "Epoch 81/100\n",
            "10/10 [==============================] - 0s 34ms/step - loss: 13.1009 - mae: 13.5912\n",
            "Epoch 82/100\n",
            "10/10 [==============================] - 0s 33ms/step - loss: 12.8322 - mae: 13.3240\n",
            "Epoch 83/100\n",
            "10/10 [==============================] - 0s 33ms/step - loss: 11.1409 - mae: 11.6367\n",
            "Epoch 84/100\n",
            "10/10 [==============================] - 0s 33ms/step - loss: 14.3945 - mae: 14.8877\n",
            "Epoch 85/100\n",
            "10/10 [==============================] - 0s 32ms/step - loss: 21.6505 - mae: 22.1464\n",
            "Epoch 86/100\n",
            "10/10 [==============================] - 0s 32ms/step - loss: 19.1739 - mae: 19.6737\n",
            "Epoch 87/100\n",
            "10/10 [==============================] - 0s 36ms/step - loss: 17.2082 - mae: 17.7081\n",
            "Epoch 88/100\n",
            "10/10 [==============================] - 0s 33ms/step - loss: 18.6618 - mae: 19.1618\n",
            "Epoch 89/100\n",
            "10/10 [==============================] - 0s 33ms/step - loss: 20.5490 - mae: 21.0490\n",
            "Epoch 90/100\n",
            "10/10 [==============================] - 0s 32ms/step - loss: 23.2248 - mae: 23.7248\n",
            "Epoch 91/100\n",
            "10/10 [==============================] - 0s 34ms/step - loss: 26.1052 - mae: 26.6052\n",
            "Epoch 92/100\n",
            "10/10 [==============================] - 0s 33ms/step - loss: 30.2966 - mae: 30.7966\n",
            "Epoch 93/100\n",
            "10/10 [==============================] - 0s 33ms/step - loss: 33.3284 - mae: 33.8284\n",
            "Epoch 94/100\n",
            "10/10 [==============================] - 0s 33ms/step - loss: 37.0186 - mae: 37.5186\n",
            "Epoch 95/100\n",
            "10/10 [==============================] - 0s 31ms/step - loss: 41.4348 - mae: 41.9348\n",
            "Epoch 96/100\n",
            "10/10 [==============================] - 0s 33ms/step - loss: 46.4726 - mae: 46.9726\n",
            "Epoch 97/100\n",
            "10/10 [==============================] - 0s 32ms/step - loss: 52.5110 - mae: 53.0110\n",
            "Epoch 98/100\n",
            "10/10 [==============================] - 0s 32ms/step - loss: 73.3817 - mae: 73.8817\n",
            "Epoch 99/100\n",
            "10/10 [==============================] - 0s 32ms/step - loss: 138.4927 - mae: 138.9927\n",
            "Epoch 100/100\n",
            "10/10 [==============================] - 0s 33ms/step - loss: 390.1249 - mae: 390.6247\n"
          ],
          "name": "stdout"
        }
      ]
    },
    {
      "cell_type": "markdown",
      "metadata": {
        "collapsed": false,
        "id": "wryNEsg3OQ-Q"
      },
      "source": [
        "# 6. Actualización del learning rate según los resultados obtenidos del primer entrenamiento de la red neuronal"
      ]
    },
    {
      "cell_type": "markdown",
      "metadata": {
        "collapsed": false,
        "id": "lEtS47TWOd8J"
      },
      "source": [
        "Después del entrenamiento de la red neuronal se ve que learning rate resultante es de 1e-5. Se visualizará gráficamente para entender el motivo por el que se ha usado ese valor. En la gráfica se puede ver cómo el learning rate con el que menos loss hay es 1e-5, y por ese motivo, se debe volver a entrenar la red neuronal con dicho learning rate."
      ]
    },
    {
      "cell_type": "code",
      "metadata": {
        "id": "KpydHm4hYZap",
        "colab": {
          "base_uri": "https://localhost:8080/",
          "height": 290
        },
        "outputId": "81b346de-bdd2-4818-8d8e-b65690b9aa57"
      },
      "source": [
        "plt.semilogx(history.history[\"lr\"], history.history[\"loss\"])\n",
        "plt.axis([1e-8, 1e-4, 0, 60])"
      ],
      "execution_count": 17,
      "outputs": [
        {
          "output_type": "execute_result",
          "data": {
            "text/plain": [
              "(1e-08, 0.0001, 0.0, 60.0)"
            ]
          },
          "metadata": {
            "tags": []
          },
          "execution_count": 17
        },
        {
          "output_type": "display_data",
          "data": {
            "image/png": "[encoded data removed]",
            "text/plain": [
              "<Figure size 432x288 with 1 Axes>"
            ]
          },
          "metadata": {
            "tags": [],
            "needs_background": "light"
          }
        }
      ]
    },
    {
      "cell_type": "markdown",
      "metadata": {
        "collapsed": false,
        "id": "iJCCYtWUOo3R"
      },
      "source": [
        "Se vuelve a inicializar la sesión de entrenamiento y la variable train_set:"
      ]
    },
    {
      "cell_type": "code",
      "metadata": {
        "id": "zRczRPRJO2hr"
      },
      "source": [
        "tf.keras.backend.clear_session()\n",
        "tf.random.set_seed(51)\n",
        "np.random.seed(51)\n",
        "train_set = windowed_dataset(x_train, window_size=60, batch_size=100, shuffle_buffer=shuffle_buffer_size)"
      ],
      "execution_count": 18,
      "outputs": []
    },
    {
      "cell_type": "markdown",
      "metadata": {
        "collapsed": false,
        "id": "WhM4opUcO9W0"
      },
      "source": [
        "**Ejercicio 6 (0.5 puntos)**: Para crear el nuevo modelo, reutiliza la red neuronal diseñada en el ejercicio 4, pero esta vez utilizando 60 filtros en la capa de convolución."
      ]
    },
    {
      "cell_type": "code",
      "metadata": {
        "id": "eGXpMjoxO4eK"
      },
      "source": [
        "## tu código para la red neuronal del ejercicio 6 aquí\n",
        "model = tf.keras.models.Sequential([\n",
        "  tf.keras.layers.Conv1D(input_shape=[None,1], filters=60, kernel_size=5, strides=1, padding=\"causal\", activation=\"relu\"),\n",
        "  #tf.keras.layers.Lambda(lambda x: tf.expand_dims(x, axis=-1), input_shape=[None]),\n",
        "  tf.keras.layers.Bidirectional(tf.keras.layers.LSTM(64, return_sequences=True)),\n",
        "  tf.keras.layers.Bidirectional(tf.keras.layers.LSTM(64, return_sequences=True)),\n",
        "  #tf.keras.layers.SimpleRNN(40, return_sequences=True),\n",
        "  #tf.keras.layers.SimpleRNN(40),\n",
        "  tf.keras.layers.Dense(30),\n",
        "  tf.keras.layers.Dense(10),\n",
        "  tf.keras.layers.Dense(1),\n",
        "  tf.keras.layers.Lambda(lambda x: x * 400.0)\n",
        "])"
      ],
      "execution_count": 19,
      "outputs": []
    },
    {
      "cell_type": "markdown",
      "metadata": {
        "collapsed": false,
        "id": "jd5wr58SPaet"
      },
      "source": [
        "**Ejercicio 7 (0.5 puntos)**: Se debe volver a compilar la red neuronal de manera análoga a la del ejercicio 5, pero esta vez utilizar un learning rate obtenido de la función callback."
      ]
    },
    {
      "cell_type": "code",
      "metadata": {
        "id": "Q0cVmEu5O7UZ"
      },
      "source": [
        "## tu código para compilar la red neuronal para el ejercicio 7 aquí\n",
        "optimizer = tf.keras.optimizers.SGD(learning_rate=1e-5, momentum=0.9)\n",
        "model.compile(loss=tf.keras.losses.Huber(),\n",
        "              optimizer=optimizer,\n",
        "              metrics=[\"mae\"])"
      ],
      "execution_count": 20,
      "outputs": []
    },
    {
      "cell_type": "code",
      "metadata": {
        "id": "CYrg5kSzYb5i",
        "colab": {
          "base_uri": "https://localhost:8080/"
        },
        "outputId": "b816a11d-122e-45ab-ecfc-d96440b3294f"
      },
      "source": [
        "history = model.fit(train_set,epochs=150)"
      ],
      "execution_count": 21,
      "outputs": [
        {
          "output_type": "stream",
          "text": [
            "Epoch 1/150\n",
            "25/25 [==============================] - 6s 40ms/step - loss: 115.9175 - mae: 116.4166\n",
            "Epoch 2/150\n",
            "25/25 [==============================] - 1s 21ms/step - loss: 44.2215 - mae: 44.7193\n",
            "Epoch 3/150\n",
            "25/25 [==============================] - 1s 20ms/step - loss: 9.0943 - mae: 9.5812\n",
            "Epoch 4/150\n",
            "25/25 [==============================] - 1s 19ms/step - loss: 2.0577 - mae: 2.5143\n",
            "Epoch 5/150\n",
            "25/25 [==============================] - 1s 20ms/step - loss: 1.4821 - mae: 1.9233\n",
            "Epoch 6/150\n",
            "25/25 [==============================] - 1s 20ms/step - loss: 1.4340 - mae: 1.8763\n",
            "Epoch 7/150\n",
            "25/25 [==============================] - 1s 20ms/step - loss: 1.4801 - mae: 1.9250\n",
            "Epoch 8/150\n",
            "25/25 [==============================] - 1s 21ms/step - loss: 1.3842 - mae: 1.8254\n",
            "Epoch 9/150\n",
            "25/25 [==============================] - 1s 19ms/step - loss: 1.4099 - mae: 1.8534\n",
            "Epoch 10/150\n",
            "25/25 [==============================] - 1s 20ms/step - loss: 1.5628 - mae: 2.0129\n",
            "Epoch 11/150\n",
            "25/25 [==============================] - 1s 20ms/step - loss: 1.4930 - mae: 1.9415\n",
            "Epoch 12/150\n",
            "25/25 [==============================] - 1s 20ms/step - loss: 1.4768 - mae: 1.9253\n",
            "Epoch 13/150\n",
            "25/25 [==============================] - 1s 20ms/step - loss: 1.4321 - mae: 1.8780\n",
            "Epoch 14/150\n",
            "25/25 [==============================] - 1s 20ms/step - loss: 1.3642 - mae: 1.8076\n",
            "Epoch 15/150\n",
            "25/25 [==============================] - 1s 20ms/step - loss: 1.4159 - mae: 1.8627\n",
            "Epoch 16/150\n",
            "25/25 [==============================] - 1s 20ms/step - loss: 1.3944 - mae: 1.8404\n",
            "Epoch 17/150\n",
            "25/25 [==============================] - 1s 20ms/step - loss: 1.3620 - mae: 1.8071\n",
            "Epoch 18/150\n",
            "25/25 [==============================] - 1s 20ms/step - loss: 1.3384 - mae: 1.7821\n",
            "Epoch 19/150\n",
            "25/25 [==============================] - 1s 22ms/step - loss: 1.3261 - mae: 1.7699\n",
            "Epoch 20/150\n",
            "25/25 [==============================] - 1s 20ms/step - loss: 1.3370 - mae: 1.7812\n",
            "Epoch 21/150\n",
            "25/25 [==============================] - 1s 20ms/step - loss: 1.2772 - mae: 1.7187\n",
            "Epoch 22/150\n",
            "25/25 [==============================] - 1s 21ms/step - loss: 1.2049 - mae: 1.6424\n",
            "Epoch 23/150\n",
            "25/25 [==============================] - 1s 20ms/step - loss: 1.2125 - mae: 1.6513\n",
            "Epoch 24/150\n",
            "25/25 [==============================] - 1s 20ms/step - loss: 1.2369 - mae: 1.6772\n",
            "Epoch 25/150\n",
            "25/25 [==============================] - 1s 21ms/step - loss: 1.2027 - mae: 1.6412\n",
            "Epoch 26/150\n",
            "25/25 [==============================] - 1s 20ms/step - loss: 1.1642 - mae: 1.6011\n",
            "Epoch 27/150\n",
            "25/25 [==============================] - 1s 20ms/step - loss: 1.1343 - mae: 1.5692\n",
            "Epoch 28/150\n",
            "25/25 [==============================] - 1s 20ms/step - loss: 1.0822 - mae: 1.5138\n",
            "Epoch 29/150\n",
            "25/25 [==============================] - 1s 20ms/step - loss: 1.1200 - mae: 1.5539\n",
            "Epoch 30/150\n",
            "25/25 [==============================] - 1s 21ms/step - loss: 1.1022 - mae: 1.5357\n",
            "Epoch 31/150\n",
            "25/25 [==============================] - 1s 21ms/step - loss: 0.9999 - mae: 1.4256\n",
            "Epoch 32/150\n",
            "25/25 [==============================] - 1s 21ms/step - loss: 1.0595 - mae: 1.4901\n",
            "Epoch 33/150\n",
            "25/25 [==============================] - 1s 20ms/step - loss: 1.0681 - mae: 1.5000\n",
            "Epoch 34/150\n",
            "25/25 [==============================] - 1s 21ms/step - loss: 1.0151 - mae: 1.4421\n",
            "Epoch 35/150\n",
            "25/25 [==============================] - 1s 21ms/step - loss: 1.0179 - mae: 1.4468\n",
            "Epoch 36/150\n",
            "25/25 [==============================] - 1s 20ms/step - loss: 1.0453 - mae: 1.4769\n",
            "Epoch 37/150\n",
            "25/25 [==============================] - 1s 21ms/step - loss: 0.9871 - mae: 1.4123\n",
            "Epoch 38/150\n",
            "25/25 [==============================] - 1s 21ms/step - loss: 1.0067 - mae: 1.4341\n",
            "Epoch 39/150\n",
            "25/25 [==============================] - 1s 20ms/step - loss: 0.9941 - mae: 1.4218\n",
            "Epoch 40/150\n",
            "25/25 [==============================] - 1s 20ms/step - loss: 1.0287 - mae: 1.4593\n",
            "Epoch 41/150\n",
            "25/25 [==============================] - 1s 21ms/step - loss: 0.9878 - mae: 1.4157\n",
            "Epoch 42/150\n",
            "25/25 [==============================] - 1s 21ms/step - loss: 1.0137 - mae: 1.4437\n",
            "Epoch 43/150\n",
            "25/25 [==============================] - 1s 20ms/step - loss: 0.8635 - mae: 1.2797\n",
            "Epoch 44/150\n",
            "25/25 [==============================] - 1s 20ms/step - loss: 0.9910 - mae: 1.4188\n",
            "Epoch 45/150\n",
            "25/25 [==============================] - 1s 21ms/step - loss: 0.9367 - mae: 1.3603\n",
            "Epoch 46/150\n",
            "25/25 [==============================] - 1s 21ms/step - loss: 0.9920 - mae: 1.4203\n",
            "Epoch 47/150\n",
            "25/25 [==============================] - 1s 20ms/step - loss: 0.9891 - mae: 1.4179\n",
            "Epoch 48/150\n",
            "25/25 [==============================] - 1s 21ms/step - loss: 0.8361 - mae: 1.2499\n",
            "Epoch 49/150\n",
            "25/25 [==============================] - 1s 20ms/step - loss: 0.8489 - mae: 1.2652\n",
            "Epoch 50/150\n",
            "25/25 [==============================] - 1s 21ms/step - loss: 0.9601 - mae: 1.3867\n",
            "Epoch 51/150\n",
            "25/25 [==============================] - 1s 20ms/step - loss: 0.9691 - mae: 1.3967\n",
            "Epoch 52/150\n",
            "25/25 [==============================] - 1s 20ms/step - loss: 0.9394 - mae: 1.3647\n",
            "Epoch 53/150\n",
            "25/25 [==============================] - 1s 21ms/step - loss: 0.9524 - mae: 1.3781\n",
            "Epoch 54/150\n",
            "25/25 [==============================] - 1s 23ms/step - loss: 0.9555 - mae: 1.3828\n",
            "Epoch 55/150\n",
            "25/25 [==============================] - 1s 21ms/step - loss: 0.9461 - mae: 1.3726\n",
            "Epoch 56/150\n",
            "25/25 [==============================] - 1s 20ms/step - loss: 0.9277 - mae: 1.3531\n",
            "Epoch 57/150\n",
            "25/25 [==============================] - 1s 20ms/step - loss: 0.8971 - mae: 1.3194\n",
            "Epoch 58/150\n",
            "25/25 [==============================] - 1s 21ms/step - loss: 0.8889 - mae: 1.3107\n",
            "Epoch 59/150\n",
            "25/25 [==============================] - 1s 20ms/step - loss: 0.9153 - mae: 1.3395\n",
            "Epoch 60/150\n",
            "25/25 [==============================] - 1s 20ms/step - loss: 0.8773 - mae: 1.2983\n",
            "Epoch 61/150\n",
            "25/25 [==============================] - 1s 20ms/step - loss: 0.8678 - mae: 1.2878\n",
            "Epoch 62/150\n",
            "25/25 [==============================] - 1s 21ms/step - loss: 0.8861 - mae: 1.3079\n",
            "Epoch 63/150\n",
            "25/25 [==============================] - 1s 21ms/step - loss: 0.7862 - mae: 1.1977\n",
            "Epoch 64/150\n",
            "25/25 [==============================] - 1s 20ms/step - loss: 0.8741 - mae: 1.2943\n",
            "Epoch 65/150\n",
            "25/25 [==============================] - 1s 19ms/step - loss: 0.9105 - mae: 1.3356\n",
            "Epoch 66/150\n",
            "25/25 [==============================] - 1s 20ms/step - loss: 0.8622 - mae: 1.2826\n",
            "Epoch 67/150\n",
            "25/25 [==============================] - 1s 20ms/step - loss: 0.8936 - mae: 1.3175\n",
            "Epoch 68/150\n",
            "25/25 [==============================] - 1s 20ms/step - loss: 0.8792 - mae: 1.3012\n",
            "Epoch 69/150\n",
            "25/25 [==============================] - 1s 22ms/step - loss: 0.8077 - mae: 1.2214\n",
            "Epoch 70/150\n",
            "25/25 [==============================] - 1s 21ms/step - loss: 0.8768 - mae: 1.2994\n",
            "Epoch 71/150\n",
            "25/25 [==============================] - 1s 20ms/step - loss: 0.8730 - mae: 1.2949\n",
            "Epoch 72/150\n",
            "25/25 [==============================] - 1s 20ms/step - loss: 0.8586 - mae: 1.2791\n",
            "Epoch 73/150\n",
            "25/25 [==============================] - 1s 20ms/step - loss: 0.8564 - mae: 1.2770\n",
            "Epoch 74/150\n",
            "25/25 [==============================] - 1s 20ms/step - loss: 0.8647 - mae: 1.2866\n",
            "Epoch 75/150\n",
            "25/25 [==============================] - 1s 21ms/step - loss: 0.8206 - mae: 1.2376\n",
            "Epoch 76/150\n",
            "25/25 [==============================] - 1s 20ms/step - loss: 0.8424 - mae: 1.2625\n",
            "Epoch 77/150\n",
            "25/25 [==============================] - 1s 20ms/step - loss: 0.8431 - mae: 1.2630\n",
            "Epoch 78/150\n",
            "25/25 [==============================] - 1s 20ms/step - loss: 0.8083 - mae: 1.2247\n",
            "Epoch 79/150\n",
            "25/25 [==============================] - 1s 20ms/step - loss: 0.8296 - mae: 1.2489\n",
            "Epoch 80/150\n",
            "25/25 [==============================] - 1s 21ms/step - loss: 0.8346 - mae: 1.2540\n",
            "Epoch 81/150\n",
            "25/25 [==============================] - 1s 19ms/step - loss: 0.8316 - mae: 1.2508\n",
            "Epoch 82/150\n",
            "25/25 [==============================] - 1s 21ms/step - loss: 0.8088 - mae: 1.2256\n",
            "Epoch 83/150\n",
            "25/25 [==============================] - 1s 20ms/step - loss: 0.8091 - mae: 1.2265\n",
            "Epoch 84/150\n",
            "25/25 [==============================] - 1s 20ms/step - loss: 0.7916 - mae: 1.2067\n",
            "Epoch 85/150\n",
            "25/25 [==============================] - 1s 20ms/step - loss: 0.7887 - mae: 1.2025\n",
            "Epoch 86/150\n",
            "25/25 [==============================] - 1s 22ms/step - loss: 0.7969 - mae: 1.2128\n",
            "Epoch 87/150\n",
            "25/25 [==============================] - 1s 21ms/step - loss: 0.8368 - mae: 1.2579\n",
            "Epoch 88/150\n",
            "25/25 [==============================] - 1s 19ms/step - loss: 0.8175 - mae: 1.2362\n",
            "Epoch 89/150\n",
            "25/25 [==============================] - 1s 19ms/step - loss: 0.7971 - mae: 1.2140\n",
            "Epoch 90/150\n",
            "25/25 [==============================] - 1s 21ms/step - loss: 0.7634 - mae: 1.1759\n",
            "Epoch 91/150\n",
            "25/25 [==============================] - 1s 22ms/step - loss: 0.7937 - mae: 1.2099\n",
            "Epoch 92/150\n",
            "25/25 [==============================] - 1s 20ms/step - loss: 0.7920 - mae: 1.2083\n",
            "Epoch 93/150\n",
            "25/25 [==============================] - 1s 21ms/step - loss: 0.7936 - mae: 1.2108\n",
            "Epoch 94/150\n",
            "25/25 [==============================] - 1s 21ms/step - loss: 0.7511 - mae: 1.1621\n",
            "Epoch 95/150\n",
            "25/25 [==============================] - 1s 21ms/step - loss: 0.7609 - mae: 1.1732\n",
            "Epoch 96/150\n",
            "25/25 [==============================] - 1s 21ms/step - loss: 0.7679 - mae: 1.1811\n",
            "Epoch 97/150\n",
            "25/25 [==============================] - 1s 21ms/step - loss: 0.7820 - mae: 1.1973\n",
            "Epoch 98/150\n",
            "25/25 [==============================] - 1s 21ms/step - loss: 0.7734 - mae: 1.1879\n",
            "Epoch 99/150\n",
            "25/25 [==============================] - 1s 21ms/step - loss: 0.7727 - mae: 1.1882\n",
            "Epoch 100/150\n",
            "25/25 [==============================] - 1s 21ms/step - loss: 0.7948 - mae: 1.2127\n",
            "Epoch 101/150\n",
            "25/25 [==============================] - 1s 20ms/step - loss: 0.7264 - mae: 1.1355\n",
            "Epoch 102/150\n",
            "25/25 [==============================] - 1s 20ms/step - loss: 0.7676 - mae: 1.1824\n",
            "Epoch 103/150\n",
            "25/25 [==============================] - 1s 20ms/step - loss: 0.7293 - mae: 1.1390\n",
            "Epoch 104/150\n",
            "25/25 [==============================] - 1s 22ms/step - loss: 0.7637 - mae: 1.1788\n",
            "Epoch 105/150\n",
            "25/25 [==============================] - 1s 22ms/step - loss: 0.7126 - mae: 1.1196\n",
            "Epoch 106/150\n",
            "25/25 [==============================] - 1s 21ms/step - loss: 0.7739 - mae: 1.1898\n",
            "Epoch 107/150\n",
            "25/25 [==============================] - 1s 19ms/step - loss: 0.7729 - mae: 1.1893\n",
            "Epoch 108/150\n",
            "25/25 [==============================] - 1s 21ms/step - loss: 0.7122 - mae: 1.1200\n",
            "Epoch 109/150\n",
            "25/25 [==============================] - 1s 22ms/step - loss: 0.7544 - mae: 1.1686\n",
            "Epoch 110/150\n",
            "25/25 [==============================] - 1s 21ms/step - loss: 0.7785 - mae: 1.1964\n",
            "Epoch 111/150\n",
            "25/25 [==============================] - 1s 20ms/step - loss: 0.7508 - mae: 1.1655\n",
            "Epoch 112/150\n",
            "25/25 [==============================] - 1s 21ms/step - loss: 0.7505 - mae: 1.1645\n",
            "Epoch 113/150\n",
            "25/25 [==============================] - 1s 21ms/step - loss: 0.7511 - mae: 1.1664\n",
            "Epoch 114/150\n",
            "25/25 [==============================] - 1s 21ms/step - loss: 0.7456 - mae: 1.1598\n",
            "Epoch 115/150\n",
            "25/25 [==============================] - 1s 21ms/step - loss: 0.6964 - mae: 1.1036\n",
            "Epoch 116/150\n",
            "25/25 [==============================] - 1s 23ms/step - loss: 0.7380 - mae: 1.1515\n",
            "Epoch 117/150\n",
            "25/25 [==============================] - 1s 21ms/step - loss: 0.7291 - mae: 1.1418\n",
            "Epoch 118/150\n",
            "25/25 [==============================] - 1s 22ms/step - loss: 0.6949 - mae: 1.1021\n",
            "Epoch 119/150\n",
            "25/25 [==============================] - 1s 21ms/step - loss: 0.7015 - mae: 1.1097\n",
            "Epoch 120/150\n",
            "25/25 [==============================] - 1s 20ms/step - loss: 0.7243 - mae: 1.1362\n",
            "Epoch 121/150\n",
            "25/25 [==============================] - 1s 22ms/step - loss: 0.7012 - mae: 1.1104\n",
            "Epoch 122/150\n",
            "25/25 [==============================] - 1s 20ms/step - loss: 0.6721 - mae: 1.0757\n",
            "Epoch 123/150\n",
            "25/25 [==============================] - 1s 22ms/step - loss: 0.7296 - mae: 1.1432\n",
            "Epoch 124/150\n",
            "25/25 [==============================] - 1s 19ms/step - loss: 0.7079 - mae: 1.1184\n",
            "Epoch 125/150\n",
            "25/25 [==============================] - 1s 21ms/step - loss: 0.6774 - mae: 1.0825\n",
            "Epoch 126/150\n",
            "25/25 [==============================] - 1s 20ms/step - loss: 0.7128 - mae: 1.1247\n",
            "Epoch 127/150\n",
            "25/25 [==============================] - 1s 20ms/step - loss: 0.7210 - mae: 1.1337\n",
            "Epoch 128/150\n",
            "25/25 [==============================] - 1s 21ms/step - loss: 0.6973 - mae: 1.1072\n",
            "Epoch 129/150\n",
            "25/25 [==============================] - 1s 21ms/step - loss: 0.6665 - mae: 1.0703\n",
            "Epoch 130/150\n",
            "25/25 [==============================] - 1s 20ms/step - loss: 0.6602 - mae: 1.0638\n",
            "Epoch 131/150\n",
            "25/25 [==============================] - 1s 21ms/step - loss: 0.7071 - mae: 1.1186\n",
            "Epoch 132/150\n",
            "25/25 [==============================] - 1s 20ms/step - loss: 0.6746 - mae: 1.0809\n",
            "Epoch 133/150\n",
            "25/25 [==============================] - 1s 23ms/step - loss: 0.6967 - mae: 1.1071\n",
            "Epoch 134/150\n",
            "25/25 [==============================] - 1s 20ms/step - loss: 0.6707 - mae: 1.0772\n",
            "Epoch 135/150\n",
            "25/25 [==============================] - 1s 20ms/step - loss: 0.6887 - mae: 1.0976\n",
            "Epoch 136/150\n",
            "25/25 [==============================] - 1s 21ms/step - loss: 0.6964 - mae: 1.1066\n",
            "Epoch 137/150\n",
            "25/25 [==============================] - 1s 21ms/step - loss: 0.6695 - mae: 1.0759\n",
            "Epoch 138/150\n",
            "25/25 [==============================] - 1s 20ms/step - loss: 0.6712 - mae: 1.0775\n",
            "Epoch 139/150\n",
            "25/25 [==============================] - 1s 22ms/step - loss: 0.6774 - mae: 1.0861\n",
            "Epoch 140/150\n",
            "25/25 [==============================] - 1s 22ms/step - loss: 0.6835 - mae: 1.0932\n",
            "Epoch 141/150\n",
            "25/25 [==============================] - 1s 22ms/step - loss: 0.6947 - mae: 1.1056\n",
            "Epoch 142/150\n",
            "25/25 [==============================] - 1s 20ms/step - loss: 0.6609 - mae: 1.0669\n",
            "Epoch 143/150\n",
            "25/25 [==============================] - 1s 21ms/step - loss: 0.6623 - mae: 1.0687\n",
            "Epoch 144/150\n",
            "25/25 [==============================] - 1s 21ms/step - loss: 0.6225 - mae: 1.0217\n",
            "Epoch 145/150\n",
            "25/25 [==============================] - 1s 21ms/step - loss: 0.6592 - mae: 1.0656\n",
            "Epoch 146/150\n",
            "25/25 [==============================] - 1s 20ms/step - loss: 0.6350 - mae: 1.0366\n",
            "Epoch 147/150\n",
            "25/25 [==============================] - 1s 21ms/step - loss: 0.6402 - mae: 1.0425\n",
            "Epoch 148/150\n",
            "25/25 [==============================] - 1s 20ms/step - loss: 0.6607 - mae: 1.0676\n",
            "Epoch 149/150\n",
            "25/25 [==============================] - 1s 22ms/step - loss: 0.6814 - mae: 1.0917\n",
            "Epoch 150/150\n",
            "25/25 [==============================] - 1s 20ms/step - loss: 0.6465 - mae: 1.0515\n"
          ],
          "name": "stdout"
        }
      ]
    },
    {
      "cell_type": "markdown",
      "metadata": {
        "collapsed": false,
        "id": "dE59CkauRD_o"
      },
      "source": [
        "# 7. Predicción de los siguientes valores de la serie temporal"
      ]
    },
    {
      "cell_type": "markdown",
      "metadata": {
        "collapsed": false,
        "id": "ati5x7OfReWH"
      },
      "source": [
        "Para concluir la actividad, se usa el método model_forecast que se ha diseñado utilizando el método de la ventana temporal para hacer el nuevo metodo rnn_forecast con el cual se calcularán los nuevos valores de la serie temporal. Posteriormente, se pinta una gráfica para ver esos resultados y comprobar de forma visual que son correctos. Además, se dan los resultados de esas predicciones en forma númerica, de esta forma, este modelo diseñado en esta actividad podría ser el input de un nuevo algoritmo si fuera necesario."
      ]
    },
    {
      "cell_type": "code",
      "metadata": {
        "id": "RWB79gRyYdvB"
      },
      "source": [
        "rnn_forecast = model_forecast(model, series[..., np.newaxis], window_size)\n",
        "rnn_forecast = rnn_forecast[split_time - window_size:-1, -1, 0]"
      ],
      "execution_count": 22,
      "outputs": []
    },
    {
      "cell_type": "code",
      "metadata": {
        "id": "OrMdV-SnYiCG",
        "colab": {
          "base_uri": "https://localhost:8080/",
          "height": 389
        },
        "outputId": "2d1af17e-c36c-4e91-f141-f5703818b81e"
      },
      "source": [
        "plt.figure(figsize=(10, 6))\n",
        "plot_series(time_valid, x_valid)\n",
        "plot_series(time_valid, rnn_forecast)"
      ],
      "execution_count": 23,
      "outputs": [
        {
          "output_type": "display_data",
          "data": {
            "image/png": "[encoded data removed]",
            "text/plain": [
              "<Figure size 720x432 with 1 Axes>"
            ]
          },
          "metadata": {
            "tags": [],
            "needs_background": "light"
          }
        }
      ]
    },
    {
      "cell_type": "code",
      "metadata": {
        "id": "bpa88mPVYj27",
        "colab": {
          "base_uri": "https://localhost:8080/"
        },
        "outputId": "4684f973-ba23-4fe2-dd17-220789aaba06"
      },
      "source": [
        "tf.keras.metrics.mean_absolute_error(x_valid, rnn_forecast).numpy()"
      ],
      "execution_count": 24,
      "outputs": [
        {
          "output_type": "execute_result",
          "data": {
            "text/plain": [
              "1.9391445"
            ]
          },
          "metadata": {
            "tags": []
          },
          "execution_count": 24
        }
      ]
    },
    {
      "cell_type": "code",
      "metadata": {
        "id": "r4VPNDrEYmEA",
        "colab": {
          "base_uri": "https://localhost:8080/"
        },
        "outputId": "c9b17ac8-4095-4315-d915-b5ecc2fee931"
      },
      "source": [
        "print(rnn_forecast)"
      ],
      "execution_count": 25,
      "outputs": [
        {
          "output_type": "stream",
          "text": [
            "[12.474096 11.29107  12.160059 ... 13.501403 13.790941 14.567362]\n"
          ],
          "name": "stdout"
        }
      ]
    },
    {
      "cell_type": "markdown",
      "metadata": {
        "collapsed": false,
        "id": "46vKm-K1RVrl"
      },
      "source": [
        "# 8. Mostrar gráficamente los resultados.\n",
        "\n",
        "Una vez obtenido el resultado de la actividad, se procede a revisr de forma gráfica el training y validation loss a lo largo de los epochs en este nuevo entrenamiento con el learning rate optimizado."
      ]
    },
    {
      "cell_type": "code",
      "metadata": {
        "id": "YwQvZC6wlaTi"
      },
      "source": [
        "import matplotlib.image  as mpimg\n",
        "import matplotlib.pyplot as plt\n",
        "\n",
        "#-----------------------------------------------------------\n",
        "# Recuperar una lista de resultados de la lista de datos de entrenamiento y pruebas para cada epoch de entrenamiento\n",
        "#-----------------------------------------------------------\n",
        "loss=history.history['loss']\n",
        "\n",
        "epochs=range(len(loss)) # Get number of epochs"
      ],
      "execution_count": 26,
      "outputs": []
    },
    {
      "cell_type": "markdown",
      "metadata": {
        "collapsed": false,
        "id": "CAEJ3vP3lbz9"
      },
      "source": [
        "A continuación se realiza el plot de la pérdida frente a los epochs"
      ]
    },
    {
      "cell_type": "code",
      "metadata": {
        "id": "yKwWOTYCl4Ib",
        "colab": {
          "base_uri": "https://localhost:8080/",
          "height": 329
        },
        "outputId": "40d7a60a-ed87-4735-bae6-f9a3d7a015c1"
      },
      "source": [
        "#------------------------------------------------\n",
        "# Pérdida de entrenamiento y validación por epoch\n",
        "#------------------------------------------------\n",
        "plt.plot(epochs, loss, 'r')\n",
        "plt.title('Training loss')\n",
        "plt.xlabel(\"Epochs\")\n",
        "plt.ylabel(\"Loss\")\n",
        "plt.legend([\"Loss\"])\n",
        "\n",
        "plt.figure()"
      ],
      "execution_count": 27,
      "outputs": [
        {
          "output_type": "execute_result",
          "data": {
            "text/plain": [
              "<Figure size 432x288 with 0 Axes>"
            ]
          },
          "metadata": {
            "tags": []
          },
          "execution_count": 27
        },
        {
          "output_type": "display_data",
          "data": {
            "image/png": "[encoded data removed]",
            "text/plain": [
              "<Figure size 432x288 with 1 Axes>"
            ]
          },
          "metadata": {
            "tags": [],
            "needs_background": "light"
          }
        },
        {
          "output_type": "display_data",
          "data": {
            "text/plain": [
              "<Figure size 432x288 with 0 Axes>"
            ]
          },
          "metadata": {
            "tags": []
          }
        }
      ]
    },
    {
      "cell_type": "markdown",
      "metadata": {
        "collapsed": false,
        "id": "Xw4817Otl6A6"
      },
      "source": [
        "**Ejercicio 8 (0.5 punto)**: Utilizando las 2 nuevas variables zoomed_loss y zoomed_epochs y con base en el código anterior, hacer el plot del loss frente a los epochs entre los epoch 20 y 150 para ver como va oscilando y no es un proceso lineal como podria parecer según el anterior plot."
      ]
    },
    {
      "cell_type": "code",
      "metadata": {
        "id": "gh6OToWdAggR",
        "colab": {
          "base_uri": "https://localhost:8080/",
          "height": 329
        },
        "outputId": "9b465429-9637-4cf3-b1a5-0221fb39a3de"
      },
      "source": [
        "#------------------------------------------------\n",
        "# Pérdida de entrenamiento y validación por epoch con zoom\n",
        "#------------------------------------------------\n",
        "\n",
        "mae=history.history['mae']\n",
        "\n",
        "zoomed_loss = loss[20:150]\n",
        "zoomed_epochs = range(20,150)\n",
        "\n",
        "#------------------------------------------------\n",
        "# Plot Zoomed Loss\n",
        "#------------------------------------------------\n",
        "plt.plot(zoomed_epochs, zoomed_loss, 'b')\n",
        "plt.title('Loss')\n",
        "plt.xlabel(\"Epochs\")\n",
        "plt.ylabel(\"Loss\")\n",
        "plt.legend([\"Loss\"])\n",
        "\n",
        "plt.figure()"
      ],
      "execution_count": 51,
      "outputs": [
        {
          "output_type": "execute_result",
          "data": {
            "text/plain": [
              "<Figure size 432x288 with 0 Axes>"
            ]
          },
          "metadata": {
            "tags": []
          },
          "execution_count": 51
        },
        {
          "output_type": "display_data",
          "data": {
            "image/png": "[encoded data removed]",
            "text/plain": [
              "<Figure size 432x288 with 1 Axes>"
            ]
          },
          "metadata": {
            "tags": [],
            "needs_background": "light"
          }
        },
        {
          "output_type": "display_data",
          "data": {
            "text/plain": [
              "<Figure size 432x288 with 0 Axes>"
            ]
          },
          "metadata": {
            "tags": []
          }
        }
      ]
    }
  ]
}