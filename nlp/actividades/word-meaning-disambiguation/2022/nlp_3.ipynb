{
  "cells": [
    {
      "cell_type": "markdown",
      "metadata": {
        "id": "3laswmlCwaAl"
      },
      "source": [
        "**Universidad Internacional de La Rioja (UNIR) - Máster Universitario en Inteligencia Artificial - Procesamiento del Lenguaje Natural** "
      ]
    },
    {
      "cell_type": "markdown",
      "metadata": {
        "id": "ZpjV96GRwaAq"
      },
      "source": [
        "***\n",
        "Datos del alumno (Nombre y Apellidos): Carles Serra Vendrell\n",
        "\n",
        "Fecha:\n",
        "***"
      ]
    },
    {
      "cell_type": "markdown",
      "metadata": {
        "id": "2HDnnXzowaAr"
      },
      "source": [
        "<span style=\"font-size: 20pt; font-weight: bold; color: #0098cd;\">Laboratorio: Desambiguación del sentido de las palabras</span>\n",
        "\n",
        "**Objetivos** \n",
        "\n",
        "Con este laboratorio el alumno conseguirá aplicar diferentes algoritmos basados en aprendizaje automático supervisado para desambiguar el sentido de las palabras. Además, va a aprender a utilizar la herramienta de software abierto Natural Language Toolkit (NLTK) con la que implementar tareas de procesamiento del lenguaje natural en Python.\n",
        "\n",
        "**Descripción**\n",
        "\n",
        "En este laboratorio debes desarrollar e implementar diferentes algoritmos basados en aprendizaje automático supervisado para desambiguar el sentido de las palabras en Python y utilizando la herramienta de software abierto Natural Language Toolkit (NLTK).\n",
        "\n",
        "Para preparar este laboratorio, simplemente descarga e instala **NLTK 3.3** en tu equipo.\n",
        "\n",
        "***\n",
        "Accede a NLTK 3.3 a través del aula virtual o desde la siguiente dirección web:\n",
        "https://www.nltk.org/install.html\n",
        "***\n",
        "\n",
        "NLTK requiere de Python versiones 2.7, 3.4, 3.5 o 3.6 para funcionar. Por lo que, si no tienes instalado Python, descárgalo e instálalo.\n",
        "\n",
        "***\n",
        "Accede a **Python** a través del aula virtual o desde la siguiente dirección web: https://www.python.org/downloads/\n",
        "***\n",
        "\n",
        "Asegúrate de que has instalado NLTK 3.3 adecuadamente antes de la sesión de laboratorio y de revisar el contenido teórico, Semántica léxica y temas anteriores, para tener frescos los diferentes conceptos sobre el procesamiento del lenguaje natural estudiados en esta asignatura.\n",
        "\n",
        "Durante la sesión del laboratorio debes solucionar un problema sobre desambiguación del sentido de las palabras utilizando el corpus etiquetado en inglés llamado **Senseval 2** y que viene disponible en NLTK.\n",
        "\n",
        "***\n",
        "Accede a más información sobre **Senseval 2** a través del aula virtual o desde la siguiente dirección web:\n",
        "http://www.nltk.org/howto/corpus.html \n",
        "***"
      ]
    },
    {
      "cell_type": "markdown",
      "metadata": {
        "id": "qSxTlgWewaAs"
      },
      "source": [
        "El primer paso es importar el corpus etiquetado utilizando los siguientes comandos:"
      ]
    },
    {
      "cell_type": "code",
      "source": [
        "!pip install --user -U nltk"
      ],
      "metadata": {
        "colab": {
          "base_uri": "https://localhost:8080/"
        },
        "id": "hd6Li7ZFwfDt",
        "outputId": "ed31c1b2-6ef4-4c0b-cc3c-1e70d2615398"
      },
      "execution_count": null,
      "outputs": [
        {
          "output_type": "stream",
          "name": "stdout",
          "text": [
            "Requirement already satisfied: nltk in /usr/local/lib/python3.7/dist-packages (3.2.5)\n",
            "Collecting nltk\n",
            "  Downloading nltk-3.7-py3-none-any.whl (1.5 MB)\n",
            "\u001b[K     |████████████████████████████████| 1.5 MB 14.3 MB/s \n",
            "\u001b[?25hRequirement already satisfied: tqdm in /usr/local/lib/python3.7/dist-packages (from nltk) (4.64.0)\n",
            "Requirement already satisfied: joblib in /usr/local/lib/python3.7/dist-packages (from nltk) (1.1.0)\n",
            "Requirement already satisfied: click in /usr/local/lib/python3.7/dist-packages (from nltk) (7.1.2)\n",
            "Collecting regex>=2021.8.3\n",
            "  Downloading regex-2022.4.24-cp37-cp37m-manylinux_2_17_x86_64.manylinux2014_x86_64.whl (749 kB)\n",
            "\u001b[K     |████████████████████████████████| 749 kB 52.5 MB/s \n",
            "\u001b[?25hInstalling collected packages: regex, nltk\n",
            "\u001b[33m  WARNING: The script nltk is installed in '/root/.local/bin' which is not on PATH.\n",
            "  Consider adding this directory to PATH or, if you prefer to suppress this warning, use --no-warn-script-location.\u001b[0m\n",
            "Successfully installed nltk-3.7 regex-2022.4.24\n"
          ]
        }
      ]
    },
    {
      "cell_type": "code",
      "execution_count": null,
      "metadata": {
        "colab": {
          "base_uri": "https://localhost:8080/"
        },
        "id": "ma-cvvxFwaAt",
        "outputId": "41b910d1-cdfb-41c0-f33e-3a42842f6ae4"
      },
      "outputs": [
        {
          "output_type": "stream",
          "name": "stdout",
          "text": [
            "[nltk_data] Downloading package senseval to /root/nltk_data...\n",
            "[nltk_data]   Unzipping corpora/senseval.zip.\n"
          ]
        },
        {
          "output_type": "execute_result",
          "data": {
            "text/plain": [
              "True"
            ]
          },
          "metadata": {},
          "execution_count": 4
        }
      ],
      "source": [
        "import nltk\n",
        "from nltk.corpus import senseval\n",
        "\n",
        "# Descargar el cropus de senseval\n",
        "nltk.download('senseval')"
      ]
    },
    {
      "cell_type": "markdown",
      "metadata": {
        "id": "1fVrVxWGwaAu"
      },
      "source": [
        "El corpus **Senseval 2** contiene datos etiquetados que sirven para entrenar un clasificador que permita desambiguar el sentido de las palabras. Cada elemento del corpus **Senseval 2** se corresponde a una palabra ambigua. Concretamente en este laboratorio se trabajará con las palabras en inglés *«hard»* y *«serve»*, aunque en el corpus hay información de otras dos.\n",
        "\n",
        "Para poder extraer la información sobre las palabras es imprescindible la manera en la que se identifican en el corpus, es decir, sus identificadores. Con el siguiente comando, se extraen los identificadores de las palabras tratadas en el corpus. "
      ]
    },
    {
      "cell_type": "code",
      "execution_count": null,
      "metadata": {
        "scrolled": true,
        "colab": {
          "base_uri": "https://localhost:8080/"
        },
        "id": "PM4fnrrSwaAu",
        "outputId": "b652263d-b184-4139-86dd-187cadc8f466"
      },
      "outputs": [
        {
          "output_type": "execute_result",
          "data": {
            "text/plain": [
              "['hard.pos', 'interest.pos', 'line.pos', 'serve.pos']"
            ]
          },
          "metadata": {},
          "execution_count": 5
        }
      ],
      "source": [
        "senseval.fileids()"
      ]
    },
    {
      "cell_type": "markdown",
      "metadata": {
        "id": "MkzPFEbmwaAv"
      },
      "source": [
        "Para cada una de las palabras ambiguas, el corpus contiene una lista de instancias correspondientes a las ocurrencias de esa palabra. Para cada instancia se proporciona la palabra, una lista de sentidos que se aplican a la aparición de esa palabra y el contexto de la palabra. "
      ]
    },
    {
      "cell_type": "markdown",
      "metadata": {
        "id": "SGRtJ8dwwaAv"
      },
      "source": [
        "En la siguiente figura se observa el comando utilizado para visualizar la información que contiene cada instancia de la palabra ambigua *«hard»*."
      ]
    },
    {
      "cell_type": "code",
      "execution_count": null,
      "metadata": {
        "colab": {
          "base_uri": "https://localhost:8080/"
        },
        "id": "M_cCFYMiwaAv",
        "outputId": "d8aad128-3471-4c62-91c6-c1531df12cb9"
      },
      "outputs": [
        {
          "output_type": "execute_result",
          "data": {
            "text/plain": [
              "[SensevalInstance(word='hard-a', position=20, context=[('``', '``'), ('he', 'PRP'), ('may', 'MD'), ('lose', 'VB'), ('all', 'DT'), ('popular', 'JJ'), ('support', 'NN'), (',', ','), ('but', 'CC'), ('someone', 'NN'), ('has', 'VBZ'), ('to', 'TO'), ('kill', 'VB'), ('him', 'PRP'), ('to', 'TO'), ('defeat', 'VB'), ('him', 'PRP'), ('and', 'CC'), ('that', 'DT'), (\"'s\", 'VBZ'), ('hard', 'JJ'), ('to', 'TO'), ('do', 'VB'), ('.', '.'), (\"''\", \"''\")], senses=('HARD1',)), SensevalInstance(word='hard-a', position=10, context=[('clever', 'NNP'), ('white', 'NNP'), ('house', 'NNP'), ('``', '``'), ('spin', 'VB'), ('doctors', 'NNS'), (\"''\", \"''\"), ('are', 'VBP'), ('having', 'VBG'), ('a', 'DT'), ('hard', 'JJ'), ('time', 'NN'), ('helping', 'VBG'), ('president', 'NNP'), ('bush', 'NNP'), ('explain', 'VB'), ('away', 'RB'), ('the', 'DT'), ('economic', 'JJ'), ('bashing', 'NN'), ('that', 'IN'), ('low-and', 'JJ'), ('middle-income', 'JJ'), ('workers', 'NNS'), ('are', 'VBP'), ('taking', 'VBG'), ('these', 'DT'), ('days', 'NNS'), ('.', '.')], senses=('HARD1',)), ...]"
            ]
          },
          "metadata": {},
          "execution_count": 6
        }
      ],
      "source": [
        "senseval.instances('hard.pos')"
      ]
    },
    {
      "cell_type": "markdown",
      "metadata": {
        "id": "FuwfjdznwaAw"
      },
      "source": [
        "Por ejemplo, en la primera instancia (`SensevalInstance`) la palabra ambigua (`word`) es `‘hard-a’`, lo que indica que la palabra es `‘hard’` y en este caso la categoría gramatical es un adjetivo, identificado por el sufijo `‘-a’`."
      ]
    },
    {
      "cell_type": "markdown",
      "metadata": {
        "id": "IfPaa4g3waAw"
      },
      "source": [
        "El campo `position` indica la posición en la oración en la que se encuentra la palabra ambigua, en este caso la palabra `‘hard’` se encuentra en la posición 20."
      ]
    },
    {
      "cell_type": "markdown",
      "metadata": {
        "id": "TtOkhf3vwaAw"
      },
      "source": [
        "El campo `context` representa el contexto, es decir, la oración en la que se encuentra la palabra ambigua, en este ejemplo *«\"he may lose all popular support, but someone has to kill him to defeat him and that's hard to do.\"»*. El contexto viene representado por pares formados por una palabra y la correspondiente etiqueta gramatical. Por ejemplo, el par `(‘he’, ‘PRP’)` que aparece en el contexto indica que la categoría gramatical asociada a la palabra `‘he’` es un pronombre personal `‘PRP’`. "
      ]
    },
    {
      "cell_type": "markdown",
      "metadata": {
        "id": "vJhC3toJwaAw"
      },
      "source": [
        "Por último, el campo `senses` contiene los posibles sentidos de la palabra ambigua, en el ejemplo `‘HARD1’`. Los sentidos del corpus hacen referencia a los sentidos de la palabra recogidos en la base de datos de relaciones léxicas WordNet<sup>1</sup>.\n",
        "\n",
        "\n",
        "<sup>1</sup> Puede que los sentidos que aparecen en Senseval 2 difieran de los que se encuentran actualmente en WordNet, debido a la constante actualización de este. En este laboratorio no será necesario trabajar con WordNet, se menciona como información adicional."
      ]
    },
    {
      "cell_type": "markdown",
      "metadata": {
        "id": "FLBrRjAvwaAx"
      },
      "source": [
        "En este caso `‘HARD1’` hace referencia la primera definición de la palabra `‘hard’` que aparece en WordNet, a «difícil»,  *«difficult, hard (not easy; requiring great physical or mental effort to accomplish or comprehend or endure)»*. Esta información se puede obtener utilizando la interfaz de búsqueda web de WordNet cuyo resultado se muestra en la siguiente figura.\n",
        "\n",
        "***\n",
        "Accede al interfaz de búsqueda de WordNet a través del aula virtual o desde la siguiente dirección web: http://wordnetweb.princeton.edu/perl/webwn\n",
        "\n",
        "***\n",
        "\n"
      ]
    },
    {
      "cell_type": "markdown",
      "metadata": {
        "id": "JB15yA8dwaAx"
      },
      "source": [
        "**Nota:** NLTK implementa también un lector para la información disponible en la base de datos de relaciones léxicas WordNet. Aunque no es necesario para realizar esta actividad de laboratorio, WordNet se puede importar utilizando el siguiente comando:\n",
        "\n",
        "> *from nltk.corpus import wordnet*"
      ]
    },
    {
      "cell_type": "markdown",
      "metadata": {
        "id": "lXJaxkfRwaAy"
      },
      "source": [
        "En este laboratorio vas a trabajar con algoritmos basados en aprendizaje automático supervisado, por lo tanto, vas a tener que entrenar diferentes clasificadores que permitan desambiguar la palabra ambigua en inglés «interest», y vas a tener que evaluar el desempeño de los clasificadores creados.\n",
        "Además, vas a experimentar con una aproximación basada en representaciones vectoriales de palabras para resolver la ambigüedad de las palabras.\n",
        "\n",
        "Las diferentes partes que forman este laboratorio se indican a continuación."
      ]
    },
    {
      "cell_type": "markdown",
      "metadata": {
        "id": "P_N52j31waAy"
      },
      "source": [
        "<span style=\"font-size: 14pt; font-weight: bold; color: #0098cd;\">Parte 1: Análisis del corpus</span>\n",
        "\n",
        "Analiza el corpus Senseval 2 que vas a utilizar para entrenar los clasificadores. Para realizar el análisis utiliza las funcionalidades que aporta NLTK. Desarrolla el código necesario y responde a las siguientes preguntas."
      ]
    },
    {
      "cell_type": "markdown",
      "metadata": {
        "id": "Fg4ijC8iwaAz"
      },
      "source": [
        "* ¿Cuántos posibles sentidos tienen las palabras ambiguas «interest» y «line»? ¿Cuáles son esos sentidos? Para cada sentido indica la etiqueta que aparece en el corpus."
      ]
    },
    {
      "cell_type": "markdown",
      "metadata": {
        "id": "rldEIYMCwaAz"
      },
      "source": [
        "Método que a partir de la palabra ambigua, o mejor dicho del nombre del archivo del corpus `word` para la palabra ambigua, obtiene cuáles son los posibles **sentidos de la palabra ambigua**:"
      ]
    },
    {
      "cell_type": "code",
      "execution_count": null,
      "metadata": {
        "id": "9JB-nfaLwaA0"
      },
      "outputs": [],
      "source": [
        "def senses(word):\n",
        "    \"\"\"\n",
        "    This takes a target word from senseval-2 and it returns the list of possible senses for the word\n",
        "    \"\"\"\n",
        "    return list(set(i.senses[0] for i in senseval.instances(word)))"
      ]
    },
    {
      "cell_type": "markdown",
      "metadata": {
        "id": "y67z_zf5waA0"
      },
      "source": [
        "Mostrar los sentidos de las palabras ambiguas:"
      ]
    },
    {
      "cell_type": "code",
      "execution_count": null,
      "metadata": {
        "colab": {
          "base_uri": "https://localhost:8080/"
        },
        "id": "hSp7iohxwaA1",
        "outputId": "a70f90e5-391b-434a-dcd3-47750af8ccb8"
      },
      "outputs": [
        {
          "output_type": "execute_result",
          "data": {
            "text/plain": [
              "['interest_4',\n",
              " 'interest_6',\n",
              " 'interest_3',\n",
              " 'interest_5',\n",
              " 'interest_1',\n",
              " 'interest_2']"
            ]
          },
          "metadata": {},
          "execution_count": 8
        }
      ],
      "source": [
        "senses('interest.pos')"
      ]
    },
    {
      "cell_type": "code",
      "execution_count": null,
      "metadata": {
        "colab": {
          "base_uri": "https://localhost:8080/"
        },
        "id": "sSwb35dDwaA1",
        "outputId": "f5ded632-129c-468b-8e04-4f1f4fd4ec6a"
      },
      "outputs": [
        {
          "output_type": "execute_result",
          "data": {
            "text/plain": [
              "['phone', 'division', 'cord', 'formation', 'text', 'product']"
            ]
          },
          "metadata": {},
          "execution_count": 9
        }
      ],
      "source": [
        "senses('line.pos')"
      ]
    },
    {
      "cell_type": "code",
      "source": [
        "senseval.instances('interest.pos')[0]"
      ],
      "metadata": {
        "colab": {
          "base_uri": "https://localhost:8080/"
        },
        "id": "KWJezFLV53Ef",
        "outputId": "2f88d52e-3712-4558-c2f4-b428782b3469"
      },
      "execution_count": null,
      "outputs": [
        {
          "output_type": "execute_result",
          "data": {
            "text/plain": [
              "SensevalInstance(word='interest-n', position=18, context=[('yields', 'NNS'), ('on', 'IN'), ('money-market', 'JJ'), ('mutual', 'JJ'), ('funds', 'NNS'), ('continued', 'VBD'), ('to', 'TO'), ('slide', 'VB'), (',', ','), ('amid', 'IN'), ('signs', 'VBZ'), ('that', 'IN'), ('portfolio', 'NN'), ('managers', 'NNS'), ('expect', 'VBP'), ('further', 'JJ'), ('declines', 'NNS'), ('in', 'IN'), ('interest', 'NN'), ('rates', 'NNS'), ('.', '.')], senses=('interest_6',))"
            ]
          },
          "metadata": {},
          "execution_count": 10
        }
      ]
    },
    {
      "cell_type": "code",
      "source": [
        "len(senseval.instances('line.pos'))"
      ],
      "metadata": {
        "colab": {
          "base_uri": "https://localhost:8080/"
        },
        "id": "rhTm4Udi6RZ6",
        "outputId": "9db839c8-0f09-45ea-bede-4c9c77d2ec06"
      },
      "execution_count": null,
      "outputs": [
        {
          "output_type": "execute_result",
          "data": {
            "text/plain": [
              "4146"
            ]
          },
          "metadata": {},
          "execution_count": 11
        }
      ]
    },
    {
      "cell_type": "markdown",
      "metadata": {
        "id": "9HWnjEFewaA2"
      },
      "source": [
        "* ¿Cuántas instancias hay en el corpus para cada uno de los sentidos de las palabras ambiguas «interest» y «line»? Es decir, cuantas oraciones hay en el corpus etiquetadas con cada uno de los sentidos."
      ]
    },
    {
      "cell_type": "markdown",
      "metadata": {
        "id": "3R3ARAqUwaA3"
      },
      "source": [
        "Método que obtiene todas las **instancias de un posible sentido de la palabra ambigua** a partir de la lista de instancias de una palabra `instances` y el nombre del sentido palabra ambigua `sense`:"
      ]
    },
    {
      "cell_type": "code",
      "execution_count": null,
      "metadata": {
        "id": "AhkqJqZxwaA3"
      },
      "outputs": [],
      "source": [
        "def sense_instances(instances, sense):\n",
        "    \"\"\"\n",
        "    This returns the list of instances in instances that have the sense sense\n",
        "    \"\"\"\n",
        "    return [instance for instance in instances if instance.senses[0]==sense]"
      ]
    },
    {
      "cell_type": "code",
      "execution_count": null,
      "metadata": {
        "colab": {
          "base_uri": "https://localhost:8080/"
        },
        "id": "TkwapGBAwaA3",
        "outputId": "89434f12-f59d-4771-b71d-c0a612a122d5"
      },
      "outputs": [
        {
          "output_type": "stream",
          "name": "stdout",
          "text": [
            "interest.pos instances:\n",
            "interest_4 -> 178\n",
            "interest_6 -> 1252\n",
            "interest_3 -> 66\n",
            "interest_5 -> 500\n",
            "interest_1 -> 361\n",
            "interest_2 -> 11\n",
            "\n",
            "\n",
            "line.pos instances:\n",
            "phone -> 429\n",
            "division -> 374\n",
            "cord -> 373\n",
            "formation -> 349\n",
            "text -> 404\n",
            "product -> 2217\n",
            "\n",
            "\n"
          ]
        }
      ],
      "source": [
        "################################################## \n",
        "def get_num_instances_sense(sense_value: str):\n",
        "    print(f'{sense_value} instances:')\n",
        "    for sense in senses(sense_value):\n",
        "        print(f'{sense} -> {len(sense_instances(senseval.instances(sense_value), sense))}')\n",
        "    print('\\n')\n",
        "\n",
        "get_num_instances_sense('interest.pos')\n",
        "get_num_instances_sense('line.pos')\n",
        "##################################################"
      ]
    },
    {
      "cell_type": "markdown",
      "metadata": {
        "id": "9KnVFKuuwaA4"
      },
      "source": [
        "* En el contexto, las palabras ambiguas pueden aparecer en diferentes formas gramaticales. Por ejemplo, en el caso de la palabra ambigua *«hard»*, esta aparece tanto la forma base, el adjetivo *«hard»* como en comparativo *«harder»* y como en superlativo *«hardest»*. ¿Qué formas gramaticales aparecen en el contexto para cada una de las palabas ambiguas *«interest»* y *«line»*?"
      ]
    },
    {
      "cell_type": "markdown",
      "metadata": {
        "id": "RApbH4TtwaA4"
      },
      "source": [
        "Método que muestra las diferentes **versiones de la palabra ambigua** a partir del nombre del archivo del corpus `word` para la palabra ambiguala palabra ambigua:"
      ]
    },
    {
      "cell_type": "code",
      "execution_count": null,
      "metadata": {
        "id": "_kKkUslewaA5"
      },
      "outputs": [],
      "source": [
        "def tokens(word):\n",
        "    \"\"\"\n",
        "    This takes a target word from senseval-2 and it returns the list of possible tokens for the word\n",
        "    \"\"\"\n",
        "    token = set()\n",
        "    for inst in senseval.instances(word)[:]:\n",
        "        token.update([w for (w,t) in inst.context[inst.position:inst.position + 1]])\n",
        "    return list(token)"
      ]
    },
    {
      "cell_type": "markdown",
      "metadata": {
        "id": "G9S23uAxwaA5"
      },
      "source": [
        "Mostrar las diferentes versiones de la palabra ambigua"
      ]
    },
    {
      "cell_type": "code",
      "execution_count": null,
      "metadata": {
        "colab": {
          "base_uri": "https://localhost:8080/"
        },
        "id": "041wZS5iwaA5",
        "outputId": "0229f632-7245-441c-f264-cb20dfee61a4"
      },
      "outputs": [
        {
          "output_type": "execute_result",
          "data": {
            "text/plain": [
              "['interests', 'interest']"
            ]
          },
          "metadata": {},
          "execution_count": 15
        }
      ],
      "source": [
        "tokens('interest.pos')"
      ]
    },
    {
      "cell_type": "code",
      "execution_count": null,
      "metadata": {
        "colab": {
          "base_uri": "https://localhost:8080/"
        },
        "id": "l52BkBzRwaA5",
        "outputId": "3fdbdc91-f03f-4828-c64a-67dca81b7995"
      },
      "outputs": [
        {
          "output_type": "execute_result",
          "data": {
            "text/plain": [
              "['lines', 'lined', 'line']"
            ]
          },
          "metadata": {},
          "execution_count": 16
        }
      ],
      "source": [
        "tokens('line.pos')"
      ]
    },
    {
      "cell_type": "markdown",
      "metadata": {
        "id": "P13XAXx9waA5"
      },
      "source": [
        "* ¿Tienen todas las instancias que forman el corpus el formato que se ha descrito anteriormente? Si hay alguna instancia que no cumpla con ese formato, indica cuales serían las incongruencias que presenta y muestra algunos ejemplos."
      ]
    },
    {
      "cell_type": "code",
      "execution_count": null,
      "metadata": {
        "id": "deEDf41JwaA6"
      },
      "outputs": [],
      "source": [
        "################################################## \n",
        "\n",
        "# Buscar si alguna instancia no tiene un formato correcto, en este caso,\n",
        "# si alguna no tiene formato de tupla\n",
        "\n",
        "for sense in senses('interest.pos'):\n",
        "    instances = sense_instances(senseval.instances('interest.pos'), sense)\n",
        "    for instance in instances:\n",
        "        for element in instance.context:\n",
        "            if type(element) is not tuple or len(element) != 2:\n",
        "                print(f'---{element}----')\n",
        "                print(instance)\n",
        "##################################################"
      ]
    },
    {
      "cell_type": "markdown",
      "metadata": {
        "id": "5aCr-X-_waA6"
      },
      "source": [
        "No se han encontrado instancias que no tengan el formato de tupla con longitud de 2"
      ]
    },
    {
      "cell_type": "markdown",
      "metadata": {
        "id": "SD6ttBv8waA6"
      },
      "source": [
        "<span style=\"font-size: 14pt; font-weight: bold; color: #0098cd;\">Parte 2: Extracción de características</span>\n",
        "\n",
        "Para poder entrenar un clasificador es necesario extraer un conjunto de características lingüísticas a partir del corpus etiquetado. Por lo tanto, debes crear el código en Python que te permita extraer diferentes conjuntos de características a partir de Senseval 2. \n"
      ]
    },
    {
      "cell_type": "markdown",
      "metadata": {
        "id": "ewjUuuNDwaA6"
      },
      "source": [
        "### Extracción de características basada en las palabras vecinas"
      ]
    },
    {
      "cell_type": "markdown",
      "metadata": {
        "id": "6RLbPZgtwaA6"
      },
      "source": [
        "Debes extraer un **conjunto de características basado en las palabras vecinas**. Para una instancia del corpus, debes desarrollar el código que sea capaz de extraer el vector de características que indican si las palabras de un vocabulario, que se debe construir previamente, aparecen o no en el contexto (la oración completa en que aparece la palabra ambigua).\n"
      ]
    },
    {
      "cell_type": "markdown",
      "metadata": {
        "id": "oBVYGaoiwaA6"
      },
      "source": [
        "Para una instancia de la palaba ambigua «interest» su contexto se muestra a continuación:"
      ]
    },
    {
      "cell_type": "code",
      "execution_count": null,
      "metadata": {
        "id": "IDmsmfHOwaA6"
      },
      "outputs": [],
      "source": [
        "instances_interest = senseval.instances('interest.pos')"
      ]
    },
    {
      "cell_type": "code",
      "execution_count": null,
      "metadata": {
        "id": "x9O0g4fvwaA7"
      },
      "outputs": [],
      "source": [
        "inst_interest_1 = instances_interest[1]"
      ]
    },
    {
      "cell_type": "code",
      "execution_count": null,
      "metadata": {
        "colab": {
          "base_uri": "https://localhost:8080/"
        },
        "id": "81WUNvOWwaA7",
        "outputId": "d9c512de-2608-4e1c-8ee2-91e6b7fdffb0"
      },
      "outputs": [
        {
          "output_type": "execute_result",
          "data": {
            "text/plain": [
              "[('longer', 'RB'),\n",
              " ('maturities', 'NNS'),\n",
              " ('are', 'VBP'),\n",
              " ('thought', 'VBN'),\n",
              " ('to', 'TO'),\n",
              " ('indicate', 'VB'),\n",
              " ('declining', 'VBG'),\n",
              " ('interest', 'NN'),\n",
              " ('rates', 'NNS'),\n",
              " ('because', 'IN'),\n",
              " ('they', 'PRP'),\n",
              " ('permit', 'VBP'),\n",
              " ('portfolio', 'NN'),\n",
              " ('managers', 'NNS'),\n",
              " ('to', 'TO'),\n",
              " ('retain', 'VB'),\n",
              " ('relatively', 'RB'),\n",
              " ('higher', 'JJR'),\n",
              " ('rates', 'NNS'),\n",
              " ('for', 'IN'),\n",
              " ('a', 'DT'),\n",
              " ('longer', 'RB'),\n",
              " ('period', 'NN'),\n",
              " ('.', '.')]"
            ]
          },
          "metadata": {},
          "execution_count": 20
        }
      ],
      "source": [
        "inst_interest_1.context"
      ]
    },
    {
      "cell_type": "markdown",
      "metadata": {
        "id": "y_XWauKswaA7"
      },
      "source": [
        "Suponiendo que el vocabulario usado para crear extraer las características es el siguiente:"
      ]
    },
    {
      "cell_type": "markdown",
      "metadata": {
        "id": "vjFrDJspwaA7"
      },
      "source": [
        "`['rates', 'million', 'mr', 'company', 'u', 'rate']`"
      ]
    },
    {
      "cell_type": "markdown",
      "metadata": {
        "id": "bqsf4YCfwaA7"
      },
      "source": [
        "Entonces el vector de características extraídas para esa instancia sería:"
      ]
    },
    {
      "cell_type": "markdown",
      "metadata": {
        "id": "80fuq_hpwaA7"
      },
      "source": [
        "`{'contains(rates)': True, \n",
        "'contains(million)': False, \n",
        "'contains(mr)': False, \n",
        "'contains(company)': False, \n",
        "'contains(u)': False, \n",
        "'contains(rate)': False}`"
      ]
    },
    {
      "cell_type": "markdown",
      "metadata": {
        "id": "U1nRxJrUwaA7"
      },
      "source": [
        "Este vector de características indica que en el contexto de la palabra ambigua aparece la palabra *«rates»* y no aparecen las palabras *«million»*, *«mr»*, *«company»*, *«u»* y *«rate»*."
      ]
    },
    {
      "cell_type": "markdown",
      "metadata": {
        "id": "87gJ1vKewaA8"
      },
      "source": [
        "Para extraer el vector de características basado en las palabras vecinas debes seguir los siguientes pasos:"
      ]
    },
    {
      "cell_type": "markdown",
      "metadata": {
        "id": "-z4G2SBiwaA8"
      },
      "source": [
        "#### 1. Construcción del vocabulario o bags of words. \n",
        "\n",
        "Como ya se ha indicado, para poder obtener el vector de características, se debe construir previamente un vocabulario. Para cada una de las palabras del vocabulario, se debe consultar si la palabra aparece en el contexto de la palabra ambigua. Si la palabra del vocabulario aparece en el contexto entonces en el vector de características aparecerá True para esa palabra y si no, False. "
      ]
    },
    {
      "cell_type": "markdown",
      "metadata": {
        "id": "-qhxhHtgwaA8"
      },
      "source": [
        "Tomemos como ejemplo un vocabulario creado sobre el que se ha construido el vector de características. Este vocabulario es `['rates', 'million', 'mr', 'company', 'u', 'rate']`. Este vocabulario se usará posteriormente para construir el vector de características del ejemplo que usamos para darte una orientación."
      ]
    },
    {
      "cell_type": "markdown",
      "metadata": {
        "id": "2R9OvLWqwaA8"
      },
      "source": [
        "- **¿Cómo construyo mi vocabulario o bags of words?** Lo que debes hacer para tu entrega de este laboratorio es utilizar como vocabulario las m palabras más frecuentes que aparecen en las instancias que conforman el conjunto de datos, es decir en las oraciones que contienen las palabras ambiguas y que forman parte del corpus. Entonces, para crear la **bag of words** (bolsa de palabras) debes extraer el conjunto de las n palabras más frecuentes. Para ello te puedes ayudar de la función `nltk.FreqDist()` que proporciona información sobre la distribución de frecuencias de las palabras que aparecen en un texto. "
      ]
    },
    {
      "cell_type": "markdown",
      "metadata": {
        "id": "BnoXvJvkwaA8"
      },
      "source": [
        "- Cuando obtengas las palabras más frecuentes, debes eliminar los signos que puntuación y las palabras vacías (aquellas sin significado como artículos, pronombres o preposiciones, las llamadas stop words en inglés). También debes eliminar las diferentes formas gramaticales de la palabra ambigua, por ejemplo, para desambiguar la palabra *«hard»* no tendría sentido utilizar la palabra *«harder»* ni la palabra *«hardest»*. Esto debes adecuarlo a la palabra ambigua *«interest»*."
      ]
    },
    {
      "cell_type": "markdown",
      "metadata": {
        "id": "6pJEWGAEwaA8"
      },
      "source": [
        "- Para la eliminación del conjunto de palabras no útiles del vocabulario se puede usar un código parecido al que se indica a continuación. Debes tener en cuenta que **en el código faltaría añadir las palabras que has identificado en la Parte 1** de este laboratorio como las diferentes formas gramaticales de las palabras ambiguas."
      ]
    },
    {
      "cell_type": "code",
      "execution_count": null,
      "metadata": {
        "colab": {
          "base_uri": "https://localhost:8080/"
        },
        "id": "G3v7qKMFwaA8",
        "outputId": "5cab8469-949e-489e-f9c0-8b0f14b20723"
      },
      "outputs": [
        {
          "output_type": "stream",
          "name": "stdout",
          "text": [
            "[nltk_data] Downloading package stopwords to /root/nltk_data...\n",
            "[nltk_data]   Unzipping corpora/stopwords.zip.\n"
          ]
        }
      ],
      "source": [
        "from nltk.corpus import stopwords\n",
        "import string\n",
        "nltk.download('stopwords')\n",
        "OTHER_WORDS = [\"''\", \"'d\", \"'ll\", \"'m\", \"'re\", \"'s\", \"'t\", \"'ve\", '--', '000', '1', '2', '3', '4', '5', '6', '8', '10', '15', '30', 'I', 'F', '``', 'also', \"don'\", 'n', 'one', 'said', 'say', 'says', 'u', 'us']\n",
        "STOPWORDS_SET = set(stopwords.words('english')).union(set(string.punctuation), set(OTHER_WORDS))"
      ]
    },
    {
      "cell_type": "markdown",
      "metadata": {
        "id": "5QofwXEzwaA8"
      },
      "source": [
        "- Ejemplo de vocabulario para un tamaño de 6. Por ejemplo, si se quiere entrenar un clasificador que permita identificar los diferentes sentidos de la palabra «hard» y se utilizan para entrenar y validar el modelo las instancias etiquetadas para esta palabra, la bolsa de palabras en el caso de considerar las seis palabras más frecuentes (m=6) sería la `['time', 'would', 'get', 'work', 'find', 'make']`. Mientras que para la palabra «interest» sería la presentada anteriormente `['rates', 'million', 'mr', 'company', 'u', 'rate']`."
      ]
    },
    {
      "cell_type": "markdown",
      "metadata": {
        "id": "t99D78zWwaA8"
      },
      "source": [
        "Método que devuelve el **vocabulario** formado por las `m` palabras más frecuentes en el contexto de una palabra ambigua a partir de un conjunto de instancias `instances` y el conjunto de palabras no útiles `stopwords` (Nota: Recuerda que se deben eliminar las diferentes formas gramaticales de la palabra ambigua):"
      ]
    },
    {
      "cell_type": "code",
      "execution_count": null,
      "metadata": {
        "id": "RZdTk7dbwaA9"
      },
      "outputs": [],
      "source": [
        "def extract_vocab(instances, stopwords=STOPWORDS_SET, m=250):\n",
        "    \"\"\"\n",
        "    Given a list of senseval instances, return a list of the m most frequent words that\n",
        "    appears in its context (i.e., the sentence with the target word in), output is in order\n",
        "    of frequency.\n",
        "    \"\"\"\n",
        "    return [w for w,f in extract_vocab_frequency(instances,stopwords,m)]"
      ]
    },
    {
      "cell_type": "code",
      "execution_count": null,
      "metadata": {
        "id": "WhL7QzWQwaA9"
      },
      "outputs": [],
      "source": [
        "def extract_vocab_frequency(instances, stopwords=STOPWORDS_SET, m=250):\n",
        "    \"\"\"\n",
        "    Given a list of senseval instances, return a list of the m most frequent words that\n",
        "    appears in its context (i.e., the sentence with the target word in), output is in order\n",
        "    of frequency and includes also the number of instances in which that key appears in the\n",
        "    context of instances.\n",
        "    \"\"\"\n",
        "    fd = nltk.FreqDist()\n",
        "    for i in instances:\n",
        "        target = i.context[i.position:i.position+1][0][0]\n",
        "        words = (c[0] for c in i.context if not c[0] == target)\n",
        "        for word in set(words) - set(stopwords):\n",
        "            fd[word] += 1\n",
        "                \n",
        "\n",
        "    ##################################################  \n",
        "    # Devolvemos las palabras más frecuentes\n",
        "    return fd.most_common()[:m]\n",
        "    ##################################################"
      ]
    },
    {
      "cell_type": "markdown",
      "metadata": {
        "id": "H3qnF4_iwaA9"
      },
      "source": [
        "Mostrar el vocabulario de tamaño de 6 para la palabra ambigua que hayas elegido *«interest»* o *«line»*, es decir el vocabulario creado usando las instancias de tu palabra ambigua."
      ]
    },
    {
      "cell_type": "code",
      "execution_count": null,
      "metadata": {
        "id": "JSygLkR2waA9"
      },
      "outputs": [],
      "source": [
        "vocab_6 = extract_vocab(instances_interest, STOPWORDS_SET, m=6)"
      ]
    },
    {
      "cell_type": "code",
      "execution_count": null,
      "metadata": {
        "colab": {
          "base_uri": "https://localhost:8080/"
        },
        "id": "kN_c960dwaA9",
        "outputId": "2f3cd0d2-e965-4f36-cccc-753be7d19900"
      },
      "outputs": [
        {
          "output_type": "execute_result",
          "data": {
            "text/plain": [
              "['rates', 'million', 'mr', 'company', 'rate', 'would']"
            ]
          },
          "metadata": {},
          "execution_count": 25
        }
      ],
      "source": [
        "vocab_6"
      ]
    },
    {
      "cell_type": "markdown",
      "metadata": {
        "id": "MXmweoMvwaA9"
      },
      "source": [
        "#### 2. Construcción del conjunto de características basado en palabras vecinas. "
      ]
    },
    {
      "cell_type": "markdown",
      "metadata": {
        "id": "mH_ZIc3bwaA9"
      },
      "source": [
        "Utiliza un diccionario en Python para guardar el conjunto de características. La clave del diccionario serán las palabras del vocabulario y el valor debe ser un booleano para indicar la aparición o no de las palabras en el contexto. Por ejemplo, en el vector de características `{'contains(rates)': True, 'contains(million)': False, 'contains(mr)': False, 'contains(company)': False, 'contains(u)': False, 'contains(rate)': False}` una de las claves del diccionario es `'contains(rates)'` y su valor es `True`  lo que indica que en el contexto de la palabra ambigua aparece la palabra *«rates»*."
      ]
    },
    {
      "cell_type": "markdown",
      "metadata": {
        "id": "ZU9TFU_CwaA-"
      },
      "source": [
        "- Debes mostrar el vector de características resultante para una de las instancias del corpus. "
      ]
    },
    {
      "cell_type": "markdown",
      "metadata": {
        "id": "T17s5MCCwaA-"
      },
      "source": [
        "- **Importante:** En el cómputo del vector de características basado en las palabras vecinas debes utilizar como contexto la oración completa donde aparece la palabra ambigua. Es decir, todas las palabras que forman la oración guardada en el campo  `context` de la instancia."
      ]
    },
    {
      "cell_type": "markdown",
      "metadata": {
        "id": "S9lG0F4LwaA-"
      },
      "source": [
        "Método que devuelve el conjunto de características basado en palabras vecinas para una instancia `instance` a partir de un vocabulario `vocab` (Nota: el parámetro `dist` no debes usarlo):"
      ]
    },
    {
      "cell_type": "code",
      "execution_count": null,
      "metadata": {
        "id": "F04f0MUMwaA-"
      },
      "outputs": [],
      "source": [
        "from nltk.util import elementtree_indent\n",
        "def wsd_caracteristicas_palabras_vecinas(instance, vocab, dist=2):\n",
        "    \"\"\"\n",
        "    Create a featureset where every key returns False unless it occurs in the\n",
        "    instance's context\n",
        "    \"\"\"\n",
        "    features = {}\n",
        "    \n",
        "    try:\n",
        "        for w in vocab:\n",
        "            ################################################## \n",
        "            key = f'contains({w})' \n",
        "            element = [elem for (elem, _) in instance.context]\n",
        "            hasWord = w in element\n",
        "            features[key] = hasWord\n",
        "            ##################################################\n",
        "                \n",
        "    except ValueError:\n",
        "        pass\n",
        "    return features"
      ]
    },
    {
      "cell_type": "markdown",
      "metadata": {
        "id": "VvJ0CMc_waA-"
      },
      "source": [
        "Mostrar el vector de características basado en palabras vecinas para una de las instancias del corpus usando el vocabulario de seis palabras calculado previamente. "
      ]
    },
    {
      "cell_type": "code",
      "execution_count": null,
      "metadata": {
        "colab": {
          "base_uri": "https://localhost:8080/"
        },
        "id": "u6qREIvlwaA-",
        "outputId": "51c50797-a84f-4472-bc4b-e38a78ba536e"
      },
      "outputs": [
        {
          "output_type": "execute_result",
          "data": {
            "text/plain": [
              "{'contains(company)': False,\n",
              " 'contains(million)': False,\n",
              " 'contains(mr)': False,\n",
              " 'contains(rate)': False,\n",
              " 'contains(rates)': True,\n",
              " 'contains(would)': False}"
            ]
          },
          "metadata": {},
          "execution_count": 27
        }
      ],
      "source": [
        "wsd_caracteristicas_palabras_vecinas(inst_interest_1, vocab_6, 0)"
      ]
    },
    {
      "cell_type": "markdown",
      "metadata": {
        "id": "7hHN5BhZwaA-"
      },
      "source": [
        "### Extracción de características basada en características de colocación"
      ]
    },
    {
      "cell_type": "markdown",
      "metadata": {
        "id": "W9IHPBAuwaA-"
      },
      "source": [
        "Debes extraer también un **conjunto de características de colocación**. Para una instancia del corpus, debes desarrollar el código que sea capaz de extraer el vector de características formado por la secuencia de n palabras que ocurren antes de la palabra ambigua y la secuencia de n palabras que ocurren después de la palabra ambigua, los llamados n-gramas."
      ]
    },
    {
      "cell_type": "markdown",
      "metadata": {
        "id": "eHOD-xTKwaA-"
      },
      "source": [
        "Para una instancia de la palaba ambigua «hard» su contexto se muestra a continuación:"
      ]
    },
    {
      "cell_type": "code",
      "execution_count": null,
      "metadata": {
        "id": "XK1vFeBFwaA-"
      },
      "outputs": [],
      "source": [
        "inst_interest_10 = instances_interest[10]"
      ]
    },
    {
      "cell_type": "code",
      "execution_count": null,
      "metadata": {
        "colab": {
          "base_uri": "https://localhost:8080/"
        },
        "id": "1YpkkJgVwaA_",
        "outputId": "30b8b9e0-f17a-48df-e901-72332e9b08c9"
      },
      "outputs": [
        {
          "output_type": "execute_result",
          "data": {
            "text/plain": [
              "[('the', 'DT'),\n",
              " ('purchases', 'NNS'),\n",
              " ('show', 'VBP'),\n",
              " ('the', 'DT'),\n",
              " ('strong', 'JJ'),\n",
              " ('interest', 'NN'),\n",
              " ('of', 'IN'),\n",
              " ('japanese', 'NN'),\n",
              " ('investors', 'NNS'),\n",
              " ('in', 'IN'),\n",
              " ('u', 'PRP'),\n",
              " ('.', '.'),\n",
              " ('s', 'PRP'),\n",
              " ('.', '.'),\n",
              " ('mortgage-based', 'JJ'),\n",
              " ('instruments', 'NNS'),\n",
              " (',', ','),\n",
              " ('fannie', 'NN'),\n",
              " ('mae', 'NN'),\n",
              " (\"'s\", 'POS'),\n",
              " ('chairman', 'NN'),\n",
              " (',', ','),\n",
              " ('david', 'JJ'),\n",
              " ('o', 'IN'),\n",
              " ('.', '.'),\n",
              " ('maxwell', 'NN'),\n",
              " (',', ','),\n",
              " ('said', 'VBD'),\n",
              " ('at', 'IN'),\n",
              " ('a', 'DT'),\n",
              " ('news', 'NN'),\n",
              " ('conference', 'NN'),\n",
              " ('.', '.')]"
            ]
          },
          "metadata": {},
          "execution_count": 29
        }
      ],
      "source": [
        "inst_interest_10.context"
      ]
    },
    {
      "cell_type": "markdown",
      "metadata": {
        "id": "46-V8R6jwaA_"
      },
      "source": [
        "Entonces el vector de características de colocación para el bigrama anterior y posterior sería:"
      ]
    },
    {
      "cell_type": "markdown",
      "metadata": {
        "id": "CjDQ9JAzwaA_"
      },
      "source": [
        "`{'previous(the strong)': True, 'next(of japanese)': True}` "
      ]
    },
    {
      "cell_type": "markdown",
      "metadata": {
        "id": "ytsw7dZvwaA_"
      },
      "source": [
        "Este vector de características indica que antes de la palabra ambigua se encuentran las palabras *«the strong»* y después de la palabra ambigua las palabras *«of japanese»*. "
      ]
    },
    {
      "cell_type": "markdown",
      "metadata": {
        "id": "xTsA6udUwaA_"
      },
      "source": [
        "- **¿Cómo construyo mi conjunto y que n utilizo?** Utiliza un diccionario en Python para guardar el conjunto de características, la clave del diccionario debe indicar la secuencia de palabras de contexto y si aparecen antes o después de la palabra ambigua y el valor asociado a la clave debe ser un booleano verdadero. Usaremos **n=2**."
      ]
    },
    {
      "cell_type": "markdown",
      "metadata": {
        "id": "uJY6unQbwaA_"
      },
      "source": [
        "- Por ejemplo, en el vector de características `{'previous(the strong)': True, 'next(of japanese)': True}` una de las claves del diccionario es `'previous(the strong)'` y su valor es `True` lo que indica que antes de la palabra ambigua se encuentran las palabras *«the strong»*. En este caso, al tener secuencias de dos palabras (*n=2*), se están considerando bigramas y la ventana tendría tamaño cinco (*2n+1*). Por lo tanto, si la palabra ambigua es *«interest» en el contexto guardado en el campo context de la instancia, aparece la siguiente parte de la frase «the strong interest of japanese»."
      ]
    },
    {
      "cell_type": "markdown",
      "metadata": {
        "id": "A72YcaOOwaA_"
      },
      "source": [
        "- Debes mostrar el vector de características resultante para una de las instancias del corpus."
      ]
    },
    {
      "cell_type": "markdown",
      "metadata": {
        "id": "V2H-SOd6waBA"
      },
      "source": [
        "- **Importante:** Debes tener en cuenta los posibles casos en los que la palabra ambigua aparezca al principio o final de la frase, ya que en esas instancias no vas a poder obtener una secuencia de palabras de longitud n. Por ejemplo, para la instancia cuyo contexto es: `[…('should', 'MD'), ('be', 'VB'), ('refunded', 'VBN'), (',', ','), ('plus', 'CC'), ('interest', 'NN'), ('.', '.'), …]`, si n=2 deberías obtener el siguiente vector de características: `{'previous(, plus)': True, 'next(.)': True}`."
      ]
    },
    {
      "cell_type": "markdown",
      "metadata": {
        "id": "bXfqooUXwaBA"
      },
      "source": [
        "- **Nota:** aunque no es imprescindible para realizar esta actividad de laboratorio, puedes utilizar las funcionalidades para trabajar con n-gramas que ofrece NLTK. Estas se pueden importar utilizando el siguiente comando:\n",
        "\n",
        "> *from nltk import ngrams*"
      ]
    },
    {
      "cell_type": "markdown",
      "metadata": {
        "id": "5DilzTjJwaBA"
      },
      "source": [
        "Método que devuelve el conjunto de características de colocación para una instancia `instance` usando los n-gramas anterior y posterior donde la longitud de secuencia es de `dist` palabras (Nota: el parámetro `vocab` no debes usarlo):"
      ]
    },
    {
      "cell_type": "code",
      "execution_count": null,
      "metadata": {
        "id": "kIcodVXswaBA"
      },
      "outputs": [],
      "source": [
        "def wsd_caracteristicas_colocacion(instance, vocab, dist=2):\n",
        "    features = {}\n",
        "    p = instance.position\n",
        "    con = instance.context\n",
        "\n",
        "    try:\n",
        "        ##################################################  \n",
        "        if p >= dist:\n",
        "            features[getFeatureKey(con[p - dist:p])] = True\n",
        "        elif p == 1:\n",
        "            features[getFeatureKey(con[p - 1:p])] = True\n",
        "        elif p == 0:\n",
        "            features['feature()'] = True\n",
        "        \n",
        "        con_length = len(con)\n",
        "        if p < con_length - dist:\n",
        "            features[getNextKey(con[p + 1:p + dist + 1])] = True\n",
        "        elif p == con_length - dist:\n",
        "            features[getNextKey(con[p+1:p+2])] = True\n",
        "        elif p == con_length - dist + 1:\n",
        "            features['next()'] = True\n",
        "        ##################################################\n",
        "                \n",
        "    except ValueError:\n",
        "        pass\n",
        "      \n",
        "    return features\n",
        "\n",
        "def getNextKey(listWords) -> str:\n",
        "    return f'next({getJoinnedWords(listWords)})'\n",
        "\n",
        "def getFeatureKey(listWords) -> str:\n",
        "    return f'feature({getJoinnedWords(listWords)})'\n",
        "\n",
        "def getJoinnedWords(listWords) -> str:\n",
        "    return \" \".join(w for (w, _) in listWords)"
      ]
    },
    {
      "cell_type": "markdown",
      "metadata": {
        "id": "OlVHt_9pwaBA"
      },
      "source": [
        "Mostrar el vector de características de colocación para una de las instancias del corpus usando n=2:"
      ]
    },
    {
      "cell_type": "code",
      "execution_count": null,
      "metadata": {
        "id": "8QkLdIsDwaBA",
        "colab": {
          "base_uri": "https://localhost:8080/"
        },
        "outputId": "19e268f7-8c83-47c2-9971-d8ec5c1e74aa"
      },
      "outputs": [
        {
          "output_type": "execute_result",
          "data": {
            "text/plain": [
              "{'feature(the strong)': True, 'next(of japanese)': True}"
            ]
          },
          "metadata": {},
          "execution_count": 80
        }
      ],
      "source": [
        "wsd_caracteristicas_colocacion(inst_interest_10, 0, 2)"
      ]
    },
    {
      "cell_type": "markdown",
      "metadata": {
        "id": "U1zdeUlvwaBA"
      },
      "source": [
        "<span style=\"font-size: 14pt; font-weight: bold; color: #0098cd;\">Parte 3: Entrenamiento de clasificadores</span>\n",
        "\n",
        "Debes entrenar diferentes clasificadores que permitan desambiguar la palabra ambigua en inglés «interest». Además, vas a tener que evaluar el desempeño de los clasificadores creados. Por lo tanto, debes crear el código en Python que te permita entrenar estos clasificadores y evaluarlos. \n",
        "\n",
        "El tipo de clasificador que vas a utilizar en este laboratorio es el Naive Bayes. Para importar el clasificador y el paquete que te permita evaluar su rendimiento debes utilizar el siguiente comando:"
      ]
    },
    {
      "cell_type": "code",
      "execution_count": null,
      "metadata": {
        "id": "Lu64oknfwaBB"
      },
      "outputs": [],
      "source": [
        "from nltk.classify import accuracy, NaiveBayesClassifier\n",
        "from nltk import ConfusionMatrix"
      ]
    },
    {
      "cell_type": "markdown",
      "metadata": {
        "id": "o1GpDJ4vwaBB"
      },
      "source": [
        "Una vez hayas importado los paquetes anteriores, para entrenar un clasificador Naïve Bayes puedes usar el comando `NaiveBayesClassifier.train()` y para evaluarlo `accuracy()`. Además, puedes utilizar el clasificador entrenado para clasificar una instancia utilizando su método `classify()`. Por último, puedes obtener la matriz de confusión utilizando el comando `nltk.ConfusionMatrix()`."
      ]
    },
    {
      "cell_type": "markdown",
      "metadata": {
        "id": "DYoAKZ1lwaBB"
      },
      "source": [
        "Para realizar esta parte del laboratorio debes seguir los siguientes pasos:"
      ]
    },
    {
      "cell_type": "markdown",
      "metadata": {
        "id": "N8KwmS9nwaBB"
      },
      "source": [
        "### 1.\tEntrenamiento de dos clasificadores para la palabra «interest». "
      ]
    },
    {
      "cell_type": "markdown",
      "metadata": {
        "id": "2TsuqR7SwaBB"
      },
      "source": [
        "Debes entrenar dos clasificadores que permitan desambiguar la palabra «interest», es decir, que debes entrenar los clasificadores utilizando las instancias disponibles en el corpus Senseval 2 para esta palabra ambigua."
      ]
    },
    {
      "cell_type": "markdown",
      "metadata": {
        "id": "SdCSqV8kwaBB"
      },
      "source": [
        "- **Conjuntos de entrenamiento y test.** Para entrenar y validar divide las instancias disponibles en una proporción del 80-20 % y recuerda que en el conjunto de datos de entrenamiento deben aparecer instancias de todas las clases. "
      ]
    },
    {
      "cell_type": "markdown",
      "metadata": {
        "id": "gSaJUyEXwaBB"
      },
      "source": [
        "- **Clasificador basado en las palabras vecinas.** Con el conjunto de datos de entrenamiento, entrena un clasificador para «interest» que use como características el conjunto basado en las **palabras vecinas** cuyo código has implementado en la parte 2 de este laboratorio. Para definir el vocabulario utiliza las **250** palabras más frecuentes (**m=250**). "
      ]
    },
    {
      "cell_type": "markdown",
      "metadata": {
        "id": "alNmE5E5waBB"
      },
      "source": [
        "- **Clasificador basado en características de colocación.** Con el conjunto de datos de entrenamiento, entrena un clasificador para «interest» que use como conjunto de características las de colocación cuyo código has implementado en la parte 2 de este laboratorio. Para definir la **ventana de contexto** utiliza la secuencia de dos palabras que ocurren antes de la palabra ambigua y la secuencia de dos palabras que ocurren después de esta **(n=2)**."
      ]
    },
    {
      "cell_type": "code",
      "execution_count": null,
      "metadata": {
        "id": "jaeP4fx8waBB"
      },
      "outputs": [],
      "source": [
        "import random"
      ]
    },
    {
      "cell_type": "code",
      "execution_count": null,
      "metadata": {
        "id": "PHcRFz0BwaBC"
      },
      "outputs": [],
      "source": [
        "def wsd_clasificador(word, features, stopwords_list = STOPWORDS_SET, number=250, distance=2, errors=False, confusion_matrix=False):\n",
        "    \"\"\"\n",
        "    This function takes as arguments:\n",
        "        a target word from senseval2;\n",
        "        a feature set (this can be wsd_caracteristicas_palabras_vecinas or wsd_caracteristicas_colocacion);\n",
        "        a list of stopwords \n",
        "        a number (defaults to 250), which determines for wsd_caracteristicas_palabras_vecinas the number of\n",
        "            most frequent words within the context of a given sense that you use to classify examples;\n",
        "        a distance (defaults to 2) which determines the size of the window for wsd_caracteristicas_colocacion;\n",
        "        errors (defaults to false), which if set to True prints the errors;\n",
        "        confusion_matrix (defaults to False), which if set to True prints a confusion matrix.\n",
        "\n",
        "    Calling this function splits the senseval data for the word into a training set and a test set (the way it does\n",
        "    this is the same for each call of this function, because the argument to random.seed is specified,\n",
        "    but removing this argument would make the training and testing sets different each time you build a classifier).\n",
        "\n",
        "    It then trains the trainer on the training set to create a classifier that performs WSD on the word,\n",
        "    using features (with number or distance where relevant).\n",
        "\n",
        "    It then tests the classifier on the test set, and prints its accuracy on that set.\n",
        "\n",
        "    If error==True, then the errors of the classifier over the test set are printed out.\n",
        "    For each error four things are recorded: (i) the example number within the test data (this is simply the index of the\n",
        "    example within the list test_data); (ii) the sentence that the target word appeared in, (iii) the\n",
        "    (incorrect) derived label, and (iv) the good label.\n",
        "\n",
        "    If confusion_matrix==True, then calling this function prints out a confusion matrix, where each cell [i,j]\n",
        "    indicates how often label j was predicted when the correct label was i (so the diagonal entries indicate labels\n",
        "    that were correctly predicted).\n",
        "    \"\"\"\n",
        "    \n",
        "    events = [(i, i.senses[0]) for i in senseval.instances(word)]\n",
        "    senses = list(set(l for (i, l) in events))\n",
        "    instances = [i for (i, l) in events]\n",
        " \n",
        "    # Extract the vocabulary\n",
        "    vocab = extract_vocab(instances, stopwords=stopwords_list, m=number)\n",
        "\n",
        "    # Split the instances into a training and test set    \n",
        "    n = len(events)\n",
        "    random.seed(5444522)\n",
        "    random.shuffle(events)\n",
        "    training_data = events[:int(0.8 * n)]\n",
        "    test_data = events[int(0.8 * n):n]\n",
        "\n",
        "    \n",
        "    # Train classifier\n",
        "    prepare_data = lambda data: [\n",
        "        (features(index, vocab, distance), label) for (index, label) in data\n",
        "    ]\n",
        "\n",
        "    ##################################################  \n",
        "    classifier = NaiveBayesClassifier.train(prepare_data(training_data))\n",
        "    ##################################################\n",
        "    \n",
        "    # Test classifier\n",
        "    ##################################################\n",
        "    acc =  accuracy(classifier, prepare_data(test_data))\n",
        "    ##################################################\n",
        "       \n",
        "    print('Accuracy: %6.4f' % acc)\n",
        "    \n",
        "    if errors==True:\n",
        "                 \n",
        "        errors = []\n",
        "        for (i, label) in test_data:\n",
        "            # Classify the instance\n",
        "            ##################################################\n",
        "            guess = classifier.classify(features(i, vocab, distance))\n",
        "            ##################################################\n",
        "            \n",
        "            if guess != label:\n",
        "                con =  i.context\n",
        "                position = i.position\n",
        "                item_number = str(test_data.index((i, label)))\n",
        "                word_list = []\n",
        "                for (word, tag) in con:\n",
        "                    word_list.append(word)\n",
        "                hard_highlighted = word_list[position].upper()\n",
        "                word_list_highlighted = word_list[0:position] + [hard_highlighted] + word_list[position+1:]\n",
        "                sentence = ' '.join(word_list_highlighted)\n",
        "                errors.append([item_number, sentence, guess,label])\n",
        "        error_number = len(errors)\n",
        "        \n",
        "        print('\\n' + '\\n' + 'There are ' + str(error_number) + ' errors!' + '\\n' + '----------------------------' + '\\n' + '\\n')\n",
        "        \n",
        "        for error in errors:\n",
        "            print(str(errors.index(error)+1) +') ' + 'example number: ' + error[0] + '\\n' + '    sentence: ' + error[1] + '\\n' + '    guess: ' + error[2] + ';  label: ' + error[3] + '\\n' + '\\n')\n",
        "            \n",
        "\n",
        "    if confusion_matrix==True:\n",
        "        good = [label for (i, label) in test_data]\n",
        "        derived = [classifier.classify(features(i,vocab)) for (i,label) in test_data]\n",
        "        # Get confusion matrix\n",
        "        ##################################################\n",
        "        cm = nltk.ConfusionMatrix(good, derived)\n",
        "        ##################################################\n",
        "\n",
        "        print(cm)\n",
        "    \n",
        "    \n",
        "    return classifier"
      ]
    },
    {
      "cell_type": "markdown",
      "metadata": {
        "id": "nTW5hGXZwaBC"
      },
      "source": [
        "### 2.\tValidación de los clasificadores para la palabra «interest».  "
      ]
    },
    {
      "cell_type": "markdown",
      "metadata": {
        "id": "stlxoKKewaBC"
      },
      "source": [
        "Utilizando el conjunto de datos de test que has generado previamente, obtén la exactitud (accuracy) y la matriz de confusión para cada uno de los dos clasificadores que permiten desambiguar el sentido de la palabra «interest». "
      ]
    },
    {
      "cell_type": "markdown",
      "metadata": {
        "id": "kPNrp9TrwaBC"
      },
      "source": [
        "- Debes mostrar la exactitud (accuracy) y la matriz de confusión resultantes de la validación de cada uno de los dos clasificadores."
      ]
    },
    {
      "cell_type": "code",
      "execution_count": null,
      "metadata": {
        "colab": {
          "base_uri": "https://localhost:8080/"
        },
        "id": "BzZIEdm5waBC",
        "outputId": "c97b9dbc-ba2e-4502-d82d-42afcb73bc65"
      },
      "outputs": [
        {
          "output_type": "stream",
          "name": "stdout",
          "text": [
            "Accuracy: 0.7722\n",
            "           |   i   i   i   i   i   i |\n",
            "           |   n   n   n   n   n   n |\n",
            "           |   t   t   t   t   t   t |\n",
            "           |   e   e   e   e   e   e |\n",
            "           |   r   r   r   r   r   r |\n",
            "           |   e   e   e   e   e   e |\n",
            "           |   s   s   s   s   s   s |\n",
            "           |   t   t   t   t   t   t |\n",
            "           |   _   _   _   _   _   _ |\n",
            "           |   1   2   3   4   5   6 |\n",
            "-----------+-------------------------+\n",
            "interest_1 | <52>  .   .   9   5  12 |\n",
            "interest_2 |   2  <.>  .   .   .   1 |\n",
            "interest_3 |   8   .  <5>  2   .   . |\n",
            "interest_4 |  13   .   1 <14>  2   4 |\n",
            "interest_5 |  17   .   3   4 <63>  2 |\n",
            "interest_6 |   8   2   2   1  10<232>|\n",
            "-----------+-------------------------+\n",
            "(row = reference; col = test)\n",
            "\n"
          ]
        }
      ],
      "source": [
        "clasificador_interest_vecinas = wsd_clasificador('interest.pos', wsd_caracteristicas_palabras_vecinas, number=250, errors=False, confusion_matrix=True)"
      ]
    },
    {
      "cell_type": "code",
      "execution_count": null,
      "metadata": {
        "colab": {
          "base_uri": "https://localhost:8080/"
        },
        "id": "qX9E_LbAwaBD",
        "outputId": "f3bc2cc6-4dc9-4d9f-96d4-db82a915781a"
      },
      "outputs": [
        {
          "output_type": "stream",
          "name": "stdout",
          "text": [
            "Accuracy: 0.6709\n",
            "           |   i   i   i   i   i   i |\n",
            "           |   n   n   n   n   n   n |\n",
            "           |   t   t   t   t   t   t |\n",
            "           |   e   e   e   e   e   e |\n",
            "           |   r   r   r   r   r   r |\n",
            "           |   e   e   e   e   e   e |\n",
            "           |   s   s   s   s   s   s |\n",
            "           |   t   t   t   t   t   t |\n",
            "           |   _   _   _   _   _   _ |\n",
            "           |   1   2   3   4   5   6 |\n",
            "-----------+-------------------------+\n",
            "interest_1 | <26>  3   1   2  12  34 |\n",
            "interest_2 |   1  <.>  .   .   .   2 |\n",
            "interest_3 |   1   .  <4>  2   1   7 |\n",
            "interest_4 |   2   2   . <16>  2  12 |\n",
            "interest_5 |   3   9   .   4 <51> 22 |\n",
            "interest_6 |   2  27   2   2   1<221>|\n",
            "-----------+-------------------------+\n",
            "(row = reference; col = test)\n",
            "\n"
          ]
        }
      ],
      "source": [
        "clasificador_interest_colocacion = wsd_clasificador('interest.pos', wsd_caracteristicas_colocacion, distance=2, errors=False, confusion_matrix=True)"
      ]
    },
    {
      "cell_type": "markdown",
      "metadata": {
        "id": "nZZNDF5OwaBD"
      },
      "source": [
        "Debes comparar y analizar los resultados de rendimiento de los clasificadores. Para ello responde a las siguientes preguntas:"
      ]
    },
    {
      "cell_type": "markdown",
      "metadata": {
        "id": "pbBTOf5ywaBD"
      },
      "source": [
        "- ¿Cuál es el conjunto de características que aporta mejores resultados? ¿Por qué? "
      ]
    },
    {
      "cell_type": "markdown",
      "metadata": {
        "id": "O6n2OKg9waBD"
      },
      "source": [
        "El de colocación, para desabiguar parece que tiene más contexto mediante la colocacón."
      ]
    },
    {
      "cell_type": "markdown",
      "metadata": {
        "id": "m2AiLLQJwaBD"
      },
      "source": [
        "- ¿Cuál es el sentido más difícil de identificar? ¿Por qué?"
      ]
    },
    {
      "cell_type": "markdown",
      "metadata": {
        "id": "IMHDecKcwaBD"
      },
      "source": [
        "INTEREST2 es el que peores resultados tiene, el clasificador no es capaz realizar una predección de forma correcta y se confunde la mayoría de veces con INTEREST6."
      ]
    },
    {
      "cell_type": "markdown",
      "metadata": {
        "id": "FMTwkrP1waBD"
      },
      "source": [
        "- ¿Qué posibles mejoras se podrían aplicar para mejorar el rendimiento de los clasificadores creados? No es necesario que las implementes, solo que las comentes."
      ]
    },
    {
      "cell_type": "markdown",
      "metadata": {
        "id": "IOFIOKfuwaBD"
      },
      "source": [
        "Se podría explorar el rendimiento del classificador utilizando un volumen de datos mucho mayor, haber si el modelo consigue un accuracy mayor. O directamente, podemos probar con otro tipo de algoritmo como SVM, classificación lineal, etc. Algoritmos de direferentes representaciones, podrían capturar de forma mejor, la representación de estos datos."
      ]
    },
    {
      "cell_type": "markdown",
      "metadata": {
        "id": "hemeICiFwaBD"
      },
      "source": [
        "### 3.\tInstancias clasificadas incorrectamente para «interest».   "
      ]
    },
    {
      "cell_type": "markdown",
      "metadata": {
        "id": "qjtCj_fBwaBD"
      },
      "source": [
        "Para el clasificador que permite desambiguar la palabra «interest» y que utiliza las características de colocación, obtén las instancias que pertenecen al sentido ‘interest_1’ y que se han clasificado incorrectamente. Presenta en el informe la oración en la que aparece la palabra ambigua (el contexto) para cada una de esas instancias y la etiqueta en la que han sido erróneamente clasificadas.\n",
        "\n",
        "Para el clasificador que permite desambiguar la palabra «interest» y que utiliza las características de colocación, obtén las instancias que pertenecen al sentido ‘interest_1’ y que se han clasificado incorrectamente."
      ]
    },
    {
      "cell_type": "markdown",
      "metadata": {
        "id": "nREKCLDWwaBE"
      },
      "source": [
        "- Presenta la oración en la que aparece la palabra ambigua (el contexto) para cada una de esas instancias y la etiqueta en la que han sido erróneamente clasificadas."
      ]
    },
    {
      "cell_type": "code",
      "execution_count": null,
      "metadata": {
        "scrolled": true,
        "id": "szdhtxxXwaBE",
        "colab": {
          "base_uri": "https://localhost:8080/"
        },
        "outputId": "149e60c1-8248-427b-eda4-e9d3a3b2f41f"
      },
      "outputs": [
        {
          "output_type": "stream",
          "name": "stdout",
          "text": [
            "Accuracy: 0.8939\n",
            "      |   H   H   H |\n",
            "      |   A   A   A |\n",
            "      |   R   R   R |\n",
            "      |   D   D   D |\n",
            "      |   1   2   3 |\n",
            "------+-------------+\n",
            "HARD1 |<692>  5   5 |\n",
            "HARD2 |  34 <54>  . |\n",
            "HARD3 |  45   3 <29>|\n",
            "------+-------------+\n",
            "(row = reference; col = test)\n",
            "\n"
          ]
        }
      ],
      "source": [
        "clasificador_hard_colocacion = wsd_clasificador('hard.pos', wsd_caracteristicas_colocacion, distance=2, errors=False, confusion_matrix=True)"
      ]
    },
    {
      "cell_type": "code",
      "source": [
        "clasificador_hard_palabras_vecinas = wsd_clasificador('hard.pos', wsd_caracteristicas_palabras_vecinas, distance=2, errors=False, confusion_matrix=True)"
      ],
      "metadata": {
        "colab": {
          "base_uri": "https://localhost:8080/"
        },
        "id": "nDOpxm5clIbp",
        "outputId": "cf75c4da-782b-4c5a-9098-9a84fc80c3a7"
      },
      "execution_count": null,
      "outputs": [
        {
          "output_type": "stream",
          "name": "stdout",
          "text": [
            "Accuracy: 0.8397\n",
            "      |   H   H   H |\n",
            "      |   A   A   A |\n",
            "      |   R   R   R |\n",
            "      |   D   D   D |\n",
            "      |   1   2   3 |\n",
            "------+-------------+\n",
            "HARD1 |<661> 41   . |\n",
            "HARD2 |  35 <53>  . |\n",
            "HARD3 |  58   5 <14>|\n",
            "------+-------------+\n",
            "(row = reference; col = test)\n",
            "\n"
          ]
        }
      ]
    },
    {
      "cell_type": "markdown",
      "metadata": {
        "id": "TsgV7VPNwaBE"
      },
      "source": [
        "### 4.\tAnálisis de resultados del rendimiento de los clasificadores. "
      ]
    },
    {
      "cell_type": "markdown",
      "metadata": {
        "id": "MsdHyHzYwaBE"
      },
      "source": [
        "Presenta una tabla resumen con los valores de exactitud para cada uno de los 2 clasificadores que has entrenado previamente y responde a las siguientes preguntas:"
      ]
    },
    {
      "cell_type": "markdown",
      "source": [
        "HARD:\n",
        "* Palabras vecinas: 83,97%\n",
        "* Colocación: 89,39%\n",
        "\n",
        "INTEREST:\n",
        "* Palabras vecinas: 77,22%\n",
        "* Colocación: 67,09%"
      ],
      "metadata": {
        "id": "eoVo9eOknQcl"
      }
    },
    {
      "cell_type": "markdown",
      "metadata": {
        "id": "VcOShKoNwaBE"
      },
      "source": [
        "* En Aprendizaje automático es habitual comparar resultados contra un baseline simple que asigna una clase con la probabilidad 1/n (siendo n el número de clases en las que se clasifica) o bien asignando una clase teniendo en cuenta su probabilidad de aparición en el corpus. Compara la exactitud de los clasificadores que has implementado con la que proporcionaría un clasificador que asignara el sentido de forma aleatoria. ¿Cuál sería el mejor clasificador?"
      ]
    },
    {
      "cell_type": "markdown",
      "metadata": {
        "id": "JS5vKgY7waBE"
      },
      "source": [
        "\n",
        "Nuestro clasificador sería mejor, tanto para palabras vecinas como para colocación. Tanto para HARD como INTEREST.\n",
        "\n",
        "En el caso de la palabra HARD, el clasificador aleatorio tendría un accuracy del 1/3 (0.3333).\n",
        "\n",
        "En el caso de la palabra INTEREST, el clasificador aleatorio tendría un accuracy del 1/6 (0.1666)."
      ]
    },
    {
      "cell_type": "markdown",
      "metadata": {
        "id": "nAipHRk1waBE"
      },
      "source": [
        "<span style=\"font-size: 14pt; font-weight: bold; color: #0098cd;\">Parte 4: Extracción de características utilizando vectores de representación de palabras (word2vec)"
      ]
    },
    {
      "cell_type": "markdown",
      "metadata": {
        "id": "qiv339zawaBE"
      },
      "source": [
        "En este apartado de la práctica, te proponemos que completes la implementación de una representación de palabras utilizando el método *word2vec*.\n",
        "\n",
        "*word2vec* es un método de representación de palabras en vectores que captura información morfosintáctica y semántica de la palabra mediante el análisis de las frecuencias de los contextos de aparición de las palabras generando representaciones vectoriales de las palabras. \n",
        "\n",
        "Para ello utilizaremos la implementación de este método de la librería *spacy*. Su documentación la podéis encontrar en el siguiente [enlace](https://spacy.io/usage/linguistic-features#vectors-similarity)."
      ]
    },
    {
      "cell_type": "code",
      "execution_count": null,
      "metadata": {
        "colab": {
          "base_uri": "https://localhost:8080/"
        },
        "id": "TV_Trl-NwaBE",
        "outputId": "c554595b-a3b4-4626-c541-8dcb1bd1e442"
      },
      "outputs": [
        {
          "output_type": "stream",
          "name": "stdout",
          "text": [
            "Requirement already satisfied: spacy in /usr/local/lib/python3.7/dist-packages (2.2.4)\n",
            "Requirement already satisfied: setuptools in /usr/local/lib/python3.7/dist-packages (from spacy) (57.4.0)\n",
            "Requirement already satisfied: srsly<1.1.0,>=1.0.2 in /usr/local/lib/python3.7/dist-packages (from spacy) (1.0.5)\n",
            "Requirement already satisfied: catalogue<1.1.0,>=0.0.7 in /usr/local/lib/python3.7/dist-packages (from spacy) (1.0.0)\n",
            "Requirement already satisfied: murmurhash<1.1.0,>=0.28.0 in /usr/local/lib/python3.7/dist-packages (from spacy) (1.0.7)\n",
            "Requirement already satisfied: plac<1.2.0,>=0.9.6 in /usr/local/lib/python3.7/dist-packages (from spacy) (1.1.3)\n",
            "Requirement already satisfied: blis<0.5.0,>=0.4.0 in /usr/local/lib/python3.7/dist-packages (from spacy) (0.4.1)\n",
            "Requirement already satisfied: numpy>=1.15.0 in /usr/local/lib/python3.7/dist-packages (from spacy) (1.21.6)\n",
            "Requirement already satisfied: thinc==7.4.0 in /usr/local/lib/python3.7/dist-packages (from spacy) (7.4.0)\n",
            "Requirement already satisfied: tqdm<5.0.0,>=4.38.0 in /usr/local/lib/python3.7/dist-packages (from spacy) (4.64.0)\n",
            "Requirement already satisfied: wasabi<1.1.0,>=0.4.0 in /usr/local/lib/python3.7/dist-packages (from spacy) (0.9.1)\n",
            "Requirement already satisfied: requests<3.0.0,>=2.13.0 in /usr/local/lib/python3.7/dist-packages (from spacy) (2.23.0)\n",
            "Requirement already satisfied: cymem<2.1.0,>=2.0.2 in /usr/local/lib/python3.7/dist-packages (from spacy) (2.0.6)\n",
            "Requirement already satisfied: preshed<3.1.0,>=3.0.2 in /usr/local/lib/python3.7/dist-packages (from spacy) (3.0.6)\n",
            "Requirement already satisfied: importlib-metadata>=0.20 in /usr/local/lib/python3.7/dist-packages (from catalogue<1.1.0,>=0.0.7->spacy) (4.11.3)\n",
            "Requirement already satisfied: zipp>=0.5 in /usr/local/lib/python3.7/dist-packages (from importlib-metadata>=0.20->catalogue<1.1.0,>=0.0.7->spacy) (3.8.0)\n",
            "Requirement already satisfied: typing-extensions>=3.6.4 in /usr/local/lib/python3.7/dist-packages (from importlib-metadata>=0.20->catalogue<1.1.0,>=0.0.7->spacy) (4.2.0)\n",
            "Requirement already satisfied: chardet<4,>=3.0.2 in /usr/local/lib/python3.7/dist-packages (from requests<3.0.0,>=2.13.0->spacy) (3.0.4)\n",
            "Requirement already satisfied: certifi>=2017.4.17 in /usr/local/lib/python3.7/dist-packages (from requests<3.0.0,>=2.13.0->spacy) (2021.10.8)\n",
            "Requirement already satisfied: urllib3!=1.25.0,!=1.25.1,<1.26,>=1.21.1 in /usr/local/lib/python3.7/dist-packages (from requests<3.0.0,>=2.13.0->spacy) (1.24.3)\n",
            "Requirement already satisfied: idna<3,>=2.5 in /usr/local/lib/python3.7/dist-packages (from requests<3.0.0,>=2.13.0->spacy) (2.10)\n"
          ]
        }
      ],
      "source": [
        "!pip install spacy\n",
        "import spacy"
      ]
    },
    {
      "cell_type": "markdown",
      "metadata": {
        "id": "eQiLVS-6waBF"
      },
      "source": [
        "Descargamos el modelo de vectores word2vec más pequeño disponible en inglés para poder hacer nuestras pruebas."
      ]
    },
    {
      "cell_type": "code",
      "execution_count": null,
      "metadata": {
        "colab": {
          "base_uri": "https://localhost:8080/"
        },
        "id": "iCiNfdXywaBF",
        "outputId": "17afaa6c-8987-48f7-aabf-2c7d7bf460ab"
      },
      "outputs": [
        {
          "output_type": "stream",
          "name": "stdout",
          "text": [
            "Collecting en_core_web_sm==2.2.5\n",
            "  Downloading https://github.com/explosion/spacy-models/releases/download/en_core_web_sm-2.2.5/en_core_web_sm-2.2.5.tar.gz (12.0 MB)\n",
            "\u001b[K     |████████████████████████████████| 12.0 MB 14.1 MB/s \n",
            "\u001b[?25hRequirement already satisfied: spacy>=2.2.2 in /usr/local/lib/python3.7/dist-packages (from en_core_web_sm==2.2.5) (2.2.4)\n",
            "Requirement already satisfied: requests<3.0.0,>=2.13.0 in /usr/local/lib/python3.7/dist-packages (from spacy>=2.2.2->en_core_web_sm==2.2.5) (2.23.0)\n",
            "Requirement already satisfied: catalogue<1.1.0,>=0.0.7 in /usr/local/lib/python3.7/dist-packages (from spacy>=2.2.2->en_core_web_sm==2.2.5) (1.0.0)\n",
            "Requirement already satisfied: thinc==7.4.0 in /usr/local/lib/python3.7/dist-packages (from spacy>=2.2.2->en_core_web_sm==2.2.5) (7.4.0)\n",
            "Requirement already satisfied: setuptools in /usr/local/lib/python3.7/dist-packages (from spacy>=2.2.2->en_core_web_sm==2.2.5) (57.4.0)\n",
            "Requirement already satisfied: blis<0.5.0,>=0.4.0 in /usr/local/lib/python3.7/dist-packages (from spacy>=2.2.2->en_core_web_sm==2.2.5) (0.4.1)\n",
            "Requirement already satisfied: srsly<1.1.0,>=1.0.2 in /usr/local/lib/python3.7/dist-packages (from spacy>=2.2.2->en_core_web_sm==2.2.5) (1.0.5)\n",
            "Requirement already satisfied: wasabi<1.1.0,>=0.4.0 in /usr/local/lib/python3.7/dist-packages (from spacy>=2.2.2->en_core_web_sm==2.2.5) (0.9.1)\n",
            "Requirement already satisfied: numpy>=1.15.0 in /usr/local/lib/python3.7/dist-packages (from spacy>=2.2.2->en_core_web_sm==2.2.5) (1.21.6)\n",
            "Requirement already satisfied: murmurhash<1.1.0,>=0.28.0 in /usr/local/lib/python3.7/dist-packages (from spacy>=2.2.2->en_core_web_sm==2.2.5) (1.0.7)\n",
            "Requirement already satisfied: plac<1.2.0,>=0.9.6 in /usr/local/lib/python3.7/dist-packages (from spacy>=2.2.2->en_core_web_sm==2.2.5) (1.1.3)\n",
            "Requirement already satisfied: preshed<3.1.0,>=3.0.2 in /usr/local/lib/python3.7/dist-packages (from spacy>=2.2.2->en_core_web_sm==2.2.5) (3.0.6)\n",
            "Requirement already satisfied: cymem<2.1.0,>=2.0.2 in /usr/local/lib/python3.7/dist-packages (from spacy>=2.2.2->en_core_web_sm==2.2.5) (2.0.6)\n",
            "Requirement already satisfied: tqdm<5.0.0,>=4.38.0 in /usr/local/lib/python3.7/dist-packages (from spacy>=2.2.2->en_core_web_sm==2.2.5) (4.64.0)\n",
            "Requirement already satisfied: importlib-metadata>=0.20 in /usr/local/lib/python3.7/dist-packages (from catalogue<1.1.0,>=0.0.7->spacy>=2.2.2->en_core_web_sm==2.2.5) (4.11.3)\n",
            "Requirement already satisfied: zipp>=0.5 in /usr/local/lib/python3.7/dist-packages (from importlib-metadata>=0.20->catalogue<1.1.0,>=0.0.7->spacy>=2.2.2->en_core_web_sm==2.2.5) (3.8.0)\n",
            "Requirement already satisfied: typing-extensions>=3.6.4 in /usr/local/lib/python3.7/dist-packages (from importlib-metadata>=0.20->catalogue<1.1.0,>=0.0.7->spacy>=2.2.2->en_core_web_sm==2.2.5) (4.2.0)\n",
            "Requirement already satisfied: certifi>=2017.4.17 in /usr/local/lib/python3.7/dist-packages (from requests<3.0.0,>=2.13.0->spacy>=2.2.2->en_core_web_sm==2.2.5) (2021.10.8)\n",
            "Requirement already satisfied: idna<3,>=2.5 in /usr/local/lib/python3.7/dist-packages (from requests<3.0.0,>=2.13.0->spacy>=2.2.2->en_core_web_sm==2.2.5) (2.10)\n",
            "Requirement already satisfied: chardet<4,>=3.0.2 in /usr/local/lib/python3.7/dist-packages (from requests<3.0.0,>=2.13.0->spacy>=2.2.2->en_core_web_sm==2.2.5) (3.0.4)\n",
            "Requirement already satisfied: urllib3!=1.25.0,!=1.25.1,<1.26,>=1.21.1 in /usr/local/lib/python3.7/dist-packages (from requests<3.0.0,>=2.13.0->spacy>=2.2.2->en_core_web_sm==2.2.5) (1.24.3)\n",
            "\u001b[38;5;2m✔ Download and installation successful\u001b[0m\n",
            "You can now load the model via spacy.load('en_core_web_sm')\n"
          ]
        }
      ],
      "source": [
        "!python3 -m spacy download en_core_web_sm\n",
        "vector_model = spacy.load('en_core_web_sm')"
      ]
    },
    {
      "cell_type": "markdown",
      "metadata": {
        "id": "3azpGmZ6waBF"
      },
      "source": [
        "Con este modelo se puede obtener la representación vectorial de una palabra en concreto:"
      ]
    },
    {
      "cell_type": "code",
      "execution_count": null,
      "metadata": {
        "colab": {
          "base_uri": "https://localhost:8080/"
        },
        "id": "Ojvv-a0nwaBF",
        "outputId": "2e84feee-ff0d-4861-f9cc-a7181c78de36"
      },
      "outputs": [
        {
          "output_type": "execute_result",
          "data": {
            "text/plain": [
              "array([-1.3843281 ,  0.42505968, -0.532974  ,  1.8316239 ,  1.3708239 ,\n",
              "        2.9386997 ,  3.7257893 , -0.54937565,  0.5031566 ,  3.8546975 ,\n",
              "        3.0975204 , -1.0917068 ,  0.28383338, -1.5754666 , -0.640542  ,\n",
              "       -1.9192605 , -0.23111534,  1.1341074 , -1.0437621 ,  1.0963777 ,\n",
              "        1.88166   ,  0.21256635,  0.32142198, -1.9052083 , -2.6198604 ,\n",
              "       -0.7651521 ,  0.42435944, -1.7775538 ,  3.2258286 , -0.5547375 ,\n",
              "        2.8135993 ,  0.800892  ,  1.3173673 ,  0.85062027,  0.9558871 ,\n",
              "       -4.089861  , -0.16713083, -0.5641632 , -0.96104896, -0.26541966,\n",
              "        3.277372  , -0.6237493 , -0.06062989, -2.7789946 ,  1.589133  ,\n",
              "       -0.5931364 , -0.70792097, -1.2225053 , -1.2542639 ,  2.2585425 ,\n",
              "       -0.8130951 , -2.27138   , -1.8938894 , -1.7644386 , -0.38245833,\n",
              "        1.9417322 ,  1.0214002 , -0.88097036,  1.5894508 ,  1.5879264 ,\n",
              "        2.1462717 , -3.0490036 , -1.2796346 ,  1.1682    ,  0.3669746 ,\n",
              "       -2.6388152 ,  1.6317133 , -2.9819398 , -2.2023325 ,  1.2378948 ,\n",
              "       -1.5781454 ,  0.14355141,  2.6592772 ,  2.6181185 , -2.9342442 ,\n",
              "        0.07258308,  1.1880224 , -1.8383126 , -0.31199694,  0.07216984,\n",
              "        0.14022562, -2.6816146 , -0.31027722, -1.6995395 ,  1.7571013 ,\n",
              "        4.2772865 , -0.6230671 , -1.0701456 , -2.6581478 , -1.0197515 ,\n",
              "       -0.09872866,  1.0247664 , -0.18269825,  2.6332645 ,  2.9838438 ,\n",
              "        0.43009663], dtype=float32)"
            ]
          },
          "metadata": {},
          "execution_count": 89
        }
      ],
      "source": [
        "vector_model('interest').vector"
      ]
    },
    {
      "cell_type": "markdown",
      "metadata": {
        "id": "sYPYZe7lwaBF"
      },
      "source": [
        "Pero hay que tener en cuenta que el vocabulario del modelo es limitado y no todas las palabras están incluidas."
      ]
    },
    {
      "cell_type": "code",
      "execution_count": null,
      "metadata": {
        "colab": {
          "base_uri": "https://localhost:8080/"
        },
        "id": "ZtE42vU7waBF",
        "outputId": "5c1814c2-a827-4f7c-ee6e-0a8d99bef283"
      },
      "outputs": [
        {
          "output_type": "stream",
          "name": "stdout",
          "text": [
            "casa no está en el vocabulario\n"
          ]
        }
      ],
      "source": [
        "if 'casa' in vector_model.vocab:\n",
        "    print('casa está en el vocabulario')\n",
        "else:\n",
        "    print('casa no está en el vocabulario')"
      ]
    },
    {
      "cell_type": "markdown",
      "metadata": {
        "id": "ZGHcL8UIwaBF"
      },
      "source": [
        "Si pudiéramos representar de manera vectorial las definiciones de los diferentes sentidos \n",
        "parece razonable pensar que el vector del sentido más adecuado para la instancia de nuestra \n",
        "palabra ambigua será aquel más próximo a la representación vectorial de la instancia.\n",
        "\n"
      ]
    },
    {
      "cell_type": "code",
      "execution_count": null,
      "metadata": {
        "id": "TReOBLExwaBF"
      },
      "outputs": [],
      "source": [
        "interest_definitions = [\"a sense of concern with and curiosity about someone or something\",\n",
        "                        \"a reason for wanting something done\",\n",
        "                        \"the power of attracting or holding one 's attention ( because it is unusual or exciting etc . \",\n",
        "                        \"a fixed charge for borrowing money ; usually a percentage of the amount borrowed\",\n",
        "                        \"( law ) a right or legal share of something ; a financial involvement with something\",\n",
        "                        \"a social group whose members control some field of activity and who have common aims\",\n",
        "                        \"a diversion that occupies one 's time and thoughts ( usually pleasantly )\"]"
      ]
    },
    {
      "cell_type": "markdown",
      "metadata": {
        "id": "yqyohgMewaBF"
      },
      "source": [
        "Con el siguiente método se puede obtener la representación de una definición:"
      ]
    },
    {
      "cell_type": "code",
      "execution_count": null,
      "metadata": {
        "id": "6-YM1rHRwaBF"
      },
      "outputs": [],
      "source": [
        "def get_sentence_representation(sentence):\n",
        "    sentence_vector=vector_model(sentence).vector\n",
        "    return sentence_vector"
      ]
    },
    {
      "cell_type": "code",
      "execution_count": null,
      "metadata": {
        "colab": {
          "base_uri": "https://localhost:8080/"
        },
        "id": "7lXTJYbrwaBF",
        "outputId": "c8b51a33-12ec-4976-bdb9-655f1f323216"
      },
      "outputs": [
        {
          "output_type": "execute_result",
          "data": {
            "text/plain": [
              "array([ 1.11847326e-01,  1.34934950e+00,  1.41475499e+00, -1.27880383e+00,\n",
              "        1.02664769e+00, -4.67235386e-01,  7.81697094e-01, -1.14530846e-01,\n",
              "        3.96942973e-01,  2.00570273e+00, -9.01004255e-01, -1.43246278e-01,\n",
              "       -1.53854460e-01, -1.20322907e+00, -3.08649510e-01,  2.11374775e-01,\n",
              "       -6.42173529e-01, -8.21763217e-01, -8.39644015e-01, -7.77508914e-01,\n",
              "        1.83367765e+00,  1.04265106e+00,  1.23566234e+00, -6.52415380e-02,\n",
              "       -3.47035438e-01,  4.89328742e-01, -1.10886562e+00,  1.55261338e+00,\n",
              "        1.81853485e+00, -3.46087009e-01,  1.18198049e+00,  1.42769516e+00,\n",
              "       -6.61410272e-01, -6.84657544e-02, -3.35479826e-01, -4.45902914e-01,\n",
              "       -2.16989651e-01, -1.78032696e+00, -1.24483478e+00,  1.18955940e-01,\n",
              "        1.21162796e+00,  1.56940758e+00, -5.35363078e-01, -8.84285986e-01,\n",
              "        7.22643733e-02, -8.47957253e-01, -1.03558385e+00, -3.52159105e-02,\n",
              "       -2.10071087e+00,  2.26994291e-01,  2.00699592e+00, -1.38138437e+00,\n",
              "       -2.01764759e-02, -8.89075920e-03, -1.42008734e+00,  1.30500841e+00,\n",
              "        6.93172634e-01,  1.04141331e+00,  4.04245019e-01,  9.68231738e-01,\n",
              "        1.01343656e+00,  2.34876335e-01,  1.77574360e+00,  9.81332719e-01,\n",
              "        1.59944907e-01, -1.09504271e+00,  3.05386841e-01, -2.77071214e+00,\n",
              "       -1.57134101e-01,  1.18727589e+00, -8.76939297e-02, -1.23512924e+00,\n",
              "        1.50903130e+00,  6.04867041e-01, -1.05069530e+00,  1.26866857e-03,\n",
              "        1.09434056e+00, -1.29793036e+00, -3.47575486e-01, -1.58835042e+00,\n",
              "        2.66729236e-01, -1.65043271e+00, -5.27730584e-01, -1.41928926e-01,\n",
              "       -4.53324586e-01, -8.25243235e-01,  7.08964705e-01,  2.10555601e+00,\n",
              "       -7.21316099e-01,  7.64103949e-01, -4.04021174e-01, -1.44213021e+00,\n",
              "       -1.18453419e+00,  6.31242692e-01,  2.38065624e+00, -3.52299094e-01],\n",
              "      dtype=float32)"
            ]
          },
          "metadata": {},
          "execution_count": 93
        }
      ],
      "source": [
        "get_sentence_representation(interest_definitions[0])"
      ]
    },
    {
      "cell_type": "markdown",
      "metadata": {
        "id": "qtapfcRGwaBG"
      },
      "source": [
        "Así, queremos tener una función que dada una instancia donde aparezca una palabra ambigua \n",
        "y su conjunto de definiciones nos diga qué sentido o sentidos son los más cercanos al sentido\n",
        "de la instancia.\n",
        "\n",
        "La función *cosine_similarity* nos calcula la similitud coseno entre dos vectores:"
      ]
    },
    {
      "cell_type": "code",
      "execution_count": null,
      "metadata": {
        "id": "6nY687DVwaBG"
      },
      "outputs": [],
      "source": [
        "from scipy import spatial\n",
        "cosine_similarity = lambda x,y: 1 - spatial.distance.cosine(x,y)"
      ]
    },
    {
      "cell_type": "markdown",
      "metadata": {
        "id": "x-R_RStBwaBG"
      },
      "source": [
        "Debéis completar la implementación de la función *wsdw2v*:"
      ]
    },
    {
      "cell_type": "code",
      "execution_count": null,
      "metadata": {
        "id": "jO5OGg8YwaBG"
      },
      "outputs": [],
      "source": [
        "def wsdw2v(vector_model,instance,definitions,topk):\n",
        "    instance_text = ''\n",
        "    instance_words = []\n",
        "    for (word,pos) in instance.context:\n",
        "        ###############################\n",
        "        instance_words = \n",
        "        ###############################\n",
        "    instance_text=' '.join(instance_words)\n",
        "    \n",
        "    instance_in_vector_model = vector_model(instance_text)\n",
        "    scores = []\n",
        "    for definition in definitions:\n",
        "        similarity= \n",
        "        ###############################\n",
        "        # Aquí debes incluir tu código#\n",
        "        ###############################\n",
        "        scores.append((similarity, definition))\n",
        "    sorted_scores = sorted(scores, key=lambda item: item[0],reverse=True)\n",
        "    return sorted_scores[:topk]"
      ]
    },
    {
      "cell_type": "markdown",
      "metadata": {
        "id": "vR0oJnAMwaBG"
      },
      "source": [
        "Una vez completada, aplica tu función de desambiguación sobre las instancias 1 y 10 de la palabra ambigua *interest*, mostrando hasta los 3 sentidos más cercanos a las mismas. \n",
        "Utiliza las salidas de las instancias y las definiciones como apoyo para analizar los resultados obtenidos."
      ]
    },
    {
      "cell_type": "code",
      "execution_count": null,
      "metadata": {
        "id": "-N3TOs1DwaBG"
      },
      "outputs": [],
      "source": [
        "instances_interest[1]"
      ]
    },
    {
      "cell_type": "code",
      "execution_count": null,
      "metadata": {
        "id": "-d3dI2VBwaBG"
      },
      "outputs": [],
      "source": [
        "interest_definitions[5]"
      ]
    },
    {
      "cell_type": "code",
      "execution_count": null,
      "metadata": {
        "id": "g1cMngEwwaBG"
      },
      "outputs": [],
      "source": [
        "wsdw2v(vector_model,instances_interest[1],interest_definitions,3)"
      ]
    },
    {
      "cell_type": "code",
      "execution_count": null,
      "metadata": {
        "id": "nVA_1C-0waBG"
      },
      "outputs": [],
      "source": [
        "instances_interest[10]"
      ]
    },
    {
      "cell_type": "code",
      "execution_count": null,
      "metadata": {
        "id": "70uIz3f1waBH"
      },
      "outputs": [],
      "source": [
        "interest_definitions[0]"
      ]
    },
    {
      "cell_type": "code",
      "execution_count": null,
      "metadata": {
        "id": "E6wCs6hywaBH"
      },
      "outputs": [],
      "source": [
        "wsdw2v(vector_model,instances_interest[10],interest_definitions,3)"
      ]
    },
    {
      "cell_type": "markdown",
      "metadata": {
        "id": "UWNnYZ59waBH"
      },
      "source": [
        "########## Aquí debes indicar tu respuesta ##########"
      ]
    },
    {
      "cell_type": "markdown",
      "metadata": {
        "id": "Yj8NyLCGwaBH"
      },
      "source": [
        "* ¿Qué tasa de acierto has observado en estos ejemplos si consideras el sentido con mayor similitud? ¿Y si consideras los 3 primeros? "
      ]
    },
    {
      "cell_type": "markdown",
      "metadata": {
        "id": "qwJd1LkGwaBH"
      },
      "source": [
        "* ¿A qué se pueden deber los fallos de predicción mediante la similitud?"
      ]
    },
    {
      "cell_type": "markdown",
      "metadata": {
        "id": "sDzVtb6ywaBH"
      },
      "source": [
        "* ¿Qué ventajas e inconvenientes presenta el método basado en vectores de palabras frente a los métodos de clasificación basado en representaciones de características?"
      ]
    }
  ],
  "metadata": {
    "kernelspec": {
      "display_name": "Python 3 (ipykernel)",
      "language": "python",
      "name": "python3"
    },
    "language_info": {
      "codemirror_mode": {
        "name": "ipython",
        "version": 3
      },
      "file_extension": ".py",
      "mimetype": "text/x-python",
      "name": "python",
      "nbconvert_exporter": "python",
      "pygments_lexer": "ipython3",
      "version": "3.9.8"
    },
    "colab": {
      "name": "nlp-3.ipynb",
      "provenance": [],
      "collapsed_sections": []
    }
  },
  "nbformat": 4,
  "nbformat_minor": 0
}