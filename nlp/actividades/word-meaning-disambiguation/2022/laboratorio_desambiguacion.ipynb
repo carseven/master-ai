{
 "cells": [
  {
   "cell_type": "markdown",
   "metadata": {},
   "source": [
    "**Universidad Internacional de La Rioja (UNIR) - Máster Universitario en Inteligencia Artificial - Procesamiento del Lenguaje Natural** "
   ]
  },
  {
   "cell_type": "markdown",
   "metadata": {},
   "source": [
    "***\n",
    "Datos del alumno (Nombre y Apellidos):\n",
    "\n",
    "Fecha:\n",
    "***"
   ]
  },
  {
   "cell_type": "markdown",
   "metadata": {},
   "source": [
    "<span style=\"font-size: 20pt; font-weight: bold; color: #0098cd;\">Laboratorio: Desambiguación del sentido de las palabras</span>\n",
    "\n",
    "**Objetivos** \n",
    "\n",
    "Con este laboratorio el alumno conseguirá aplicar diferentes algoritmos basados en aprendizaje automático supervisado para desambiguar el sentido de las palabras. Además, va a aprender a utilizar la herramienta de software abierto Natural Language Toolkit (NLTK) con la que implementar tareas de procesamiento del lenguaje natural en Python.\n",
    "\n",
    "**Descripción**\n",
    "\n",
    "En este laboratorio debes desarrollar e implementar diferentes algoritmos basados en aprendizaje automático supervisado para desambiguar el sentido de las palabras en Python y utilizando la herramienta de software abierto Natural Language Toolkit (NLTK).\n",
    "\n",
    "Para preparar este laboratorio, simplemente descarga e instala **NLTK 3.3** en tu equipo.\n",
    "\n",
    "***\n",
    "Accede a NLTK 3.3 a través del aula virtual o desde la siguiente dirección web:\n",
    "https://www.nltk.org/install.html\n",
    "***\n",
    "\n",
    "NLTK requiere de Python versiones 2.7, 3.4, 3.5 o 3.6 para funcionar. Por lo que, si no tienes instalado Python, descárgalo e instálalo.\n",
    "\n",
    "***\n",
    "Accede a **Python** a través del aula virtual o desde la siguiente dirección web: https://www.python.org/downloads/\n",
    "***\n",
    "\n",
    "Asegúrate de que has instalado NLTK 3.3 adecuadamente antes de la sesión de laboratorio y de revisar el contenido teórico, Semántica léxica y temas anteriores, para tener frescos los diferentes conceptos sobre el procesamiento del lenguaje natural estudiados en esta asignatura.\n",
    "\n",
    "Durante la sesión del laboratorio debes solucionar un problema sobre desambiguación del sentido de las palabras utilizando el corpus etiquetado en inglés llamado **Senseval 2** y que viene disponible en NLTK.\n",
    "\n",
    "***\n",
    "Accede a más información sobre **Senseval 2** a través del aula virtual o desde la siguiente dirección web:\n",
    "http://www.nltk.org/howto/corpus.html \n",
    "***"
   ]
  },
  {
   "cell_type": "markdown",
   "metadata": {},
   "source": [
    "El primer paso es importar el corpus etiquetado utilizando los siguientes comandos:"
   ]
  },
  {
   "cell_type": "code",
   "execution_count": 1,
   "metadata": {},
   "outputs": [],
   "source": [
    "import nltk\n",
    "from nltk.corpus import senseval"
   ]
  },
  {
   "cell_type": "markdown",
   "metadata": {},
   "source": [
    "El corpus **Senseval 2** contiene datos etiquetados que sirven para entrenar un clasificador que permita desambiguar el sentido de las palabras. Cada elemento del corpus **Senseval 2** se corresponde a una palabra ambigua. Concretamente en este laboratorio se trabajará con las palabras en inglés *«hard»* y *«serve»*, aunque en el corpus hay información de otras dos.\n",
    "\n",
    "Para poder extraer la información sobre las palabras es imprescindible la manera en la que se identifican en el corpus, es decir, sus identificadores. Con el siguiente comando, se extraen los identificadores de las palabras tratadas en el corpus. "
   ]
  },
  {
   "cell_type": "code",
   "execution_count": 2,
   "metadata": {
    "scrolled": true
   },
   "outputs": [
    {
     "data": {
      "text/plain": [
       "['hard.pos', 'interest.pos', 'line.pos', 'serve.pos']"
      ]
     },
     "execution_count": 2,
     "metadata": {},
     "output_type": "execute_result"
    }
   ],
   "source": [
    "senseval.fileids()"
   ]
  },
  {
   "cell_type": "markdown",
   "metadata": {},
   "source": [
    "Para cada una de las palabras ambiguas, el corpus contiene una lista de instancias correspondientes a las ocurrencias de esa palabra. Para cada instancia se proporciona la palabra, una lista de sentidos que se aplican a la aparición de esa palabra y el contexto de la palabra. "
   ]
  },
  {
   "cell_type": "markdown",
   "metadata": {},
   "source": [
    "En la siguiente figura se observa el comando utilizado para visualizar la información que contiene cada instancia de la palabra ambigua *«hard»*."
   ]
  },
  {
   "cell_type": "code",
   "execution_count": 3,
   "metadata": {},
   "outputs": [
    {
     "data": {
      "text/plain": [
       "[SensevalInstance(word='hard-a', position=20, context=[('``', '``'), ('he', 'PRP'), ('may', 'MD'), ('lose', 'VB'), ('all', 'DT'), ('popular', 'JJ'), ('support', 'NN'), (',', ','), ('but', 'CC'), ('someone', 'NN'), ('has', 'VBZ'), ('to', 'TO'), ('kill', 'VB'), ('him', 'PRP'), ('to', 'TO'), ('defeat', 'VB'), ('him', 'PRP'), ('and', 'CC'), ('that', 'DT'), (\"'s\", 'VBZ'), ('hard', 'JJ'), ('to', 'TO'), ('do', 'VB'), ('.', '.'), (\"''\", \"''\")], senses=('HARD1',)), SensevalInstance(word='hard-a', position=10, context=[('clever', 'NNP'), ('white', 'NNP'), ('house', 'NNP'), ('``', '``'), ('spin', 'VB'), ('doctors', 'NNS'), (\"''\", \"''\"), ('are', 'VBP'), ('having', 'VBG'), ('a', 'DT'), ('hard', 'JJ'), ('time', 'NN'), ('helping', 'VBG'), ('president', 'NNP'), ('bush', 'NNP'), ('explain', 'VB'), ('away', 'RB'), ('the', 'DT'), ('economic', 'JJ'), ('bashing', 'NN'), ('that', 'IN'), ('low-and', 'JJ'), ('middle-income', 'JJ'), ('workers', 'NNS'), ('are', 'VBP'), ('taking', 'VBG'), ('these', 'DT'), ('days', 'NNS'), ('.', '.')], senses=('HARD1',)), ...]"
      ]
     },
     "execution_count": 3,
     "metadata": {},
     "output_type": "execute_result"
    }
   ],
   "source": [
    "senseval.instances('hard.pos')"
   ]
  },
  {
   "cell_type": "markdown",
   "metadata": {},
   "source": [
    "Por ejemplo, en la primera instancia (`SensevalInstance`) la palabra ambigua (`word`) es `‘hard-a’`, lo que indica que la palabra es `‘hard’` y en este caso la categoría gramatical es un adjetivo, identificado por el sufijo `‘-a’`."
   ]
  },
  {
   "cell_type": "markdown",
   "metadata": {},
   "source": [
    "El campo `position` indica la posición en la oración en la que se encuentra la palabra ambigua, en este caso la palabra `‘hard’` se encuentra en la posición 20."
   ]
  },
  {
   "cell_type": "markdown",
   "metadata": {},
   "source": [
    "El campo `context` representa el contexto, es decir, la oración en la que se encuentra la palabra ambigua, en este ejemplo *«\"he may lose all popular support, but someone has to kill him to defeat him and that's hard to do.\"»*. El contexto viene representado por pares formados por una palabra y la correspondiente etiqueta gramatical. Por ejemplo, el par `(‘he’, ‘PRP’)` que aparece en el contexto indica que la categoría gramatical asociada a la palabra `‘he’` es un pronombre personal `‘PRP’`. "
   ]
  },
  {
   "cell_type": "markdown",
   "metadata": {},
   "source": [
    "Por último, el campo `senses` contiene los posibles sentidos de la palabra ambigua, en el ejemplo `‘HARD1’`. Los sentidos del corpus hacen referencia a los sentidos de la palabra recogidos en la base de datos de relaciones léxicas WordNet<sup>1</sup>.\n",
    "\n",
    "\n",
    "<sup>1</sup> Puede que los sentidos que aparecen en Senseval 2 difieran de los que se encuentran actualmente en WordNet, debido a la constante actualización de este. En este laboratorio no será necesario trabajar con WordNet, se menciona como información adicional."
   ]
  },
  {
   "cell_type": "markdown",
   "metadata": {},
   "source": [
    "En este caso `‘HARD1’` hace referencia la primera definición de la palabra `‘hard’` que aparece en WordNet, a «difícil»,  *«difficult, hard (not easy; requiring great physical or mental effort to accomplish or comprehend or endure)»*. Esta información se puede obtener utilizando la interfaz de búsqueda web de WordNet cuyo resultado se muestra en la siguiente figura.\n",
    "\n",
    "***\n",
    "Accede al interfaz de búsqueda de WordNet a través del aula virtual o desde la siguiente dirección web: http://wordnetweb.princeton.edu/perl/webwn\n",
    "\n",
    "***\n",
    "\n"
   ]
  },
  {
   "cell_type": "markdown",
   "metadata": {},
   "source": [
    "**Nota:** NLTK implementa también un lector para la información disponible en la base de datos de relaciones léxicas WordNet. Aunque no es necesario para realizar esta actividad de laboratorio, WordNet se puede importar utilizando el siguiente comando:\n",
    "\n",
    "> *from nltk.corpus import wordnet*"
   ]
  },
  {
   "cell_type": "markdown",
   "metadata": {},
   "source": [
    "En este laboratorio vas a trabajar con algoritmos basados en aprendizaje automático supervisado, por lo tanto, vas a tener que entrenar diferentes clasificadores que permitan desambiguar la palabra ambigua en inglés «interest», y vas a tener que evaluar el desempeño de los clasificadores creados.\n",
    "Además, vas a experimentar con una aproximación basada en representaciones vectoriales de palabras para resolver la ambigüedad de las palabras.\n",
    "\n",
    "Las diferentes partes que forman este laboratorio se indican a continuación."
   ]
  },
  {
   "cell_type": "markdown",
   "metadata": {},
   "source": [
    "<span style=\"font-size: 14pt; font-weight: bold; color: #0098cd;\">Parte 1: Análisis del corpus</span>\n",
    "\n",
    "Analiza el corpus Senseval 2 que vas a utilizar para entrenar los clasificadores. Para realizar el análisis utiliza las funcionalidades que aporta NLTK. Desarrolla el código necesario y responde a las siguientes preguntas."
   ]
  },
  {
   "cell_type": "markdown",
   "metadata": {},
   "source": [
    "* ¿Cuántos posibles sentidos tienen las palabras ambiguas «interest» y «line»? ¿Cuáles son esos sentidos? Para cada sentido indica la etiqueta que aparece en el corpus."
   ]
  },
  {
   "cell_type": "markdown",
   "metadata": {},
   "source": [
    "Método que a partir de la palabra ambigua, o mejor dicho del nombre del archivo del corpus `word` para la palabra ambigua, obtiene cuáles son los posibles **sentidos de la palabra ambigua**:"
   ]
  },
  {
   "cell_type": "code",
   "execution_count": 4,
   "metadata": {},
   "outputs": [],
   "source": [
    "def senses(word):\n",
    "    \"\"\"\n",
    "    This takes a target word from senseval-2 and it returns the list of possible senses for the word\n",
    "    \"\"\"\n",
    "    return list(set(i.senses[0] for i in senseval.instances(word)))"
   ]
  },
  {
   "cell_type": "markdown",
   "metadata": {},
   "source": [
    "Mostrar los sentidos de las palabras ambiguas:"
   ]
  },
  {
   "cell_type": "code",
   "execution_count": null,
   "metadata": {},
   "outputs": [],
   "source": [
    "senses('interest.pos')"
   ]
  },
  {
   "cell_type": "code",
   "execution_count": null,
   "metadata": {},
   "outputs": [],
   "source": [
    "senses('line.pos')"
   ]
  },
  {
   "cell_type": "markdown",
   "metadata": {},
   "source": [
    "########## Aquí debes indicar tu respuesta ##########"
   ]
  },
  {
   "cell_type": "markdown",
   "metadata": {},
   "source": [
    "* ¿Cuántas instancias hay en el corpus para cada uno de los sentidos de las palabras ambiguas «interest» y «line»? Es decir, cuantas oraciones hay en el corpus etiquetadas con cada uno de los sentidos."
   ]
  },
  {
   "cell_type": "markdown",
   "metadata": {},
   "source": [
    "Método que obtiene todas las **instancias de un posible sentido de la palabra ambigua** a partir de la lista de instancias de una palabra `instances` y el nombre del sentido palabra ambigua `sense`:"
   ]
  },
  {
   "cell_type": "code",
   "execution_count": 7,
   "metadata": {},
   "outputs": [],
   "source": [
    "def sense_instances(instances, sense):\n",
    "    \"\"\"\n",
    "    This returns the list of instances in instances that have the sense sense\n",
    "    \"\"\"\n",
    "    return [instance for instance in instances if instance.senses[0]==sense]"
   ]
  },
  {
   "cell_type": "code",
   "execution_count": 8,
   "metadata": {},
   "outputs": [],
   "source": [
    "##################################################  \n",
    "########## Aquí debes incluir tu código ##########  \n",
    "##################################################"
   ]
  },
  {
   "cell_type": "markdown",
   "metadata": {},
   "source": [
    "########## Aquí debes indicar tu respuesta ##########"
   ]
  },
  {
   "cell_type": "markdown",
   "metadata": {},
   "source": [
    "* En el contexto, las palabras ambiguas pueden aparecer en diferentes formas gramaticales. Por ejemplo, en el caso de la palabra ambigua *«hard»*, esta aparece tanto la forma base, el adjetivo *«hard»* como en comparativo *«harder»* y como en superlativo *«hardest»*. ¿Qué formas gramaticales aparecen en el contexto para cada una de las palabas ambiguas *«interest»* y *«line»*?"
   ]
  },
  {
   "cell_type": "markdown",
   "metadata": {},
   "source": [
    "Método que muestra las diferentes **versiones de la palabra ambigua** a partir del nombre del archivo del corpus `word` para la palabra ambiguala palabra ambigua:"
   ]
  },
  {
   "cell_type": "code",
   "execution_count": 20,
   "metadata": {},
   "outputs": [],
   "source": [
    "def tokens(word):\n",
    "    \"\"\"\n",
    "    This takes a target word from senseval-2 and it returns the list of possible tokens for the word\n",
    "    \"\"\"\n",
    "    token = set()\n",
    "    for inst in senseval.instances(word)[:]:\n",
    "        token.update([w for (w,t) in inst.context[inst.position:inst.position+1]])\n",
    "    return list(token)"
   ]
  },
  {
   "cell_type": "markdown",
   "metadata": {},
   "source": [
    "Mostrar las diferentes versiones de la palabra ambigua"
   ]
  },
  {
   "cell_type": "code",
   "execution_count": null,
   "metadata": {},
   "outputs": [],
   "source": [
    "tokens('interest.pos')"
   ]
  },
  {
   "cell_type": "code",
   "execution_count": null,
   "metadata": {},
   "outputs": [],
   "source": [
    "tokens('line.pos')"
   ]
  },
  {
   "cell_type": "markdown",
   "metadata": {},
   "source": [
    "########## Aquí debes indicar tu respuesta ##########"
   ]
  },
  {
   "cell_type": "markdown",
   "metadata": {},
   "source": [
    "* ¿Tienen todas las instancias que forman el corpus el formato que se ha descrito anteriormente? Si hay alguna instancia que no cumpla con ese formato, indica cuales serían las incongruencias que presenta y muestra algunos ejemplos."
   ]
  },
  {
   "cell_type": "code",
   "execution_count": 12,
   "metadata": {},
   "outputs": [],
   "source": [
    "##################################################  \n",
    "########## Aquí debes incluir tu código ##########  \n",
    "##################################################"
   ]
  },
  {
   "cell_type": "markdown",
   "metadata": {},
   "source": [
    "########## Aquí debes indicar tu respuesta ##########"
   ]
  },
  {
   "cell_type": "markdown",
   "metadata": {},
   "source": [
    "<span style=\"font-size: 14pt; font-weight: bold; color: #0098cd;\">Parte 2: Extracción de características</span>\n",
    "\n",
    "Para poder entrenar un clasificador es necesario extraer un conjunto de características lingüísticas a partir del corpus etiquetado. Por lo tanto, debes crear el código en Python que te permita extraer diferentes conjuntos de características a partir de Senseval 2. \n"
   ]
  },
  {
   "cell_type": "markdown",
   "metadata": {},
   "source": [
    "### Extracción de características basada en las palabras vecinas"
   ]
  },
  {
   "cell_type": "markdown",
   "metadata": {},
   "source": [
    "Debes extraer un **conjunto de características basado en las palabras vecinas**. Para una instancia del corpus, debes desarrollar el código que sea capaz de extraer el vector de características que indican si las palabras de un vocabulario, que se debe construir previamente, aparecen o no en el contexto (la oración completa en que aparece la palabra ambigua).\n"
   ]
  },
  {
   "cell_type": "markdown",
   "metadata": {},
   "source": [
    "Para una instancia de la palaba ambigua «interest» su contexto se muestra a continuación:"
   ]
  },
  {
   "cell_type": "code",
   "execution_count": 13,
   "metadata": {},
   "outputs": [],
   "source": [
    "instances_interest = senseval.instances('interest.pos')"
   ]
  },
  {
   "cell_type": "code",
   "execution_count": 14,
   "metadata": {},
   "outputs": [],
   "source": [
    "inst_interest_1 = instances_interest[1]"
   ]
  },
  {
   "cell_type": "code",
   "execution_count": 15,
   "metadata": {},
   "outputs": [
    {
     "data": {
      "text/plain": [
       "[('longer', 'RB'),\n",
       " ('maturities', 'NNS'),\n",
       " ('are', 'VBP'),\n",
       " ('thought', 'VBN'),\n",
       " ('to', 'TO'),\n",
       " ('indicate', 'VB'),\n",
       " ('declining', 'VBG'),\n",
       " ('interest', 'NN'),\n",
       " ('rates', 'NNS'),\n",
       " ('because', 'IN'),\n",
       " ('they', 'PRP'),\n",
       " ('permit', 'VBP'),\n",
       " ('portfolio', 'NN'),\n",
       " ('managers', 'NNS'),\n",
       " ('to', 'TO'),\n",
       " ('retain', 'VB'),\n",
       " ('relatively', 'RB'),\n",
       " ('higher', 'JJR'),\n",
       " ('rates', 'NNS'),\n",
       " ('for', 'IN'),\n",
       " ('a', 'DT'),\n",
       " ('longer', 'RB'),\n",
       " ('period', 'NN'),\n",
       " ('.', '.')]"
      ]
     },
     "execution_count": 15,
     "metadata": {},
     "output_type": "execute_result"
    }
   ],
   "source": [
    "inst_interest_1.context"
   ]
  },
  {
   "cell_type": "markdown",
   "metadata": {},
   "source": [
    "Suponiendo que el vocabulario usado para crear extraer las características es el siguiente:"
   ]
  },
  {
   "cell_type": "markdown",
   "metadata": {},
   "source": [
    "`['rates', 'million', 'mr', 'company', 'u', 'rate']`"
   ]
  },
  {
   "cell_type": "markdown",
   "metadata": {},
   "source": [
    "Entonces el vector de características extraídas para esa instancia sería:"
   ]
  },
  {
   "cell_type": "markdown",
   "metadata": {},
   "source": [
    "`{'contains(rates)': True, \n",
    "'contains(million)': False, \n",
    "'contains(mr)': False, \n",
    "'contains(company)': False, \n",
    "'contains(u)': False, \n",
    "'contains(rate)': False}`"
   ]
  },
  {
   "cell_type": "markdown",
   "metadata": {},
   "source": [
    "Este vector de características indica que en el contexto de la palabra ambigua aparece la palabra *«rates»* y no aparecen las palabras *«million»*, *«mr»*, *«company»*, *«u»* y *«rate»*."
   ]
  },
  {
   "cell_type": "markdown",
   "metadata": {},
   "source": [
    "Para extraer el vector de características basado en las palabras vecinas debes seguir los siguientes pasos:"
   ]
  },
  {
   "cell_type": "markdown",
   "metadata": {},
   "source": [
    "#### 1. Construcción del vocabulario o bags of words. \n",
    "\n",
    "Como ya se ha indicado, para poder obtener el vector de características, se debe construir previamente un vocabulario. Para cada una de las palabras del vocabulario, se debe consultar si la palabra aparece en el contexto de la palabra ambigua. Si la palabra del vocabulario aparece en el contexto entonces en el vector de características aparecerá True para esa palabra y si no, False. "
   ]
  },
  {
   "cell_type": "markdown",
   "metadata": {},
   "source": [
    "Tomemos como ejemplo un vocabulario creado sobre el que se ha construido el vector de características. Este vocabulario es `['rates', 'million', 'mr', 'company', 'u', 'rate']`. Este vocabulario se usará posteriormente para construir el vector de características del ejemplo que usamos para darte una orientación."
   ]
  },
  {
   "cell_type": "markdown",
   "metadata": {},
   "source": [
    "- **¿Cómo construyo mi vocabulario o bags of words?** Lo que debes hacer para tu entrega de este laboratorio es utilizar como vocabulario las m palabras más frecuentes que aparecen en las instancias que conforman el conjunto de datos, es decir en las oraciones que contienen las palabras ambiguas y que forman parte del corpus. Entonces, para crear la **bag of words** (bolsa de palabras) debes extraer el conjunto de las n palabras más frecuentes. Para ello te puedes ayudar de la función `nltk.FreqDist()` que proporciona información sobre la distribución de frecuencias de las palabras que aparecen en un texto. "
   ]
  },
  {
   "cell_type": "markdown",
   "metadata": {},
   "source": [
    "- Cuando obtengas las palabras más frecuentes, debes eliminar los signos que puntuación y las palabras vacías (aquellas sin significado como artículos, pronombres o preposiciones, las llamadas stop words en inglés). También debes eliminar las diferentes formas gramaticales de la palabra ambigua, por ejemplo, para desambiguar la palabra *«hard»* no tendría sentido utilizar la palabra *«harder»* ni la palabra *«hardest»*. Esto debes adecuarlo a la palabra ambigua *«interest»*."
   ]
  },
  {
   "cell_type": "markdown",
   "metadata": {},
   "source": [
    "- Para la eliminación del conjunto de palabras no útiles del vocabulario se puede usar un código parecido al que se indica a continuación. Debes tener en cuenta que **en el código faltaría añadir las palabras que has identificado en la Parte 1** de este laboratorio como las diferentes formas gramaticales de las palabras ambiguas."
   ]
  },
  {
   "cell_type": "code",
   "execution_count": 16,
   "metadata": {},
   "outputs": [],
   "source": [
    "from nltk.corpus import stopwords\n",
    "import string\n",
    "OTHER_WORDS = [\"''\", \"'d\", \"'ll\", \"'m\", \"'re\", \"'s\", \"'t\", \"'ve\", '--', '000', '1', '2', '3', '4', '5', '6', '8', '10', '15', '30', 'I', 'F', '``', 'also', \"don'\", 'n', 'one', 'said', 'say', 'says', 'u', 'us']\n",
    "STOPWORDS_SET = set(stopwords.words('english')).union(set(string.punctuation), set(OTHER_WORDS))"
   ]
  },
  {
   "cell_type": "markdown",
   "metadata": {},
   "source": [
    "- Ejemplo de vocabulario para un tamaño de 6. Por ejemplo, si se quiere entrenar un clasificador que permita identificar los diferentes sentidos de la palabra «hard» y se utilizan para entrenar y validar el modelo las instancias etiquetadas para esta palabra, la bolsa de palabras en el caso de considerar las seis palabras más frecuentes (m=6) sería la `['time', 'would', 'get', 'work', 'find', 'make']`. Mientras que para la palabra «interest» sería la presentada anteriormente `['rates', 'million', 'mr', 'company', 'u', 'rate']`."
   ]
  },
  {
   "cell_type": "markdown",
   "metadata": {},
   "source": [
    "Método que devuelve el **vocabulario** formado por las `m` palabras más frecuentes en el contexto de una palabra ambigua a partir de un conjunto de instancias `instances` y el conjunto de palabras no útiles `stopwords` (Nota: Recuerda que se deben eliminar las diferentes formas gramaticales de la palabra ambigua):"
   ]
  },
  {
   "cell_type": "code",
   "execution_count": 17,
   "metadata": {},
   "outputs": [],
   "source": [
    "def extract_vocab(instances, stopwords=STOPWORDS_SET, m=250):\n",
    "    \"\"\"\n",
    "    Given a list of senseval instances, return a list of the m most frequent words that\n",
    "    appears in its context (i.e., the sentence with the target word in), output is in order\n",
    "    of frequency.\n",
    "    \"\"\"\n",
    "    return [w for w,f in extract_vocab_frequency(instances,stopwords,m)]"
   ]
  },
  {
   "cell_type": "code",
   "execution_count": 18,
   "metadata": {},
   "outputs": [],
   "source": [
    "def extract_vocab_frequency(instances, stopwords=STOPWORDS_SET, m=250):\n",
    "    \"\"\"\n",
    "    Given a list of senseval instances, return a list of the m most frequent words that\n",
    "    appears in its context (i.e., the sentence with the target word in), output is in order\n",
    "    of frequency and includes also the number of instances in which that key appears in the\n",
    "    context of instances.\n",
    "    \"\"\"\n",
    "    fd = nltk.FreqDist()\n",
    "    for i in instances:\n",
    "        target = i.context[i.position:i.position+1][0][0]\n",
    "        words = (c[0] for c in i.context if not c[0] == target)\n",
    "        for word in set(words) - set(stopwords):\n",
    "            fd[word] += 1\n",
    "                \n",
    "    return \n",
    "        ##################################################  \n",
    "        ########## Aquí debes incluir tu código ##########  \n",
    "        ##################################################"
   ]
  },
  {
   "cell_type": "markdown",
   "metadata": {},
   "source": [
    "Mostrar el vocabulario de tamaño de 6 para la palabra ambigua que hayas elegido *«interest»* o *«line»*, es decir el vocabulario creado usando las instancias de tu palabra ambigua."
   ]
  },
  {
   "cell_type": "code",
   "execution_count": null,
   "metadata": {},
   "outputs": [],
   "source": [
    "vocab_6 = extract_vocab(instances_interest, STOPWORDS_SET, m=6)"
   ]
  },
  {
   "cell_type": "code",
   "execution_count": null,
   "metadata": {},
   "outputs": [],
   "source": [
    "vocab_6"
   ]
  },
  {
   "cell_type": "markdown",
   "metadata": {},
   "source": [
    "#### 2. Construcción del conjunto de características basado en palabras vecinas. "
   ]
  },
  {
   "cell_type": "markdown",
   "metadata": {},
   "source": [
    "Utiliza un diccionario en Python para guardar el conjunto de características. La clave del diccionario serán las palabras del vocabulario y el valor debe ser un booleano para indicar la aparición o no de las palabras en el contexto. Por ejemplo, en el vector de características `{'contains(rates)': True, 'contains(million)': False, 'contains(mr)': False, 'contains(company)': False, 'contains(u)': False, 'contains(rate)': False}` una de las claves del diccionario es `'contains(rates)'` y su valor es `True`  lo que indica que en el contexto de la palabra ambigua aparece la palabra *«rates»*."
   ]
  },
  {
   "cell_type": "markdown",
   "metadata": {},
   "source": [
    "- Debes mostrar el vector de características resultante para una de las instancias del corpus. "
   ]
  },
  {
   "cell_type": "markdown",
   "metadata": {},
   "source": [
    "- **Importante:** En el cómputo del vector de características basado en las palabras vecinas debes utilizar como contexto la oración completa donde aparece la palabra ambigua. Es decir, todas las palabras que forman la oración guardada en el campo  `context` de la instancia."
   ]
  },
  {
   "cell_type": "markdown",
   "metadata": {},
   "source": [
    "Método que devuelve el conjunto de características basado en palabras vecinas para una instancia `instance` a partir de un vocabulario `vocab` (Nota: el parámetro `dist` no debes usarlo):"
   ]
  },
  {
   "cell_type": "code",
   "execution_count": null,
   "metadata": {},
   "outputs": [],
   "source": [
    "def wsd_caracteristicas_palabras_vecinas(instance, vocab, dist=2):\n",
    "    \"\"\"\n",
    "    Create a featureset where every key returns False unless it occurs in the\n",
    "    instance's context\n",
    "    \"\"\"\n",
    "    features = {}\n",
    "    \n",
    "    try:\n",
    "        for w in vocab:\n",
    "            ##################################################  \n",
    "            ########## Aquí debes incluir tu código ##########  \n",
    "            ##################################################\n",
    "                \n",
    "    except ValueError:\n",
    "        pass\n",
    "    return features"
   ]
  },
  {
   "cell_type": "markdown",
   "metadata": {},
   "source": [
    "Mostrar el vector de características basado en palabras vecinas para una de las instancias del corpus usando el vocabulario de seis palabras calculado previamente. "
   ]
  },
  {
   "cell_type": "code",
   "execution_count": null,
   "metadata": {},
   "outputs": [],
   "source": [
    "wsd_caracteristicas_palabras_vecinas(inst_interest_1, vocab_6, 0)"
   ]
  },
  {
   "cell_type": "markdown",
   "metadata": {},
   "source": [
    "### Extracción de características basada en características de colocación"
   ]
  },
  {
   "cell_type": "markdown",
   "metadata": {},
   "source": [
    "Debes extraer también un **conjunto de características de colocación**. Para una instancia del corpus, debes desarrollar el código que sea capaz de extraer el vector de características formado por la secuencia de n palabras que ocurren antes de la palabra ambigua y la secuencia de n palabras que ocurren después de la palabra ambigua, los llamados n-gramas."
   ]
  },
  {
   "cell_type": "markdown",
   "metadata": {},
   "source": [
    "Para una instancia de la palaba ambigua «hard» su contexto se muestra a continuación:"
   ]
  },
  {
   "cell_type": "code",
   "execution_count": 21,
   "metadata": {},
   "outputs": [],
   "source": [
    "inst_interest_10 = instances_interest[10]"
   ]
  },
  {
   "cell_type": "code",
   "execution_count": 22,
   "metadata": {},
   "outputs": [
    {
     "data": {
      "text/plain": [
       "[('the', 'DT'),\n",
       " ('purchases', 'NNS'),\n",
       " ('show', 'VBP'),\n",
       " ('the', 'DT'),\n",
       " ('strong', 'JJ'),\n",
       " ('interest', 'NN'),\n",
       " ('of', 'IN'),\n",
       " ('japanese', 'NN'),\n",
       " ('investors', 'NNS'),\n",
       " ('in', 'IN'),\n",
       " ('u', 'PRP'),\n",
       " ('.', '.'),\n",
       " ('s', 'PRP'),\n",
       " ('.', '.'),\n",
       " ('mortgage-based', 'JJ'),\n",
       " ('instruments', 'NNS'),\n",
       " (',', ','),\n",
       " ('fannie', 'NN'),\n",
       " ('mae', 'NN'),\n",
       " (\"'s\", 'POS'),\n",
       " ('chairman', 'NN'),\n",
       " (',', ','),\n",
       " ('david', 'JJ'),\n",
       " ('o', 'IN'),\n",
       " ('.', '.'),\n",
       " ('maxwell', 'NN'),\n",
       " (',', ','),\n",
       " ('said', 'VBD'),\n",
       " ('at', 'IN'),\n",
       " ('a', 'DT'),\n",
       " ('news', 'NN'),\n",
       " ('conference', 'NN'),\n",
       " ('.', '.')]"
      ]
     },
     "execution_count": 22,
     "metadata": {},
     "output_type": "execute_result"
    }
   ],
   "source": [
    "inst_interest_10.context"
   ]
  },
  {
   "cell_type": "markdown",
   "metadata": {},
   "source": [
    "Entonces el vector de características de colocación para el bigrama anterior y posterior sería:"
   ]
  },
  {
   "cell_type": "markdown",
   "metadata": {},
   "source": [
    "`{'previous(the strong)': True, 'next(of japanese)': True}` "
   ]
  },
  {
   "cell_type": "markdown",
   "metadata": {},
   "source": [
    "Este vector de características indica que antes de la palabra ambigua se encuentran las palabras *«the strong»* y después de la palabra ambigua las palabras *«of japanese»*. "
   ]
  },
  {
   "cell_type": "markdown",
   "metadata": {},
   "source": [
    "- **¿Cómo construyo mi conjunto y que n utilizo?** Utiliza un diccionario en Python para guardar el conjunto de características, la clave del diccionario debe indicar la secuencia de palabras de contexto y si aparecen antes o después de la palabra ambigua y el valor asociado a la clave debe ser un booleano verdadero. Usaremos **n=2**."
   ]
  },
  {
   "cell_type": "markdown",
   "metadata": {},
   "source": [
    "- Por ejemplo, en el vector de características `{'previous(the strong)': True, 'next(of japanese)': True}` una de las claves del diccionario es `'previous(the strong)'` y su valor es `True` lo que indica que antes de la palabra ambigua se encuentran las palabras *«the strong»*. En este caso, al tener secuencias de dos palabras (*n=2*), se están considerando bigramas y la ventana tendría tamaño cinco (*2n+1*). Por lo tanto, si la palabra ambigua es *«interest» en el contexto guardado en el campo context de la instancia, aparece la siguiente parte de la frase «the strong interest of japanese»."
   ]
  },
  {
   "cell_type": "markdown",
   "metadata": {},
   "source": [
    "- Debes mostrar el vector de características resultante para una de las instancias del corpus."
   ]
  },
  {
   "cell_type": "markdown",
   "metadata": {},
   "source": [
    "- **Importante:** Debes tener en cuenta los posibles casos en los que la palabra ambigua aparezca al principio o final de la frase, ya que en esas instancias no vas a poder obtener una secuencia de palabras de longitud n. Por ejemplo, para la instancia cuyo contexto es: `[…('should', 'MD'), ('be', 'VB'), ('refunded', 'VBN'), (',', ','), ('plus', 'CC'), ('interest', 'NN'), ('.', '.'), …]`, si n=2 deberías obtener el siguiente vector de características: `{'previous(, plus)': True, 'next(.)': True}`."
   ]
  },
  {
   "cell_type": "markdown",
   "metadata": {},
   "source": [
    "- **Nota:** aunque no es imprescindible para realizar esta actividad de laboratorio, puedes utilizar las funcionalidades para trabajar con n-gramas que ofrece NLTK. Estas se pueden importar utilizando el siguiente comando:\n",
    "\n",
    "> *from nltk import ngrams*"
   ]
  },
  {
   "cell_type": "markdown",
   "metadata": {},
   "source": [
    "Método que devuelve el conjunto de características de colocación para una instancia `instance` usando los n-gramas anterior y posterior donde la longitud de secuencia es de `dist` palabras (Nota: el parámetro `vocab` no debes usarlo):"
   ]
  },
  {
   "cell_type": "code",
   "execution_count": null,
   "metadata": {},
   "outputs": [],
   "source": [
    "def wsd_caracteristicas_colocacion(instance, vocab, dist=2):\n",
    "    features = {}\n",
    "    p = instance.position\n",
    "    con = instance.context\n",
    "       \n",
    "    try:\n",
    "        ##################################################  \n",
    "        ########## Aquí debes incluir tu código ##########  \n",
    "        ##################################################\n",
    "                \n",
    "    except ValueError:\n",
    "        pass\n",
    "      \n",
    "    return features"
   ]
  },
  {
   "cell_type": "markdown",
   "metadata": {},
   "source": [
    "Mostrar el vector de características de colocación para una de las instancias del corpus usando n=2:"
   ]
  },
  {
   "cell_type": "code",
   "execution_count": null,
   "metadata": {},
   "outputs": [],
   "source": [
    "wsd_caracteristicas_colocacion(inst_interest_10, 0, 2)"
   ]
  },
  {
   "cell_type": "markdown",
   "metadata": {},
   "source": [
    "<span style=\"font-size: 14pt; font-weight: bold; color: #0098cd;\">Parte 3: Entrenamiento de clasificadores</span>\n",
    "\n",
    "Debes entrenar diferentes clasificadores que permitan desambiguar la palabra ambigua en inglés «interest». Además, vas a tener que evaluar el desempeño de los clasificadores creados. Por lo tanto, debes crear el código en Python que te permita entrenar estos clasificadores y evaluarlos. \n",
    "\n",
    "El tipo de clasificador que vas a utilizar en este laboratorio es el Naive Bayes. Para importar el clasificador y el paquete que te permita evaluar su rendimiento debes utilizar el siguiente comando:"
   ]
  },
  {
   "cell_type": "code",
   "execution_count": null,
   "metadata": {},
   "outputs": [],
   "source": [
    "from nltk.classify import accuracy, NaiveBayesClassifier\n",
    "from nltk import ConfusionMatrix"
   ]
  },
  {
   "cell_type": "markdown",
   "metadata": {},
   "source": [
    "Una vez hayas importado los paquetes anteriores, para entrenar un clasificador Naïve Bayes puedes usar el comando `NaiveBayesClassifier.train()` y para evaluarlo `accuracy()`. Además, puedes utilizar el clasificador entrenado para clasificar una instancia utilizando su método `classify()`. Por último, puedes obtener la matriz de confusión utilizando el comando `nltk.ConfusionMatrix()`."
   ]
  },
  {
   "cell_type": "markdown",
   "metadata": {},
   "source": [
    "Para realizar esta parte del laboratorio debes seguir los siguientes pasos:"
   ]
  },
  {
   "cell_type": "markdown",
   "metadata": {},
   "source": [
    "### 1.\tEntrenamiento de dos clasificadores para la palabra «interest». "
   ]
  },
  {
   "cell_type": "markdown",
   "metadata": {},
   "source": [
    "Debes entrenar dos clasificadores que permitan desambiguar la palabra «interest», es decir, que debes entrenar los clasificadores utilizando las instancias disponibles en el corpus Senseval 2 para esta palabra ambigua."
   ]
  },
  {
   "cell_type": "markdown",
   "metadata": {},
   "source": [
    "- **Conjuntos de entrenamiento y test.** Para entrenar y validar divide las instancias disponibles en una proporción del 80-20 % y recuerda que en el conjunto de datos de entrenamiento deben aparecer instancias de todas las clases. "
   ]
  },
  {
   "cell_type": "markdown",
   "metadata": {},
   "source": [
    "- **Clasificador basado en las palabras vecinas.** Con el conjunto de datos de entrenamiento, entrena un clasificador para «interest» que use como características el conjunto basado en las **palabras vecinas** cuyo código has implementado en la parte 2 de este laboratorio. Para definir el vocabulario utiliza las **250** palabras más frecuentes (**m=250**). "
   ]
  },
  {
   "cell_type": "markdown",
   "metadata": {},
   "source": [
    "- **Clasificador basado en características de colocación.** Con el conjunto de datos de entrenamiento, entrena un clasificador para «interest» que use como conjunto de características las de colocación cuyo código has implementado en la parte 2 de este laboratorio. Para definir la **ventana de contexto** utiliza la secuencia de dos palabras que ocurren antes de la palabra ambigua y la secuencia de dos palabras que ocurren después de esta **(n=2)**."
   ]
  },
  {
   "cell_type": "code",
   "execution_count": null,
   "metadata": {},
   "outputs": [],
   "source": [
    "import random"
   ]
  },
  {
   "cell_type": "code",
   "execution_count": null,
   "metadata": {},
   "outputs": [],
   "source": [
    "def wsd_clasificador(word, features, stopwords_list = STOPWORDS_SET, number=250, distance=2, errors=False, confusion_matrix=False):\n",
    "    \"\"\"\n",
    "    This function takes as arguments:\n",
    "        a target word from senseval2;\n",
    "        a feature set (this can be wsd_caracteristicas_palabras_vecinas or wsd_caracteristicas_colocacion);\n",
    "        a list of stopwords \n",
    "        a number (defaults to 250), which determines for wsd_caracteristicas_palabras_vecinas the number of\n",
    "            most frequent words within the context of a given sense that you use to classify examples;\n",
    "        a distance (defaults to 2) which determines the size of the window for wsd_caracteristicas_colocacion;\n",
    "        errors (defaults to false), which if set to True prints the errors;\n",
    "        confusion_matrix (defaults to False), which if set to True prints a confusion matrix.\n",
    "\n",
    "    Calling this function splits the senseval data for the word into a training set and a test set (the way it does\n",
    "    this is the same for each call of this function, because the argument to random.seed is specified,\n",
    "    but removing this argument would make the training and testing sets different each time you build a classifier).\n",
    "\n",
    "    It then trains the trainer on the training set to create a classifier that performs WSD on the word,\n",
    "    using features (with number or distance where relevant).\n",
    "\n",
    "    It then tests the classifier on the test set, and prints its accuracy on that set.\n",
    "\n",
    "    If error==True, then the errors of the classifier over the test set are printed out.\n",
    "    For each error four things are recorded: (i) the example number within the test data (this is simply the index of the\n",
    "    example within the list test_data); (ii) the sentence that the target word appeared in, (iii) the\n",
    "    (incorrect) derived label, and (iv) the good label.\n",
    "\n",
    "    If confusion_matrix==True, then calling this function prints out a confusion matrix, where each cell [i,j]\n",
    "    indicates how often label j was predicted when the correct label was i (so the diagonal entries indicate labels\n",
    "    that were correctly predicted).\n",
    "    \"\"\"\n",
    "    \n",
    "    events = [(i, i.senses[0]) for i in senseval.instances(word)]\n",
    "    senses = list(set(l for (i, l) in events))\n",
    "    instances = [i for (i, l) in events]\n",
    " \n",
    "    # Extract the vocabulary\n",
    "    vocab = extract_vocab(instances, stopwords=stopwords_list, m=number)\n",
    "\n",
    "    # Split the instances into a training and test set    \n",
    "    n = len(events)\n",
    "    random.seed(5444522)\n",
    "    random.shuffle(events)\n",
    "    training_data = events[:int(0.8 * n)]\n",
    "    test_data = events[int(0.8 * n):n]\n",
    "\n",
    "    \n",
    "    # Train classifier\n",
    "    \n",
    "    classifier = \n",
    "    \n",
    "        ##################################################  \n",
    "        ########## Aquí debes incluir tu código ##########  \n",
    "        ##################################################\n",
    "\n",
    "    \n",
    "    # Test classifier\n",
    "    \n",
    "    acc =  \n",
    "    \n",
    "        ##################################################  \n",
    "        ########## Aquí debes incluir tu código ##########  \n",
    "        ##################################################\n",
    "    \n",
    "       \n",
    "    print('Accuracy: %6.4f' % acc)\n",
    "    \n",
    "    if errors==True:\n",
    "                 \n",
    "        errors = []\n",
    "        for (i, label) in test_data:\n",
    "            # Classify the instance\n",
    "            guess = \n",
    "                ##################################################  \n",
    "                ########## Aquí debes incluir tu código ##########  \n",
    "                ##################################################\n",
    "            \n",
    "            if guess != label:\n",
    "                con =  i.context\n",
    "                position = i.position\n",
    "                item_number = str(test_data.index((i, label)))\n",
    "                word_list = []\n",
    "                for (word, tag) in con:\n",
    "                    word_list.append(word)\n",
    "                hard_highlighted = word_list[position].upper()\n",
    "                word_list_highlighted = word_list[0:position] + [hard_highlighted] + word_list[position+1:]\n",
    "                sentence = ' '.join(word_list_highlighted)\n",
    "                errors.append([item_number, sentence, guess,label])\n",
    "        error_number = len(errors)\n",
    "        \n",
    "        print('\\n' + '\\n' + 'There are ' + str(error_number) + ' errors!' + '\\n' + '----------------------------' + '\\n' + '\\n')\n",
    "        \n",
    "        for error in errors:\n",
    "            print(str(errors.index(error)+1) +') ' + 'example number: ' + error[0] + '\\n' + '    sentence: ' + error[1] + '\\n' + '    guess: ' + error[2] + ';  label: ' + error[3] + '\\n' + '\\n')\n",
    "            \n",
    "\n",
    "    if confusion_matrix==True:\n",
    "        good = [label for (i, label) in test_data]\n",
    "        derived = [classifier.classify(features(i,vocab)) for (i,label) in test_data]\n",
    "        # Get confusion matrix\n",
    "        cm = \n",
    "            ##################################################  \n",
    "            ########## Aquí debes incluir tu código ##########  \n",
    "            ##################################################\n",
    "        \n",
    "        print(cm)\n",
    "    \n",
    "    \n",
    "    return classifier"
   ]
  },
  {
   "cell_type": "markdown",
   "metadata": {},
   "source": [
    "### 2.\tValidación de los clasificadores para la palabra «interest».  "
   ]
  },
  {
   "cell_type": "markdown",
   "metadata": {},
   "source": [
    "Utilizando el conjunto de datos de test que has generado previamente, obtén la exactitud (accuracy) y la matriz de confusión para cada uno de los dos clasificadores que permiten desambiguar el sentido de la palabra «interest». "
   ]
  },
  {
   "cell_type": "markdown",
   "metadata": {},
   "source": [
    "- Debes mostrar la exactitud (accuracy) y la matriz de confusión resultantes de la validación de cada uno de los dos clasificadores."
   ]
  },
  {
   "cell_type": "code",
   "execution_count": null,
   "metadata": {},
   "outputs": [],
   "source": [
    "clasificador_interest_vecinas = wsd_clasificador('interest.pos', wsd_caracteristicas_palabras_vecinas, number=250, errors=False, confusion_matrix=True)"
   ]
  },
  {
   "cell_type": "code",
   "execution_count": null,
   "metadata": {},
   "outputs": [],
   "source": [
    "clasificador_interest_colocacion = wsd_clasificador('interest.pos', wsd_caracteristicas_colocacion, distance=2, errors=False, confusion_matrix=True)"
   ]
  },
  {
   "cell_type": "markdown",
   "metadata": {},
   "source": [
    "Debes comparar y analizar los resultados de rendimiento de los clasificadores. Para ello responde a las siguientes preguntas:"
   ]
  },
  {
   "cell_type": "markdown",
   "metadata": {},
   "source": [
    "- ¿Cuál es el conjunto de características que aporta mejores resultados? ¿Por qué? "
   ]
  },
  {
   "cell_type": "markdown",
   "metadata": {},
   "source": [
    "########## Aquí debes indicar tu respuesta ##########"
   ]
  },
  {
   "cell_type": "markdown",
   "metadata": {},
   "source": [
    "- ¿Cuál es el sentido más difícil de identificar? ¿Por qué?"
   ]
  },
  {
   "cell_type": "markdown",
   "metadata": {},
   "source": [
    "########## Aquí debes indicar tu respuesta ##########"
   ]
  },
  {
   "cell_type": "markdown",
   "metadata": {},
   "source": [
    "- ¿Qué posibles mejoras se podrían aplicar para mejorar el rendimiento de los clasificadores creados? No es necesario que las implementes, solo que las comentes."
   ]
  },
  {
   "cell_type": "markdown",
   "metadata": {},
   "source": [
    "########## Aquí debes indicar tu respuesta ##########"
   ]
  },
  {
   "cell_type": "markdown",
   "metadata": {},
   "source": [
    "### 3.\tInstancias clasificadas incorrectamente para «interest».   "
   ]
  },
  {
   "cell_type": "markdown",
   "metadata": {},
   "source": [
    "Para el clasificador que permite desambiguar la palabra «interest» y que utiliza las características de colocación, obtén las instancias que pertenecen al sentido ‘interest_1’ y que se han clasificado incorrectamente. Presenta en el informe la oración en la que aparece la palabra ambigua (el contexto) para cada una de esas instancias y la etiqueta en la que han sido erróneamente clasificadas.\n",
    "\n",
    "Para el clasificador que permite desambiguar la palabra «interest» y que utiliza las características de colocación, obtén las instancias que pertenecen al sentido ‘interest_1’ y que se han clasificado incorrectamente."
   ]
  },
  {
   "cell_type": "markdown",
   "metadata": {},
   "source": [
    "- Presenta la oración en la que aparece la palabra ambigua (el contexto) para cada una de esas instancias y la etiqueta en la que han sido erróneamente clasificadas."
   ]
  },
  {
   "cell_type": "code",
   "execution_count": null,
   "metadata": {
    "scrolled": true
   },
   "outputs": [],
   "source": [
    "clasificador_hard_colocacion = wsd_clasificador('hard.pos', wsd_caracteristicas_colocacion, distance=2, errors=True, confusion_matrix=True)"
   ]
  },
  {
   "cell_type": "markdown",
   "metadata": {},
   "source": [
    "########## Aquí debes indicar tu respuesta ##########"
   ]
  },
  {
   "cell_type": "markdown",
   "metadata": {},
   "source": [
    "### 4.\tAnálisis de resultados del rendimiento de los clasificadores. "
   ]
  },
  {
   "cell_type": "markdown",
   "metadata": {},
   "source": [
    "Presenta una tabla resumen con los valores de exactitud para cada uno de los 2 clasificadores que has entrenado previamente y responde a las siguientes preguntas:"
   ]
  },
  {
   "cell_type": "markdown",
   "metadata": {},
   "source": [
    "########## Aquí debes indicar tu respuesta ##########"
   ]
  },
  {
   "cell_type": "markdown",
   "metadata": {},
   "source": [
    "* En Aprendizaje automático es habitual comparar resultados contra un baseline simple que asigna una clase con la probabilidad 1/n (siendo n el número de clases en las que se clasifica) o bien asignando una clase teniendo en cuenta su probabilidad de aparición en el corpus. Compara la exactitud de los clasificadores que has implementado con la que proporcionaría un clasificador que asignara el sentido de forma aleatoria. ¿Cuál sería el mejor clasificador?"
   ]
  },
  {
   "cell_type": "markdown",
   "metadata": {},
   "source": [
    "########## Aquí debes indicar tu respuesta ##########"
   ]
  },
  {
   "cell_type": "markdown",
   "metadata": {},
   "source": [
    "<span style=\"font-size: 14pt; font-weight: bold; color: #0098cd;\">Parte 4: Extracción de características utilizando vectores de representación de palabras (word2vec)"
   ]
  },
  {
   "cell_type": "markdown",
   "metadata": {},
   "source": [
    "En este apartado de la práctica, te proponemos que completes la implementación de una representación de palabras utilizando el método *word2vec*.\n",
    "\n",
    "*word2vec* es un método de representación de palabras en vectores que captura información morfosintáctica y semántica de la palabra mediante el análisis de las frecuencias de los contextos de aparición de las palabras generando representaciones vectoriales de las palabras. \n",
    "\n",
    "Para ello utilizaremos la implementación de este método de la librería *spacy*. Su documentación la podéis encontrar en el siguiente [enlace](https://spacy.io/usage/linguistic-features#vectors-similarity)."
   ]
  },
  {
   "cell_type": "code",
   "execution_count": null,
   "metadata": {},
   "outputs": [],
   "source": [
    "!pip install spacy\n",
    "import spacy"
   ]
  },
  {
   "cell_type": "markdown",
   "metadata": {},
   "source": [
    "Descargamos el modelo de vectores word2vec más pequeño disponible en inglés para poder hacer nuestras pruebas."
   ]
  },
  {
   "cell_type": "code",
   "execution_count": null,
   "metadata": {},
   "outputs": [],
   "source": [
    "!python3 -m spacy download en_core_web_sm\n",
    "vector_model = spacy.load('en_core_web_sm')"
   ]
  },
  {
   "cell_type": "markdown",
   "metadata": {},
   "source": [
    "Con este modelo se puede obtener la representación vectorial de una palabra en concreto:"
   ]
  },
  {
   "cell_type": "code",
   "execution_count": null,
   "metadata": {},
   "outputs": [],
   "source": [
    "vector_model('interest').vector"
   ]
  },
  {
   "cell_type": "markdown",
   "metadata": {},
   "source": [
    "Pero hay que tener en cuenta que el vocabulario del modelo es limitado y no todas las palabras están incluidas."
   ]
  },
  {
   "cell_type": "code",
   "execution_count": null,
   "metadata": {},
   "outputs": [],
   "source": [
    "if 'casa' in vector_model.vocab:\n",
    "    print('casa está en el vocabulario')\n",
    "else:\n",
    "    print('casa no está en el vocabulario')"
   ]
  },
  {
   "cell_type": "markdown",
   "metadata": {},
   "source": [
    "Si pudiéramos representar de manera vectorial las definiciones de los diferentes sentidos \n",
    "parece razonable pensar que el vector del sentido más adecuado para la instancia de nuestra \n",
    "palabra ambigua será aquel más próximo a la representación vectorial de la instancia.\n",
    "\n"
   ]
  },
  {
   "cell_type": "code",
   "execution_count": null,
   "metadata": {},
   "outputs": [],
   "source": [
    "interest_definitions = [\"a sense of concern with and curiosity about someone or something\",\n",
    "                        \"a reason for wanting something done\",\n",
    "                        \"the power of attracting or holding one 's attention ( because it is unusual or exciting etc . \",\n",
    "                        \"a fixed charge for borrowing money ; usually a percentage of the amount borrowed\",\n",
    "                        \"( law ) a right or legal share of something ; a financial involvement with something\",\n",
    "                        \"a social group whose members control some field of activity and who have common aims\",\n",
    "                        \"a diversion that occupies one 's time and thoughts ( usually pleasantly )\"]"
   ]
  },
  {
   "cell_type": "markdown",
   "metadata": {},
   "source": [
    "Con el siguiente método se puede obtener la representación de una definición:"
   ]
  },
  {
   "cell_type": "code",
   "execution_count": null,
   "metadata": {},
   "outputs": [],
   "source": [
    "def get_sentence_representation(sentence):\n",
    "    sentence_vector=vector_model(sentence).vector\n",
    "    return sentence_vector"
   ]
  },
  {
   "cell_type": "code",
   "execution_count": null,
   "metadata": {},
   "outputs": [],
   "source": [
    "get_sentence_representation(interest_definitions[0])"
   ]
  },
  {
   "cell_type": "markdown",
   "metadata": {},
   "source": [
    "Así, queremos tener una función que dada una instancia donde aparezca una palabra ambigua \n",
    "y su conjunto de definiciones nos diga qué sentido o sentidos son los más cercanos al sentido\n",
    "de la instancia.\n",
    "\n",
    "La función *cosine_similarity* nos calcula la similitud coseno entre dos vectores:"
   ]
  },
  {
   "cell_type": "code",
   "execution_count": null,
   "metadata": {},
   "outputs": [],
   "source": [
    "from scipy import spatial\n",
    "cosine_similarity = lambda x,y: 1 - spatial.distance.cosine(x,y)"
   ]
  },
  {
   "cell_type": "markdown",
   "metadata": {},
   "source": [
    "Debéis completar la implementación de la función *wsdw2v*:"
   ]
  },
  {
   "cell_type": "code",
   "execution_count": null,
   "metadata": {},
   "outputs": [],
   "source": [
    "def wsdw2v(vector_model,instance,definitions,topk):\n",
    "    instance_text = ''\n",
    "    instance_words = []\n",
    "    for (word,pos) in instance.context:\n",
    "        ###############################\n",
    "        # Aquí debes incluir tu código#\n",
    "        ###############################\n",
    "    instance_text=' '.join(instance_words)\n",
    "    \n",
    "    instance_in_vector_model = vector_model(instance_text)\n",
    "    scores = []\n",
    "    for definition in definitions:\n",
    "        similarity= \n",
    "        ###############################\n",
    "        # Aquí debes incluir tu código#\n",
    "        ###############################\n",
    "        scores.append((similarity, definition))\n",
    "    sorted_scores = sorted(scores, key=lambda item: item[0],reverse=True)\n",
    "    return sorted_scores[:topk]"
   ]
  },
  {
   "cell_type": "markdown",
   "metadata": {},
   "source": [
    "Una vez completada, aplica tu función de desambiguación sobre las instancias 1 y 10 de la palabra ambigua *interest*, mostrando hasta los 3 sentidos más cercanos a las mismas. \n",
    "Utiliza las salidas de las instancias y las definiciones como apoyo para analizar los resultados obtenidos."
   ]
  },
  {
   "cell_type": "code",
   "execution_count": null,
   "metadata": {},
   "outputs": [],
   "source": [
    "instances_interest[1]"
   ]
  },
  {
   "cell_type": "code",
   "execution_count": null,
   "metadata": {},
   "outputs": [],
   "source": [
    "interest_definitions[5]"
   ]
  },
  {
   "cell_type": "code",
   "execution_count": null,
   "metadata": {},
   "outputs": [],
   "source": [
    "wsdw2v(vector_model,instances_interest[1],interest_definitions,3)"
   ]
  },
  {
   "cell_type": "code",
   "execution_count": null,
   "metadata": {},
   "outputs": [],
   "source": [
    "instances_interest[10]"
   ]
  },
  {
   "cell_type": "code",
   "execution_count": null,
   "metadata": {},
   "outputs": [],
   "source": [
    "interest_definitions[0]"
   ]
  },
  {
   "cell_type": "code",
   "execution_count": null,
   "metadata": {},
   "outputs": [],
   "source": [
    "wsdw2v(vector_model,instances_interest[10],interest_definitions,3)"
   ]
  },
  {
   "cell_type": "markdown",
   "metadata": {},
   "source": [
    "########## Aquí debes indicar tu respuesta ##########"
   ]
  },
  {
   "cell_type": "markdown",
   "metadata": {},
   "source": [
    "* ¿Qué tasa de acierto has observado en estos ejemplos si consideras el sentido con mayor similitud? ¿Y si consideras los 3 primeros? "
   ]
  },
  {
   "cell_type": "markdown",
   "metadata": {},
   "source": [
    "* ¿A qué se pueden deber los fallos de predicción mediante la similitud?"
   ]
  },
  {
   "cell_type": "markdown",
   "metadata": {},
   "source": [
    "* ¿Qué ventajas e inconvenientes presenta el método basado en vectores de palabras frente a los métodos de clasificación basado en representaciones de características?"
   ]
  }
 ],
 "metadata": {
  "kernelspec": {
   "display_name": "Python 3 (ipykernel)",
   "language": "python",
   "name": "python3"
  },
  "language_info": {
   "codemirror_mode": {
    "name": "ipython",
    "version": 3
   },
   "file_extension": ".py",
   "mimetype": "text/x-python",
   "name": "python",
   "nbconvert_exporter": "python",
   "pygments_lexer": "ipython3",
   "version": "3.9.8"
  }
 },
 "nbformat": 4,
 "nbformat_minor": 2
}
