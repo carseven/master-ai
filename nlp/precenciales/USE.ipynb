{
  "nbformat": 4,
  "nbformat_minor": 0,
  "metadata": {
    "colab": {
      "name": "USE.ipynb",
      "provenance": [],
      "collapsed_sections": []
    },
    "kernelspec": {
      "name": "python3",
      "display_name": "Python 3"
    },
    "language_info": {
      "name": "python"
    },
    "accelerator": "GPU"
  },
  "cells": [
    {
      "cell_type": "code",
      "metadata": {
        "id": "26WKdzTkyp-q"
      },
      "source": [
        "!pip install tensorflow-text"
      ],
      "execution_count": null,
      "outputs": []
    },
    {
      "cell_type": "code",
      "metadata": {
        "id": "LekzHr7erAtk"
      },
      "source": [
        "import tensorflow as tf\n",
        "import tensorflow_text\n",
        "import tensorflow_hub as hub\n",
        "\n",
        "MODEL_URL = \"https://tfhub.dev/google/universal-sentence-encoder-multilingual/3\"\n",
        "use = hub.KerasLayer(MODEL_URL, input_shape=[], dtype=tf.string)\n",
        "embeddings = use([\"Este coche es una maravilla, con todos los extras que ouedas desear\",\n",
        "                    \"Es una película taquillera llena de acción trepidante\"])\n",
        "print(embeddings.shape)"
      ],
      "execution_count": null,
      "outputs": []
    },
    {
      "cell_type": "code",
      "metadata": {
        "id": "qh4QaLljr5jI"
      },
      "source": [
        "from sklearn.metrics.pairwise import cosine_similarity\n",
        "\n",
        "print(cosine_similarity(use(\"Este producto es bueno\"),\n",
        "                        use(\"This product is good\")))\n",
        "\n",
        "print(cosine_similarity(use(\"Me gustó lo rápido que resolvieron la incidencia, muy buen servicio\"),\n",
        "                        use(\"Han dado dolución a mi problema en muy poco tiempo, felicidades al servicio\")))\n",
        "\n",
        "print(cosine_similarity(use(\"Me gustó lo rápido que resolvieron la incidencia, muy buen servicio\"),\n",
        "                        use(\"Publican las notician en orden cronológico riguroso\")))"
      ],
      "execution_count": null,
      "outputs": []
    }
  ]
}