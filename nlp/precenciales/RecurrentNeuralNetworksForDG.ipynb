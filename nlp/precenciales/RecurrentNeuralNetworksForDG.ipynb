{
  "nbformat": 4,
  "nbformat_minor": 0,
  "metadata": {
    "colab": {
      "name": "RecurrentNeuralNetworks.ipynb",
      "provenance": [],
      "collapsed_sections": []
    },
    "kernelspec": {
      "name": "python3",
      "display_name": "Python 3"
    },
    "language_info": {
      "name": "python"
    }
  },
  "cells": [
    {
      "cell_type": "code",
      "metadata": {
        "id": "n0U3A4492rm0"
      },
      "source": [
        "import numpy as np\n",
        "import tensorflow as tf\n",
        "from tensorflow.keras.layers import Input, Embedding, concatenate, Bidirectional, LSTM, Dense, TimeDistributed\n",
        "from tensorflow.keras.models import Model"
      ],
      "execution_count": 1,
      "outputs": []
    },
    {
      "cell_type": "code",
      "metadata": {
        "id": "pL7elQHL34Ek"
      },
      "source": [
        "MAX_LEN = 10\n",
        "EMBEDDING_DIM = 10\n",
        "LSTM_DIM = 50\n",
        "NUM_CLASSES = 2\n",
        "EPOCHS = 20\n",
        "BATCH_SIZE = 16"
      ],
      "execution_count": 2,
      "outputs": []
    },
    {
      "cell_type": "code",
      "metadata": {
        "id": "OIwt-DlxUky9"
      },
      "source": [
        "# INPUTS\n",
        "texts = ['él vino', 'vino él'] * 100\n",
        "poses = ['PRON VERB', 'VERB PRON'] * 100\n",
        "\n",
        "# OUTPUTS\n",
        "labels = ['SUBJ ROOT', 'ROOT SUBJ'] * 100\n",
        "dependencies = [[[2], [0]], [[0], [1]]] * 100"
      ],
      "execution_count": 3,
      "outputs": []
    },
    {
      "cell_type": "code",
      "metadata": {
        "id": "Nkhjn9AHdAkL"
      },
      "source": [
        "texts_tokenizer = tf.keras.preprocessing.text.Tokenizer()\n",
        "poses_tokenizer = tf.keras.preprocessing.text.Tokenizer()\n",
        "labels_tokenizer = tf.keras.preprocessing.text.Tokenizer()\n",
        "\n",
        "texts_tokenizer.fit_on_texts(texts)\n",
        "poses_tokenizer.fit_on_texts(poses)\n",
        "labels_tokenizer.fit_on_texts(labels)\n",
        "\n",
        "X1 = np.array(texts_tokenizer.texts_to_sequences(texts))\n",
        "X2 = np.array(poses_tokenizer.texts_to_sequences(poses))\n",
        "\n",
        "y1 = np.reshape(labels_tokenizer.texts_to_sequences(labels), (len(labels), -1, 1))\n",
        "y2 = np.array(dependencies)"
      ],
      "execution_count": 4,
      "outputs": []
    },
    {
      "cell_type": "code",
      "metadata": {
        "id": "GgUR735t3oX2",
        "colab": {
          "base_uri": "https://localhost:8080/"
        },
        "outputId": "c00525a5-ebe2-4f7e-c953-87ee48c525df"
      },
      "source": [
        "input_text = Input(shape=(None,), dtype='int32')\n",
        "input_pos = Input(shape=(None,), dtype='int32')\n",
        "\n",
        "output_text = Embedding(MAX_LEN, EMBEDDING_DIM, trainable=True, mask_zero=True)(input_text)\n",
        "output_pos = Embedding(MAX_LEN, EMBEDDING_DIM, trainable=True, mask_zero=True)(input_pos)\n",
        "output = concatenate([output_text, output_pos])\n",
        "output = Bidirectional(LSTM(LSTM_DIM, return_sequences=True))(output)\n",
        "output_label = TimeDistributed(Dense(NUM_CLASSES + 1, activation='softmax'))(output)\n",
        "output_dependency = TimeDistributed(Dense(NUM_CLASSES + 1, activation='softmax'))(output)\n",
        "\n",
        "model = Model([input_text, input_pos], [output_label, output_dependency])\n",
        "model.compile(optimizer='adam', loss='sparse_categorical_crossentropy', metrics=['accuracy'])\n",
        "model.summary()"
      ],
      "execution_count": 5,
      "outputs": [
        {
          "output_type": "stream",
          "text": [
            "Model: \"model\"\n",
            "__________________________________________________________________________________________________\n",
            "Layer (type)                    Output Shape         Param #     Connected to                     \n",
            "==================================================================================================\n",
            "input_1 (InputLayer)            [(None, None)]       0                                            \n",
            "__________________________________________________________________________________________________\n",
            "input_2 (InputLayer)            [(None, None)]       0                                            \n",
            "__________________________________________________________________________________________________\n",
            "embedding (Embedding)           (None, None, 10)     100         input_1[0][0]                    \n",
            "__________________________________________________________________________________________________\n",
            "embedding_1 (Embedding)         (None, None, 10)     100         input_2[0][0]                    \n",
            "__________________________________________________________________________________________________\n",
            "concatenate (Concatenate)       (None, None, 20)     0           embedding[0][0]                  \n",
            "                                                                 embedding_1[0][0]                \n",
            "__________________________________________________________________________________________________\n",
            "bidirectional (Bidirectional)   (None, None, 100)    28400       concatenate[0][0]                \n",
            "__________________________________________________________________________________________________\n",
            "time_distributed (TimeDistribut (None, None, 3)      303         bidirectional[0][0]              \n",
            "__________________________________________________________________________________________________\n",
            "time_distributed_1 (TimeDistrib (None, None, 3)      303         bidirectional[0][0]              \n",
            "==================================================================================================\n",
            "Total params: 29,206\n",
            "Trainable params: 29,206\n",
            "Non-trainable params: 0\n",
            "__________________________________________________________________________________________________\n"
          ],
          "name": "stdout"
        }
      ]
    },
    {
      "cell_type": "code",
      "metadata": {
        "id": "yKkS0ZtZ6o7A",
        "colab": {
          "base_uri": "https://localhost:8080/"
        },
        "outputId": "fad9f090-a6d1-4f6d-ab1b-9ca7e69a9f99"
      },
      "source": [
        "model.fit(x=[X1, X2], y=[y1, y2], epochs=EPOCHS, batch_size=BATCH_SIZE, validation_split = 0.25)"
      ],
      "execution_count": 6,
      "outputs": [
        {
          "output_type": "stream",
          "text": [
            "Epoch 1/20\n",
            "10/10 [==============================] - 9s 295ms/step - loss: 2.1857 - time_distributed_loss: 1.0899 - time_distributed_1_loss: 1.0958 - time_distributed_accuracy: 0.4136 - time_distributed_1_accuracy: 0.3037 - val_loss: 2.1519 - val_time_distributed_loss: 1.0650 - val_time_distributed_1_loss: 1.0869 - val_time_distributed_accuracy: 0.5000 - val_time_distributed_1_accuracy: 0.5000\n",
            "Epoch 2/20\n",
            "10/10 [==============================] - 0s 9ms/step - loss: 2.1394 - time_distributed_loss: 1.0562 - time_distributed_1_loss: 1.0832 - time_distributed_accuracy: 0.5000 - time_distributed_1_accuracy: 0.5000 - val_loss: 2.0957 - val_time_distributed_loss: 1.0259 - val_time_distributed_1_loss: 1.0698 - val_time_distributed_accuracy: 0.5000 - val_time_distributed_1_accuracy: 0.5000\n",
            "Epoch 3/20\n",
            "10/10 [==============================] - 0s 8ms/step - loss: 2.0778 - time_distributed_loss: 1.0140 - time_distributed_1_loss: 1.0637 - time_distributed_accuracy: 0.5000 - time_distributed_1_accuracy: 0.5000 - val_loss: 2.0136 - val_time_distributed_loss: 0.9724 - val_time_distributed_1_loss: 1.0413 - val_time_distributed_accuracy: 0.5000 - val_time_distributed_1_accuracy: 0.5000\n",
            "Epoch 4/20\n",
            "10/10 [==============================] - 0s 8ms/step - loss: 1.9875 - time_distributed_loss: 0.9561 - time_distributed_1_loss: 1.0315 - time_distributed_accuracy: 0.6898 - time_distributed_1_accuracy: 0.5000 - val_loss: 1.8933 - val_time_distributed_loss: 0.8986 - val_time_distributed_1_loss: 0.9947 - val_time_distributed_accuracy: 0.7500 - val_time_distributed_1_accuracy: 0.5000\n",
            "Epoch 5/20\n",
            "10/10 [==============================] - 0s 9ms/step - loss: 1.8556 - time_distributed_loss: 0.8765 - time_distributed_1_loss: 0.9791 - time_distributed_accuracy: 0.9017 - time_distributed_1_accuracy: 0.5000 - val_loss: 1.7254 - val_time_distributed_loss: 0.8025 - val_time_distributed_1_loss: 0.9229 - val_time_distributed_accuracy: 1.0000 - val_time_distributed_1_accuracy: 0.5000\n",
            "Epoch 6/20\n",
            "10/10 [==============================] - 0s 9ms/step - loss: 1.6761 - time_distributed_loss: 0.7762 - time_distributed_1_loss: 0.8999 - time_distributed_accuracy: 1.0000 - time_distributed_1_accuracy: 0.5000 - val_loss: 1.4982 - val_time_distributed_loss: 0.6840 - val_time_distributed_1_loss: 0.8143 - val_time_distributed_accuracy: 1.0000 - val_time_distributed_1_accuracy: 0.5000\n",
            "Epoch 7/20\n",
            "10/10 [==============================] - 0s 8ms/step - loss: 1.4304 - time_distributed_loss: 0.6512 - time_distributed_1_loss: 0.7792 - time_distributed_accuracy: 1.0000 - time_distributed_1_accuracy: 0.5000 - val_loss: 1.1921 - val_time_distributed_loss: 0.5397 - val_time_distributed_1_loss: 0.6524 - val_time_distributed_accuracy: 1.0000 - val_time_distributed_1_accuracy: 0.5000\n",
            "Epoch 8/20\n",
            "10/10 [==============================] - 0s 8ms/step - loss: 1.0994 - time_distributed_loss: 0.4979 - time_distributed_1_loss: 0.6015 - time_distributed_accuracy: 1.0000 - time_distributed_1_accuracy: 0.7814 - val_loss: 0.8056 - val_time_distributed_loss: 0.3677 - val_time_distributed_1_loss: 0.4378 - val_time_distributed_accuracy: 1.0000 - val_time_distributed_1_accuracy: 1.0000\n",
            "Epoch 9/20\n",
            "10/10 [==============================] - 0s 9ms/step - loss: 0.7117 - time_distributed_loss: 0.3260 - time_distributed_1_loss: 0.3857 - time_distributed_accuracy: 1.0000 - time_distributed_1_accuracy: 1.0000 - val_loss: 0.4281 - val_time_distributed_loss: 0.1990 - val_time_distributed_1_loss: 0.2291 - val_time_distributed_accuracy: 1.0000 - val_time_distributed_1_accuracy: 1.0000\n",
            "Epoch 10/20\n",
            "10/10 [==============================] - 0s 9ms/step - loss: 0.3598 - time_distributed_loss: 0.1677 - time_distributed_1_loss: 0.1920 - time_distributed_accuracy: 1.0000 - time_distributed_1_accuracy: 1.0000 - val_loss: 0.1859 - val_time_distributed_loss: 0.0873 - val_time_distributed_1_loss: 0.0986 - val_time_distributed_accuracy: 1.0000 - val_time_distributed_1_accuracy: 1.0000\n",
            "Epoch 11/20\n",
            "10/10 [==============================] - 0s 9ms/step - loss: 0.1535 - time_distributed_loss: 0.0720 - time_distributed_1_loss: 0.0814 - time_distributed_accuracy: 1.0000 - time_distributed_1_accuracy: 1.0000 - val_loss: 0.0822 - val_time_distributed_loss: 0.0383 - val_time_distributed_1_loss: 0.0439 - val_time_distributed_accuracy: 1.0000 - val_time_distributed_1_accuracy: 1.0000\n",
            "Epoch 12/20\n",
            "10/10 [==============================] - 0s 8ms/step - loss: 0.0705 - time_distributed_loss: 0.0328 - time_distributed_1_loss: 0.0377 - time_distributed_accuracy: 1.0000 - time_distributed_1_accuracy: 1.0000 - val_loss: 0.0433 - val_time_distributed_loss: 0.0199 - val_time_distributed_1_loss: 0.0234 - val_time_distributed_accuracy: 1.0000 - val_time_distributed_1_accuracy: 1.0000\n",
            "Epoch 13/20\n",
            "10/10 [==============================] - 0s 9ms/step - loss: 0.0382 - time_distributed_loss: 0.0175 - time_distributed_1_loss: 0.0207 - time_distributed_accuracy: 1.0000 - time_distributed_1_accuracy: 1.0000 - val_loss: 0.0275 - val_time_distributed_loss: 0.0125 - val_time_distributed_1_loss: 0.0150 - val_time_distributed_accuracy: 1.0000 - val_time_distributed_1_accuracy: 1.0000\n",
            "Epoch 14/20\n",
            "10/10 [==============================] - 0s 9ms/step - loss: 0.0252 - time_distributed_loss: 0.0114 - time_distributed_1_loss: 0.0138 - time_distributed_accuracy: 1.0000 - time_distributed_1_accuracy: 1.0000 - val_loss: 0.0199 - val_time_distributed_loss: 0.0090 - val_time_distributed_1_loss: 0.0109 - val_time_distributed_accuracy: 1.0000 - val_time_distributed_1_accuracy: 1.0000\n",
            "Epoch 15/20\n",
            "10/10 [==============================] - 0s 8ms/step - loss: 0.0186 - time_distributed_loss: 0.0084 - time_distributed_1_loss: 0.0102 - time_distributed_accuracy: 1.0000 - time_distributed_1_accuracy: 1.0000 - val_loss: 0.0156 - val_time_distributed_loss: 0.0070 - val_time_distributed_1_loss: 0.0086 - val_time_distributed_accuracy: 1.0000 - val_time_distributed_1_accuracy: 1.0000\n",
            "Epoch 16/20\n",
            "10/10 [==============================] - 0s 8ms/step - loss: 0.0149 - time_distributed_loss: 0.0067 - time_distributed_1_loss: 0.0082 - time_distributed_accuracy: 1.0000 - time_distributed_1_accuracy: 1.0000 - val_loss: 0.0128 - val_time_distributed_loss: 0.0058 - val_time_distributed_1_loss: 0.0071 - val_time_distributed_accuracy: 1.0000 - val_time_distributed_1_accuracy: 1.0000\n",
            "Epoch 17/20\n",
            "10/10 [==============================] - 0s 8ms/step - loss: 0.0124 - time_distributed_loss: 0.0056 - time_distributed_1_loss: 0.0068 - time_distributed_accuracy: 1.0000 - time_distributed_1_accuracy: 1.0000 - val_loss: 0.0109 - val_time_distributed_loss: 0.0049 - val_time_distributed_1_loss: 0.0060 - val_time_distributed_accuracy: 1.0000 - val_time_distributed_1_accuracy: 1.0000\n",
            "Epoch 18/20\n",
            "10/10 [==============================] - 0s 9ms/step - loss: 0.0105 - time_distributed_loss: 0.0047 - time_distributed_1_loss: 0.0058 - time_distributed_accuracy: 1.0000 - time_distributed_1_accuracy: 1.0000 - val_loss: 0.0094 - val_time_distributed_loss: 0.0042 - val_time_distributed_1_loss: 0.0052 - val_time_distributed_accuracy: 1.0000 - val_time_distributed_1_accuracy: 1.0000\n",
            "Epoch 19/20\n",
            "10/10 [==============================] - 0s 9ms/step - loss: 0.0092 - time_distributed_loss: 0.0041 - time_distributed_1_loss: 0.0051 - time_distributed_accuracy: 1.0000 - time_distributed_1_accuracy: 1.0000 - val_loss: 0.0083 - val_time_distributed_loss: 0.0037 - val_time_distributed_1_loss: 0.0046 - val_time_distributed_accuracy: 1.0000 - val_time_distributed_1_accuracy: 1.0000\n",
            "Epoch 20/20\n",
            "10/10 [==============================] - 0s 10ms/step - loss: 0.0080 - time_distributed_loss: 0.0036 - time_distributed_1_loss: 0.0044 - time_distributed_accuracy: 1.0000 - time_distributed_1_accuracy: 1.0000 - val_loss: 0.0073 - val_time_distributed_loss: 0.0033 - val_time_distributed_1_loss: 0.0041 - val_time_distributed_accuracy: 1.0000 - val_time_distributed_1_accuracy: 1.0000\n"
          ],
          "name": "stdout"
        },
        {
          "output_type": "execute_result",
          "data": {
            "text/plain": [
              "<tensorflow.python.keras.callbacks.History at 0x7fd0c82b5410>"
            ]
          },
          "metadata": {
            "tags": []
          },
          "execution_count": 6
        }
      ]
    },
    {
      "cell_type": "code",
      "metadata": {
        "id": "Gbx4bIOjBeVC",
        "colab": {
          "base_uri": "https://localhost:8080/",
          "height": 1000
        },
        "outputId": "3322b6aa-0d33-4ddd-e6ce-10ac9be5b97d"
      },
      "source": [
        "texts_to_predict = ['él vino']\n",
        "poses_to_predict = ['PRON NOUN']\n",
        "\n",
        "X1 = np.array(texts_tokenizer.texts_to_sequences(texts_to_predict))\n",
        "X2 = np.array(poses_tokenizer.texts_to_sequences(poses_to_predict))\n",
        "p1, p2 = model.predict([X1, X2])\n",
        "\n",
        "predicted_labels = labels_tokenizer.sequences_to_texts(\n",
        "    [[x.index(max(x))] for x in p1[0].tolist()]\n",
        "    )\n",
        "predicted_dependencies = [[x.index(max(x))] for x in p2[0].tolist()]\n",
        "\n",
        "print(predicted_labels)\n",
        "print(predicted_dependencies)\n"
      ],
      "execution_count": 8,
      "outputs": [
        {
          "output_type": "error",
          "ename": "ValueError",
          "evalue": "ignored",
          "traceback": [
            "\u001b[0;31m---------------------------------------------------------------------------\u001b[0m",
            "\u001b[0;31mValueError\u001b[0m                                Traceback (most recent call last)",
            "\u001b[0;32m<ipython-input-8-12c887144f97>\u001b[0m in \u001b[0;36m<module>\u001b[0;34m()\u001b[0m\n\u001b[1;32m      4\u001b[0m \u001b[0mX1\u001b[0m \u001b[0;34m=\u001b[0m \u001b[0mnp\u001b[0m\u001b[0;34m.\u001b[0m\u001b[0marray\u001b[0m\u001b[0;34m(\u001b[0m\u001b[0mtexts_tokenizer\u001b[0m\u001b[0;34m.\u001b[0m\u001b[0mtexts_to_sequences\u001b[0m\u001b[0;34m(\u001b[0m\u001b[0mtexts_to_predict\u001b[0m\u001b[0;34m)\u001b[0m\u001b[0;34m)\u001b[0m\u001b[0;34m\u001b[0m\u001b[0;34m\u001b[0m\u001b[0m\n\u001b[1;32m      5\u001b[0m \u001b[0mX2\u001b[0m \u001b[0;34m=\u001b[0m \u001b[0mnp\u001b[0m\u001b[0;34m.\u001b[0m\u001b[0marray\u001b[0m\u001b[0;34m(\u001b[0m\u001b[0mposes_tokenizer\u001b[0m\u001b[0;34m.\u001b[0m\u001b[0mtexts_to_sequences\u001b[0m\u001b[0;34m(\u001b[0m\u001b[0mposes_to_predict\u001b[0m\u001b[0;34m)\u001b[0m\u001b[0;34m)\u001b[0m\u001b[0;34m\u001b[0m\u001b[0;34m\u001b[0m\u001b[0m\n\u001b[0;32m----> 6\u001b[0;31m \u001b[0mp1\u001b[0m\u001b[0;34m,\u001b[0m \u001b[0mp2\u001b[0m \u001b[0;34m=\u001b[0m \u001b[0mmodel\u001b[0m\u001b[0;34m.\u001b[0m\u001b[0mpredict\u001b[0m\u001b[0;34m(\u001b[0m\u001b[0;34m[\u001b[0m\u001b[0mX1\u001b[0m\u001b[0;34m,\u001b[0m \u001b[0mX2\u001b[0m\u001b[0;34m]\u001b[0m\u001b[0;34m)\u001b[0m\u001b[0;34m\u001b[0m\u001b[0;34m\u001b[0m\u001b[0m\n\u001b[0m\u001b[1;32m      7\u001b[0m \u001b[0;34m\u001b[0m\u001b[0m\n\u001b[1;32m      8\u001b[0m predicted_labels = labels_tokenizer.sequences_to_texts(\n",
            "\u001b[0;32m/usr/local/lib/python3.7/dist-packages/tensorflow/python/keras/engine/training.py\u001b[0m in \u001b[0;36mpredict\u001b[0;34m(self, x, batch_size, verbose, steps, callbacks, max_queue_size, workers, use_multiprocessing)\u001b[0m\n\u001b[1;32m   1627\u001b[0m           \u001b[0;32mfor\u001b[0m \u001b[0mstep\u001b[0m \u001b[0;32min\u001b[0m \u001b[0mdata_handler\u001b[0m\u001b[0;34m.\u001b[0m\u001b[0msteps\u001b[0m\u001b[0;34m(\u001b[0m\u001b[0;34m)\u001b[0m\u001b[0;34m:\u001b[0m\u001b[0;34m\u001b[0m\u001b[0;34m\u001b[0m\u001b[0m\n\u001b[1;32m   1628\u001b[0m             \u001b[0mcallbacks\u001b[0m\u001b[0;34m.\u001b[0m\u001b[0mon_predict_batch_begin\u001b[0m\u001b[0;34m(\u001b[0m\u001b[0mstep\u001b[0m\u001b[0;34m)\u001b[0m\u001b[0;34m\u001b[0m\u001b[0;34m\u001b[0m\u001b[0m\n\u001b[0;32m-> 1629\u001b[0;31m             \u001b[0mtmp_batch_outputs\u001b[0m \u001b[0;34m=\u001b[0m \u001b[0mself\u001b[0m\u001b[0;34m.\u001b[0m\u001b[0mpredict_function\u001b[0m\u001b[0;34m(\u001b[0m\u001b[0miterator\u001b[0m\u001b[0;34m)\u001b[0m\u001b[0;34m\u001b[0m\u001b[0;34m\u001b[0m\u001b[0m\n\u001b[0m\u001b[1;32m   1630\u001b[0m             \u001b[0;32mif\u001b[0m \u001b[0mdata_handler\u001b[0m\u001b[0;34m.\u001b[0m\u001b[0mshould_sync\u001b[0m\u001b[0;34m:\u001b[0m\u001b[0;34m\u001b[0m\u001b[0;34m\u001b[0m\u001b[0m\n\u001b[1;32m   1631\u001b[0m               \u001b[0mcontext\u001b[0m\u001b[0;34m.\u001b[0m\u001b[0masync_wait\u001b[0m\u001b[0;34m(\u001b[0m\u001b[0;34m)\u001b[0m\u001b[0;34m\u001b[0m\u001b[0;34m\u001b[0m\u001b[0m\n",
            "\u001b[0;32m/usr/local/lib/python3.7/dist-packages/tensorflow/python/eager/def_function.py\u001b[0m in \u001b[0;36m__call__\u001b[0;34m(self, *args, **kwds)\u001b[0m\n\u001b[1;32m    826\u001b[0m     \u001b[0mtracing_count\u001b[0m \u001b[0;34m=\u001b[0m \u001b[0mself\u001b[0m\u001b[0;34m.\u001b[0m\u001b[0mexperimental_get_tracing_count\u001b[0m\u001b[0;34m(\u001b[0m\u001b[0;34m)\u001b[0m\u001b[0;34m\u001b[0m\u001b[0;34m\u001b[0m\u001b[0m\n\u001b[1;32m    827\u001b[0m     \u001b[0;32mwith\u001b[0m \u001b[0mtrace\u001b[0m\u001b[0;34m.\u001b[0m\u001b[0mTrace\u001b[0m\u001b[0;34m(\u001b[0m\u001b[0mself\u001b[0m\u001b[0;34m.\u001b[0m\u001b[0m_name\u001b[0m\u001b[0;34m)\u001b[0m \u001b[0;32mas\u001b[0m \u001b[0mtm\u001b[0m\u001b[0;34m:\u001b[0m\u001b[0;34m\u001b[0m\u001b[0;34m\u001b[0m\u001b[0m\n\u001b[0;32m--> 828\u001b[0;31m       \u001b[0mresult\u001b[0m \u001b[0;34m=\u001b[0m \u001b[0mself\u001b[0m\u001b[0;34m.\u001b[0m\u001b[0m_call\u001b[0m\u001b[0;34m(\u001b[0m\u001b[0;34m*\u001b[0m\u001b[0margs\u001b[0m\u001b[0;34m,\u001b[0m \u001b[0;34m**\u001b[0m\u001b[0mkwds\u001b[0m\u001b[0;34m)\u001b[0m\u001b[0;34m\u001b[0m\u001b[0;34m\u001b[0m\u001b[0m\n\u001b[0m\u001b[1;32m    829\u001b[0m       \u001b[0mcompiler\u001b[0m \u001b[0;34m=\u001b[0m \u001b[0;34m\"xla\"\u001b[0m \u001b[0;32mif\u001b[0m \u001b[0mself\u001b[0m\u001b[0;34m.\u001b[0m\u001b[0m_experimental_compile\u001b[0m \u001b[0;32melse\u001b[0m \u001b[0;34m\"nonXla\"\u001b[0m\u001b[0;34m\u001b[0m\u001b[0;34m\u001b[0m\u001b[0m\n\u001b[1;32m    830\u001b[0m       \u001b[0mnew_tracing_count\u001b[0m \u001b[0;34m=\u001b[0m \u001b[0mself\u001b[0m\u001b[0;34m.\u001b[0m\u001b[0mexperimental_get_tracing_count\u001b[0m\u001b[0;34m(\u001b[0m\u001b[0;34m)\u001b[0m\u001b[0;34m\u001b[0m\u001b[0;34m\u001b[0m\u001b[0m\n",
            "\u001b[0;32m/usr/local/lib/python3.7/dist-packages/tensorflow/python/eager/def_function.py\u001b[0m in \u001b[0;36m_call\u001b[0;34m(self, *args, **kwds)\u001b[0m\n\u001b[1;32m    860\u001b[0m       \u001b[0;31m# In this case we have not created variables on the first call. So we can\u001b[0m\u001b[0;34m\u001b[0m\u001b[0;34m\u001b[0m\u001b[0;34m\u001b[0m\u001b[0m\n\u001b[1;32m    861\u001b[0m       \u001b[0;31m# run the first trace but we should fail if variables are created.\u001b[0m\u001b[0;34m\u001b[0m\u001b[0;34m\u001b[0m\u001b[0;34m\u001b[0m\u001b[0m\n\u001b[0;32m--> 862\u001b[0;31m       \u001b[0mresults\u001b[0m \u001b[0;34m=\u001b[0m \u001b[0mself\u001b[0m\u001b[0;34m.\u001b[0m\u001b[0m_stateful_fn\u001b[0m\u001b[0;34m(\u001b[0m\u001b[0;34m*\u001b[0m\u001b[0margs\u001b[0m\u001b[0;34m,\u001b[0m \u001b[0;34m**\u001b[0m\u001b[0mkwds\u001b[0m\u001b[0;34m)\u001b[0m\u001b[0;34m\u001b[0m\u001b[0;34m\u001b[0m\u001b[0m\n\u001b[0m\u001b[1;32m    863\u001b[0m       \u001b[0;32mif\u001b[0m \u001b[0mself\u001b[0m\u001b[0;34m.\u001b[0m\u001b[0m_created_variables\u001b[0m\u001b[0;34m:\u001b[0m\u001b[0;34m\u001b[0m\u001b[0;34m\u001b[0m\u001b[0m\n\u001b[1;32m    864\u001b[0m         raise ValueError(\"Creating variables on a non-first call to a function\"\n",
            "\u001b[0;32m/usr/local/lib/python3.7/dist-packages/tensorflow/python/eager/function.py\u001b[0m in \u001b[0;36m__call__\u001b[0;34m(self, *args, **kwargs)\u001b[0m\n\u001b[1;32m   2939\u001b[0m     \u001b[0;32mwith\u001b[0m \u001b[0mself\u001b[0m\u001b[0;34m.\u001b[0m\u001b[0m_lock\u001b[0m\u001b[0;34m:\u001b[0m\u001b[0;34m\u001b[0m\u001b[0;34m\u001b[0m\u001b[0m\n\u001b[1;32m   2940\u001b[0m       (graph_function,\n\u001b[0;32m-> 2941\u001b[0;31m        filtered_flat_args) = self._maybe_define_function(args, kwargs)\n\u001b[0m\u001b[1;32m   2942\u001b[0m     return graph_function._call_flat(\n\u001b[1;32m   2943\u001b[0m         filtered_flat_args, captured_inputs=graph_function.captured_inputs)  # pylint: disable=protected-access\n",
            "\u001b[0;32m/usr/local/lib/python3.7/dist-packages/tensorflow/python/eager/function.py\u001b[0m in \u001b[0;36m_maybe_define_function\u001b[0;34m(self, args, kwargs)\u001b[0m\n\u001b[1;32m   3356\u001b[0m               call_context_key in self._function_cache.missed):\n\u001b[1;32m   3357\u001b[0m             return self._define_function_with_shape_relaxation(\n\u001b[0;32m-> 3358\u001b[0;31m                 args, kwargs, flat_args, filtered_flat_args, cache_key_context)\n\u001b[0m\u001b[1;32m   3359\u001b[0m \u001b[0;34m\u001b[0m\u001b[0m\n\u001b[1;32m   3360\u001b[0m           \u001b[0mself\u001b[0m\u001b[0;34m.\u001b[0m\u001b[0m_function_cache\u001b[0m\u001b[0;34m.\u001b[0m\u001b[0mmissed\u001b[0m\u001b[0;34m.\u001b[0m\u001b[0madd\u001b[0m\u001b[0;34m(\u001b[0m\u001b[0mcall_context_key\u001b[0m\u001b[0;34m)\u001b[0m\u001b[0;34m\u001b[0m\u001b[0;34m\u001b[0m\u001b[0m\n",
            "\u001b[0;32m/usr/local/lib/python3.7/dist-packages/tensorflow/python/eager/function.py\u001b[0m in \u001b[0;36m_define_function_with_shape_relaxation\u001b[0;34m(self, args, kwargs, flat_args, filtered_flat_args, cache_key_context)\u001b[0m\n\u001b[1;32m   3278\u001b[0m \u001b[0;34m\u001b[0m\u001b[0m\n\u001b[1;32m   3279\u001b[0m     graph_function = self._create_graph_function(\n\u001b[0;32m-> 3280\u001b[0;31m         args, kwargs, override_flat_arg_shapes=relaxed_arg_shapes)\n\u001b[0m\u001b[1;32m   3281\u001b[0m     \u001b[0mself\u001b[0m\u001b[0;34m.\u001b[0m\u001b[0m_function_cache\u001b[0m\u001b[0;34m.\u001b[0m\u001b[0marg_relaxed\u001b[0m\u001b[0;34m[\u001b[0m\u001b[0mrank_only_cache_key\u001b[0m\u001b[0;34m]\u001b[0m \u001b[0;34m=\u001b[0m \u001b[0mgraph_function\u001b[0m\u001b[0;34m\u001b[0m\u001b[0;34m\u001b[0m\u001b[0m\n\u001b[1;32m   3282\u001b[0m \u001b[0;34m\u001b[0m\u001b[0m\n",
            "\u001b[0;32m/usr/local/lib/python3.7/dist-packages/tensorflow/python/eager/function.py\u001b[0m in \u001b[0;36m_create_graph_function\u001b[0;34m(self, args, kwargs, override_flat_arg_shapes)\u001b[0m\n\u001b[1;32m   3204\u001b[0m             \u001b[0marg_names\u001b[0m\u001b[0;34m=\u001b[0m\u001b[0marg_names\u001b[0m\u001b[0;34m,\u001b[0m\u001b[0;34m\u001b[0m\u001b[0;34m\u001b[0m\u001b[0m\n\u001b[1;32m   3205\u001b[0m             \u001b[0moverride_flat_arg_shapes\u001b[0m\u001b[0;34m=\u001b[0m\u001b[0moverride_flat_arg_shapes\u001b[0m\u001b[0;34m,\u001b[0m\u001b[0;34m\u001b[0m\u001b[0;34m\u001b[0m\u001b[0m\n\u001b[0;32m-> 3206\u001b[0;31m             capture_by_value=self._capture_by_value),\n\u001b[0m\u001b[1;32m   3207\u001b[0m         \u001b[0mself\u001b[0m\u001b[0;34m.\u001b[0m\u001b[0m_function_attributes\u001b[0m\u001b[0;34m,\u001b[0m\u001b[0;34m\u001b[0m\u001b[0;34m\u001b[0m\u001b[0m\n\u001b[1;32m   3208\u001b[0m         \u001b[0mfunction_spec\u001b[0m\u001b[0;34m=\u001b[0m\u001b[0mself\u001b[0m\u001b[0;34m.\u001b[0m\u001b[0mfunction_spec\u001b[0m\u001b[0;34m,\u001b[0m\u001b[0;34m\u001b[0m\u001b[0;34m\u001b[0m\u001b[0m\n",
            "\u001b[0;32m/usr/local/lib/python3.7/dist-packages/tensorflow/python/framework/func_graph.py\u001b[0m in \u001b[0;36mfunc_graph_from_py_func\u001b[0;34m(name, python_func, args, kwargs, signature, func_graph, autograph, autograph_options, add_control_dependencies, arg_names, op_return_value, collections, capture_by_value, override_flat_arg_shapes)\u001b[0m\n\u001b[1;32m    988\u001b[0m         \u001b[0m_\u001b[0m\u001b[0;34m,\u001b[0m \u001b[0moriginal_func\u001b[0m \u001b[0;34m=\u001b[0m \u001b[0mtf_decorator\u001b[0m\u001b[0;34m.\u001b[0m\u001b[0munwrap\u001b[0m\u001b[0;34m(\u001b[0m\u001b[0mpython_func\u001b[0m\u001b[0;34m)\u001b[0m\u001b[0;34m\u001b[0m\u001b[0;34m\u001b[0m\u001b[0m\n\u001b[1;32m    989\u001b[0m \u001b[0;34m\u001b[0m\u001b[0m\n\u001b[0;32m--> 990\u001b[0;31m       \u001b[0mfunc_outputs\u001b[0m \u001b[0;34m=\u001b[0m \u001b[0mpython_func\u001b[0m\u001b[0;34m(\u001b[0m\u001b[0;34m*\u001b[0m\u001b[0mfunc_args\u001b[0m\u001b[0;34m,\u001b[0m \u001b[0;34m**\u001b[0m\u001b[0mfunc_kwargs\u001b[0m\u001b[0;34m)\u001b[0m\u001b[0;34m\u001b[0m\u001b[0;34m\u001b[0m\u001b[0m\n\u001b[0m\u001b[1;32m    991\u001b[0m \u001b[0;34m\u001b[0m\u001b[0m\n\u001b[1;32m    992\u001b[0m       \u001b[0;31m# invariant: `func_outputs` contains only Tensors, CompositeTensors,\u001b[0m\u001b[0;34m\u001b[0m\u001b[0;34m\u001b[0m\u001b[0;34m\u001b[0m\u001b[0m\n",
            "\u001b[0;32m/usr/local/lib/python3.7/dist-packages/tensorflow/python/eager/def_function.py\u001b[0m in \u001b[0;36mwrapped_fn\u001b[0;34m(*args, **kwds)\u001b[0m\n\u001b[1;32m    632\u001b[0m             \u001b[0mxla_context\u001b[0m\u001b[0;34m.\u001b[0m\u001b[0mExit\u001b[0m\u001b[0;34m(\u001b[0m\u001b[0;34m)\u001b[0m\u001b[0;34m\u001b[0m\u001b[0;34m\u001b[0m\u001b[0m\n\u001b[1;32m    633\u001b[0m         \u001b[0;32melse\u001b[0m\u001b[0;34m:\u001b[0m\u001b[0;34m\u001b[0m\u001b[0;34m\u001b[0m\u001b[0m\n\u001b[0;32m--> 634\u001b[0;31m           \u001b[0mout\u001b[0m \u001b[0;34m=\u001b[0m \u001b[0mweak_wrapped_fn\u001b[0m\u001b[0;34m(\u001b[0m\u001b[0;34m)\u001b[0m\u001b[0;34m.\u001b[0m\u001b[0m__wrapped__\u001b[0m\u001b[0;34m(\u001b[0m\u001b[0;34m*\u001b[0m\u001b[0margs\u001b[0m\u001b[0;34m,\u001b[0m \u001b[0;34m**\u001b[0m\u001b[0mkwds\u001b[0m\u001b[0;34m)\u001b[0m\u001b[0;34m\u001b[0m\u001b[0;34m\u001b[0m\u001b[0m\n\u001b[0m\u001b[1;32m    635\u001b[0m         \u001b[0;32mreturn\u001b[0m \u001b[0mout\u001b[0m\u001b[0;34m\u001b[0m\u001b[0;34m\u001b[0m\u001b[0m\n\u001b[1;32m    636\u001b[0m \u001b[0;34m\u001b[0m\u001b[0m\n",
            "\u001b[0;32m/usr/local/lib/python3.7/dist-packages/tensorflow/python/framework/func_graph.py\u001b[0m in \u001b[0;36mwrapper\u001b[0;34m(*args, **kwargs)\u001b[0m\n\u001b[1;32m    975\u001b[0m           \u001b[0;32mexcept\u001b[0m \u001b[0mException\u001b[0m \u001b[0;32mas\u001b[0m \u001b[0me\u001b[0m\u001b[0;34m:\u001b[0m  \u001b[0;31m# pylint:disable=broad-except\u001b[0m\u001b[0;34m\u001b[0m\u001b[0;34m\u001b[0m\u001b[0m\n\u001b[1;32m    976\u001b[0m             \u001b[0;32mif\u001b[0m \u001b[0mhasattr\u001b[0m\u001b[0;34m(\u001b[0m\u001b[0me\u001b[0m\u001b[0;34m,\u001b[0m \u001b[0;34m\"ag_error_metadata\"\u001b[0m\u001b[0;34m)\u001b[0m\u001b[0;34m:\u001b[0m\u001b[0;34m\u001b[0m\u001b[0;34m\u001b[0m\u001b[0m\n\u001b[0;32m--> 977\u001b[0;31m               \u001b[0;32mraise\u001b[0m \u001b[0me\u001b[0m\u001b[0;34m.\u001b[0m\u001b[0mag_error_metadata\u001b[0m\u001b[0;34m.\u001b[0m\u001b[0mto_exception\u001b[0m\u001b[0;34m(\u001b[0m\u001b[0me\u001b[0m\u001b[0;34m)\u001b[0m\u001b[0;34m\u001b[0m\u001b[0;34m\u001b[0m\u001b[0m\n\u001b[0m\u001b[1;32m    978\u001b[0m             \u001b[0;32melse\u001b[0m\u001b[0;34m:\u001b[0m\u001b[0;34m\u001b[0m\u001b[0;34m\u001b[0m\u001b[0m\n\u001b[1;32m    979\u001b[0m               \u001b[0;32mraise\u001b[0m\u001b[0;34m\u001b[0m\u001b[0;34m\u001b[0m\u001b[0m\n",
            "\u001b[0;31mValueError\u001b[0m: in user code:\n\n    /usr/local/lib/python3.7/dist-packages/tensorflow/python/keras/engine/training.py:1478 predict_function  *\n        return step_function(self, iterator)\n    /usr/local/lib/python3.7/dist-packages/tensorflow/python/keras/engine/training.py:1468 step_function  **\n        outputs = model.distribute_strategy.run(run_step, args=(data,))\n    /usr/local/lib/python3.7/dist-packages/tensorflow/python/distribute/distribute_lib.py:1259 run\n        return self._extended.call_for_each_replica(fn, args=args, kwargs=kwargs)\n    /usr/local/lib/python3.7/dist-packages/tensorflow/python/distribute/distribute_lib.py:2730 call_for_each_replica\n        return self._call_for_each_replica(fn, args, kwargs)\n    /usr/local/lib/python3.7/dist-packages/tensorflow/python/distribute/distribute_lib.py:3417 _call_for_each_replica\n        return fn(*args, **kwargs)\n    /usr/local/lib/python3.7/dist-packages/tensorflow/python/keras/engine/training.py:1461 run_step  **\n        outputs = model.predict_step(data)\n    /usr/local/lib/python3.7/dist-packages/tensorflow/python/keras/engine/training.py:1434 predict_step\n        return self(x, training=False)\n    /usr/local/lib/python3.7/dist-packages/tensorflow/python/keras/engine/base_layer.py:1012 __call__\n        outputs = call_fn(inputs, *args, **kwargs)\n    /usr/local/lib/python3.7/dist-packages/tensorflow/python/keras/engine/functional.py:425 call\n        inputs, training=training, mask=mask)\n    /usr/local/lib/python3.7/dist-packages/tensorflow/python/keras/engine/functional.py:560 _run_internal_graph\n        outputs = node.layer(*args, **kwargs)\n    /usr/local/lib/python3.7/dist-packages/tensorflow/python/keras/engine/base_layer.py:1012 __call__\n        outputs = call_fn(inputs, *args, **kwargs)\n    /usr/local/lib/python3.7/dist-packages/tensorflow/python/keras/layers/merge.py:183 call\n        return self._merge_function(inputs)\n    /usr/local/lib/python3.7/dist-packages/tensorflow/python/keras/layers/merge.py:522 _merge_function\n        return K.concatenate(inputs, axis=self.axis)\n    /usr/local/lib/python3.7/dist-packages/tensorflow/python/util/dispatch.py:201 wrapper\n        return target(*args, **kwargs)\n    /usr/local/lib/python3.7/dist-packages/tensorflow/python/keras/backend.py:2989 concatenate\n        return array_ops.concat([to_dense(x) for x in tensors], axis)\n    /usr/local/lib/python3.7/dist-packages/tensorflow/python/util/dispatch.py:201 wrapper\n        return target(*args, **kwargs)\n    /usr/local/lib/python3.7/dist-packages/tensorflow/python/ops/array_ops.py:1677 concat\n        return gen_array_ops.concat_v2(values=values, axis=axis, name=name)\n    /usr/local/lib/python3.7/dist-packages/tensorflow/python/ops/gen_array_ops.py:1208 concat_v2\n        \"ConcatV2\", values=values, axis=axis, name=name)\n    /usr/local/lib/python3.7/dist-packages/tensorflow/python/framework/op_def_library.py:750 _apply_op_helper\n        attrs=attr_protos, op_def=op_def)\n    /usr/local/lib/python3.7/dist-packages/tensorflow/python/framework/func_graph.py:592 _create_op_internal\n        compute_device)\n    /usr/local/lib/python3.7/dist-packages/tensorflow/python/framework/ops.py:3536 _create_op_internal\n        op_def=op_def)\n    /usr/local/lib/python3.7/dist-packages/tensorflow/python/framework/ops.py:2016 __init__\n        control_input_ops, op_def)\n    /usr/local/lib/python3.7/dist-packages/tensorflow/python/framework/ops.py:1856 _create_c_op\n        raise ValueError(str(e))\n\n    ValueError: Dimension 1 in both shapes must be equal, but are 2 and 1. Shapes are [?,2] and [?,1]. for '{{node model/concatenate/concat}} = ConcatV2[N=2, T=DT_FLOAT, Tidx=DT_INT32](model/embedding/embedding_lookup/Identity_1, model/embedding_1/embedding_lookup/Identity_1, model/concatenate/concat/axis)' with input shapes: [?,2,10], [?,1,10], [] and with computed input tensors: input[2] = <2>.\n"
          ]
        }
      ]
    }
  ]
}