{
  "nbformat": 4,
  "nbformat_minor": 0,
  "metadata": {
    "colab": {
      "name": "HuggingfacePipeline.ipynb",
      "provenance": [],
      "collapsed_sections": []
    },
    "kernelspec": {
      "name": "python3",
      "display_name": "Python 3"
    },
    "language_info": {
      "name": "python"
    }
  },
  "cells": [
    {
      "cell_type": "code",
      "metadata": {
        "id": "HDG6mXZoUAtG"
      },
      "source": [
        "!pip install transformers\n",
        "!pip install sentencepiece\n",
        "import sentencepiece\n",
        "from transformers import pipeline"
      ],
      "execution_count": null,
      "outputs": []
    },
    {
      "cell_type": "code",
      "metadata": {
        "id": "rAYoPNJ9U5e-"
      },
      "source": [
        "nlp = pipeline('sentiment-analysis', model='finiteautomata/beto-sentiment-analysis')\n",
        "result = nlp(\"Odio esta película\")\n",
        "print(result)"
      ],
      "execution_count": null,
      "outputs": []
    },
    {
      "cell_type": "code",
      "metadata": {
        "id": "-dq9SBbGULGd"
      },
      "source": [
        "nlp = pipeline(\"ner\", model=\"mrm8488/bert-spanish-cased-finetuned-ner\")\n",
        "print(nlp(\"Me llamo Antonio García García. Vivo en Madrid y trabajo en Minsait, S.A.\"))"
      ],
      "execution_count": null,
      "outputs": []
    },
    {
      "cell_type": "code",
      "metadata": {
        "id": "zWeynYTJV-_O"
      },
      "source": [
        "nlp = pipeline(\"summarization\", model=\"mrm8488/t5-base-finetuned-spa-squadv1\")\n",
        "document = \"Franz Peter Schubert, a pesar de su corta vida, dejó un gran legado, que incluye más de seiscientas obras vocales seculares (principalmente lieder), siete sinfonías completas, música sacra, óperas, música incidental y gran cantidad de obras para piano y música de cámara. Sus obras principales incluyen el Quinteto La trucha, la Sinfonía inacabada, la Sinfonía Grande, las tres últimas sonatas para piano (D. 958, 959 y 960), la ópera Fierrabras (D. 796), la música incidental de la obra de teatro Rosamunda (D. 797) y los ciclos de canciones La bella molinera (D. 795) y Viaje de invierno (D. 911).\"\n",
        "print(nlp(document))\n"
      ],
      "execution_count": null,
      "outputs": []
    },
    {
      "cell_type": "code",
      "metadata": {
        "id": "eQirnl8sXcF5"
      },
      "source": [
        "\n",
        "nlp = pipeline('question-answering', model='mrm8488/distill-bert-base-spanish-wwm-cased-finetuned-spa-squad2-es')\n",
        "result = nlp({\n",
        "    'question': \"¿Quién ganó el Tour de Francia de 1991?\",\n",
        "    'context': \"Perico Delgado ganó el Tour de Francia en 1988. Poco después, en 1991, Miguel Induráin ganó su primer Tour de Francia. Después ganaría consecutivamente los de 1992, 1993, 1994 y 1995. \"\n",
        "})\n",
        "print(result)\n",
        "result = nlp({\n",
        "    'question': \"¿Quién ganó el Tour de Francia de 1988?\",\n",
        "    'context': \"Perico Delgado ganó el Tour de Francia en 1988. Poco después, en 1991, Miguel Induráin ganó su primer Tour de Francia. Después ganaría consecutivamente los de 1992, 1993, 1994 y 1995. \"\n",
        "})\n",
        "print(result)"
      ],
      "execution_count": null,
      "outputs": []
    },
    {
      "cell_type": "code",
      "metadata": {
        "id": "8WqjTOjYdlAU"
      },
      "source": [
        "nlp = pipeline('translation', model='Helsinki-NLP/opus-mt-es-en')\n",
        "print(nlp(\"Perico Delgado ganó el Tour de Francia en 1988. Poco después, en 1991, Miguel Induráin ganó su primer Tour de Francia. Después ganaría consecutivamente los de 1992, 1993, 1994 y 1995.\"))"
      ],
      "execution_count": null,
      "outputs": []
    },
    {
      "cell_type": "code",
      "metadata": {
        "id": "goLR4EJWUimc"
      },
      "source": [
        "nlp = pipeline('text-generation', model='datificate/gpt2-small-spanish')\n",
        "print(nlp(\"En 1991 Miguel Induráin ganó su primer Tour de Francia\"))"
      ],
      "execution_count": null,
      "outputs": []
    },
    {
      "cell_type": "code",
      "metadata": {
        "id": "II9xwyvQWuvO"
      },
      "source": [
        "from transformers import AutoModelForSequenceClassification, AutoTokenizer, TextClassificationPipeline\n",
        "\n",
        "model = AutoModelForSequenceClassification.from_pretrained(\"joeddav/distilbert-base-uncased-go-emotions-student\")\n",
        "tokenizer = AutoTokenizer.from_pretrained(\"joeddav/distilbert-base-uncased-go-emotions-student\")\n",
        "classifier = TextClassificationPipeline(model=model, tokenizer=tokenizer, return_all_scores=True)\n",
        "\n",
        "results = classifier([\"Everything will be fine!!\", \"We're going to have a really bad time...\"])\n",
        "\n",
        "print(sorted(results[0], key=lambda x: x['score'], reverse=True))\n",
        "print(sorted(results[1], key=lambda x: x['score'], reverse=True))"
      ],
      "execution_count": null,
      "outputs": []
    }
  ]
}