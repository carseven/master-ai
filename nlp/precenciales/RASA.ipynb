{
  "nbformat": 4,
  "nbformat_minor": 0,
  "metadata": {
    "colab": {
      "name": "RASA.ipynb",
      "provenance": [],
      "collapsed_sections": []
    },
    "kernelspec": {
      "name": "python3",
      "display_name": "Python 3"
    },
    "language_info": {
      "name": "python"
    }
  },
  "cells": [
    {
      "cell_type": "code",
      "metadata": {
        "id": "6MPoWaRikKfw"
      },
      "source": [
        "!pip install rasa==1.10.3\n",
        "!pip install nest_asyncio==1.3.3"
      ],
      "execution_count": null,
      "outputs": []
    },
    {
      "cell_type": "code",
      "metadata": {
        "id": "1MyKPTMIkqVD"
      },
      "source": [
        "import os\n",
        "import rasa\n",
        "import warnings\n",
        "import nest_asyncio\n",
        "from rasa.jupyter import chat\n",
        "from rasa.cli.scaffold import create_initial_project\n",
        "warnings.filterwarnings('ignore')\n",
        "\n",
        "nest_asyncio.apply()\n",
        "print(\"Event loop ready\")"
      ],
      "execution_count": null,
      "outputs": []
    },
    {
      "cell_type": "code",
      "metadata": {
        "id": "esJRU94Qk7Nm"
      },
      "source": [
        "project = \"test_project\"\n",
        "create_initial_project(project)\n",
        "os.chdir(project)\n",
        "print(os.listdir(\".\"))\n",
        "config = \"config.yml\"\n",
        "training_files = \"data/\"\n",
        "domain = \"domain.yml\"\n",
        "output = \"models/\""
      ],
      "execution_count": null,
      "outputs": []
    },
    {
      "cell_type": "code",
      "metadata": {
        "id": "P5GIQ34yuG7j"
      },
      "source": [
        "model_path = rasa.train(domain, config, [training_files], output)\n",
        "print(model_path)"
      ],
      "execution_count": null,
      "outputs": []
    },
    {
      "cell_type": "code",
      "metadata": {
        "id": "fBTuNxyqvspM"
      },
      "source": [
        "endpoints = \"endpoints.yml\"\n",
        "chat(model_path, endpoints)"
      ],
      "execution_count": null,
      "outputs": []
    }
  ]
}