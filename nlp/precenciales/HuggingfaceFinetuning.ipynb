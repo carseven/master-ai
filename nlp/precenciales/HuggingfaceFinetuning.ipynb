{
  "nbformat": 4,
  "nbformat_minor": 0,
  "metadata": {
    "colab": {
      "name": "HuggingfaceFinetuning.ipynb",
      "provenance": [],
      "collapsed_sections": []
    },
    "kernelspec": {
      "name": "python3",
      "display_name": "Python 3"
    },
    "accelerator": "GPU"
  },
  "cells": [
    {
      "cell_type": "code",
      "metadata": {
        "id": "3JYZieDTAHWV"
      },
      "source": [
        "!pip install transformers\n",
        "!pip install datasets"
      ],
      "execution_count": null,
      "outputs": []
    },
    {
      "cell_type": "code",
      "metadata": {
        "id": "fDYHJoDtCT2j"
      },
      "source": [
        "from transformers import BertTokenizerFast\n",
        "from datasets import load_dataset, load_metric\n",
        "\n",
        "tokenizer = BertTokenizerFast.from_pretrained('bert-base-multilingual-cased')\n",
        "train_dataset = load_dataset(\"amazon_reviews_multi\", \"es\", split=\"train\")\n",
        "test_dataset = load_dataset(\"amazon_reviews_multi\", \"es\", split=\"test\")"
      ],
      "execution_count": null,
      "outputs": []
    },
    {
      "cell_type": "code",
      "metadata": {
        "id": "tH4lo8992bgy"
      },
      "source": [
        "def encode(examples):\n",
        "  return tokenizer(examples['review_body'], truncation=True, padding='max_length')\n",
        "\n",
        "def encode_labels(example):\n",
        "  example['labels'] = example['stars'] - 1\n",
        "  return example\n",
        "\n",
        "train_dataset = train_dataset.map(encode, batched=True)\n",
        "test_dataset = test_dataset.map(encode, batched=True)\n",
        "\n",
        "train_dataset = train_dataset.map(encode_labels)\n",
        "test_dataset = test_dataset.map(encode_labels)\n",
        "\n",
        "train_dataset.set_format(type='torch', columns=['input_ids', 'token_type_ids', 'attention_mask', 'labels'])\n",
        "test_dataset.set_format(type='torch', columns=['input_ids', 'token_type_ids', 'attention_mask', 'labels'])"
      ],
      "execution_count": null,
      "outputs": []
    },
    {
      "cell_type": "code",
      "metadata": {
        "id": "-Fv8QLkbAMeq"
      },
      "source": [
        "from transformers import BertForSequenceClassification, Trainer, TrainingArguments\n",
        "\n",
        "model = BertForSequenceClassification.from_pretrained(\"bert-base-multilingual-cased\", num_labels=5)\n",
        "\n",
        "for param in model.base_model.parameters():\n",
        "  param.requires_grad = False\n",
        "\n",
        "training_args = TrainingArguments(\n",
        "    output_dir='./finetuned/',           # output directory\n",
        "    num_train_epochs=1,                  # total # of training epochs\n",
        "    per_device_train_batch_size=16,      # batch size per device during training\n",
        "    per_device_eval_batch_size=64,       # batch size for evaluation\n",
        "    warmup_steps=500,                    # number of warmup steps for learning rate scheduler\n",
        "    weight_decay=0.01,                   # strength of weight decay\n",
        "    logging_dir='./logs/',               # directory for storing logs\n",
        ")\n",
        "\n",
        "trainer = Trainer(\n",
        "    model=model,                         # the instantiated 🤗 Transformers model to be trained\n",
        "    args=training_args,                  # training arguments, defined above\n",
        "    train_dataset=train_dataset,         # training dataset\n",
        "    eval_dataset=test_dataset            # evaluation dataset\n",
        ")"
      ],
      "execution_count": null,
      "outputs": []
    },
    {
      "cell_type": "code",
      "metadata": {
        "id": "gyAbyTzGy9hF"
      },
      "source": [
        "trainer.train()\n",
        "trainer.save_model()"
      ],
      "execution_count": null,
      "outputs": []
    },
    {
      "cell_type": "code",
      "metadata": {
        "id": "TVMOLE8ay_55"
      },
      "source": [
        "trainer.evaluate()"
      ],
      "execution_count": null,
      "outputs": []
    }
  ]
}