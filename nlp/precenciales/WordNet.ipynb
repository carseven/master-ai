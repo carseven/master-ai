{
  "nbformat": 4,
  "nbformat_minor": 0,
  "metadata": {
    "colab": {
      "name": "WordNet.ipynb",
      "provenance": [],
      "collapsed_sections": []
    },
    "kernelspec": {
      "name": "python3",
      "display_name": "Python 3"
    },
    "language_info": {
      "name": "python"
    }
  },
  "cells": [
    {
      "cell_type": "code",
      "metadata": {
        "id": "R_bxI3RT58hz"
      },
      "source": [
        "from nltk.corpus import wordnet as wn"
      ],
      "execution_count": null,
      "outputs": []
    },
    {
      "cell_type": "code",
      "metadata": {
        "colab": {
          "base_uri": "https://localhost:8080/"
        },
        "id": "VhJK5F8x7_gU",
        "outputId": "512df6e4-d3e4-45d1-8afa-46b93d778d4d"
      },
      "source": [
        "import nltk\n",
        "nltk.download('wordnet')\n",
        "nltk.download('omw')"
      ],
      "execution_count": null,
      "outputs": [
        {
          "output_type": "stream",
          "text": [
            "[nltk_data] Downloading package wordnet to /root/nltk_data...\n",
            "[nltk_data]   Package wordnet is already up-to-date!\n",
            "[nltk_data] Downloading package omw to /root/nltk_data...\n",
            "[nltk_data]   Package omw is already up-to-date!\n"
          ],
          "name": "stdout"
        },
        {
          "output_type": "execute_result",
          "data": {
            "text/plain": [
              "True"
            ]
          },
          "metadata": {
            "tags": []
          },
          "execution_count": 33
        }
      ]
    },
    {
      "cell_type": "code",
      "metadata": {
        "colab": {
          "base_uri": "https://localhost:8080/"
        },
        "id": "1wF81uNmLTKT",
        "outputId": "9bb1d8cd-1a44-4f17-b3f1-4e9503ee01e0"
      },
      "source": [
        "orange_synsets = wn.synsets('naranja', lang='spa')\n",
        "lemon_synsets = wn.synsets('limón', lang='spa')\n",
        "print(orange_synsets)\n",
        "print(lemmon_synsets)"
      ],
      "execution_count": null,
      "outputs": [
        {
          "output_type": "stream",
          "text": [
            "[Synset('orange.n.02'), Synset('orange.n.01'), Synset('orange.n.04')]\n",
            "[Synset('lemon.n.04'), Synset('lemon.n.01')]\n"
          ],
          "name": "stdout"
        }
      ]
    },
    {
      "cell_type": "code",
      "metadata": {
        "colab": {
          "base_uri": "https://localhost:8080/"
        },
        "id": "eG5iO12y8x2i",
        "outputId": "8c9ad926-d15c-4844-a117-5d6a0dbca0f5"
      },
      "source": [
        "for x in wn.synsets('manzana', lang='spa'):\n",
        "  print('~~~~')\n",
        "  print(x)\n",
        "  print(x.lemma_names('spa'))\n",
        "  #print(x.hyponyms())\n",
        "  print(x.hypernyms())\n",
        "  print(x.definition())"
      ],
      "execution_count": null,
      "outputs": [
        {
          "output_type": "stream",
          "text": [
            "~~~~\n",
            "Synset('apple.n.01')\n",
            "['manzana']\n",
            "[Synset('edible_fruit.n.01'), Synset('pome.n.01')]\n",
            "fruit with red or yellow or green skin and sweet to tart crisp whitish flesh\n",
            "~~~~\n",
            "Synset('eating_apple.n.01')\n",
            "['manzana']\n",
            "[Synset('apple.n.01')]\n",
            "an apple used primarily for eating raw without cooking\n"
          ],
          "name": "stdout"
        }
      ]
    },
    {
      "cell_type": "code",
      "metadata": {
        "colab": {
          "base_uri": "https://localhost:8080/"
        },
        "id": "0stgdBFf9tfS",
        "outputId": "68421882-17b8-409a-d03b-5af66b866590"
      },
      "source": [
        "print(wn.synset('orange.n.01').path_similarity(wn.synset('apple.n.01')))\n",
        "print(wn.synset('orange.n.01').path_similarity(wn.synset('lemon.n.01')))"
      ],
      "execution_count": null,
      "outputs": [
        {
          "output_type": "stream",
          "text": [
            "0.25\n",
            "0.3333333333333333\n"
          ],
          "name": "stdout"
        }
      ]
    },
    {
      "cell_type": "code",
      "metadata": {
        "colab": {
          "base_uri": "https://localhost:8080/"
        },
        "id": "LobYIqZU6Trm",
        "outputId": "5e541aba-83df-459c-9b9b-2a1fa714477a"
      },
      "source": [
        "print(wn.synset('lemmon.n.01').lemma_names('spa'))\n",
        "print(wn.synset('orange.n.01').lemma_names('spa'))"
      ],
      "execution_count": null,
      "outputs": [
        {
          "output_type": "stream",
          "text": [
            "['Jack_Lemmon']\n",
            "['naranja']\n"
          ],
          "name": "stdout"
        }
      ]
    }
  ]
}