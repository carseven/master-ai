{
 "cells": [
  {
   "cell_type": "markdown",
   "metadata": {},
   "source": [
    "**Universidad Internacional de La Rioja (UNIR) - Máster Universitario en Inteligencia Artificial - Procesamiento del Lenguaje Natural** \n",
    "\n",
    "\n",
    "# Etiquetado Morfosintáctico - POS Tagging\n",
    "\n",
    "Implementación de un etiquetador morfosintáctico (PoS tagging) utilizando **Natural Language Toolkit (NLTK)**. \n"
   ]
  },
  {
   "cell_type": "markdown",
   "metadata": {},
   "source": [
    "## Etiquetado morfosintáctico\n",
    "\n",
    "NLTK implementa un **etiquetado morfosintáctico (PoS tagger)** para identificar las partes de la oración (categorías gramaticales) de una oración en inglés. Este etiquetador utiliza las etiquetas descritas en el Penn Treebank y como salida los tokens etiquedos se representan como tuplas (token, tag). \n",
    "\n",
    "Código fuente disponible en: https://www.nltk.org/_modules/nltk/tag.html \n",
    "\n",
    "Información sobre el conjunto de etiquetas Penn Treebank: M. Marcus, Beatrice Santorini and M.A. Marcinkiewicz: Building a large annotated corpus of English: The Penn Treebank. In Computational Linguistics, volume 19, number 2, pp.313-330."
   ]
  },
  {
   "cell_type": "code",
   "execution_count": 1,
   "metadata": {},
   "outputs": [],
   "source": [
    "import nltk\n",
    "from nltk import word_tokenize"
   ]
  },
  {
   "cell_type": "code",
   "execution_count": 2,
   "metadata": {},
   "outputs": [],
   "source": [
    "text = word_tokenize(\"They refuse to permit us to obtain the permit\") "
   ]
  },
  {
   "cell_type": "code",
   "execution_count": 3,
   "metadata": {},
   "outputs": [
    {
     "data": {
      "text/plain": [
       "[('They', 'PRP'),\n",
       " ('refuse', 'VBP'),\n",
       " ('to', 'TO'),\n",
       " ('permit', 'VB'),\n",
       " ('us', 'PRP'),\n",
       " ('to', 'TO'),\n",
       " ('obtain', 'VB'),\n",
       " ('the', 'DT'),\n",
       " ('permit', 'NN')]"
      ]
     },
     "execution_count": 3,
     "metadata": {},
     "output_type": "execute_result"
    }
   ],
   "source": [
    "nltk.pos_tag(text)"
   ]
  },
  {
   "cell_type": "markdown",
   "metadata": {},
   "source": [
    "Es posible elegir el **conjunto de etiquetas** que utiliza el etiquetador morfosintático."
   ]
  },
  {
   "cell_type": "code",
   "execution_count": 4,
   "metadata": {},
   "outputs": [
    {
     "data": {
      "text/plain": [
       "[('They', 'PRON'),\n",
       " ('refuse', 'VERB'),\n",
       " ('to', 'PRT'),\n",
       " ('permit', 'VERB'),\n",
       " ('us', 'PRON'),\n",
       " ('to', 'PRT'),\n",
       " ('obtain', 'VERB'),\n",
       " ('the', 'DET'),\n",
       " ('permit', 'NOUN')]"
      ]
     },
     "execution_count": 4,
     "metadata": {},
     "output_type": "execute_result"
    }
   ],
   "source": [
    "nltk.pos_tag(text, tagset='universal')"
   ]
  },
  {
   "cell_type": "markdown",
   "metadata": {},
   "source": [
    "## Corpus etiquetados con información morfosintáctica\n",
    "\n",
    "NLTK proporciona acceso a varios corpus.\n",
    "\n",
    "Información sobre los corpus: http://www.nltk.org/nltk_data/\n",
    "\n",
    "Información sobre el acceso a los corpus: http://www.nltk.org/howto/corpus.html"
   ]
  },
  {
   "cell_type": "markdown",
   "metadata": {},
   "source": [
    "###  Penn Treebank - Wall Street Journal Corpus\n",
    "\n",
    "Fragmento del Penn Treebank, un corpus de artículos del Wall Street Journal. Concretamente esta parte del corpus está formada por 1650 frases (contenidas en 99 archivos wsj_0001 .. wsj_0099).\n",
    "\n",
    "El corpus contiene diferentes tipos de datos, entre ellos: textos sin etiquetar (raw) y textos etiquetados (tagged). \n",
    "\n",
    "Un ejemplo, se muestra a continuación: \n",
    "\n",
    "----raw---- \n",
    "\n",
    "Pierre Vinken, 61 years old, will join the board as a nonexecutive director Nov. 29. \n",
    "\n",
    "----tagged----\n",
    "\n",
    "[ Pierre/NNP Vinken/NNP ]\n",
    "\n",
    ",/, \n",
    "\n",
    " [ 61/CD years/NNS ]\n",
    "\n",
    "old/JJ ,/, will/MD join/VB \n",
    "\n",
    "[ the/DT board/NN ]\n",
    "\n",
    "as/IN \n",
    "\n",
    "[ a/DT nonexecutive/JJ director/NN Nov./NNP 29/CD ]\n",
    "\n",
    "./. "
   ]
  },
  {
   "cell_type": "code",
   "execution_count": 5,
   "metadata": {},
   "outputs": [],
   "source": [
    "from nltk.corpus import treebank"
   ]
  },
  {
   "cell_type": "markdown",
   "metadata": {},
   "source": [
    "Obtener el **corpus sin etiquetar**"
   ]
  },
  {
   "cell_type": "code",
   "execution_count": 6,
   "metadata": {},
   "outputs": [
    {
     "data": {
      "text/plain": [
       "['Pierre', 'Vinken', ',', '61', 'years', 'old', ',', ...]"
      ]
     },
     "execution_count": 6,
     "metadata": {},
     "output_type": "execute_result"
    }
   ],
   "source": [
    "treebank.words()"
   ]
  },
  {
   "cell_type": "markdown",
   "metadata": {},
   "source": [
    "Obtener el **corpus etiquetado**"
   ]
  },
  {
   "cell_type": "code",
   "execution_count": 7,
   "metadata": {},
   "outputs": [
    {
     "data": {
      "text/plain": [
       "[('Pierre', 'NNP'), ('Vinken', 'NNP'), (',', ','), ...]"
      ]
     },
     "execution_count": 7,
     "metadata": {},
     "output_type": "execute_result"
    }
   ],
   "source": [
    "treebank.tagged_words()"
   ]
  },
  {
   "cell_type": "markdown",
   "metadata": {},
   "source": [
    "Es posible visualizar los datos del corpus etiquetado utilizando **otro tipo de etiquetas**:"
   ]
  },
  {
   "cell_type": "code",
   "execution_count": 8,
   "metadata": {},
   "outputs": [
    {
     "data": {
      "text/plain": [
       "[('Pierre', 'NOUN'), ('Vinken', 'NOUN'), (',', '.'), ...]"
      ]
     },
     "execution_count": 8,
     "metadata": {},
     "output_type": "execute_result"
    }
   ],
   "source": [
    "treebank.tagged_words(tagset='universal')"
   ]
  },
  {
   "cell_type": "markdown",
   "metadata": {},
   "source": [
    "###  Corpus de Brown\n",
    "\n",
    "Corpus en inglés que contiene 1.014.312 palabras de textos en prosa publicados en 1961.\n",
    "\n",
    "Más información sobre el Corpus de Brown: http://korpus.uib.no/icame/brown/bcm.html"
   ]
  },
  {
   "cell_type": "code",
   "execution_count": 9,
   "metadata": {},
   "outputs": [],
   "source": [
    "from nltk.corpus import brown"
   ]
  },
  {
   "cell_type": "code",
   "execution_count": 10,
   "metadata": {},
   "outputs": [],
   "source": [
    "brown_news_tagged = brown.tagged_words(categories='news', tagset='universal')"
   ]
  },
  {
   "cell_type": "code",
   "execution_count": 11,
   "metadata": {},
   "outputs": [
    {
     "data": {
      "text/plain": [
       "[('The', 'AT'), ('Fulton', 'NP-TL'), ...]"
      ]
     },
     "execution_count": 11,
     "metadata": {},
     "output_type": "execute_result"
    }
   ],
   "source": [
    "brown.tagged_words()"
   ]
  },
  {
   "cell_type": "markdown",
   "metadata": {},
   "source": [
    "Obtener las **etiquetas más repetidas** en el Corpus de Brown:"
   ]
  },
  {
   "cell_type": "code",
   "execution_count": 12,
   "metadata": {},
   "outputs": [
    {
     "data": {
      "text/plain": [
       "[('NOUN', 30654),\n",
       " ('VERB', 14399),\n",
       " ('ADP', 12355),\n",
       " ('.', 11928),\n",
       " ('DET', 11389),\n",
       " ('ADJ', 6706),\n",
       " ('ADV', 3349),\n",
       " ('CONJ', 2717),\n",
       " ('PRON', 2535),\n",
       " ('PRT', 2264),\n",
       " ('NUM', 2166),\n",
       " ('X', 92)]"
      ]
     },
     "execution_count": 12,
     "metadata": {},
     "output_type": "execute_result"
    }
   ],
   "source": [
    "tag_fd = nltk.FreqDist(tag for (word, tag) in brown_news_tagged)\n",
    "tag_fd.most_common()"
   ]
  },
  {
   "cell_type": "markdown",
   "metadata": {},
   "source": [
    "Obtener las **etiquetas más repetidas** en el Corpus de Brown para el caso de las etiquetas originales (Penn Treebank):"
   ]
  },
  {
   "cell_type": "code",
   "execution_count": 13,
   "metadata": {},
   "outputs": [
    {
     "data": {
      "text/plain": [
       "[('NN', 13162),\n",
       " ('IN', 10616),\n",
       " ('AT', 8893),\n",
       " ('NP', 6866),\n",
       " (',', 5133),\n",
       " ('NNS', 5066),\n",
       " ('.', 4452),\n",
       " ('JJ', 4392),\n",
       " ('CC', 2664),\n",
       " ('VBD', 2524),\n",
       " ('NN-TL', 2486),\n",
       " ('VB', 2440),\n",
       " ('VBN', 2269),\n",
       " ('RB', 2166),\n",
       " ('CD', 2020),\n",
       " ('CS', 1509),\n",
       " ('VBG', 1398),\n",
       " ('TO', 1237),\n",
       " ('PPS', 1056),\n",
       " ('PP$', 1051),\n",
       " ('MD', 1031),\n",
       " ('AP', 923),\n",
       " ('NP-TL', 741),\n",
       " ('``', 732),\n",
       " ('BEZ', 730),\n",
       " ('BEDZ', 716),\n",
       " (\"''\", 702),\n",
       " ('JJ-TL', 689),\n",
       " ('PPSS', 602),\n",
       " ('DT', 589),\n",
       " ('BE', 525),\n",
       " ('VBZ', 519),\n",
       " ('NR', 495),\n",
       " ('RP', 482),\n",
       " ('QL', 468),\n",
       " ('PPO', 412),\n",
       " ('WPS', 395),\n",
       " ('NNS-TL', 344),\n",
       " ('WDT', 343),\n",
       " ('BER', 328),\n",
       " ('WRB', 328),\n",
       " ('OD', 309),\n",
       " ('HVZ', 301),\n",
       " ('--', 300),\n",
       " ('NP$', 279),\n",
       " ('HV', 265),\n",
       " ('HVD', 262),\n",
       " ('*', 256),\n",
       " ('BED', 252),\n",
       " ('NPS', 215),\n",
       " ('BEN', 212),\n",
       " ('NN$', 210),\n",
       " ('DTI', 205),\n",
       " ('NP-HL', 186),\n",
       " ('ABN', 183),\n",
       " ('NN-HL', 171),\n",
       " ('IN-TL', 164),\n",
       " ('EX', 161),\n",
       " (')', 151),\n",
       " ('(', 148),\n",
       " ('JJR', 145),\n",
       " (':', 137),\n",
       " ('DTS', 136),\n",
       " ('JJT', 100),\n",
       " ('CD-TL', 96),\n",
       " ('NNS-HL', 92),\n",
       " ('PN', 89),\n",
       " ('RBR', 88),\n",
       " ('VBN-TL', 87),\n",
       " ('ABX', 73),\n",
       " ('NN$-TL', 69),\n",
       " ('IN-HL', 65),\n",
       " ('DOD', 64),\n",
       " ('DO', 63),\n",
       " ('BEG', 57),\n",
       " (',-HL', 55),\n",
       " ('VBN-HL', 53),\n",
       " ('AT-TL', 50),\n",
       " ('NNS$', 50),\n",
       " ('CD-HL', 50),\n",
       " ('JJS', 49),\n",
       " ('CC-TL', 46),\n",
       " (\"'\", 46),\n",
       " ('JJ-HL', 46),\n",
       " ('MD*', 43),\n",
       " ('VBZ-HL', 39),\n",
       " ('PPL', 36),\n",
       " ('PPSS+MD', 31),\n",
       " ('PPS+BEZ', 31),\n",
       " ('OD-TL', 30),\n",
       " ('DOZ', 26),\n",
       " ('VB-HL', 25),\n",
       " ('NR$', 24),\n",
       " ('FW-NN', 22),\n",
       " ('WP$', 22),\n",
       " ('PPLS', 21),\n",
       " ('ABL', 21),\n",
       " ('PPSS+BER', 20),\n",
       " ('(-HL', 20),\n",
       " (')-HL', 20),\n",
       " ('NNS$-TL', 20),\n",
       " ('.-HL', 20),\n",
       " ('PPSS+HV', 19),\n",
       " ('PPSS+BEM', 18),\n",
       " ('HVN', 18),\n",
       " ('NPS$', 17),\n",
       " ('DO*', 17),\n",
       " ('FW-NN-TL', 16),\n",
       " ('VBG-TL', 15),\n",
       " ('DOD*', 15),\n",
       " ('RB-HL', 15),\n",
       " ('NPS-TL', 15),\n",
       " ('AT-HL', 14),\n",
       " ('FW-IN', 14),\n",
       " ('NR-TL', 14),\n",
       " ('HVG', 14),\n",
       " ('BEM', 13),\n",
       " ('DOZ*', 13),\n",
       " ('VBG-HL', 12),\n",
       " ('NN-TL-HL', 12),\n",
       " ('QLP', 12),\n",
       " ('DT+BEZ', 12),\n",
       " (':-HL', 12),\n",
       " ('UH', 12),\n",
       " ('FW-JJ-TL', 12),\n",
       " ('NP$-TL', 11),\n",
       " ('WPO', 9),\n",
       " ('DTX', 8),\n",
       " ('PPS+MD', 8),\n",
       " ('BEZ*', 8),\n",
       " ('VB-TL', 8),\n",
       " ('RB-TL', 8),\n",
       " ('AP-HL', 7),\n",
       " ('CC-HL', 7),\n",
       " ('VBD-HL', 6),\n",
       " ('TO-HL', 6),\n",
       " ('FW-AT-TL', 6),\n",
       " ('RBT', 5),\n",
       " ('MD-HL', 5),\n",
       " ('PPS+HVZ', 4),\n",
       " ('RP-HL', 4),\n",
       " ('JJR-HL', 4),\n",
       " ('JJR-TL', 4),\n",
       " ('BER*', 4),\n",
       " ('BEDZ*', 3),\n",
       " ('NPS-HL', 3),\n",
       " ('BEZ-HL', 3),\n",
       " ('PP$$', 3),\n",
       " ('FW-JJ', 3),\n",
       " ('NN-NC', 3),\n",
       " ('FW-AT', 3),\n",
       " ('JJS-TL', 2),\n",
       " ('FW-IN+NN', 2),\n",
       " ('JJT-HL', 2),\n",
       " ('EX+BEZ', 2),\n",
       " ('FW-NNS', 2),\n",
       " ('NN$-HL', 2),\n",
       " ('HVD*', 2),\n",
       " ('NR-HL', 2),\n",
       " ('WPS+BEZ', 2),\n",
       " ('DTI-HL', 2),\n",
       " ('CD$', 2),\n",
       " ('NNS$-HL', 2),\n",
       " ('BER-HL', 1),\n",
       " ('MD*-HL', 1),\n",
       " ('CS-HL', 1),\n",
       " ('DT$', 1),\n",
       " ('FW-DT', 1),\n",
       " ('AP-TL', 1),\n",
       " ('UH-TL', 1),\n",
       " ('VBN-TL-HL', 1),\n",
       " ('NNS-TL-HL', 1),\n",
       " ('DT-HL', 1),\n",
       " ('BE-HL', 1),\n",
       " ('PPSS+HVD', 1),\n",
       " ('NP-TL-HL', 1),\n",
       " ('MD+HV', 1),\n",
       " ('OD-HL', 1),\n",
       " ('VBD-TL', 1),\n",
       " ('FW-CC', 1),\n",
       " ('BEDZ-HL', 1),\n",
       " ('AP$', 1),\n",
       " ('NP+BEZ', 1),\n",
       " ('MD-TL', 1),\n",
       " ('PN+HVZ', 1),\n",
       " ('ABN-HL', 1),\n",
       " ('PPS+BEZ-HL', 1),\n",
       " ('HVD-HL', 1),\n",
       " ('RB$', 1),\n",
       " ('FW-AT-HL', 1),\n",
       " ('DO-HL', 1),\n",
       " ('PP$-TL', 1),\n",
       " ('FW-IN-TL', 1),\n",
       " ('*-HL', 1),\n",
       " ('PN-HL', 1),\n",
       " ('PN$', 1),\n",
       " ('BER-TL', 1),\n",
       " ('TO-TL', 1),\n",
       " ('BED*', 1),\n",
       " ('RB+BEZ', 1),\n",
       " ('VB+PPO', 1),\n",
       " ('PPSS-HL', 1),\n",
       " ('HVZ*', 1),\n",
       " ('FW-IN+NN-TL', 1),\n",
       " ('FW-IN+AT-TL', 1),\n",
       " ('JJ-NC', 1),\n",
       " ('NR$-TL', 1),\n",
       " ('FW-PP$-NC', 1),\n",
       " ('FW-VB', 1),\n",
       " ('FW-VB-NC', 1),\n",
       " ('JJR-NC', 1),\n",
       " ('NPS$-TL', 1),\n",
       " ('QL-TL', 1),\n",
       " ('FW-*', 1),\n",
       " ('FW-CD', 1),\n",
       " ('WQL', 1),\n",
       " ('FW-WDT', 1),\n",
       " ('WDT+BEZ', 1)]"
      ]
     },
     "execution_count": 13,
     "metadata": {},
     "output_type": "execute_result"
    }
   ],
   "source": [
    "tag_fd1 = nltk.FreqDist(tag for (word, tag) in brown.tagged_words(categories='news'))\n",
    "tag_fd1.most_common()"
   ]
  },
  {
   "cell_type": "markdown",
   "metadata": {},
   "source": [
    "## Entrenar un etiquetador con un corpus etiquetado\n",
    "\n",
    "Un corpus etiquetado se puede usar para **entrenar un etiquetador morfosintáctico**.\n"
   ]
  },
  {
   "cell_type": "markdown",
   "metadata": {},
   "source": [
    "### Unigram Tagger\n",
    "\n",
    "El **unigram tagger** etiqueta cada palabra verificando cuál fue la etiqueta más frecuente para esa palabra en el corpus de entrenamiento."
   ]
  },
  {
   "cell_type": "code",
   "execution_count": 14,
   "metadata": {},
   "outputs": [],
   "source": [
    "from nltk.tag import UnigramTagger"
   ]
  },
  {
   "cell_type": "code",
   "execution_count": 15,
   "metadata": {},
   "outputs": [],
   "source": [
    "brown_tagged_sents = brown.tagged_sents()\n",
    "size = int(len(brown_tagged_sents) * 0.9)\n",
    "train_sents = brown_tagged_sents[:size]\n",
    "test_sents = brown_tagged_sents[size:]"
   ]
  },
  {
   "cell_type": "code",
   "execution_count": 16,
   "metadata": {},
   "outputs": [],
   "source": [
    "tagger = UnigramTagger(train_sents)"
   ]
  },
  {
   "cell_type": "code",
   "execution_count": 17,
   "metadata": {},
   "outputs": [],
   "source": [
    "sent = ['Mitchell', 'decried', 'the', 'high', 'rate', 'of', 'unemployment']"
   ]
  },
  {
   "cell_type": "code",
   "execution_count": 18,
   "metadata": {},
   "outputs": [
    {
     "data": {
      "text/plain": [
       "[('Mitchell', 'NP'),\n",
       " ('decried', 'VBD'),\n",
       " ('the', 'AT'),\n",
       " ('high', 'JJ'),\n",
       " ('rate', 'NN'),\n",
       " ('of', 'IN'),\n",
       " ('unemployment', 'NN')]"
      ]
     },
     "execution_count": 18,
     "metadata": {},
     "output_type": "execute_result"
    }
   ],
   "source": [
    "tagger.tag(sent)"
   ]
  },
  {
   "cell_type": "code",
   "execution_count": 19,
   "metadata": {
    "scrolled": true
   },
   "outputs": [
    {
     "data": {
      "text/plain": [
       "0.8849353534083527"
      ]
     },
     "execution_count": 19,
     "metadata": {},
     "output_type": "execute_result"
    }
   ],
   "source": [
    "tagger.evaluate(test_sents)"
   ]
  },
  {
   "cell_type": "markdown",
   "metadata": {},
   "source": [
    "### Ngram Tagger\n",
    "\n",
    "El **bigram tagger** etiqueta una palabra considerando la etiqueta de la palabra anterior y la palabra a etiquetar. "
   ]
  },
  {
   "cell_type": "code",
   "execution_count": 20,
   "metadata": {},
   "outputs": [],
   "source": [
    "from nltk.tag import BigramTagger"
   ]
  },
  {
   "cell_type": "code",
   "execution_count": 21,
   "metadata": {},
   "outputs": [],
   "source": [
    "bigram_tagger = nltk.BigramTagger(train_sents)"
   ]
  },
  {
   "cell_type": "code",
   "execution_count": 22,
   "metadata": {},
   "outputs": [
    {
     "data": {
      "text/plain": [
       "[('Mitchell', 'NP'),\n",
       " ('decried', 'VBD'),\n",
       " ('the', 'AT'),\n",
       " ('high', 'JJ'),\n",
       " ('rate', 'NN'),\n",
       " ('of', 'IN'),\n",
       " ('unemployment', 'NN')]"
      ]
     },
     "execution_count": 22,
     "metadata": {},
     "output_type": "execute_result"
    }
   ],
   "source": [
    "bigram_tagger.tag(sent)"
   ]
  },
  {
   "cell_type": "code",
   "execution_count": 23,
   "metadata": {},
   "outputs": [
    {
     "data": {
      "text/plain": [
       "0.3515747783994468"
      ]
     },
     "execution_count": 23,
     "metadata": {},
     "output_type": "execute_result"
    }
   ],
   "source": [
    "bigram_tagger.evaluate(test_sents)"
   ]
  },
  {
   "cell_type": "markdown",
   "metadata": {},
   "source": [
    "## Etiquetado morfosintáctico en español\n",
    "\n",
    "### CESS-ESP Treebank\n",
    "\n",
    "M. Antonia Martí, MarionaTaulé, Lluís Márquez, Manuel Bertran (2007), CESS-ECE: A Multilingual and Multilevel Annotated Corpus. "
   ]
  },
  {
   "cell_type": "code",
   "execution_count": 24,
   "metadata": {},
   "outputs": [],
   "source": [
    "from nltk.corpus import cess_esp"
   ]
  },
  {
   "cell_type": "code",
   "execution_count": 25,
   "metadata": {},
   "outputs": [],
   "source": [
    "cess_words = cess_esp.words()"
   ]
  },
  {
   "cell_type": "code",
   "execution_count": 26,
   "metadata": {},
   "outputs": [
    {
     "data": {
      "text/plain": [
       "['El', 'grupo', 'estatal', 'Electricité_de_France', ...]"
      ]
     },
     "execution_count": 26,
     "metadata": {},
     "output_type": "execute_result"
    }
   ],
   "source": [
    "cess_words"
   ]
  },
  {
   "cell_type": "code",
   "execution_count": 27,
   "metadata": {},
   "outputs": [],
   "source": [
    "cess_sents = cess_esp.tagged_sents()"
   ]
  },
  {
   "cell_type": "code",
   "execution_count": 28,
   "metadata": {},
   "outputs": [
    {
     "data": {
      "text/plain": [
       "[[('El', 'da0ms0'), ('grupo', 'ncms000'), ('estatal', 'aq0cs0'), ('Electricité_de_France', 'np00000'), ('-Fpa-', 'Fpa'), ('EDF', 'np00000'), ('-Fpt-', 'Fpt'), ('anunció', 'vmis3s0'), ('hoy', 'rg'), (',', 'Fc'), ('jueves', 'W'), (',', 'Fc'), ('la', 'da0fs0'), ('compra', 'ncfs000'), ('del', 'spcms'), ('51_por_ciento', 'Zp'), ('de', 'sps00'), ('la', 'da0fs0'), ('empresa', 'ncfs000'), ('mexicana', 'aq0fs0'), ('Electricidad_Águila_de_Altamira', 'np00000'), ('-Fpa-', 'Fpa'), ('EAA', 'np00000'), ('-Fpt-', 'Fpt'), (',', 'Fc'), ('creada', 'aq0fsp'), ('por', 'sps00'), ('el', 'da0ms0'), ('japonés', 'aq0ms0'), ('Mitsubishi_Corporation', 'np00000'), ('para', 'sps00'), ('poner_en_marcha', 'vmn0000'), ('una', 'di0fs0'), ('central', 'ncfs000'), ('de', 'sps00'), ('gas', 'ncms000'), ('de', 'sps00'), ('495', 'Z'), ('megavatios', 'ncmp000'), ('.', 'Fp')], [('Una', 'di0fs0'), ('portavoz', 'nccs000'), ('de', 'sps00'), ('EDF', 'np00000'), ('explicó', 'vmis3s0'), ('a', 'sps00'), ('EFE', 'np00000'), ('que', 'cs'), ('el', 'da0ms0'), ('proyecto', 'ncms000'), ('para', 'sps00'), ('la', 'da0fs0'), ('construcción', 'ncfs000'), ('de', 'sps00'), ('Altamira_2', 'np00000'), (',', 'Fc'), ('al', 'spcms'), ('norte', 'ncms000'), ('de', 'sps00'), ('Tampico', 'np00000'), (',', 'Fc'), ('prevé', 'vmm02s0'), ('la', 'da0fs0'), ('utilización', 'ncfs000'), ('de', 'sps00'), ('gas', 'ncms000'), ('natural', 'aq0cs0'), ('como', 'cs'), ('combustible', 'ncms000'), ('principal', 'aq0cs0'), ('en', 'sps00'), ('una', 'di0fs0'), ('central', 'ncfs000'), ('de', 'sps00'), ('ciclo', 'ncms000'), ('combinado', 'aq0msp'), ('que', 'pr0cn000'), ('debe', 'vmip3s0'), ('empezar', 'vmn0000'), ('a', 'sps00'), ('funcionar', 'vmn0000'), ('en', 'sps00'), ('mayo_del_2002', 'W'), ('.', 'Fp')], ...]"
      ]
     },
     "execution_count": 28,
     "metadata": {},
     "output_type": "execute_result"
    }
   ],
   "source": [
    "cess_sents"
   ]
  },
  {
   "cell_type": "code",
   "execution_count": 29,
   "metadata": {},
   "outputs": [],
   "source": [
    "bi_tag = BigramTagger(cess_sents)"
   ]
  },
  {
   "cell_type": "code",
   "execution_count": 30,
   "metadata": {},
   "outputs": [
    {
     "data": {
      "text/plain": [
       "[('La', 'da0fs0'),\n",
       " ('casa', 'ncfs000'),\n",
       " ('tiene', 'vmip3s0'),\n",
       " ('una', 'di0fs0'),\n",
       " ('ventana', 'ncfs000'),\n",
       " ('.', 'Fp')]"
      ]
     },
     "execution_count": 30,
     "metadata": {},
     "output_type": "execute_result"
    }
   ],
   "source": [
    "bi_tag.tag(word_tokenize(\"La casa tiene una ventana.\"))"
   ]
  },
  {
   "cell_type": "code",
   "execution_count": 65,
   "metadata": {},
   "outputs": [
    {
     "data": {
      "text/plain": [
       "[('Las', 'da0fp0'),\n",
       " ('casas', 'ncfp000'),\n",
       " ('tienen', 'vmip3p0'),\n",
       " ('muchas', 'di0fp0'),\n",
       " ('ventanas', None),\n",
       " ('.', None)]"
      ]
     },
     "execution_count": 65,
     "metadata": {},
     "output_type": "execute_result"
    }
   ],
   "source": [
    "bi_tag.tag(word_tokenize(\"Las casas tienen muchas ventanas.\"))"
   ]
  }
 ],
 "metadata": {
  "kernelspec": {
   "display_name": "Python 3",
   "language": "python",
   "name": "python3"
  },
  "language_info": {
   "codemirror_mode": {
    "name": "ipython",
    "version": 3
   },
   "file_extension": ".py",
   "mimetype": "text/x-python",
   "name": "python",
   "nbconvert_exporter": "python",
   "pygments_lexer": "ipython3",
   "version": "3.8.3"
  }
 },
 "nbformat": 4,
 "nbformat_minor": 2
}
