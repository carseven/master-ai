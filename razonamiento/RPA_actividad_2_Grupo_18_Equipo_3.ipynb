{
  "nbformat": 4,
  "nbformat_minor": 0,
  "metadata": {
    "colab": {
      "name": "RPA actividad 2 Grupo 18 Equipo 3.ipynb",
      "provenance": [],
      "collapsed_sections": []
    },
    "kernelspec": {
      "name": "python3",
      "display_name": "Python 3",
      "language": "python"
    }
  },
  "cells": [
    {
      "cell_type": "markdown",
      "metadata": {
        "id": "C50p8pxDy3vr"
      },
      "source": [
        "# **Resolución de un problema mediante búsqueda heurística A**"
      ]
    },
    {
      "cell_type": "markdown",
      "metadata": {
        "id": "twqALoUax35K"
      },
      "source": [
        "![texto alternativo](https://marketing4ecommerce.net/wp-content/uploads/2017/04/robots-log%C3%ADsticos-de-Amazon-imagen-caribbean-digital.png)\r\n",
        "\r\n",
        "\r\n",
        "## Integrantes del grupo\r\n",
        "\r\n",
        "Grupo 18 ‐ Equipo 3\r\n",
        "\r\n",
        "- Adrián Bañuls Arias\r\n",
        "- Francisco José Cobo Celdrán\r\n",
        "- Carles Serra Vendrell\r\n",
        "- Miguel Jiménez Gomis\r\n",
        "- Miriam Pardo Cuesta"
      ]
    },
    {
      "cell_type": "markdown",
      "metadata": {
        "id": "sqkB4cFOJViy"
      },
      "source": [
        "# Asunciones"
      ]
    },
    {
      "cell_type": "markdown",
      "metadata": {
        "id": "PjCw6NF1JZAp"
      },
      "source": [
        "Para la resolución del problema, se ha asumido que el robot conoce el mapa y la ubicación de las mesas, además de la posición objetivo de cada mesa. Para calcular el coste estimado para alcanzar el nodo objetivo se hace uso de la distancia Manhattan. Por otro lado, el coste real se ha asumido el mismo para todos los nodos.\r\n",
        "\r\n",
        "Se ha asumido también que las mesas no son obstáculos para el robot, tanto para cuando el robot va sin cargar como para cuando va cargado.\r\n",
        "\r\n",
        "Por último, se ha asumido que el orden en el que se recogen las mesas sigue la numeración de las mesas. Es decir, el robot primero lleva M1 a su meta, luego M2 y finalmente M3.\r\n",
        "\r\n",
        "![texto alternativo](https://drive.google.com/uc?export=view&id=1Mzml6909YsiwqCB77-xeLYRoVt93uLKg)"
      ]
    },
    {
      "cell_type": "markdown",
      "metadata": {
        "id": "wHQiZ4k7vA5p"
      },
      "source": [
        "# Desarrollo de la actividad"
      ]
    },
    {
      "cell_type": "markdown",
      "metadata": {
        "id": "npiMc8LvNL4g"
      },
      "source": [
        "En primer lugar, se han definido variables globales al dominio del problema como son el tamaño del mapa, el propio mapa, y las direcciones posibles (Arriba, Abajo, Izquierda, Derecha). También, para facilitar el desarrollo, las listas cerrada y abierta del algoritmo A* se han definido como variables globales. Si bien para una aplicación de uso comercial estas listas se tendrían que englobar dentro de un objeto, para simplificar el desarrollo hemos decidido mantenerlas así.\r\n",
        "\r\n",
        "Se ha definido la clase *nodos* en la cual se reflejan los posibles puntos por los que el agente puede moverse así como información relevante para el problema (distancia ya recorrida y prioridad del nodo). A continuación, se ha definido la función *pathFind* en la cual se ha codificado el algoritmo A* , que tomando uso de una posición inicial, una posición final y las listas globales declaradas, calcula la ruta entre dichas posiciones. Por último, se ha definido la función *main*, en la que se describe el dominio del problema concreto a resolver y se codifica una sencilla interfaz para poder interpretar los resultados del algoritmo diseñado."
      ]
    },
    {
      "cell_type": "code",
      "metadata": {
        "id": "IOd8otxvUpvc"
      },
      "source": [
        "import queue as Q\r\n",
        "\r\n",
        "#Se definen las variables globales del problema\r\n",
        "n = 4 #Tamaño horizontal del entorno del agente (Mapa) CAMBIAR SI SE PRECISA DE OTRAS DIMENSIONES\r\n",
        "m = 4 #Tamaño vertical del entorno del agente (Mapa)   CAMBIAR SI SE PRECISA DE OTRAS DIMENSIONES\r\n",
        "mapa = [] #Mapa global del problema\r\n",
        "lista_cerrada_nodos = [] # Listado cerrado, es decir, valores de los nodos que se han intentado visitar\r\n",
        "lista_abierta_nodos = [] # Listado de nodos abiertos, es decir nodos sin visitar\r\n",
        "dircc_padres_mapa = [] # Mapa de las direcciones para saber donde se han realizado los movimientos\r\n",
        "dir = 4 #num direcciones posibles, las direccones posibles se reflejan como pares del mismo inidice de las listas dx y dy\r\n",
        "dx = [1,0,-1,0] #Direcciones posibles en el eje x\r\n",
        "dy = [0,1,0,-1] #Direcciones posibles en el eje x\r\n",
        "\r\n",
        "#Se rellenan los listados en blanco\r\n",
        "for i in range(n):\r\n",
        "  mapa.append([0] * m)\r\n",
        "  lista_cerrada_nodos.append([0] * m)\r\n",
        "  lista_abierta_nodos.append([0] * m)\r\n",
        "  dircc_padres_mapa.append([0] * m)\r\n",
        "\r\n",
        "class nodos(object):\r\n",
        "    '''En esta clase se define el concepto de nodo, que son los posibles puntos por donde el agente puede moverse\r\n",
        "    con información relevante del problema.\r\n",
        "    '''\r\n",
        "    def __init__(self, xp, yp, d, p):\r\n",
        "      ''' Constructor de la clase nodo\r\n",
        "      xp Posición x actual\r\n",
        "      yp Posiciñon y actual\r\n",
        "      d Distancia que ya se ha recorrido hasta el nodo\r\n",
        "      p Prioridad del nodo (Nivel + estimacion de la distancia restante)\r\n",
        "      '''\r\n",
        "      self.xpos = xp\r\n",
        "      self.ypos = yp\r\n",
        "      self.distancia = d\r\n",
        "      self.prioridad = p\r\n",
        "\r\n",
        "    def updateprioridad(self, xDest, yDest):\r\n",
        "      '''Funcion que actualiza las prioridades del nodo con respecto al destino dado\r\n",
        "      xDest Posición x del destino\r\n",
        "      yDest Posiciñon y del destino\r\n",
        "      '''\r\n",
        "      self.prioridad = self.distancia + self.estimate(xDest, yDest)\r\n",
        "\r\n",
        "    def estimate(self, xDest, yDest):\r\n",
        "      '''Estimación de la distancia por medio de la distancia Manhattan\r\n",
        "      '''\r\n",
        "      xd = xDest - self.xpos\r\n",
        "      yd = yDest - self.ypos\r\n",
        "      return abs(xd) + abs(yd)\r\n",
        "       \r\n",
        "    def __gt__(self, other):\r\n",
        "      '''Sobrecarga del operador > para determinal la prioridad de la cola\r\n",
        "      '''\r\n",
        "      return self.prioridad > other.prioridad\r\n",
        "\r\n",
        "    def __eq__(self, other):\r\n",
        "      '''Sobrecarga del operador eq para determinal la prioridad de la cola\r\n",
        "      '''\r\n",
        "      return self.prioridad == other.prioridad\r\n",
        "\r\n",
        "\r\n",
        "def pathFind(xStart, yStart, xFinish, yFinish):\r\n",
        "      '''Esta función toma las posiciones iniciales y finales y calcula el recorrido óptimo entre ellos.\r\n",
        "      xStart  Posicion x del inicio \r\n",
        "      yStart  Posicion y del inicio\r\n",
        "      xFinish Posicion x del destino \r\n",
        "      yFinish Posicion y del destino\r\n",
        "      '''\r\n",
        "      pq = [Q.PriorityQueue(),Q.PriorityQueue()] #Se crean las 2 listas de prioridades que se utilizarán\r\n",
        "      pqi = 0 #indice que indica que lista de prioridad está en uso \r\n",
        "\r\n",
        "      for y in range(m): #Se realiza una limpieza del mapa tanto de la lista cerrada como de la abierta\r\n",
        "        for x in range(n):\r\n",
        "          lista_cerrada_nodos[x][y] = 0\r\n",
        "          lista_abierta_nodos[x][y] = 0\r\n",
        "\r\n",
        "      n0 = nodos(xStart,yStart,0,0) #Se crea el primer nodo en la posicion de inicio\r\n",
        "      n0.updateprioridad(xFinish, yFinish) #Se actualiza la prioridad del primer nodo con respecto al destino\r\n",
        "      pq[pqi].put(n0) #Se introduce el nodo en la lista de prioridades\r\n",
        "      lista_abierta_nodos[xStart][yStart] = n0.prioridad #se actualiza la lista abierta con la prioridad del nodo\r\n",
        "\r\n",
        "      while not (pq[pqi].empty()):\r\n",
        "        temp = pq[pqi].get()\r\n",
        "        n0 = nodos(temp.xpos, temp.ypos, temp.distancia, temp.prioridad) #Se saca el nodo de mayor prioridad de la lista\r\n",
        "        x = n0.xpos\r\n",
        "        y = n0.ypos\r\n",
        "        lista_abierta_nodos[x][y] = 0\r\n",
        "        lista_cerrada_nodos[x][y] = 1 #Se marca el nodo como visitado\r\n",
        "\r\n",
        "        if (x == xFinish and y == yFinish): #Una vez se descubre el recorrido óptimo se codifica en una cadena de texto para su fácil manipulación\r\n",
        "          path = \"\"\r\n",
        "          while not (x == xStart and y == yStart):\r\n",
        "            j = int(dircc_padres_mapa[x][y])\r\n",
        "            temp = int((j + dir / 2) % dir)\r\n",
        "            c =  str(temp) \r\n",
        "            path = c + path\r\n",
        "            x += dx[int(j)]\r\n",
        "            y += dy[int(j)]\r\n",
        "          del n0\r\n",
        "          while not (pq[pqi].empty()):\r\n",
        "            pq[pqi].get()\r\n",
        "          return path\r\n",
        "          \r\n",
        "        for i in range(dir): #Para el nodo actual se comprueban los movimientos disponibles\r\n",
        "          xdx = x + dx[i]\r\n",
        "          ydy = y + dy[i]\r\n",
        "          condicion = False\r\n",
        "          if (xdx >= n) or (ydy >= m):\r\n",
        "            continue\r\n",
        "          if (xdx > -1 )and ydy > -1 and (xdx < n) and (ydy < m): #Esta condición está para evitar acceso fuera de rango\r\n",
        "            condicion = (lista_cerrada_nodos[xdx][ydy] == 1)\r\n",
        "          else:\r\n",
        "            False\r\n",
        "          if not ((xdx < 0) or (xdx > (n-1)) or (ydy < 0) or (ydy > (m - 1)) or (mapa[xdx][ydy] == 1) or condicion):\r\n",
        "            #Se generan los nodos de los movimientos posibles, se actualiza su prioridad y se actualiza las listas correspondientes\r\n",
        "            m0 = nodos(xdx, ydy, n0.distancia, n0.prioridad) \r\n",
        "            m0.updateprioridad(xFinish, yFinish)\r\n",
        "            if lista_abierta_nodos[xdx][ydy] == 0:\r\n",
        "              lista_abierta_nodos[xdx][ydy] = m0.prioridad\r\n",
        "              pq[pqi].put(m0)\r\n",
        "              dircc_padres_mapa[xdx][ydy] = (i + dir / 2) % dir\r\n",
        "            elif lista_abierta_nodos[xdx][ydy] > m0.prioridad:\r\n",
        "              lista_abierta_nodos[xdx][ydy] = m0.prioridad\r\n",
        "              dircc_padres_mapa[xdx][ydy] = (i + dir / 2) % dir\r\n",
        "              while not (pq[pqi][0].xPos == xdx and pq[pqi][0].yPos):\r\n",
        "                pq[1 - pqi].put(pq[pqi].pop())\r\n",
        "              pq[pqi].pop()\r\n",
        "              if (pq[pqi].qsize() > pq[1 - pqi].qsize()):\r\n",
        "                pqi = 1 - pqi                \r\n",
        "              while not (pq[pqi].empty()):\r\n",
        "                pq[1 - pqi].put(pq[pqi].pop())\r\n",
        "              pqi = 1 - pqi\r\n",
        "              pq[pqi].put(m0)\r\n",
        "      return \"\" #Si en la ejecución no se retorna la cadena con los movimientos es porque no existe camino posible  "
      ],
      "execution_count": 1,
      "outputs": []
    },
    {
      "cell_type": "code",
      "metadata": {
        "id": "5AYDM9mB_2K3"
      },
      "source": [
        "def main():\r\n",
        "  '''Esta función se trata del cuerpo del programa en el que se define el problema \r\n",
        "  a resolver y se muestran los resultados obtenidos de la búsqueda A*.\r\n",
        "  '''  \r\n",
        "  for y in range(m): #Se limpia el mapa\r\n",
        "    for x in range(n):\r\n",
        "      mapa[x][y] = 0\r\n",
        "  #Lista en donde se definen los obstáculos del problema -----------------------\r\n",
        "  lista_obstaculos = [[1,0],[1,1]] \r\n",
        "  for obstaculo in lista_obstaculos:\r\n",
        "    mapa[obstaculo[0]][obstaculo[1]] = 1\r\n",
        "\t#Se define la lista de objetivos en orden de recogida-entrega  ---------------\r\n",
        "  lista_objetivos = [[0,0],[3,3],[0,2],[2,3],[3,0],[1,3]] \r\n",
        "\t#Se selecciona la posición inicial del agente --------------------------------\r\n",
        "  xA = 2  \r\n",
        "  yA = 2\r\n",
        "  #Se ejecuta el algoritmo y se formatea la salida\r\n",
        "  print(\"Ejecución del algoritmo A*\")\r\n",
        "  print(\"Leyenda:\\n\\t~ Casilla libre\\n\\t# Obstáculo \\n\\t* Ruta seguida\\n\\tS Inicio\\n\\tF Destino alcanzado\")\r\n",
        "  print( \"Tamaño del mapa (X,Y): \" + str(n) + \",\" + str(m) )\r\n",
        "  print(\"\\n\")  \r\n",
        "  for indice, objetivo in enumerate(lista_objetivos): #Se buscan las rutas entre los diferentes objetivos y su destino\r\n",
        "    for i in range(n): #Se rellenan los listados con 0 para asegurar que están limpios\r\n",
        "      mapa.append([0] * m)\r\n",
        "      lista_cerrada_nodos.append([0] * m)\r\n",
        "      lista_abierta_nodos.append([0] * m)\r\n",
        "      dircc_padres_mapa.append([0] * m)\r\n",
        "    route = pathFind(xA, yA, objetivo[0], objetivo[1]) #Ejecución del algoritmo de búsqueda\r\n",
        "    #Se formatea la salida\r\n",
        "    print(\"Posición inicial: \" + str(xA) + \",\" + str(yA))\r\n",
        "    print(\"Posición final: \" + str(objetivo[0]) + \",\" + str(objetivo[1]))     \r\n",
        "    if (route == \"\") :\r\n",
        "      print(\"No se ha encontrado ruta\")\r\n",
        "      break\r\n",
        "    if indice % 2 == 0:\r\n",
        "        final = \"--Ruta desde el origen \" + str(xA) + \",\" + str(yA)  + \" hasta el siguiente objeto en \" + str(objetivo[0]) + \",\" + str(objetivo[1]) + \":\"\r\n",
        "        print(final)\r\n",
        "    else:\r\n",
        "        final = \"--Ruta desde el objeto recogido en \" + str(xA) + \",\" + str(yA)  + \" hasta su destino en \" + str(objetivo[0]) + \",\" + str(objetivo[1]) + \":\"\r\n",
        "        print(final)\r\n",
        "    movimientos = \"\"\r\n",
        "    for char in route:\r\n",
        "      moves = {'0':'Derecha','1':'Abajo','2':'Izquierda','3':'Arriba'}\r\n",
        "      movimientos += moves[char] + \", \"\r\n",
        "    print(movimientos , \"\\n\")\r\n",
        "    if (len(route) > 0): #Se traza el movimiento realizado por el agente\r\n",
        "      x = xA\r\n",
        "      y = yA\r\n",
        "      mapa[x][y] = 2\r\n",
        "      for i in range(len(route)):\r\n",
        "        c = route[i]\r\n",
        "        j = int(c)\r\n",
        "        x = x + dx[j]\r\n",
        "        y = y + dy[j]\r\n",
        "        mapa[x][y] = 3\r\n",
        "        for Y in range(m): #Se imprime el estado del mapa obtenido de la cadena de movimientos\r\n",
        "          for X in range(n):\r\n",
        "            if (mapa[X][Y] == 0):\r\n",
        "              print(\"~\", end = '') #Casilla libre\r\n",
        "            elif (mapa[X][Y] == 1):\r\n",
        "              print(\"#\", end = '') #Obstáculo\r\n",
        "            elif (mapa[X][Y] == 2):\r\n",
        "              print(\"S\", end = '') #Posición inicial\r\n",
        "            elif (mapa[X][Y] == 3):\r\n",
        "              print(\"*\", end = '') #Ruta ejecutada\r\n",
        "            elif (mapa[X][Y] == 4):\r\n",
        "              print(\"F\", end = '') #Posición final\r\n",
        "          print()\r\n",
        "        print(\"-\" * (n*2))\r\n",
        "      mapa[x][y] = 4\r\n",
        "\r\n",
        "      for Y in range(m): #Se imprime el estado FINAL del mapa obtenido de la cadena de movimientos\r\n",
        "        for X in range(n):\r\n",
        "          if (mapa[X][Y] == 0):\r\n",
        "            print(\"~\", end = '') #Casilla libre\r\n",
        "          elif (mapa[X][Y] == 1):\r\n",
        "            print(\"#\", end = '') #Obstáculo\r\n",
        "          elif (mapa[X][Y] == 2):\r\n",
        "            print(\"S\", end = '') #Posición inicial\r\n",
        "          elif (mapa[X][Y] == 3):\r\n",
        "            print(\"*\", end = '') #Ruta ejecutada\r\n",
        "          elif (mapa[X][Y] == 4):\r\n",
        "            print(\"F\", end = '') #Posición final\r\n",
        "        print()\r\n",
        "      print(\"-\" * (n*2))      \r\n",
        "      xA = objetivo[0] #Se establece el Siguiente punto de inicio con la posición alcanzada del agente\r\n",
        "      yA = objetivo[1]\r\n",
        "      for y in range(m): #Se limpia el mapa para su siguiente ejecución\r\n",
        "        for x in range(n):\r\n",
        "          mapa[x][y] = 0\r\n",
        "      for obstaculo in lista_obstaculos: #Se vuelven a insertar los obstáculos\r\n",
        "        mapa[obstaculo[0]][obstaculo[1]] = 1\r\n",
        "\r\n",
        "  print(\"\\n----------FIN DE LOS MOVIMIENTOS-------------\")"
      ],
      "execution_count": 2,
      "outputs": []
    },
    {
      "cell_type": "code",
      "metadata": {
        "colab": {
          "base_uri": "https://localhost:8080/"
        },
        "id": "l0feUX_fBmgh",
        "outputId": "a613779a-2adb-4a8a-bfc8-ebdd4ff39397"
      },
      "source": [
        "if __name__ == \"__main__\": \r\n",
        "  main()"
      ],
      "execution_count": 3,
      "outputs": [
        {
          "output_type": "stream",
          "name": "stdout",
          "text": [
            "Ejecución del algoritmo A*\nLeyenda:\n\t~ Casilla libre\n\t# Obstáculo \n\t* Ruta seguida\n\tS Inicio\n\tF Destino alcanzado\nTamaño del mapa (X,Y): 4,4\n\n\nPosición inicial: 2,2\nPosición final: 0,0\n--Ruta desde el origen 2,2 hasta el siguiente objeto en 0,0:\nIzquierda, Izquierda, Arriba, Arriba,  \n\n~#~~\n~#~~\n~*S~\n~~~~\n--------\n~#~~\n~#~~\n**S~\n~~~~\n--------\n~#~~\n*#~~\n**S~\n~~~~\n--------\n*#~~\n*#~~\n**S~\n~~~~\n--------\nF#~~\n*#~~\n**S~\n~~~~\n--------\nPosición inicial: 0,0\nPosición final: 3,3\n--Ruta desde el objeto recogido en 0,0 hasta su destino en 3,3:\nAbajo, Abajo, Derecha, Derecha, Derecha, Abajo,  \n\nS#~~\n*#~~\n~~~~\n~~~~\n--------\nS#~~\n*#~~\n*~~~\n~~~~\n--------\nS#~~\n*#~~\n**~~\n~~~~\n--------\nS#~~\n*#~~\n***~\n~~~~\n--------\nS#~~\n*#~~\n****\n~~~~\n--------\nS#~~\n*#~~\n****\n~~~*\n--------\nS#~~\n*#~~\n****\n~~~F\n--------\nPosición inicial: 3,3\nPosición final: 0,2\n--Ruta desde el origen 3,3 hasta el siguiente objeto en 0,2:\nIzquierda, Izquierda, Izquierda, Arriba,  \n\n~#~~\n~#~~\n~~~~\n~~*S\n--------\n~#~~\n~#~~\n~~~~\n~**S\n--------\n~#~~\n~#~~\n~~~~\n***S\n--------\n~#~~\n~#~~\n*~~~\n***S\n--------\n~#~~\n~#~~\nF~~~\n***S\n--------\nPosición inicial: 0,2\nPosición final: 2,3\n--Ruta desde el objeto recogido en 0,2 hasta su destino en 2,3:\nDerecha, Derecha, Abajo,  \n\n~#~~\n~#~~\nS*~~\n~~~~\n--------\n~#~~\n~#~~\nS**~\n~~~~\n--------\n~#~~\n~#~~\nS**~\n~~*~\n--------\n~#~~\n~#~~\nS**~\n~~F~\n--------\nPosición inicial: 2,3\nPosición final: 3,0\n--Ruta desde el origen 2,3 hasta el siguiente objeto en 3,0:\nDerecha, Arriba, Arriba, Arriba,  \n\n~#~~\n~#~~\n~~~~\n~~S*\n--------\n~#~~\n~#~~\n~~~*\n~~S*\n--------\n~#~~\n~#~*\n~~~*\n~~S*\n--------\n~#~*\n~#~*\n~~~*\n~~S*\n--------\n~#~F\n~#~*\n~~~*\n~~S*\n--------\nPosición inicial: 3,0\nPosición final: 1,3\n--Ruta desde el objeto recogido en 3,0 hasta su destino en 1,3:\nAbajo, Abajo, Abajo, Izquierda, Izquierda,  \n\n~#~S\n~#~*\n~~~~\n~~~~\n--------\n~#~S\n~#~*\n~~~*\n~~~~\n--------\n~#~S\n~#~*\n~~~*\n~~~*\n--------\n~#~S\n~#~*\n~~~*\n~~**\n--------\n~#~S\n~#~*\n~~~*\n~***\n--------\n~#~S\n~#~*\n~~~*\n~F**\n--------\n\n----------FIN DE LOS MOVIMIENTOS-------------\n"
          ]
        }
      ]
    },
    {
      "cell_type": "markdown",
      "metadata": {
        "id": "jqYof9XuP6c4"
      },
      "source": [
        "Como se puede comprobar, los resultados han sido satisfactorios puesto que el robot ha logrado alcanzar todos los objetivos indicados en la definición del problema. En la ejecución del algoritmo se puede observar el avance del robot en cada iteración, verificando que se cumplen los objetivos propuestos."
      ]
    },
    {
      "cell_type": "markdown",
      "metadata": {
        "id": "1Zez_azi1btD"
      },
      "source": [
        "# Dificultades encontradas\r\n",
        "\r\n",
        "Debido a la complejidad del algoritmo, realizar una adecuada implementación se puede volver difícil. Sobre todo al existir numerosas variables que se modifican a lo largo del problema y que influyen en la decisión del agente, depurar errores se vuelve una tarea muy complicada.\r\n",
        "\r\n",
        "Igualmente se tomaron asunciones que se decidieron de antemano con el fin de acotar el alcance de este trabajo, ya que si no se habría vuelto un desarrollo mucho más complejo."
      ]
    },
    {
      "cell_type": "markdown",
      "metadata": {
        "id": "EY-mRZn61jt8"
      },
      "source": [
        "# Referencias bibliográficas\r\n",
        "[1] Russell, S. J., & Norvig, P. (1995). Artificial intelligence: A modern approach. Englewood Cliffs, N.J: Prentice Hall.\r\n",
        "\r\n",
        "[2] Hart, P. E., Nilsson, N. J., & Raphael, B. (1972). Correction to\" a formal basis for the heuristic determination of minimum cost paths\". ACM SIGART Bulletin, (37), 28-29.\r\n"
      ]
    }
  ]
}